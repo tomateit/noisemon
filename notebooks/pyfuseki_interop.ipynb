{
 "cells": [
  {
   "cell_type": "code",
   "execution_count": 2,
   "id": "446123e0-9985-4c5c-8ce7-d6dc6d09d119",
   "metadata": {},
   "outputs": [],
   "source": [
    "from pyfuseki.rdf import rdf_prefix, NameSpace as ns\n",
    "\n",
    "@rdf_prefix('http://expample.com/')\n",
    "class RdfPrefix():\n",
    "    Person: ns\n",
    "    Dog: ns\n",
    "\n",
    "rp = RdfPrefix()"
   ]
  },
  {
   "cell_type": "code",
   "execution_count": 7,
   "id": "38967f0e-6eb5-438f-89d5-e0a116741f36",
   "metadata": {},
   "outputs": [],
   "source": [
    "from pyfuseki.rdf import rdf_property\n",
    "from rdflib import URIRef as uri\n",
    "\n",
    "@rdf_property('http://example.org/')\n",
    "class ObjectProperty:\n",
    "    own: uri \n",
    "\n",
    "@rdf_property('http://example.org/')\n",
    "class DataProperty:\n",
    "    hasName: uri\n",
    "    \n",
    "dp = DataProperty()\n",
    "op = ObjectProperty()"
   ]
  },
  {
   "cell_type": "code",
   "execution_count": 9,
   "id": "adfa929f-8257-4d7b-9495-ed36c9348224",
   "metadata": {},
   "outputs": [
    {
     "data": {
      "text/plain": [
       "<SPARQLWrapper.Wrapper.QueryResult at 0x7f327c27e4f0>"
      ]
     },
     "execution_count": 9,
     "metadata": {},
     "output_type": "execute_result"
    }
   ],
   "source": [
    "from pyfuseki import FusekiUpdate\n",
    "from rdflib import Graph, Literal, RDF\n",
    "\n",
    "g = Graph()\n",
    "\n",
    "# 实例化数据\n",
    "person = rp.Person['12345']  # 假设 '12345' 是这个人的唯一身份证号\n",
    "dog = rp.Dog['56789']  # 假设这只狗也有唯一的 ID 为 ‘56789’\n",
    "\n",
    "# 将陈述加入到图中\n",
    "g.add((person, RDF.type, rp.Person.to_uri()))  # 声明 person 的类型是 Person\n",
    "g.add((dog, RDF.type, rp.Dog.to_uri()))\n",
    "g.add((person, dp.hasName, Literal('Ryan')))  # 加入了一条三元组，表示 person1 有名字为 'Ryan'\n",
    "g.add((dog, dp.hasName, Literal('lucy')))\n",
    "g.add((person, op.own, dog))\n",
    "\n",
    "# 把图插入到 Fuseki 中\n",
    "fuseki = FusekiUpdate('http://192.168.1.225:3030', 'ds')\n",
    "fuseki.insert_graph(g)"
   ]
  },
  {
   "cell_type": "code",
   "execution_count": 17,
   "id": "9aefc712-b121-43ac-98e7-4bb76f168f9a",
   "metadata": {},
   "outputs": [],
   "source": [
    "from pyfuseki import FusekiUpdate, FusekiQuery\n",
    "\n",
    "fuseki_update = FusekiUpdate('http://192.168.1.225:3030', 'ds')\n",
    "fuseki_query = FusekiQuery('http://192.168.1.225:3030', 'ds')"
   ]
  },
  {
   "cell_type": "code",
   "execution_count": 20,
   "id": "3f042445-b75e-4737-8393-9cc6baa1c624",
   "metadata": {},
   "outputs": [],
   "source": [
    "sparql_str = \"\"\"\n",
    "    SELECT *\n",
    "    WHERE { ?s ?p ?o }\n",
    "\"\"\""
   ]
  },
  {
   "cell_type": "code",
   "execution_count": 21,
   "id": "e9a5d5c8-84d8-441f-b591-07903a0f52c8",
   "metadata": {},
   "outputs": [],
   "source": [
    "query_result = fuseki_query.run_sparql(sparql_str)"
   ]
  },
  {
   "cell_type": "code",
   "execution_count": 24,
   "id": "bb10c766-2517-4d7a-b767-b4b4fee13bf4",
   "metadata": {},
   "outputs": [
    {
     "name": "stdout",
     "output_type": "stream",
     "text": [
      "?s                               | ?p                                              | ?o                            | \n",
      "=====================================================================================================================\n",
      "http://expample.com/Person/12345 | http://example.org/hasName                      | Ryan                          | \n",
      "http://expample.com/Person/12345 | http://www.w3.org/1999/02/22-rdf-syntax-ns#type | http://expample.com/Person    | \n",
      "http://expample.com/Person/12345 | http://example.org/own                          | http://expample.com/Dog/56789 | \n",
      "http://expample.com/Dog/56789    | http://example.org/hasName                      | lucy                          | \n",
      "http://expample.com/Dog/56789    | http://www.w3.org/1999/02/22-rdf-syntax-ns#type | http://expample.com/Dog       | \n"
     ]
    }
   ],
   "source": [
    "query_result.print_results()"
   ]
  },
  {
   "cell_type": "code",
   "execution_count": 4,
   "id": "223a6275-af04-454d-a0a0-c0769357266c",
   "metadata": {},
   "outputs": [],
   "source": [
    "from rdflib import Graph\n",
    "from pathlib import Path\n",
    "import tarfile\n",
    "data_folder = Path(\"/mnt/remote_keep/process_data/datasets/wikidata\")\n",
    "# tar = tarfile.open(data_folder/ \"wikidump-000000001.ttl.gz\", \"r:gz\")"
   ]
  },
  {
   "cell_type": "code",
   "execution_count": null,
   "id": "1da259db-a850-4e21-8e0e-a11ed4cfbd13",
   "metadata": {},
   "outputs": [],
   "source": [
    "g = Graph()\n",
    "g.parse(data_folder/ \"wikidump-000000001.ttl\")"
   ]
  },
  {
   "cell_type": "code",
   "execution_count": null,
   "id": "1224881d-aa8e-49e1-af79-535d3a118e20",
   "metadata": {},
   "outputs": [],
   "source": []
  }
 ],
 "metadata": {
  "kernelspec": {
   "display_name": "noisemon",
   "language": "python",
   "name": "python3810_noisemon"
  },
  "language_info": {
   "codemirror_mode": {
    "name": "ipython",
    "version": 3
   },
   "file_extension": ".py",
   "mimetype": "text/x-python",
   "name": "python",
   "nbconvert_exporter": "python",
   "pygments_lexer": "ipython3",
   "version": "3.8.10"
  }
 },
 "nbformat": 4,
 "nbformat_minor": 5
}
