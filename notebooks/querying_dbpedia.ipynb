{
 "cells": [
  {
   "cell_type": "markdown",
   "metadata": {},
   "source": [
    "# Querying dbpedia"
   ]
  },
  {
   "cell_type": "code",
   "execution_count": 1,
   "metadata": {},
   "outputs": [],
   "source": [
    "from pprint import pprint\n",
    "from SPARQLWrapper import SPARQLWrapper, JSON, RDF"
   ]
  },
  {
   "cell_type": "code",
   "execution_count": 2,
   "metadata": {},
   "outputs": [],
   "source": [
    "sparql = SPARQLWrapper(\"http://dbpedia.org/sparql\")\n",
    "sparql.setReturnFormat(JSON) "
   ]
  },
  {
   "cell_type": "markdown",
   "metadata": {},
   "source": [
    "## Company names"
   ]
  },
  {
   "cell_type": "markdown",
   "metadata": {},
   "source": [
    "dbo:type \tdbr:Public_company\n"
   ]
  },
  {
   "cell_type": "code",
   "execution_count": 43,
   "metadata": {},
   "outputs": [],
   "source": [
    "\n",
    "sparql.setQuery(\"\"\"\n",
    "PREFIX dbo: <http://dbpedia.org/ontology/>\n",
    "PREFIX dbp: <http://dbpedia.org/property/>\n",
    "PREFIX rdfs: <http://www.w3.org/2000/01/rdf-schema#>\n",
    "\n",
    "SELECT DISTINCT ?company, ?label  WHERE {\n",
    "    ?company dbo:type dbr:Public_company ;\n",
    "             rdfs:label ?label FILTER(lang(?label)=\"ru\") .\n",
    "} LIMIT 20\n",
    "\"\"\")\n",
    "\n",
    "\n",
    "results = sparql.query().convert() "
   ]
  },
  {
   "cell_type": "code",
   "execution_count": 44,
   "metadata": {},
   "outputs": [
    {
     "name": "stdout",
     "output_type": "stream",
     "text": [
      "['Baltika Group',\n",
      " 'Bandai Namco Holdings',\n",
      " 'Bang & Olufsen',\n",
      " 'Bangkok Bank',\n",
      " 'Bank Central Asia',\n",
      " 'Банк Апоалим',\n",
      " 'Банк Леуми',\n",
      " 'BankMuscat',\n",
      " 'Bank One Corporation',\n",
      " 'Санкт-Петербург (банк)',\n",
      " 'Bank of America',\n",
      " 'Bank of Beijing',\n",
      " 'Bank of China',\n",
      " 'Bank of Communications',\n",
      " 'Банк Кипра',\n",
      " 'Bank of East Asia',\n",
      " 'Банк Мальдив',\n",
      " 'Bank of Montreal',\n",
      " 'Bank of Yokohama',\n",
      " 'Banque Saudi Fransi']\n"
     ]
    }
   ],
   "source": [
    "pprint([item[\"label\"][\"value\"] for item in results[\"results\"][\"bindings\"]])"
   ]
  },
  {
   "cell_type": "markdown",
   "metadata": {},
   "source": [
    "## Company by name"
   ]
  },
  {
   "cell_type": "code",
   "execution_count": 45,
   "metadata": {},
   "outputs": [],
   "source": [
    "query = \"\"\"\n",
    "PREFIX dbo: <http://dbpedia.org/ontology/>\n",
    "PREFIX rdfs: <http://www.w3.org/2000/01/rdf-schema#>\n",
    "\n",
    "SELECT DISTINCT ?company ?label\n",
    "WHERE {\n",
    "    ?company rdf:type dbr:Public_company ;\n",
    "             rdfs:label ?label FILTER (regex(?label, \"%s\", \"i\") && lang(?label)=\"ru\") .\n",
    "} LIMIT 10\n",
    "\"\"\" % (\"-\",)\n",
    "sparql.setQuery(query)\n",
    "results = sparql.query().convert() "
   ]
  },
  {
   "cell_type": "code",
   "execution_count": 46,
   "metadata": {},
   "outputs": [
    {
     "name": "stdout",
     "output_type": "stream",
     "text": [
      "[]\n"
     ]
    }
   ],
   "source": [
    "pprint([item[\"label\"][\"value\"] for item in results[\"results\"][\"bindings\"]])"
   ]
  },
  {
   "cell_type": "code",
   "execution_count": 47,
   "metadata": {},
   "outputs": [
    {
     "name": "stdout",
     "output_type": "stream",
     "text": [
      "{'head': {'link': [], 'vars': ['company', 'label']},\n",
      " 'results': {'bindings': [], 'distinct': False, 'ordered': True}}\n"
     ]
    }
   ],
   "source": [
    "pprint(results)"
   ]
  },
  {
   "cell_type": "markdown",
   "metadata": {},
   "source": [
    "## Company by ticker"
   ]
  },
  {
   "cell_type": "code",
   "execution_count": null,
   "metadata": {},
   "outputs": [],
   "source": []
  }
 ],
 "metadata": {
  "kernelspec": {
   "display_name": "noisemon",
   "language": "python",
   "name": "python3810_noisemon"
  },
  "language_info": {
   "codemirror_mode": {
    "name": "ipython",
    "version": 3
   },
   "file_extension": ".py",
   "mimetype": "text/x-python",
   "name": "python",
   "nbconvert_exporter": "python",
   "pygments_lexer": "ipython3",
   "version": "3.8.10"
  }
 },
 "nbformat": 4,
 "nbformat_minor": 2
}
