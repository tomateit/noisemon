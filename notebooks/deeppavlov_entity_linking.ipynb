{
 "cells": [
  {
   "cell_type": "code",
   "execution_count": 1,
   "id": "bd4249db",
   "metadata": {},
   "outputs": [],
   "source": [
    "from deeppavlov import configs, build_model"
   ]
  },
  {
   "cell_type": "code",
   "execution_count": 2,
   "id": "ca3ab9e4",
   "metadata": {},
   "outputs": [
    {
     "name": "stderr",
     "output_type": "stream",
     "text": [
      "2021-08-24 18:39:43.546 INFO in 'deeppavlov.core.data.utils'['utils'] at line 95: Downloading from http://files.deeppavlov.ai/kbqa/datasets/rel_ranking_bert_rus.tar.gz to /home/master/.deeppavlov/downloads/rel_ranking_bert_rus.tar.gz\n",
      "100%|█████████████████████████████████████████████████████████████████████████████████████| 48.6M/48.6M [01:12<00:00, 672kB/s]\n",
      "2021-08-24 18:40:56.192 INFO in 'deeppavlov.core.data.utils'['utils'] at line 272: Extracting /home/master/.deeppavlov/downloads/rel_ranking_bert_rus.tar.gz archive into /home/master/.deeppavlov/downloads/rel_ranking_rus\n",
      "2021-08-24 18:40:57.459 INFO in 'deeppavlov.core.data.utils'['utils'] at line 95: Downloading from http://files.deeppavlov.ai/kbqa/wikidata/q_to_descr_ru.pickle to /home/master/.deeppavlov/downloads/wikidata_rus/q_to_descr_ru.pickle\n",
      "100%|███████████████████████████████████████████████████████████████████████████████████████| 270M/270M [06:23<00:00, 704kB/s]\n",
      "2021-08-24 18:47:21.273 INFO in 'deeppavlov.core.data.utils'['utils'] at line 95: Downloading from http://files.deeppavlov.ai/deeppavlov_data/bert/multi_cased_L-12_H-768_A-12.zip to /home/master/.deeppavlov/downloads/multi_cased_L-12_H-768_A-12.zip\n",
      "100%|███████████████████████████████████████████████████████████████████████████████████████| 663M/663M [14:05<00:00, 784kB/s]\n",
      "2021-08-24 19:01:27.305 INFO in 'deeppavlov.core.data.utils'['utils'] at line 272: Extracting /home/master/.deeppavlov/downloads/multi_cased_L-12_H-768_A-12.zip archive into /home/master/.deeppavlov/downloads/bert_models\n",
      "2021-08-24 19:01:30.889 INFO in 'deeppavlov.core.data.utils'['utils'] at line 95: Downloading from http://files.deeppavlov.ai/kbqa/models/rel_ranking_bert_rus.tar.gz to /home/master/.deeppavlov/models/rel_ranking_bert_rus.tar.gz\n",
      "100%|███████████████████████████████████████████████████████████████████████████████████████| 660M/660M [14:42<00:00, 748kB/s]\n",
      "2021-08-24 19:16:13.688 INFO in 'deeppavlov.core.data.utils'['utils'] at line 272: Extracting /home/master/.deeppavlov/models/rel_ranking_bert_rus.tar.gz archive into /home/master/.deeppavlov/models/rel_ranking_bert_rus\n",
      "2021-08-24 19:16:17.720 INFO in 'deeppavlov.core.data.utils'['utils'] at line 95: Downloading from http://files.deeppavlov.ai/deeppavlov_data/bert/rubert_cased_L-12_H-768_A-12_v1.tar.gz to /home/master/.deeppavlov/downloads/rubert_cased_L-12_H-768_A-12_v1.tar.gz\n",
      "100%|███████████████████████████████████████████████████████████████████████████████████████| 666M/666M [15:07<00:00, 734kB/s]\n",
      "2021-08-24 19:31:25.316 INFO in 'deeppavlov.core.data.utils'['utils'] at line 272: Extracting /home/master/.deeppavlov/downloads/rubert_cased_L-12_H-768_A-12_v1.tar.gz archive into /home/master/.deeppavlov/downloads/bert_models\n",
      "2021-08-24 19:31:29.366 INFO in 'deeppavlov.core.data.utils'['utils'] at line 95: Downloading from http://files.deeppavlov.ai/deeppavlov_data/ner_rus_bert_v1.tar.gz to /home/master/.deeppavlov/ner_rus_bert_v1.tar.gz\n",
      "100%|█████████████████████████████████████████████████████████████████████████████████████| 1.32G/1.32G [28:52<00:00, 761kB/s]\n",
      "2021-08-24 20:00:21.724 INFO in 'deeppavlov.core.data.utils'['utils'] at line 272: Extracting /home/master/.deeppavlov/ner_rus_bert_v1.tar.gz archive into /home/master/.deeppavlov/models\n",
      "2021-08-24 20:00:31.625 INFO in 'deeppavlov.download'['download'] at line 138: Skipped http://files.deeppavlov.ai/kbqa/models/ner_rus_bert.tar.gz download because of matching hashes\n",
      "2021-08-24 20:00:31.771 INFO in 'deeppavlov.core.data.utils'['utils'] at line 95: Downloading from http://files.deeppavlov.ai/kbqa/wikidata/entity_linking_rus.tar.gz to /home/master/.deeppavlov/downloads/entity_linking_rus.tar.gz\n",
      "100%|███████████████████████████████████████████████████████████████████████████████████████| 256M/256M [05:54<00:00, 723kB/s]\n",
      "2021-08-24 20:06:26.224 INFO in 'deeppavlov.core.data.utils'['utils'] at line 272: Extracting /home/master/.deeppavlov/downloads/entity_linking_rus.tar.gz archive into /home/master/.deeppavlov/downloads/wikidata_rus\n",
      "2021-08-24 20:06:39.530 INFO in 'deeppavlov.core.data.utils'['utils'] at line 95: Downloading from http://files.deeppavlov.ai/kbqa/models/entity_ranking_bert_rus_no_mention.tar.gz to /home/master/.deeppavlov/models/entity_ranking_bert_rus_no_mention.tar.gz\n",
      "100%|███████████████████████████████████████████████████████████████████████████████████████| 660M/660M [16:32<00:00, 665kB/s]\n",
      "2021-08-24 20:23:12.452 INFO in 'deeppavlov.core.data.utils'['utils'] at line 272: Extracting /home/master/.deeppavlov/models/entity_ranking_bert_rus_no_mention.tar.gz archive into /home/master/.deeppavlov/models/entity_ranking_bert_rus_no_mention\n",
      "[nltk_data] Downloading package punkt to /usr/local/lib/nltk_data...\n",
      "[nltk_data]   Package punkt is already up-to-date!\n",
      "[nltk_data] Downloading package stopwords to\n",
      "[nltk_data]     /usr/local/lib/nltk_data...\n",
      "[nltk_data]   Package stopwords is already up-to-date!\n",
      "[nltk_data] Downloading package perluniprops to\n",
      "[nltk_data]     /usr/local/lib/nltk_data...\n",
      "[nltk_data]   Package perluniprops is already up-to-date!\n",
      "[nltk_data] Downloading package nonbreaking_prefixes to\n",
      "[nltk_data]     /usr/local/lib/nltk_data...\n",
      "[nltk_data]   Package nonbreaking_prefixes is already up-to-date!\n"
     ]
    },
    {
     "ename": "ModuleNotFoundError",
     "evalue": "No module named 'faiss'",
     "output_type": "error",
     "traceback": [
      "\u001b[0;31m---------------------------------------------------------------------------\u001b[0m",
      "\u001b[0;31mModuleNotFoundError\u001b[0m                       Traceback (most recent call last)",
      "\u001b[0;32m/tmp/ipykernel_7498/413436102.py\u001b[0m in \u001b[0;36m<module>\u001b[0;34m\u001b[0m\n\u001b[0;32m----> 1\u001b[0;31m \u001b[0mel_model\u001b[0m \u001b[0;34m=\u001b[0m \u001b[0mbuild_model\u001b[0m\u001b[0;34m(\u001b[0m\u001b[0mconfigs\u001b[0m\u001b[0;34m.\u001b[0m\u001b[0mkbqa\u001b[0m\u001b[0;34m.\u001b[0m\u001b[0mentity_linking_rus\u001b[0m\u001b[0;34m,\u001b[0m \u001b[0mdownload\u001b[0m\u001b[0;34m=\u001b[0m\u001b[0;32mTrue\u001b[0m\u001b[0;34m)\u001b[0m\u001b[0;34m\u001b[0m\u001b[0;34m\u001b[0m\u001b[0m\n\u001b[0m\u001b[1;32m      2\u001b[0m \u001b[0mel_model\u001b[0m\u001b[0;34m(\u001b[0m\u001b[0;34m[\u001b[0m\u001b[0;34m'Москва — столица России, город федерального значения, административный центр Центрального федерального округа и центр Московской области.'\u001b[0m\u001b[0;34m]\u001b[0m\u001b[0;34m)\u001b[0m\u001b[0;34m\u001b[0m\u001b[0;34m\u001b[0m\u001b[0m\n",
      "\u001b[0;32m/home/codeholder/code/python-playground/app_noisemon/.deeppavlov_env/lib/python3.8/site-packages/deeppavlov/core/commands/infer.py\u001b[0m in \u001b[0;36mbuild_model\u001b[0;34m(config, mode, load_trained, download, serialized)\u001b[0m\n\u001b[1;32m     60\u001b[0m             \u001b[0mcomponent_serialized\u001b[0m \u001b[0;34m=\u001b[0m \u001b[0;32mNone\u001b[0m\u001b[0;34m\u001b[0m\u001b[0;34m\u001b[0m\u001b[0m\n\u001b[1;32m     61\u001b[0m \u001b[0;34m\u001b[0m\u001b[0m\n\u001b[0;32m---> 62\u001b[0;31m         \u001b[0mcomponent\u001b[0m \u001b[0;34m=\u001b[0m \u001b[0mfrom_params\u001b[0m\u001b[0;34m(\u001b[0m\u001b[0mcomponent_config\u001b[0m\u001b[0;34m,\u001b[0m \u001b[0mmode\u001b[0m\u001b[0;34m=\u001b[0m\u001b[0mmode\u001b[0m\u001b[0;34m,\u001b[0m \u001b[0mserialized\u001b[0m\u001b[0;34m=\u001b[0m\u001b[0mcomponent_serialized\u001b[0m\u001b[0;34m)\u001b[0m\u001b[0;34m\u001b[0m\u001b[0;34m\u001b[0m\u001b[0m\n\u001b[0m\u001b[1;32m     63\u001b[0m \u001b[0;34m\u001b[0m\u001b[0m\n\u001b[1;32m     64\u001b[0m         \u001b[0;32mif\u001b[0m \u001b[0;34m'id'\u001b[0m \u001b[0;32min\u001b[0m \u001b[0mcomponent_config\u001b[0m\u001b[0;34m:\u001b[0m\u001b[0;34m\u001b[0m\u001b[0;34m\u001b[0m\u001b[0m\n",
      "\u001b[0;32m/home/codeholder/code/python-playground/app_noisemon/.deeppavlov_env/lib/python3.8/site-packages/deeppavlov/core/common/params.py\u001b[0m in \u001b[0;36mfrom_params\u001b[0;34m(params, mode, serialized, **kwargs)\u001b[0m\n\u001b[1;32m     93\u001b[0m         \u001b[0mlog\u001b[0m\u001b[0;34m.\u001b[0m\u001b[0mexception\u001b[0m\u001b[0;34m(\u001b[0m\u001b[0me\u001b[0m\u001b[0;34m)\u001b[0m\u001b[0;34m\u001b[0m\u001b[0;34m\u001b[0m\u001b[0m\n\u001b[1;32m     94\u001b[0m         \u001b[0;32mraise\u001b[0m \u001b[0me\u001b[0m\u001b[0;34m\u001b[0m\u001b[0;34m\u001b[0m\u001b[0m\n\u001b[0;32m---> 95\u001b[0;31m     \u001b[0mobj\u001b[0m \u001b[0;34m=\u001b[0m \u001b[0mget_model\u001b[0m\u001b[0;34m(\u001b[0m\u001b[0mcls_name\u001b[0m\u001b[0;34m)\u001b[0m\u001b[0;34m\u001b[0m\u001b[0;34m\u001b[0m\u001b[0m\n\u001b[0m\u001b[1;32m     96\u001b[0m \u001b[0;34m\u001b[0m\u001b[0m\n\u001b[1;32m     97\u001b[0m     \u001b[0;32mif\u001b[0m \u001b[0minspect\u001b[0m\u001b[0;34m.\u001b[0m\u001b[0misclass\u001b[0m\u001b[0;34m(\u001b[0m\u001b[0mobj\u001b[0m\u001b[0;34m)\u001b[0m\u001b[0;34m:\u001b[0m\u001b[0;34m\u001b[0m\u001b[0;34m\u001b[0m\u001b[0m\n",
      "\u001b[0;32m/home/codeholder/code/python-playground/app_noisemon/.deeppavlov_env/lib/python3.8/site-packages/deeppavlov/core/common/registry.py\u001b[0m in \u001b[0;36mget_model\u001b[0;34m(name)\u001b[0m\n\u001b[1;32m     72\u001b[0m             \u001b[0;32mraise\u001b[0m \u001b[0mConfigError\u001b[0m\u001b[0;34m(\u001b[0m\u001b[0;34m\"Model {} is not registered.\"\u001b[0m\u001b[0;34m.\u001b[0m\u001b[0mformat\u001b[0m\u001b[0;34m(\u001b[0m\u001b[0mname\u001b[0m\u001b[0;34m)\u001b[0m\u001b[0;34m)\u001b[0m\u001b[0;34m\u001b[0m\u001b[0;34m\u001b[0m\u001b[0m\n\u001b[1;32m     73\u001b[0m         \u001b[0;32mreturn\u001b[0m \u001b[0mcls_from_str\u001b[0m\u001b[0;34m(\u001b[0m\u001b[0mname\u001b[0m\u001b[0;34m)\u001b[0m\u001b[0;34m\u001b[0m\u001b[0;34m\u001b[0m\u001b[0m\n\u001b[0;32m---> 74\u001b[0;31m     \u001b[0;32mreturn\u001b[0m \u001b[0mcls_from_str\u001b[0m\u001b[0;34m(\u001b[0m\u001b[0m_REGISTRY\u001b[0m\u001b[0;34m[\u001b[0m\u001b[0mname\u001b[0m\u001b[0;34m]\u001b[0m\u001b[0;34m)\u001b[0m\u001b[0;34m\u001b[0m\u001b[0;34m\u001b[0m\u001b[0m\n\u001b[0m\u001b[1;32m     75\u001b[0m \u001b[0;34m\u001b[0m\u001b[0m\n\u001b[1;32m     76\u001b[0m \u001b[0;34m\u001b[0m\u001b[0m\n",
      "\u001b[0;32m/home/codeholder/code/python-playground/app_noisemon/.deeppavlov_env/lib/python3.8/site-packages/deeppavlov/core/common/registry.py\u001b[0m in \u001b[0;36mcls_from_str\u001b[0;34m(name)\u001b[0m\n\u001b[1;32m     40\u001b[0m                           .format(name))\n\u001b[1;32m     41\u001b[0m \u001b[0;34m\u001b[0m\u001b[0m\n\u001b[0;32m---> 42\u001b[0;31m     \u001b[0;32mreturn\u001b[0m \u001b[0mgetattr\u001b[0m\u001b[0;34m(\u001b[0m\u001b[0mimportlib\u001b[0m\u001b[0;34m.\u001b[0m\u001b[0mimport_module\u001b[0m\u001b[0;34m(\u001b[0m\u001b[0mmodule_name\u001b[0m\u001b[0;34m)\u001b[0m\u001b[0;34m,\u001b[0m \u001b[0mcls_name\u001b[0m\u001b[0;34m)\u001b[0m\u001b[0;34m\u001b[0m\u001b[0;34m\u001b[0m\u001b[0m\n\u001b[0m\u001b[1;32m     43\u001b[0m \u001b[0;34m\u001b[0m\u001b[0m\n\u001b[1;32m     44\u001b[0m \u001b[0;34m\u001b[0m\u001b[0m\n",
      "\u001b[0;32m~/.local/share/miniconda3/lib/python3.8/importlib/__init__.py\u001b[0m in \u001b[0;36mimport_module\u001b[0;34m(name, package)\u001b[0m\n\u001b[1;32m    125\u001b[0m                 \u001b[0;32mbreak\u001b[0m\u001b[0;34m\u001b[0m\u001b[0;34m\u001b[0m\u001b[0m\n\u001b[1;32m    126\u001b[0m             \u001b[0mlevel\u001b[0m \u001b[0;34m+=\u001b[0m \u001b[0;36m1\u001b[0m\u001b[0;34m\u001b[0m\u001b[0;34m\u001b[0m\u001b[0m\n\u001b[0;32m--> 127\u001b[0;31m     \u001b[0;32mreturn\u001b[0m \u001b[0m_bootstrap\u001b[0m\u001b[0;34m.\u001b[0m\u001b[0m_gcd_import\u001b[0m\u001b[0;34m(\u001b[0m\u001b[0mname\u001b[0m\u001b[0;34m[\u001b[0m\u001b[0mlevel\u001b[0m\u001b[0;34m:\u001b[0m\u001b[0;34m]\u001b[0m\u001b[0;34m,\u001b[0m \u001b[0mpackage\u001b[0m\u001b[0;34m,\u001b[0m \u001b[0mlevel\u001b[0m\u001b[0;34m)\u001b[0m\u001b[0;34m\u001b[0m\u001b[0;34m\u001b[0m\u001b[0m\n\u001b[0m\u001b[1;32m    128\u001b[0m \u001b[0;34m\u001b[0m\u001b[0m\n\u001b[1;32m    129\u001b[0m \u001b[0;34m\u001b[0m\u001b[0m\n",
      "\u001b[0;32m~/.local/share/miniconda3/lib/python3.8/importlib/_bootstrap.py\u001b[0m in \u001b[0;36m_gcd_import\u001b[0;34m(name, package, level)\u001b[0m\n",
      "\u001b[0;32m~/.local/share/miniconda3/lib/python3.8/importlib/_bootstrap.py\u001b[0m in \u001b[0;36m_find_and_load\u001b[0;34m(name, import_)\u001b[0m\n",
      "\u001b[0;32m~/.local/share/miniconda3/lib/python3.8/importlib/_bootstrap.py\u001b[0m in \u001b[0;36m_find_and_load_unlocked\u001b[0;34m(name, import_)\u001b[0m\n",
      "\u001b[0;32m~/.local/share/miniconda3/lib/python3.8/importlib/_bootstrap.py\u001b[0m in \u001b[0;36m_load_unlocked\u001b[0;34m(spec)\u001b[0m\n",
      "\u001b[0;32m~/.local/share/miniconda3/lib/python3.8/importlib/_bootstrap_external.py\u001b[0m in \u001b[0;36mexec_module\u001b[0;34m(self, module)\u001b[0m\n",
      "\u001b[0;32m~/.local/share/miniconda3/lib/python3.8/importlib/_bootstrap.py\u001b[0m in \u001b[0;36m_call_with_frames_removed\u001b[0;34m(f, *args, **kwds)\u001b[0m\n",
      "\u001b[0;32m/home/codeholder/code/python-playground/app_noisemon/.deeppavlov_env/lib/python3.8/site-packages/deeppavlov/models/kbqa/entity_linking.py\u001b[0m in \u001b[0;36m<module>\u001b[0;34m\u001b[0m\n\u001b[1;32m     19\u001b[0m \u001b[0;32mimport\u001b[0m \u001b[0mnumpy\u001b[0m \u001b[0;32mas\u001b[0m \u001b[0mnp\u001b[0m\u001b[0;34m\u001b[0m\u001b[0;34m\u001b[0m\u001b[0m\n\u001b[1;32m     20\u001b[0m \u001b[0;32mimport\u001b[0m \u001b[0mpymorphy2\u001b[0m\u001b[0;34m\u001b[0m\u001b[0;34m\u001b[0m\u001b[0m\n\u001b[0;32m---> 21\u001b[0;31m \u001b[0;32mimport\u001b[0m \u001b[0mfaiss\u001b[0m\u001b[0;34m\u001b[0m\u001b[0;34m\u001b[0m\u001b[0m\n\u001b[0m\u001b[1;32m     22\u001b[0m \u001b[0;32mfrom\u001b[0m \u001b[0mnltk\u001b[0m\u001b[0;34m.\u001b[0m\u001b[0mcorpus\u001b[0m \u001b[0;32mimport\u001b[0m \u001b[0mstopwords\u001b[0m\u001b[0;34m\u001b[0m\u001b[0;34m\u001b[0m\u001b[0m\n\u001b[1;32m     23\u001b[0m \u001b[0;32mfrom\u001b[0m \u001b[0mnltk\u001b[0m \u001b[0;32mimport\u001b[0m \u001b[0msent_tokenize\u001b[0m\u001b[0;34m\u001b[0m\u001b[0;34m\u001b[0m\u001b[0m\n",
      "\u001b[0;31mModuleNotFoundError\u001b[0m: No module named 'faiss'"
     ]
    }
   ],
   "source": [
    "el_model = build_model(configs.kbqa.entity_linking_rus, download=True)\n",
    "el_model(['Москва — столица России, город федерального значения, административный центр Центрального федерального округа и центр Московской области.'])"
   ]
  },
  {
   "cell_type": "code",
   "execution_count": null,
   "id": "371d5cbf",
   "metadata": {},
   "outputs": [],
   "source": []
  },
  {
   "cell_type": "code",
   "execution_count": null,
   "id": "22f747bb",
   "metadata": {},
   "outputs": [],
   "source": [
    "from datetime import datetime\n",
    "from pprint import pprint\n",
    "from SPARQLWrapper import SPARQLWrapper, JSON, XML, N3, RDF"
   ]
  },
  {
   "cell_type": "code",
   "execution_count": null,
   "id": "f6b9ad93",
   "metadata": {},
   "outputs": [],
   "source": [
    "sparql = SPARQLWrapper(\"https://query.wikidata.org/sparql\")"
   ]
  },
  {
   "cell_type": "code",
   "execution_count": null,
   "id": "99f5ca52",
   "metadata": {},
   "outputs": [],
   "source": [
    "#SPARQL query to be executed\n",
    "sparql.setQuery(\"\"\"\n",
    "SELECT ?item ?itemLabel \n",
    "WHERE \n",
    "{\n",
    "  wd:Q21 rdfs:label ?item.\n",
    "  filter(lang(?item) = \"ru\").\n",
    "  SERVICE wikibase:label { bd:serviceParam wikibase:language \"[AUTO_LANGUAGE],en\". }\n",
    "}\n",
    "\"\"\")\n",
    "\n",
    "sparql.setReturnFormat(JSON)   # Return format is JSON\n",
    "results = sparql.query().convert()   # execute SPARQL query and write result to \"results\""
   ]
  },
  {
   "cell_type": "code",
   "execution_count": null,
   "id": "1902f397",
   "metadata": {},
   "outputs": [],
   "source": [
    "pprint([item[\"label\"][\"value\"] for item in results[\"results\"][\"bindings\"]])"
   ]
  }
 ],
 "metadata": {
  "kernelspec": {
   "display_name": "Python (deeppavlov)",
   "language": "python",
   "name": "deeppavlov"
  },
  "language_info": {
   "codemirror_mode": {
    "name": "ipython",
    "version": 3
   },
   "file_extension": ".py",
   "mimetype": "text/x-python",
   "name": "python",
   "nbconvert_exporter": "python",
   "pygments_lexer": "ipython3",
   "version": "3.8.2"
  }
 },
 "nbformat": 4,
 "nbformat_minor": 5
}
