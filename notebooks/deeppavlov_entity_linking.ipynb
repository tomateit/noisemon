{
 "cells": [
  {
   "cell_type": "code",
   "execution_count": 1,
   "id": "0e3e7deb",
   "metadata": {},
   "outputs": [],
   "source": [
    "from deeppavlov import configs, build_model"
   ]
  },
  {
   "cell_type": "code",
   "execution_count": null,
   "id": "e5107d6b",
   "metadata": {},
   "outputs": [
    {
     "name": "stderr",
     "output_type": "stream",
     "text": [
      "2021-08-24 18:39:43.546 INFO in 'deeppavlov.core.data.utils'['utils'] at line 95: Downloading from http://files.deeppavlov.ai/kbqa/datasets/rel_ranking_bert_rus.tar.gz to /home/master/.deeppavlov/downloads/rel_ranking_bert_rus.tar.gz\n",
      "100%|█████████████████████████████████████████████████████████████████████████████████████| 48.6M/48.6M [01:12<00:00, 672kB/s]\n",
      "2021-08-24 18:40:56.192 INFO in 'deeppavlov.core.data.utils'['utils'] at line 272: Extracting /home/master/.deeppavlov/downloads/rel_ranking_bert_rus.tar.gz archive into /home/master/.deeppavlov/downloads/rel_ranking_rus\n",
      "2021-08-24 18:40:57.459 INFO in 'deeppavlov.core.data.utils'['utils'] at line 95: Downloading from http://files.deeppavlov.ai/kbqa/wikidata/q_to_descr_ru.pickle to /home/master/.deeppavlov/downloads/wikidata_rus/q_to_descr_ru.pickle\n",
      "100%|███████████████████████████████████████████████████████████████████████████████████████| 270M/270M [06:23<00:00, 704kB/s]\n",
      "2021-08-24 18:47:21.273 INFO in 'deeppavlov.core.data.utils'['utils'] at line 95: Downloading from http://files.deeppavlov.ai/deeppavlov_data/bert/multi_cased_L-12_H-768_A-12.zip to /home/master/.deeppavlov/downloads/multi_cased_L-12_H-768_A-12.zip\n",
      " 46%|███████████████████████████████████████▉                                               | 304M/663M [06:30<10:49, 553kB/s]"
     ]
    }
   ],
   "source": [
    "el_model = build_model(configs.kbqa.entity_linking_rus, download=True)\n",
    "el_model(['Москва — столица России, город федерального значения, административный центр Центрального федерального округа и центр Московской области.'])"
   ]
  },
  {
   "cell_type": "code",
   "execution_count": null,
   "id": "9b516862",
   "metadata": {},
   "outputs": [],
   "source": []
  },
  {
   "cell_type": "code",
   "execution_count": null,
   "id": "4cc5ae76",
   "metadata": {},
   "outputs": [],
   "source": [
    "from datetime import datetime\n",
    "from pprint import pprint\n",
    "from SPARQLWrapper import SPARQLWrapper, JSON, XML, N3, RDF"
   ]
  },
  {
   "cell_type": "code",
   "execution_count": null,
   "id": "50237473",
   "metadata": {},
   "outputs": [],
   "source": [
    "sparql = SPARQLWrapper(\"http://dbpedia.org/sparql\")"
   ]
  },
  {
   "cell_type": "code",
   "execution_count": null,
   "id": "24d6a620",
   "metadata": {},
   "outputs": [],
   "source": [
    "#SPARQL query to be executed\n",
    "sparql.setQuery(\"\"\"\n",
    "SELECT ?item ?itemLabel \n",
    "WHERE \n",
    "{\n",
    "  wd:Q21 rdfs:label ?item.\n",
    "  filter(lang(?item) = \"ru\").\n",
    "  SERVICE wikibase:label { bd:serviceParam wikibase:language \"[AUTO_LANGUAGE],en\". }\n",
    "}\n",
    "\"\"\")\n",
    "\n",
    "sparql.setReturnFormat(JSON)   # Return format is JSON\n",
    "results = sparql.query().convert()   # execute SPARQL query and write result to \"results\""
   ]
  },
  {
   "cell_type": "code",
   "execution_count": null,
   "id": "b3bc46d2",
   "metadata": {},
   "outputs": [],
   "source": [
    "pprint([item[\"label\"][\"value\"] for item in results[\"results\"][\"bindings\"]])"
   ]
  }
 ],
 "metadata": {
  "kernelspec": {
   "display_name": "Python (deeppavlov)",
   "language": "python",
   "name": "deeppavlov"
  },
  "language_info": {
   "codemirror_mode": {
    "name": "ipython",
    "version": 3
   },
   "file_extension": ".py",
   "mimetype": "text/x-python",
   "name": "python",
   "nbconvert_exporter": "python",
   "pygments_lexer": "ipython3",
   "version": "3.8.2"
  }
 },
 "nbformat": 4,
 "nbformat_minor": 5
}
