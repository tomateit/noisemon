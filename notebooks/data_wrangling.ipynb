{
 "cells": [
  {
   "cell_type": "markdown",
   "id": "2af40dcc",
   "metadata": {},
   "source": [
    "# Data wrangling"
   ]
  },
  {
   "cell_type": "markdown",
   "id": "0623345e",
   "metadata": {},
   "source": [
    "## Telegram export format"
   ]
  },
  {
   "cell_type": "code",
   "execution_count": 1,
   "id": "6020746f",
   "metadata": {},
   "outputs": [],
   "source": [
    "from typing import List"
   ]
  },
  {
   "cell_type": "code",
   "execution_count": 2,
   "id": "f9e1ebb0",
   "metadata": {},
   "outputs": [],
   "source": [
    "import regex\n",
    "import json\n",
    "from pathlib import Path"
   ]
  },
  {
   "cell_type": "code",
   "execution_count": 3,
   "id": "5e382a82",
   "metadata": {},
   "outputs": [
    {
     "data": {
      "text/plain": [
       "True"
      ]
     },
     "execution_count": 3,
     "metadata": {},
     "output_type": "execute_result"
    }
   ],
   "source": [
    "input_path = Path(\"../data/00-raw/market_twits_export.json\")\n",
    "input_path.exists()"
   ]
  },
  {
   "cell_type": "code",
   "execution_count": 5,
   "id": "dfec5f47",
   "metadata": {},
   "outputs": [],
   "source": [
    "data = json.loads(input_path.read_text())[\"messages\"]"
   ]
  },
  {
   "cell_type": "code",
   "execution_count": 7,
   "id": "6b9f584f",
   "metadata": {},
   "outputs": [
    {
     "data": {
      "text/plain": [
       "150540"
      ]
     },
     "execution_count": 7,
     "metadata": {},
     "output_type": "execute_result"
    }
   ],
   "source": [
    "len(data)"
   ]
  },
  {
   "cell_type": "code",
   "execution_count": 6,
   "id": "372ecd5c",
   "metadata": {},
   "outputs": [
    {
     "data": {
      "text/plain": [
       "{'id': 6,\n",
       " 'type': 'message',\n",
       " 'date': '2017-11-09T12:55:55',\n",
       " 'from': 'MarketTwits',\n",
       " 'from_id': 'channel1203560567',\n",
       " 'text': '«Россети» выступают за переход на долгосрочный тариф для возможности зарабатывать на дивиденды'}"
      ]
     },
     "execution_count": 6,
     "metadata": {},
     "output_type": "execute_result"
    }
   ],
   "source": [
    "data[5]"
   ]
  },
  {
   "cell_type": "markdown",
   "id": "4bb7597e",
   "metadata": {},
   "source": [
    "## Filter out non-textual"
   ]
  },
  {
   "cell_type": "code",
   "execution_count": 10,
   "id": "e2f3589f",
   "metadata": {},
   "outputs": [],
   "source": [
    "data = list(filter(lambda x: x[\"text\"] , data))"
   ]
  },
  {
   "cell_type": "code",
   "execution_count": 11,
   "id": "e408dae9",
   "metadata": {},
   "outputs": [
    {
     "data": {
      "text/plain": [
       "148498"
      ]
     },
     "execution_count": 11,
     "metadata": {},
     "output_type": "execute_result"
    }
   ],
   "source": [
    "len(data)"
   ]
  },
  {
   "cell_type": "markdown",
   "id": "ee8412ed",
   "metadata": {},
   "source": [
    "## Glue chunked"
   ]
  },
  {
   "cell_type": "code",
   "execution_count": 13,
   "id": "2bde1e3b",
   "metadata": {},
   "outputs": [],
   "source": [
    "def glue_chunks(chunks: List)-> str:\n",
    "    buffer = []\n",
    "    for chunk in chunks:\n",
    "        if type(chunk) == str:\n",
    "            buffer.append(chunk)\n",
    "        else:\n",
    "            buffer.append(chunk[\"text\"])\n",
    "    buffer = \" \".join(buffer)\n",
    "    buffer = regex.sub(r\"\\s{2, }\", \" \", buffer)\n",
    "    return buffer"
   ]
  },
  {
   "cell_type": "code",
   "execution_count": 15,
   "id": "e89d3b71",
   "metadata": {},
   "outputs": [],
   "source": [
    "texts = []\n",
    "for i in data:\n",
    "    try:\n",
    "        text = i['text']\n",
    "        if type(text) == list:\n",
    "            text = glue_chunks(text)\n",
    "        texts.append(text)\n",
    "    except:\n",
    "        print(i)\n",
    "        break"
   ]
  },
  {
   "cell_type": "markdown",
   "id": "31af36f3",
   "metadata": {},
   "source": [
    "## Filter out messages not containing a ticker"
   ]
  },
  {
   "cell_type": "code",
   "execution_count": 16,
   "id": "bd2e8c9b",
   "metadata": {},
   "outputs": [],
   "source": [
    "import reticker"
   ]
  },
  {
   "cell_type": "code",
   "execution_count": 17,
   "id": "f10fa32b",
   "metadata": {},
   "outputs": [],
   "source": [
    "extractor = reticker.TickerExtractor()"
   ]
  },
  {
   "cell_type": "code",
   "execution_count": 18,
   "id": "75c36536",
   "metadata": {},
   "outputs": [],
   "source": [
    "with_ticker = list(filter(extractor.extract, texts))"
   ]
  },
  {
   "cell_type": "code",
   "execution_count": 19,
   "id": "c7a8a4a1",
   "metadata": {},
   "outputs": [
    {
     "data": {
      "text/plain": [
       "88357"
      ]
     },
     "execution_count": 19,
     "metadata": {},
     "output_type": "execute_result"
    }
   ],
   "source": [
    "len(with_ticker)"
   ]
  },
  {
   "cell_type": "code",
   "execution_count": 20,
   "id": "11a9db6d",
   "metadata": {},
   "outputs": [
    {
     "data": {
      "text/plain": [
       "'Gold demand slides to eight-year low in third quarter of 2017: WGC'"
      ]
     },
     "execution_count": 20,
     "metadata": {},
     "output_type": "execute_result"
    }
   ],
   "source": [
    "with_ticker[0]"
   ]
  },
  {
   "cell_type": "code",
   "execution_count": 32,
   "id": "e45cd1ab",
   "metadata": {},
   "outputs": [],
   "source": [
    "output_path = Path(\"../data/01-filtered/market_twits_with_tickers.json\")\n",
    "with open(output_path, \"w\") as fout:\n",
    "    json.dump(with_ticker, fout, ensure_ascii=True)"
   ]
  },
  {
   "cell_type": "code",
   "execution_count": 22,
   "id": "813c8822",
   "metadata": {},
   "outputs": [],
   "source": [
    "output_path = Path(\"../data/01-filtered/market_twits.json\")\n",
    "with open(output_path, \"w\") as fout:\n",
    "    json.dump(texts, fout, ensure_ascii=True)"
   ]
  },
  {
   "cell_type": "code",
   "execution_count": null,
   "id": "18bb65c7",
   "metadata": {},
   "outputs": [],
   "source": []
  }
 ],
 "metadata": {
  "kernelspec": {
   "display_name": "noisemon",
   "language": "python",
   "name": "python3810_noisemon"
  },
  "language_info": {
   "codemirror_mode": {
    "name": "ipython",
    "version": 3
   },
   "file_extension": ".py",
   "mimetype": "text/x-python",
   "name": "python",
   "nbconvert_exporter": "python",
   "pygments_lexer": "ipython3",
   "version": "3.8.10"
  }
 },
 "nbformat": 4,
 "nbformat_minor": 5
}
