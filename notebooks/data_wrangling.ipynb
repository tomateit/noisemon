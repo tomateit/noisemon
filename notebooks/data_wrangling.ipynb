{
 "cells": [
  {
   "cell_type": "code",
   "execution_count": 1,
   "id": "b64c6a7a",
   "metadata": {},
   "outputs": [
    {
     "name": "stdout",
     "output_type": "stream",
     "text": [
      "/home/max/process/dist/app_noisemon\n"
     ]
    }
   ],
   "source": [
    "%cd .."
   ]
  },
  {
   "cell_type": "markdown",
   "id": "2af40dcc",
   "metadata": {},
   "source": [
    "# Data wrangling"
   ]
  },
  {
   "cell_type": "markdown",
   "id": "0623345e",
   "metadata": {},
   "source": [
    "## Telegram export format"
   ]
  },
  {
   "cell_type": "code",
   "execution_count": 2,
   "id": "6020746f",
   "metadata": {},
   "outputs": [],
   "source": [
    "from typing import List"
   ]
  },
  {
   "cell_type": "code",
   "execution_count": 18,
   "id": "f9e1ebb0",
   "metadata": {},
   "outputs": [],
   "source": [
    "import regex\n",
    "import json\n",
    "from pathlib import Path\n",
    "import pandas as pd"
   ]
  },
  {
   "cell_type": "code",
   "execution_count": 4,
   "id": "5e382a82",
   "metadata": {},
   "outputs": [
    {
     "data": {
      "text/plain": [
       "True"
      ]
     },
     "execution_count": 4,
     "metadata": {},
     "output_type": "execute_result"
    }
   ],
   "source": [
    "input_path = Path(\"./data/00-raw/full-time_trading_export.json\")\n",
    "input_path.exists()"
   ]
  },
  {
   "cell_type": "code",
   "execution_count": 5,
   "id": "dfec5f47",
   "metadata": {},
   "outputs": [],
   "source": [
    "data = json.loads(input_path.read_text())[\"messages\"]"
   ]
  },
  {
   "cell_type": "code",
   "execution_count": 6,
   "id": "6b9f584f",
   "metadata": {},
   "outputs": [
    {
     "data": {
      "text/plain": [
       "80760"
      ]
     },
     "execution_count": 6,
     "metadata": {},
     "output_type": "execute_result"
    }
   ],
   "source": [
    "len(data)"
   ]
  },
  {
   "cell_type": "code",
   "execution_count": 7,
   "id": "372ecd5c",
   "metadata": {},
   "outputs": [
    {
     "data": {
      "text/plain": [
       "{'id': 11,\n",
       " 'type': 'message',\n",
       " 'date': '2019-09-30T09:02:44',\n",
       " 'edited': '2019-09-30T09:06:10',\n",
       " 'from': '🔥Full-Time Trading',\n",
       " 'from_id': 'channel1292964247',\n",
       " 'file': '(File not included. Change data exporting settings to download.)',\n",
       " 'thumbnail': '(File not included. Change data exporting settings to download.)',\n",
       " 'media_type': 'animation',\n",
       " 'mime_type': 'image/gif',\n",
       " 'width': 1366,\n",
       " 'height': 768,\n",
       " 'text': '$ BABA продолжит падение после \"подзарядки\"  \\nОбразовав паттерн \"медвежий клин\" и пробив его цена обрекла себя на падение согласно закону этого паттерна. Смотрите видео:'}"
      ]
     },
     "execution_count": 7,
     "metadata": {},
     "output_type": "execute_result"
    }
   ],
   "source": [
    "data[5]"
   ]
  },
  {
   "cell_type": "markdown",
   "id": "4bb7597e",
   "metadata": {},
   "source": [
    "## Filter out non-textual"
   ]
  },
  {
   "cell_type": "code",
   "execution_count": 15,
   "id": "e2f3589f",
   "metadata": {},
   "outputs": [],
   "source": [
    "data = list(filter(lambda x: x[\"text\"] , data))"
   ]
  },
  {
   "cell_type": "code",
   "execution_count": 16,
   "id": "8124a84c-2362-4168-988f-4b2c134d1a39",
   "metadata": {},
   "outputs": [
    {
     "data": {
      "text/plain": [
       "{'id': 83,\n",
       " 'type': 'message',\n",
       " 'date': '2019-10-05T14:55:58',\n",
       " 'edited': '2019-10-05T17:45:25',\n",
       " 'from': '🔥Full-Time Trading',\n",
       " 'from_id': 'channel1292964247',\n",
       " 'photo': '(File not included. Change data exporting settings to download.)',\n",
       " 'width': 1280,\n",
       " 'height': 591,\n",
       " 'text': [{'type': 'hashtag', 'text': '#CMG'},\n",
       "  ' инвест идея с триггером: прорыв цены в интрадей (Понедельник)\\n\\nОбязательные условия:\\n1. Растущий SPY и хорошие новости\\n2. Объем и моментум на момент прорыва большой\\n\\nПример как должно отработать смотрим на ',\n",
       "  {'type': 'text_link',\n",
       "   'text': 'видео в YouTube',\n",
       "   'href': 'https://youtu.be/UYqklPxqSgQ'},\n",
       "  '']}"
      ]
     },
     "execution_count": 16,
     "metadata": {},
     "output_type": "execute_result"
    }
   ],
   "source": [
    "data[56]"
   ]
  },
  {
   "cell_type": "code",
   "execution_count": 13,
   "id": "e408dae9",
   "metadata": {},
   "outputs": [
    {
     "data": {
      "text/plain": [
       "79085"
      ]
     },
     "execution_count": 13,
     "metadata": {},
     "output_type": "execute_result"
    }
   ],
   "source": [
    "len(data)"
   ]
  },
  {
   "cell_type": "markdown",
   "id": "ee8412ed",
   "metadata": {},
   "source": [
    "## Glue chunked"
   ]
  },
  {
   "cell_type": "code",
   "execution_count": 10,
   "id": "2bde1e3b",
   "metadata": {},
   "outputs": [],
   "source": [
    "def glue_chunks(chunks: List)-> str:\n",
    "    buffer = []\n",
    "    for chunk in chunks:\n",
    "        if type(chunk) == str:\n",
    "            buffer.append(chunk)\n",
    "        else:\n",
    "            buffer.append(chunk[\"text\"])\n",
    "    buffer = \" \".join(buffer)\n",
    "    buffer = regex.sub(r\"\\s{2, }\", \" \", buffer)\n",
    "    return buffer"
   ]
  },
  {
   "cell_type": "code",
   "execution_count": 17,
   "id": "e89d3b71",
   "metadata": {},
   "outputs": [],
   "source": [
    "texts = []\n",
    "for i in data:\n",
    "    try:\n",
    "        text = i['text']\n",
    "        if type(text) == list:\n",
    "            text = glue_chunks(text)\n",
    "        texts.append(text)\n",
    "    except:\n",
    "        print(i)\n",
    "        break"
   ]
  },
  {
   "cell_type": "code",
   "execution_count": 20,
   "id": "9ba5bd92-1db3-4def-ab2c-542cc036628f",
   "metadata": {},
   "outputs": [],
   "source": [
    "dataframe = pd.DataFrame({\n",
    "    \"text\": texts,\n",
    "    \"timestamp\": [x.get(\"edited\") or x[\"date\"] for x in data]\n",
    "})"
   ]
  },
  {
   "cell_type": "markdown",
   "id": "31af36f3",
   "metadata": {},
   "source": [
    "## Filter out messages not containing a ticker"
   ]
  },
  {
   "cell_type": "code",
   "execution_count": 14,
   "id": "bd2e8c9b",
   "metadata": {},
   "outputs": [],
   "source": [
    "import reticker"
   ]
  },
  {
   "cell_type": "code",
   "execution_count": 15,
   "id": "f10fa32b",
   "metadata": {},
   "outputs": [],
   "source": [
    "extractor = reticker.TickerExtractor()"
   ]
  },
  {
   "cell_type": "code",
   "execution_count": 16,
   "id": "75c36536",
   "metadata": {},
   "outputs": [],
   "source": [
    "with_ticker = list(filter(extractor.extract, texts))"
   ]
  },
  {
   "cell_type": "code",
   "execution_count": 17,
   "id": "c7a8a4a1",
   "metadata": {},
   "outputs": [
    {
     "data": {
      "text/plain": [
       "54101"
      ]
     },
     "execution_count": 17,
     "metadata": {},
     "output_type": "execute_result"
    }
   ],
   "source": [
    "len(with_ticker)"
   ]
  },
  {
   "cell_type": "code",
   "execution_count": 18,
   "id": "11a9db6d",
   "metadata": {},
   "outputs": [
    {
     "data": {
      "text/plain": [
       "'$DIS  потенциально может свалиться в бездну, смотрим будет ли прорыв, если будет то тренд вниз на длительное время'"
      ]
     },
     "execution_count": 18,
     "metadata": {},
     "output_type": "execute_result"
    }
   ],
   "source": [
    "with_ticker[0]"
   ]
  },
  {
   "cell_type": "code",
   "execution_count": 20,
   "id": "50b6c761",
   "metadata": {},
   "outputs": [
    {
     "data": {
      "text/plain": [
       "'full-time_trading_export'"
      ]
     },
     "execution_count": 20,
     "metadata": {},
     "output_type": "execute_result"
    }
   ],
   "source": [
    "input_path.name.split(\".\")[0]"
   ]
  },
  {
   "cell_type": "code",
   "execution_count": 22,
   "id": "e45cd1ab",
   "metadata": {},
   "outputs": [],
   "source": [
    "output_name = input_path.name.split(\".\")[0] + \"_with_ticker\" + \".json\"\n",
    "output_path = Path(\"./data/01-filtered/\") / output_name\n",
    "with open(output_path, \"w\") as fout:\n",
    "    json.dump(with_ticker, fout, ensure_ascii=True)"
   ]
  },
  {
   "cell_type": "code",
   "execution_count": 23,
   "id": "813c8822",
   "metadata": {},
   "outputs": [],
   "source": [
    "output_name = input_path.name.split(\".\")[0] + \"_texts\" + \".json\"\n",
    "output_path = Path(\"./data/01-filtered/\") / output_name\n",
    "with open(output_path, \"w\") as fout:\n",
    "    json.dump(texts, fout, ensure_ascii=True)"
   ]
  },
  {
   "cell_type": "code",
   "execution_count": 21,
   "id": "18bb65c7",
   "metadata": {},
   "outputs": [],
   "source": [
    "output_name = input_path.name.split(\".\")[0] + \"_with_dates\" + \".json\"\n",
    "output_path = Path(\"./data/01-filtered/\") / output_name\n",
    "dataframe.to_json(output_path, orient=\"records\")"
   ]
  },
  {
   "cell_type": "code",
   "execution_count": null,
   "id": "0a80894c-ead0-4d45-bfba-1b8660748f34",
   "metadata": {},
   "outputs": [],
   "source": []
  }
 ],
 "metadata": {
  "kernelspec": {
   "display_name": "Noisemon",
   "language": "python",
   "name": "noisemon"
  },
  "language_info": {
   "codemirror_mode": {
    "name": "ipython",
    "version": 3
   },
   "file_extension": ".py",
   "mimetype": "text/x-python",
   "name": "python",
   "nbconvert_exporter": "python",
   "pygments_lexer": "ipython3",
   "version": "3.8.10"
  }
 },
 "nbformat": 4,
 "nbformat_minor": 5
}
