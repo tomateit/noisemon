{
 "cells": [
  {
   "cell_type": "markdown",
   "id": "b493f504",
   "metadata": {},
   "source": [
    "# Merging ents with tickers"
   ]
  },
  {
   "cell_type": "markdown",
   "id": "12d07fab",
   "metadata": {},
   "source": [
    "For the sake of autopopulating ORG entities into the app, I use the fact, that the news often contain some sort of a ticker. Those can help us merge recognized organization with its entity in knowledge base without\\with few human interference."
   ]
  },
  {
   "cell_type": "markdown",
   "id": "55d25a98",
   "metadata": {},
   "source": [
    "Ideally, this should happen in runtime, so I have to design the algorithm in a way to handle all possible cases"
   ]
  },
  {
   "cell_type": "markdown",
   "id": "6d18645f",
   "metadata": {},
   "source": []
  },
  {
   "cell_type": "code",
   "execution_count": 1,
   "id": "9eb0e90c",
   "metadata": {},
   "outputs": [
    {
     "name": "stdout",
     "output_type": "stream",
     "text": [
      "/home/codeholder/code/python-playground/app_noisemon\n"
     ]
    }
   ],
   "source": [
    "%cd .."
   ]
  },
  {
   "cell_type": "code",
   "execution_count": 2,
   "id": "7b87a438",
   "metadata": {},
   "outputs": [
    {
     "name": "stderr",
     "output_type": "stream",
     "text": [
      "/home/master/code/python-playground/app_noisemon/.venv/lib/python3.8/site-packages/torch/cuda/__init__.py:52: UserWarning: CUDA initialization: The NVIDIA driver on your system is too old (found version 6050). Please update your GPU driver by downloading and installing a new version from the URL: http://www.nvidia.com/Download/index.aspx Alternatively, go to: https://pytorch.org to install a PyTorch version that has been compiled with your version of the CUDA driver. (Triggered internally at  ../c10/cuda/CUDAFunctions.cpp:115.)\n",
      "  return torch._C._cuda_getDeviceCount() > 0\n"
     ]
    }
   ],
   "source": [
    "import json\n",
    "from pathlib import Path\n",
    "import spacy"
   ]
  },
  {
   "cell_type": "code",
   "execution_count": 3,
   "id": "f436ef71",
   "metadata": {},
   "outputs": [],
   "source": [
    "input_path = Path(\"./data/01-filtered/full-time_trading_export_with_ticker.json\")\n",
    "data = json.loads(input_path.read_text())"
   ]
  },
  {
   "cell_type": "code",
   "execution_count": 4,
   "id": "46f92b1c",
   "metadata": {},
   "outputs": [],
   "source": [
    "import regex"
   ]
  },
  {
   "cell_type": "code",
   "execution_count": 5,
   "id": "a181baf7",
   "metadata": {},
   "outputs": [],
   "source": [
    "nlp = spacy.load(\"ru_core_news_lg\")"
   ]
  },
  {
   "cell_type": "code",
   "execution_count": 6,
   "id": "1eca4890",
   "metadata": {},
   "outputs": [
    {
     "data": {
      "text/plain": [
       "'$DIS  потенциально может свалиться в бездну, смотрим будет ли прорыв, если будет то тренд вниз на длительное время'"
      ]
     },
     "execution_count": 6,
     "metadata": {},
     "output_type": "execute_result"
    }
   ],
   "source": [
    "data[0]"
   ]
  },
  {
   "cell_type": "code",
   "execution_count": 7,
   "id": "e0a74916",
   "metadata": {},
   "outputs": [],
   "source": [
    "# in the beggining I gonna use only this type of ticker as the least messy\n",
    "ticker_re = regex.compile(\"(?<=\\$)[A-Z]{1,5}\")"
   ]
  },
  {
   "cell_type": "code",
   "execution_count": 8,
   "id": "7e6fcb6c",
   "metadata": {},
   "outputs": [],
   "source": [
    "data = list(filter(lambda text: any(ticker_re.findall(text)), data))"
   ]
  },
  {
   "cell_type": "code",
   "execution_count": 9,
   "id": "db337ff1",
   "metadata": {},
   "outputs": [
    {
     "data": {
      "text/plain": [
       "44916"
      ]
     },
     "execution_count": 9,
     "metadata": {},
     "output_type": "execute_result"
    }
   ],
   "source": [
    "len(data)"
   ]
  },
  {
   "cell_type": "code",
   "execution_count": 10,
   "id": "c1b31730",
   "metadata": {},
   "outputs": [
    {
     "data": {
      "text/plain": [
       "'$WB   Отличная инвест идея подсказанная участником нашей группы! Отлично смотрится в Лонг (от 46.2) при хорошем отчёте о занятости американцев и твиттам Трампа не содержащих слов \"война\", \"война с Китаем\", \"главный враг Америки Xi\" По ТА и по индикатором цена хочет выйти из красной зоны как было с  $NFLX \\n\\nПотенциальное сопротивление 47 48 49, пробивая 51.40 летим вообще отлично в горизонте месяца'"
      ]
     },
     "execution_count": 10,
     "metadata": {},
     "output_type": "execute_result"
    }
   ],
   "source": [
    "data[2]"
   ]
  },
  {
   "cell_type": "code",
   "execution_count": 11,
   "id": "07a9c135",
   "metadata": {},
   "outputs": [],
   "source": [
    "from noisemon.data_processing.wikidata import Wikidata"
   ]
  },
  {
   "cell_type": "code",
   "execution_count": 13,
   "id": "0fdc4a90",
   "metadata": {},
   "outputs": [],
   "source": [
    "wikidata = Wikidata()"
   ]
  },
  {
   "cell_type": "code",
   "execution_count": 15,
   "id": "21a8b499",
   "metadata": {},
   "outputs": [
    {
     "data": {
      "text/plain": [
       "defaultdict(set,\n",
       "            {'Q1359568': {'ALIBABA GROUP',\n",
       "              'ALIBABA GROUP HOLDING',\n",
       "              'Alibaba',\n",
       "              'Alibaba Group',\n",
       "              'Alibaba Group (Cayman Islands)',\n",
       "              'Alibaba Group Holding Limited',\n",
       "              'Alibaba, Алибаба, Alibaba Group Holding Limited',\n",
       "              'Alibaba.com',\n",
       "              'Grupo Alibaba',\n",
       "              'Kumpulan Alibaba',\n",
       "              '阿里巴巴',\n",
       "              '阿里巴巴公司',\n",
       "              '阿里巴巴集团',\n",
       "              '阿里巴巴集团控股有限公司',\n",
       "              '阿里巴巴集団',\n",
       "              '阿里巴巴集団控股',\n",
       "              '阿里巴巴集團',\n",
       "              '阿里巴巴集團控股',\n",
       "              '阿里巴巴集團控股有限公司'}})"
      ]
     },
     "execution_count": 15,
     "metadata": {},
     "output_type": "execute_result"
    }
   ],
   "source": [
    "wikidata.lookup_aliases_by_ticker(\"BABA\")"
   ]
  },
  {
   "cell_type": "code",
   "execution_count": 27,
   "id": "7c4466eb",
   "metadata": {},
   "outputs": [],
   "source": [
    "def process(text):\n",
    "    doc = nlp(text)\n",
    "    entities = [entity.text for entity in doc.ents if entity.label_ ==\"ORG\"]\n",
    "    print(f\"Detected Entities: {entities}\")\n",
    "    if not entities:\n",
    "        return\n",
    "    \n",
    "    tickers = set(ticker_re.findall(text))\n",
    "    print(f\"Detected Tickers: {tickers}\")\n",
    "    # We do not know, which ticker belongs to which ORG at all,\n",
    "    # So it's reasonable to perform lookup through all aliases\n",
    "    possible_orgs = {} # QID : {set of aliases}\n",
    "    for ticker in tickers:\n",
    "        lookup_result = wikidata.lookup_aliases_by_ticker(ticker)\n",
    "        possible_orgs.update(lookup_result)\n",
    "    # this can erase some entities with overlapping aliases, but let it be so for now\n",
    "    reverse_index = {alias.lower(): qid for qid, alias_set in possible_orgs.items() for alias in alias_set}\n",
    "    \n",
    "    organizations_matched = []\n",
    "    organizations_mismatched = []\n",
    "    #TODO similarity calctulation\n",
    "    for organization in entities:\n",
    "        QID = reverse_index.get(organization.lower(), None)\n",
    "        if QID:\n",
    "            organizations_matched.append((organization, QID))\n",
    "        else:\n",
    "            organizations_mismatched.append(organization)\n",
    "            \n",
    "    print(f\"Matched: {organizations_matched}\")\n",
    "    print(f\"Mismatched: {organizations_mismatched}\")\n"
   ]
  },
  {
   "cell_type": "code",
   "execution_count": null,
   "id": "472b6e5e",
   "metadata": {},
   "outputs": [],
   "source": [
    "i=7"
   ]
  },
  {
   "cell_type": "code",
   "execution_count": 41,
   "id": "1c96cba8",
   "metadata": {},
   "outputs": [
    {
     "name": "stdout",
     "output_type": "stream",
     "text": [
      "⁠ 👍 ГИГАНТЫ ПЕРЕЕЗЖАЮТ —  APPLE, MICROSOFT, GOOGLE ДУМАЮТ О ПЕРЕНОСЕ СВОИХ ПРОИЗВОДСТВ ИЗ КИТАЯ \n",
      "В связи с торговой войной между США и Китаем в прошлом году и появлением нового коронавируса Apple  $AAPL  , Microsoft  $MSFT  и Google  $GOOG  решили вывести большие части своих производств.\n",
      "По слухам из достоверного источника Google собирается начать производство нового недорогого смартфона, который, по слухам, будет называться Pixel 4a, во Вьетнаме уже в апреле.\n",
      "Между тем, Microsoft надеется начать производство во Вьетнаме во втором квартале для своей линейки ноутбуков и настольных ПК Surface.\n",
      "В прошлом году Apple, по сообщениям, пыталась начать испытания производства своих AirPods во Вьетнаме и просила поставщиков изучить возможность перемещения от 15% до 30% производства из Китая в другие части Юго-Восточной Азии. ( CNBC )\n",
      "Detected Entities: ['MICROSOFT', 'GOOGLE ДУМАЮТ О', 'Apple', 'Microsoft', 'Google', 'Google', 'Microsoft', 'Apple']\n",
      "Detected Tickers: {'AAPL', 'MSFT', 'GOOG'}\n",
      "Matched: [('MICROSOFT', 'Q2283'), ('Apple', 'Q312'), ('Microsoft', 'Q2283'), ('Google', 'Q95'), ('Google', 'Q95'), ('Microsoft', 'Q2283'), ('Apple', 'Q312')]\n",
      "Mismatched: ['GOOGLE ДУМАЮТ О']\n"
     ]
    }
   ],
   "source": [
    "i += 1\n",
    "print(data[i])\n",
    "process(data[i])"
   ]
  },
  {
   "cell_type": "code",
   "execution_count": 24,
   "id": "9294a511",
   "metadata": {},
   "outputs": [
    {
     "data": {
      "text/plain": [
       "'https://youtu.be/m-wBa1RsUJ0 \\n\\n⚠️Добавьте себе в watch list  $TSLA \\nЦена болтается в симметричном треугольнике \\n\\nЕсли она вылетит из него она вылетит на высоту этого клина\\n\\nНа видео вылет показан наверх\\n⚠️ 💡В реальности он может быть в любую сторону. Как только цена пересекаются границу вырастет моментум и образуется длинная свеча прорыва. Это означает что паттерн сломан и направление задано\\n\\nВсе играют этот прорыв, когда видят что цена пересекает границу и несётся вниз или наверх без всяких \"или\"'"
      ]
     },
     "execution_count": 24,
     "metadata": {},
     "output_type": "execute_result"
    }
   ],
   "source": [
    "data[2]"
   ]
  },
  {
   "cell_type": "code",
   "execution_count": null,
   "id": "6ce17117",
   "metadata": {},
   "outputs": [],
   "source": []
  }
 ],
 "metadata": {
  "kernelspec": {
   "display_name": "noisemon",
   "language": "python",
   "name": "python3810_noisemon"
  },
  "language_info": {
   "codemirror_mode": {
    "name": "ipython",
    "version": 3
   },
   "file_extension": ".py",
   "mimetype": "text/x-python",
   "name": "python",
   "nbconvert_exporter": "python",
   "pygments_lexer": "ipython3",
   "version": "3.8.10"
  }
 },
 "nbformat": 4,
 "nbformat_minor": 5
}
