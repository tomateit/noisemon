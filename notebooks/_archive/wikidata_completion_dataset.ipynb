{
 "cells": [
  {
   "cell_type": "markdown",
   "id": "5102888a-53f0-4e45-b54f-f00227a19305",
   "metadata": {},
   "source": [
    "# Completion dataset"
   ]
  },
  {
   "cell_type": "markdown",
   "id": "6ce18731-a668-4a99-a1f0-a213d5658cb2",
   "metadata": {},
   "source": [
    "Task: given a context and a set of predicates, generate possible object values."
   ]
  },
  {
   "cell_type": "markdown",
   "id": "a38a375d-ff50-49dd-ad1d-f33132dffb1d",
   "metadata": {},
   "source": [
    "Getting list of popular predicates for organizations."
   ]
  },
  {
   "cell_type": "code",
   "execution_count": null,
   "id": "7292237f-62ef-48cf-bc31-03e5593c4920",
   "metadata": {},
   "outputs": [],
   "source": [
    "SELECT ?predicate ?predicateLabel ?predicateDescription (COUNT(?predicate) AS ?predicateCount)\n",
    "WHERE {\n",
    "  ?entity wdt:P31 wd:Q43229 ; # organization\n",
    "          wdt:P31 wd:Q4830453 ; # business\n",
    "          ?predicate ?object .\n",
    "  SERVICE wikibase:label { bd:serviceParam wikibase:language \"[AUTO_LANGUAGE],en\". }\n",
    "}\n",
    "GROUP BY ?predicate ?predicateLabel ?predicateDescription\n",
    "ORDER BY DESC(?predicateCount)\n",
    "LIMIT 30"
   ]
  }
 ],
 "metadata": {
  "kernelspec": {
   "display_name": "Noisemon",
   "language": "python",
   "name": "noisemon"
  },
  "language_info": {
   "codemirror_mode": {
    "name": "ipython",
    "version": 3
   },
   "file_extension": ".py",
   "mimetype": "text/x-python",
   "name": "python",
   "nbconvert_exporter": "python",
   "pygments_lexer": "ipython3",
   "version": "3.10.12"
  }
 },
 "nbformat": 4,
 "nbformat_minor": 5
}
