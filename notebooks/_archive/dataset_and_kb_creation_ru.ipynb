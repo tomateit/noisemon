{
 "cells": [
  {
   "cell_type": "markdown",
   "id": "0d42524e",
   "metadata": {},
   "source": [
    "# Create KB and dataset"
   ]
  },
  {
   "cell_type": "markdown",
   "id": "ec58693a",
   "metadata": {},
   "source": []
  },
  {
   "cell_type": "code",
   "execution_count": 2,
   "id": "cc26d396",
   "metadata": {},
   "outputs": [
    {
     "name": "stdout",
     "output_type": "stream",
     "text": [
      "/home/codeholder/code/python-playground/app_noisemon\n"
     ]
    }
   ],
   "source": [
    "%cd .."
   ]
  },
  {
   "cell_type": "markdown",
   "id": "6a7d6e23",
   "metadata": {},
   "source": [
    "# 1. Prelude"
   ]
  },
  {
   "cell_type": "code",
   "execution_count": 1,
   "id": "9cd22ddb",
   "metadata": {},
   "outputs": [
    {
     "name": "stderr",
     "output_type": "stream",
     "text": [
      "/home/master/code/python-playground/app_noisemon/.venv/lib/python3.8/site-packages/torch/cuda/__init__.py:52: UserWarning: CUDA initialization: The NVIDIA driver on your system is too old (found version 6050). Please update your GPU driver by downloading and installing a new version from the URL: http://www.nvidia.com/Download/index.aspx Alternatively, go to: https://pytorch.org to install a PyTorch version that has been compiled with your version of the CUDA driver. (Triggered internally at  ../c10/cuda/CUDAFunctions.cpp:115.)\n",
      "  return torch._C._cuda_getDeviceCount() > 0\n"
     ]
    }
   ],
   "source": [
    "import json\n",
    "import os\n",
    "from pathlib import Path\n",
    "from tqdm import tqdm\n",
    "from collections import defaultdict\n",
    "import numpy as np\n",
    "\n",
    "import spacy\n",
    "from spacy.kb import KnowledgeBase\n",
    "from spacy.tokens import Span, DocBin, Doc\n",
    "from spacy.vocab import Vocab\n",
    "from spacy.lang.ru import Russian\n",
    "from typing import List, Callable, Iterable, Iterator, Optional, Dict, Union\n",
    "from spacy.language import Language\n",
    "from spacy.pipeline.trainable_pipe import TrainablePipe\n",
    "from spacy.pipeline.pipe import deserialize_config\n",
    "from spacy.tokens import Doc\n",
    "from spacy.vocab import Vocab\n",
    "from spacy.training import Example, validate_examples, validate_get_examples\n",
    "from spacy import util, Errors\n",
    "from spacy.util import minibatch\n",
    "from thinc.api import Model, Config, set_dropout_rate, Optimizer\n",
    "# from thinc.layers import TransformerListener\n",
    "\n",
    "from wasabi import Printer\n",
    "msg = Printer()\n",
    "\n",
    "from scripts.convert_labelstudio_to_spacy import LabelStudioToSpacyConverter"
   ]
  },
  {
   "cell_type": "code",
   "execution_count": 3,
   "id": "30694721",
   "metadata": {},
   "outputs": [],
   "source": [
    "\n",
    "DEFAULT_CONFIG_TRF = \"\"\"\n",
    "\n",
    "[transformer]\n",
    "max_batch_items = 512\n",
    "\n",
    "[transformer.model]\n",
    "@architectures = \"spacy-transformers.TransformerModel.v1\"\n",
    "name = \"cointegrated/rubert-tiny\"\n",
    "\n",
    "[transformer.model.get_spans]\n",
    "@span_getters = \"spacy-transformers.strided_spans.v1\"\n",
    "window = 600\n",
    "stride = 128\n",
    "#@span_getters = \"spacy-transformers.sent_spans.v1\"\n",
    "\n",
    "[transformer.model.tokenizer_config]\n",
    "use_fast = true\n",
    "return_tensors='pt'\n",
    "\n",
    "\"\"\""
   ]
  },
  {
   "cell_type": "code",
   "execution_count": 4,
   "id": "00960af6",
   "metadata": {},
   "outputs": [],
   "source": [
    "DEFAULT_CONFIG = Config().from_str(DEFAULT_CONFIG_TRF)"
   ]
  },
  {
   "cell_type": "code",
   "execution_count": 5,
   "id": "daf3e5ce",
   "metadata": {},
   "outputs": [],
   "source": [
    "# nlp = Russian()\n",
    "# nlp.add_pipe(\"parser\", source=spacy.load(\"ru_core_news_sm\"))\n",
    "# trf = nlp.add_pipe(\"transformer\", config=DEFAULT_CONFIG[\"transformer\"])\n",
    "# trf.model.initialize()"
   ]
  },
  {
   "cell_type": "code",
   "execution_count": 6,
   "id": "eb307df6",
   "metadata": {},
   "outputs": [
    {
     "name": "stderr",
     "output_type": "stream",
     "text": [
      "Some weights of the model checkpoint at cointegrated/rubert-tiny were not used when initializing BertModel: ['cls.seq_relationship.bias', 'cls.predictions.decoder.weight', 'cls.predictions.transform.dense.bias', 'cls.predictions.transform.LayerNorm.bias', 'cls.predictions.bias', 'cls.predictions.transform.dense.weight', 'cls.predictions.decoder.bias', 'cls.predictions.transform.LayerNorm.weight', 'cls.seq_relationship.weight']\n",
      "- This IS expected if you are initializing BertModel from the checkpoint of a model trained on another task or with another architecture (e.g. initializing a BertForSequenceClassification model from a BertForPreTraining model).\n",
      "- This IS NOT expected if you are initializing BertModel from the checkpoint of a model that you expect to be exactly identical (initializing a BertForSequenceClassification model from a BertForSequenceClassification model).\n"
     ]
    },
    {
     "data": {
      "text/plain": [
       "<thinc.model.Model at 0x7f5db3af4a40>"
      ]
     },
     "execution_count": 6,
     "metadata": {},
     "output_type": "execute_result"
    }
   ],
   "source": [
    "nlp = spacy.load(\"ru_core_news_sm\", disable=[\"ner\", \"lemmatizer\"])\n",
    "trf = nlp.add_pipe(\"transformer\", config=DEFAULT_CONFIG[\"transformer\"])\n",
    "trf.model.initialize()"
   ]
  },
  {
   "cell_type": "code",
   "execution_count": 146,
   "id": "584355ba",
   "metadata": {},
   "outputs": [
    {
     "data": {
      "text/plain": [
       "[('tok2vec', <spacy.pipeline.tok2vec.Tok2Vec at 0x7f49e6e3eea0>),\n",
       " ('morphologizer',\n",
       "  <spacy.pipeline.morphologizer.Morphologizer at 0x7f4a08b0ab30>),\n",
       " ('parser', <spacy.pipeline.dep_parser.DependencyParser at 0x7f4a08b86dc0>),\n",
       " ('attribute_ruler',\n",
       "  <spacy.pipeline.attributeruler.AttributeRuler at 0x7f4a08cc3dc0>),\n",
       " ('transformer',\n",
       "  <spacy_transformers.pipeline_component.Transformer at 0x7f4a093e3d10>)]"
      ]
     },
     "execution_count": 146,
     "metadata": {},
     "output_type": "execute_result"
    }
   ],
   "source": [
    "nlp.pipeline"
   ]
  },
  {
   "cell_type": "code",
   "execution_count": 7,
   "id": "092f322c",
   "metadata": {},
   "outputs": [],
   "source": [
    "doc = nlp(\"Какой-то текст 1,2,3\")"
   ]
  },
  {
   "cell_type": "code",
   "execution_count": 148,
   "id": "688d028d",
   "metadata": {},
   "outputs": [
    {
     "data": {
      "text/plain": [
       "numpy.ndarray"
      ]
     },
     "execution_count": 148,
     "metadata": {},
     "output_type": "execute_result"
    }
   ],
   "source": [
    "type(doc._.trf_data.model_output.last_hidden_state)"
   ]
  },
  {
   "cell_type": "code",
   "execution_count": 8,
   "id": "8ae76fab",
   "metadata": {},
   "outputs": [
    {
     "ename": "AttributeError",
     "evalue": "'TransformerData' object has no attribute 'model_output'",
     "output_type": "error",
     "traceback": [
      "\u001b[0;31m---------------------------------------------------------------------------\u001b[0m",
      "\u001b[0;31mAttributeError\u001b[0m                            Traceback (most recent call last)",
      "\u001b[0;32m/tmp/ipykernel_92059/326230219.py\u001b[0m in \u001b[0;36m<module>\u001b[0;34m\u001b[0m\n\u001b[0;32m----> 1\u001b[0;31m \u001b[0memb\u001b[0m \u001b[0;34m=\u001b[0m \u001b[0mdoc\u001b[0m\u001b[0;34m.\u001b[0m\u001b[0m_\u001b[0m\u001b[0;34m.\u001b[0m\u001b[0mtrf_data\u001b[0m\u001b[0;34m.\u001b[0m\u001b[0mmodel_output\u001b[0m\u001b[0;34m.\u001b[0m\u001b[0mlast_hidden_state\u001b[0m\u001b[0;34m\u001b[0m\u001b[0;34m\u001b[0m\u001b[0m\n\u001b[0m\u001b[1;32m      2\u001b[0m \u001b[0memb\u001b[0m \u001b[0;34m=\u001b[0m \u001b[0memb\u001b[0m \u001b[0;34m/\u001b[0m \u001b[0mnp\u001b[0m\u001b[0;34m.\u001b[0m\u001b[0mlinalg\u001b[0m\u001b[0;34m.\u001b[0m\u001b[0mnorm\u001b[0m\u001b[0;34m(\u001b[0m\u001b[0memb\u001b[0m\u001b[0;34m)\u001b[0m\u001b[0;34m\u001b[0m\u001b[0;34m\u001b[0m\u001b[0m\n\u001b[1;32m      3\u001b[0m \u001b[0memb\u001b[0m \u001b[0;34m=\u001b[0m \u001b[0memb\u001b[0m\u001b[0;34m.\u001b[0m\u001b[0msqueeze\u001b[0m\u001b[0;34m(\u001b[0m\u001b[0;34m)\u001b[0m\u001b[0;34m\u001b[0m\u001b[0;34m\u001b[0m\u001b[0m\n\u001b[1;32m      4\u001b[0m \u001b[0memb\u001b[0m\u001b[0;34m.\u001b[0m\u001b[0mshape\u001b[0m\u001b[0;34m\u001b[0m\u001b[0;34m\u001b[0m\u001b[0m\n",
      "\u001b[0;31mAttributeError\u001b[0m: 'TransformerData' object has no attribute 'model_output'"
     ]
    }
   ],
   "source": [
    "emb = doc._.trf_data.model_output.last_hidden_state\n",
    "emb = emb / np.linalg.norm(emb)\n",
    "emb = emb.squeeze()\n",
    "emb.shape"
   ]
  },
  {
   "cell_type": "code",
   "execution_count": 9,
   "id": "0e8ef582",
   "metadata": {},
   "outputs": [
    {
     "ename": "NameError",
     "evalue": "name 'emb' is not defined",
     "output_type": "error",
     "traceback": [
      "\u001b[0;31m---------------------------------------------------------------------------\u001b[0m",
      "\u001b[0;31mNameError\u001b[0m                                 Traceback (most recent call last)",
      "\u001b[0;32m/tmp/ipykernel_92059/1787604932.py\u001b[0m in \u001b[0;36m<module>\u001b[0;34m\u001b[0m\n\u001b[0;32m----> 1\u001b[0;31m \u001b[0memb\u001b[0m\u001b[0;34m[\u001b[0m\u001b[0;34m[\u001b[0m\u001b[0;36m1\u001b[0m\u001b[0;34m,\u001b[0m\u001b[0;36m2\u001b[0m\u001b[0;34m,\u001b[0m\u001b[0;36m3\u001b[0m\u001b[0;34m]\u001b[0m\u001b[0;34m]\u001b[0m\u001b[0;34m.\u001b[0m\u001b[0mshape\u001b[0m\u001b[0;34m\u001b[0m\u001b[0;34m\u001b[0m\u001b[0m\n\u001b[0m",
      "\u001b[0;31mNameError\u001b[0m: name 'emb' is not defined"
     ]
    }
   ],
   "source": [
    "emb[[1,2,3]].shape"
   ]
  },
  {
   "cell_type": "code",
   "execution_count": 151,
   "id": "e6733867",
   "metadata": {},
   "outputs": [
    {
     "data": {
      "text/plain": [
       "(312,)"
      ]
     },
     "execution_count": 151,
     "metadata": {},
     "output_type": "execute_result"
    }
   ],
   "source": [
    "emb = np.mean(emb, axis=0)\n",
    "emb.shape"
   ]
  },
  {
   "cell_type": "code",
   "execution_count": 152,
   "id": "36928414",
   "metadata": {},
   "outputs": [],
   "source": [
    "\n",
    "nlp_model_vector_size = 312\n",
    "kb = KnowledgeBase(vocab=nlp.vocab, entity_vector_length=nlp_model_vector_size)\n",
    "\n",
    "\n",
    "converter = LabelStudioToSpacyConverter(nlp=nlp)\n",
    "converter.ls_label_map = {\n",
    "    \"ORG\": \"ORG\"\n",
    "}"
   ]
  },
  {
   "cell_type": "code",
   "execution_count": 153,
   "id": "122c50b5",
   "metadata": {},
   "outputs": [
    {
     "data": {
      "text/plain": [
       "['[CLS]', 'Како', '##й', '-', 'то', 'текст', '1', ',', '2', ',', '3', '[SEP]']"
      ]
     },
     "execution_count": 153,
     "metadata": {},
     "output_type": "execute_result"
    }
   ],
   "source": [
    "doc._.trf_data.wordpieces.strings[0]"
   ]
  },
  {
   "cell_type": "code",
   "execution_count": 154,
   "id": "eb5b2f33",
   "metadata": {},
   "outputs": [
    {
     "name": "stdout",
     "output_type": "stream",
     "text": [
      "['[CLS]', 'Како', '##й', '-', 'то', 'текст', '1', ',', '2', ',', '3', '[SEP]']\n",
      "['Какой', '-', 'то', 'текст', '1,2,3']\n",
      "[[1, 2], [3], [4], [5], [6, 7, 8, 9, 10]]\n",
      "[[], [0], [0], [1], [2], [3], [4], [4], [4], [4], [4], []]\n"
     ]
    }
   ],
   "source": [
    "import spacy_alignments as tokenizations\n",
    "print(doc._.trf_data.wordpieces.strings[0])\n",
    "print([str(token) for token in doc])\n",
    "a2b, b2a = tokenizations.get_alignments([str(token) for token in doc], doc._.trf_data.wordpieces.strings[0])\n",
    "print(a2b)\n",
    "print(b2a)"
   ]
  },
  {
   "cell_type": "code",
   "execution_count": 12,
   "id": "9b01a426",
   "metadata": {},
   "outputs": [],
   "source": [
    "doc.ents = [doc.char_span(0, 5, label=\"ORG\",)]\n"
   ]
  },
  {
   "cell_type": "code",
   "execution_count": 13,
   "id": "9048a176",
   "metadata": {},
   "outputs": [
    {
     "data": {
      "text/plain": [
       "Какой-то текст 1,2,3"
      ]
     },
     "execution_count": 13,
     "metadata": {},
     "output_type": "execute_result"
    }
   ],
   "source": [
    "doc"
   ]
  },
  {
   "cell_type": "code",
   "execution_count": 23,
   "id": "a3226df8",
   "metadata": {},
   "outputs": [],
   "source": [
    "doc.ents[0].kb_id_ = \"Q36734\""
   ]
  },
  {
   "cell_type": "code",
   "execution_count": 24,
   "id": "35c9c634",
   "metadata": {},
   "outputs": [
    {
     "data": {
      "text/plain": [
       "''"
      ]
     },
     "execution_count": 24,
     "metadata": {},
     "output_type": "execute_result"
    }
   ],
   "source": [
    "doc.ents[0].kb_id_"
   ]
  },
  {
   "cell_type": "code",
   "execution_count": 29,
   "id": "7614a13d",
   "metadata": {},
   "outputs": [
    {
     "data": {
      "text/plain": [
       "'2021-10-23T18:43:50.025091'"
      ]
     },
     "execution_count": 29,
     "metadata": {},
     "output_type": "execute_result"
    }
   ],
   "source": [
    "from datetime import datetime\n",
    "datetime.now().isoformat()"
   ]
  },
  {
   "cell_type": "markdown",
   "id": "1d8b16f0",
   "metadata": {},
   "source": [
    "# 2. Data import"
   ]
  },
  {
   "cell_type": "code",
   "execution_count": 156,
   "id": "1df8b876",
   "metadata": {},
   "outputs": [],
   "source": [
    "input_path = Path(\"./data/05-labeled\")\n",
    "output_folder = Path(\"./corpus/\")\n",
    "kb_path = Path(\"./corpus/noisemon_kb\")"
   ]
  },
  {
   "cell_type": "code",
   "execution_count": 157,
   "id": "39fb4d2c",
   "metadata": {},
   "outputs": [],
   "source": [
    "files = list(input_path.glob(\"*.json\"))\n",
    "if files:\n",
    "    input_path = max(files, key=os.path.getctime)\n",
    "else:\n",
    "    msg.fail(f\"Directory {input_path} is empty\")"
   ]
  },
  {
   "cell_type": "code",
   "execution_count": 158,
   "id": "a8620ff7",
   "metadata": {},
   "outputs": [],
   "source": [
    "data = json.loads(input_path.read_text())"
   ]
  },
  {
   "cell_type": "code",
   "execution_count": 159,
   "id": "784aa579",
   "metadata": {},
   "outputs": [
    {
     "data": {
      "text/plain": [
       "{'id': 334577,\n",
       " 'annotations': [{'id': 27,\n",
       "   'completed_by': {'id': 1,\n",
       "    'email': 'maksim_ermakov@protonmail.com',\n",
       "    'first_name': '',\n",
       "    'last_name': ''},\n",
       "   'result': [{'value': {'start': 36,\n",
       "      'end': 41,\n",
       "      'text': 'Русал',\n",
       "      'labels': ['ORG']},\n",
       "     'id': '91483591258789',\n",
       "     'from_name': 'ner',\n",
       "     'to_name': 'text',\n",
       "     'type': 'labels'},\n",
       "    {'value': {'start': 36, 'end': 41, 'text': ['Q1642605']},\n",
       "     'id': '91483591258789',\n",
       "     'from_name': 'entity',\n",
       "     'to_name': 'text',\n",
       "     'type': 'textarea'},\n",
       "    {'value': {'start': 522,\n",
       "      'end': 553,\n",
       "      'text': 'Лондонской бирже металлов (LME)',\n",
       "      'labels': ['ORG']},\n",
       "     'id': '26347872065953',\n",
       "     'from_name': 'ner',\n",
       "     'to_name': 'text',\n",
       "     'type': 'labels'},\n",
       "    {'value': {'start': 522, 'end': 553, 'text': ['Q952937']},\n",
       "     'id': '26347872065953',\n",
       "     'from_name': 'entity',\n",
       "     'to_name': 'text',\n",
       "     'type': 'textarea'}],\n",
       "   'was_cancelled': False,\n",
       "   'ground_truth': False,\n",
       "   'created_at': '2021-09-03T18:25:32.302574Z',\n",
       "   'updated_at': '2021-10-02T22:43:16.507723Z',\n",
       "   'lead_time': 29.852,\n",
       "   'prediction': {'id': 206235,\n",
       "    'model_version': 'undefined',\n",
       "    'created_ago': '55\\xa0minutes',\n",
       "    'result': [{'value': {'start': 0,\n",
       "       'end': 4,\n",
       "       'text': 'RUAL',\n",
       "       'labels': ['ORG']},\n",
       "      'id': '93478108914436',\n",
       "      'from_name': 'ner',\n",
       "      'to_name': 'text',\n",
       "      'type': 'labels'},\n",
       "     {'value': {'start': 36, 'end': 41, 'text': 'Русал', 'labels': ['ORG']},\n",
       "      'id': '91483591258789',\n",
       "      'from_name': 'ner',\n",
       "      'to_name': 'text',\n",
       "      'type': 'labels'},\n",
       "     {'value': {'start': 36, 'end': 41, 'text': ['Q1642605']},\n",
       "      'id': '91483591258789',\n",
       "      'from_name': 'entity',\n",
       "      'to_name': 'text',\n",
       "      'type': 'textarea'},\n",
       "     {'value': {'start': 522,\n",
       "       'end': 553,\n",
       "       'text': 'Лондонской бирже металлов (LME)',\n",
       "       'labels': ['ORG']},\n",
       "      'id': '26347872065953',\n",
       "      'from_name': 'ner',\n",
       "      'to_name': 'text',\n",
       "      'type': 'labels'}],\n",
       "    'score': None,\n",
       "    'cluster': None,\n",
       "    'neighbors': None,\n",
       "    'mislabeling': 0.0,\n",
       "    'created_at': '2021-09-03T17:30:17.257717Z',\n",
       "    'updated_at': '2021-09-03T17:30:17.257734Z',\n",
       "    'task': 334577},\n",
       "   'result_count': 0,\n",
       "   'task': 334577}],\n",
       " 'predictions': [{'id': 206235,\n",
       "   'model_version': 'undefined',\n",
       "   'created_ago': '4\\xa0weeks, 1\\xa0day',\n",
       "   'result': [{'value': {'start': 0,\n",
       "      'end': 4,\n",
       "      'text': 'RUAL',\n",
       "      'labels': ['ORG']},\n",
       "     'id': '93478108914436',\n",
       "     'from_name': 'ner',\n",
       "     'to_name': 'text',\n",
       "     'type': 'labels'},\n",
       "    {'value': {'start': 36, 'end': 41, 'text': 'Русал', 'labels': ['ORG']},\n",
       "     'id': '91483591258789',\n",
       "     'from_name': 'ner',\n",
       "     'to_name': 'text',\n",
       "     'type': 'labels'},\n",
       "    {'value': {'start': 36, 'end': 41, 'text': ['Q1642605']},\n",
       "     'id': '91483591258789',\n",
       "     'from_name': 'entity',\n",
       "     'to_name': 'text',\n",
       "     'type': 'textarea'},\n",
       "    {'value': {'start': 522,\n",
       "      'end': 553,\n",
       "      'text': 'Лондонской бирже металлов (LME)',\n",
       "      'labels': ['ORG']},\n",
       "     'id': '26347872065953',\n",
       "     'from_name': 'ner',\n",
       "     'to_name': 'text',\n",
       "     'type': 'labels'}],\n",
       "   'score': None,\n",
       "   'cluster': None,\n",
       "   'neighbors': None,\n",
       "   'mislabeling': 0.0,\n",
       "   'created_at': '2021-09-03T17:30:17.257717Z',\n",
       "   'updated_at': '2021-09-03T17:30:17.257734Z',\n",
       "   'task': 334577}],\n",
       " 'file_upload': 'data_for_labelstudio_FJgVsou.json',\n",
       " 'data': {'text': 'RUAL отчет\\nЧистая прибыль компании «Русал» за январь—сентябрь 2017 года по \\u200bпо международным стандартам финансовой отчетности (МСФО) \\u200bсоставила \\u200b$782 млн, превысив на \\u200b46,4% аналогичный показатель прошлого года. Об этом говорится в отчете о финансовых результатах, опубликованном на сайте компании.\\nПри этом выручка компании за третий квартал увеличилась на 19,4% и составила $2,46 млрд, а за девять месяцев текущего года — на 21,3%, до $7,224 млрд.\\nРосту финансовых показателей способствовало увеличение цены алюминия на Лондонской бирже металлов (LME), говорится в отчете.',\n",
       "  'sidenote': 'Русал http://www.wikidata.org/entity/Q1642605'},\n",
       " 'meta': {},\n",
       " 'created_at': '2021-09-03T17:30:12.927544Z',\n",
       " 'updated_at': '2021-10-02T22:43:16.473426Z',\n",
       " 'project': 10}"
      ]
     },
     "execution_count": 159,
     "metadata": {},
     "output_type": "execute_result"
    }
   ],
   "source": [
    "data[0]"
   ]
  },
  {
   "cell_type": "markdown",
   "id": "db55eda1",
   "metadata": {},
   "source": [
    "# 3. Processing"
   ]
  },
  {
   "cell_type": "code",
   "execution_count": 160,
   "id": "bef638de",
   "metadata": {},
   "outputs": [
    {
     "data": {
      "text/plain": [
       "array([1.5 , 2.  , 3.25])"
      ]
     },
     "execution_count": 160,
     "metadata": {},
     "output_type": "execute_result"
    }
   ],
   "source": [
    "np.mean([np.mean([[1,2,3], [1,2,4]], axis=0).tolist(), [2,2,3]], axis=0)"
   ]
  },
  {
   "cell_type": "code",
   "execution_count": 161,
   "id": "183ef830",
   "metadata": {},
   "outputs": [
    {
     "data": {
      "text/plain": [
       "array([1.33333333, 2.        , 3.33333333])"
      ]
     },
     "execution_count": 161,
     "metadata": {},
     "output_type": "execute_result"
    }
   ],
   "source": [
    "np.mean([[1,2,3], [1,2,4], [2,2,3]], axis=0)"
   ]
  },
  {
   "cell_type": "code",
   "execution_count": 162,
   "id": "1bb27494",
   "metadata": {},
   "outputs": [],
   "source": [
    "qid_to_vector_list = defaultdict(list)"
   ]
  },
  {
   "cell_type": "code",
   "execution_count": 163,
   "id": "3beda206",
   "metadata": {},
   "outputs": [],
   "source": [
    "qid_to_alias = defaultdict(set)"
   ]
  },
  {
   "cell_type": "code",
   "execution_count": 164,
   "id": "f3becd16",
   "metadata": {},
   "outputs": [
    {
     "name": "stderr",
     "output_type": "stream",
     "text": [
      "  0%|                                                                                     | 0/79 [00:00<?, ?it/s]Token indices sequence length is longer than the specified maximum sequence length for this model (584 > 512). Running this sequence through the model will result in indexing errors\n",
      "100%|████████████████████████████████████████████████████████████████████████████| 79/79 [00:01<00:00, 57.20it/s]\n"
     ]
    }
   ],
   "source": [
    "output = []\n",
    "for labelstudio in tqdm(data[::-1]):\n",
    "    id_to_qid_name_pair = defaultdict(dict)\n",
    "    doc = converter.create_spacy_doc(labelstudio)\n",
    "    \n",
    "    emb = doc._.trf_data.model_output.last_hidden_state\n",
    "    emb = emb / np.linalg.norm(emb)\n",
    "    emb = emb.squeeze()\n",
    "    \n",
    "    entities = []\n",
    "\n",
    "    # 1. Matching named entities with QIDs\n",
    "    for chunk in labelstudio[\"annotations\"][0][\"result\"]:\n",
    "        if chunk[\"from_name\"] == \"ner\":\n",
    "            id_to_qid_name_pair[chunk[\"id\"]][\"text\"] = chunk[\"value\"][\"text\"]\n",
    "        if chunk[\"from_name\"] == \"entity\":\n",
    "            id_to_qid_name_pair[chunk[\"id\"]][\"qid\"] = chunk[\"value\"][\"text\"][0]\n",
    "            \n",
    "    # 2. Create ents and assign kb_id to ents\n",
    "    doc_alignment, _ = tokenizations.get_alignments([str(token) for token in doc], doc._.trf_data.wordpieces.strings[0])\n",
    "    for chunk in labelstudio[\"annotations\"][0][\"result\"]:\n",
    "        if chunk[\"from_name\"] == \"ner\":\n",
    "            # 1. Try to create an entity\n",
    "            QID = id_to_qid_name_pair[chunk[\"id\"]].get(\"qid\", None)\n",
    "            if not QID:\n",
    "                print(f\"{id_to_qid_name_pair[chunk['id']]['text']} has no matching QID\")\n",
    "            try:\n",
    "                entity = doc.char_span(\n",
    "                    chunk[\"value\"][\"start\"], \n",
    "                    chunk[\"value\"][\"end\"], \n",
    "                    label=chunk[\"value\"][\"labels\"][0],\n",
    "                    kb_id=QID\n",
    "                )\n",
    "                assert entity != None, \"Entity failed to be created. Probably misaligned markup\"\n",
    "                \n",
    "                entities.append(entity)\n",
    "            except:\n",
    "                msg.fail(\"REsult:\", chunk)\n",
    "                msg.fail(\"Doc:\", doc)\n",
    "                msg.fail(\"----------\")\n",
    "                continue\n",
    "            # 2. Get entity vector\n",
    "            ent_idxs = [idx for list_of_indices in doc_alignment[entity.start: entity.end] for idx in list_of_indices]\n",
    "#             print(entity.start, entity.end, ent_idxs, doc_alignment)\n",
    "            entity_vector = np.mean(emb[ent_idxs], axis=0)\n",
    "            qid_to_vector_list[QID].append(entity_vector)\n",
    "            qid_to_alias[QID].add(entity.text)\n",
    "\n",
    "    doc.ents = entities\n",
    "    output.append(doc)"
   ]
  },
  {
   "cell_type": "code",
   "execution_count": 165,
   "id": "c6b5c346",
   "metadata": {},
   "outputs": [
    {
     "data": {
      "text/plain": [
       "183"
      ]
     },
     "execution_count": 165,
     "metadata": {},
     "output_type": "execute_result"
    }
   ],
   "source": [
    "len(doc._.trf_data.wordpieces.strings[0])"
   ]
  },
  {
   "cell_type": "code",
   "execution_count": 166,
   "id": "a100839c",
   "metadata": {},
   "outputs": [
    {
     "data": {
      "text/plain": [
       "(183, 312)"
      ]
     },
     "execution_count": 166,
     "metadata": {},
     "output_type": "execute_result"
    }
   ],
   "source": [
    "emb.shape"
   ]
  },
  {
   "cell_type": "code",
   "execution_count": 167,
   "id": "2c93fa7e",
   "metadata": {},
   "outputs": [
    {
     "data": {
      "text/plain": [
       "[RUAL отчет\n",
       " Чистая прибыль компании «Русал» за январь—сентябрь 2017 года по ​по международным стандартам финансовой отчетности (МСФО) ​составила ​$782 млн, превысив на ​46,4% аналогичный показатель прошлого года.,\n",
       " Об этом говорится в отчете о финансовых результатах, опубликованном на сайте компании.,\n",
       " \n",
       " При этом выручка компании за третий квартал увеличилась на 19,4% и составила $2,46 млрд, а за девять месяцев текущего года — на 21,3%, до $7,224 млрд.,\n",
       " \n",
       " Росту финансовых показателей способствовало увеличение цены алюминия на Лондонской бирже металлов (LME), говорится в отчете.]"
      ]
     },
     "execution_count": 167,
     "metadata": {},
     "output_type": "execute_result"
    }
   ],
   "source": [
    "list(doc.sents)"
   ]
  },
  {
   "cell_type": "code",
   "execution_count": 168,
   "id": "eff87af1",
   "metadata": {},
   "outputs": [
    {
     "data": {
      "text/plain": [
       "spacy.tokens.span.Span"
      ]
     },
     "execution_count": 168,
     "metadata": {},
     "output_type": "execute_result"
    }
   ],
   "source": [
    "type(entity)"
   ]
  },
  {
   "cell_type": "code",
   "execution_count": 169,
   "id": "981815d0",
   "metadata": {},
   "outputs": [
    {
     "data": {
      "text/plain": [
       "spacy.tokens.span.Span"
      ]
     },
     "execution_count": 169,
     "metadata": {},
     "output_type": "execute_result"
    }
   ],
   "source": [
    "type(s)"
   ]
  },
  {
   "cell_type": "code",
   "execution_count": 170,
   "id": "a2790be7",
   "metadata": {},
   "outputs": [
    {
     "name": "stdout",
     "output_type": "stream",
     "text": [
      "False\n",
      "False\n",
      "False\n",
      "True\n"
     ]
    }
   ],
   "source": [
    "for s in doc.sents:\n",
    "    print(entity in s.ents)"
   ]
  },
  {
   "cell_type": "code",
   "execution_count": 171,
   "id": "e43dc29f",
   "metadata": {},
   "outputs": [
    {
     "data": {
      "text/plain": [
       "1"
      ]
     },
     "execution_count": 171,
     "metadata": {},
     "output_type": "execute_result"
    }
   ],
   "source": [
    "len(doc._.trf_data.wordpieces.strings)"
   ]
  },
  {
   "cell_type": "code",
   "execution_count": 172,
   "id": "0cec8351",
   "metadata": {},
   "outputs": [
    {
     "data": {
      "text/plain": [
       "94"
      ]
     },
     "execution_count": 172,
     "metadata": {},
     "output_type": "execute_result"
    }
   ],
   "source": [
    "entity.start"
   ]
  },
  {
   "cell_type": "code",
   "execution_count": 173,
   "id": "fb4e3bf7",
   "metadata": {},
   "outputs": [
    {
     "data": {
      "text/plain": [
       "[[164, 165], [166, 167], [168, 169], [170], [171, 172], [173]]"
      ]
     },
     "execution_count": 173,
     "metadata": {},
     "output_type": "execute_result"
    }
   ],
   "source": [
    "doc_alignment[entity.start:entity.end]"
   ]
  },
  {
   "cell_type": "code",
   "execution_count": null,
   "id": "849d076d",
   "metadata": {},
   "outputs": [],
   "source": []
  },
  {
   "cell_type": "code",
   "execution_count": 174,
   "id": "22ed6762",
   "metadata": {},
   "outputs": [
    {
     "data": {
      "text/plain": [
       "(183, 312)"
      ]
     },
     "execution_count": 174,
     "metadata": {},
     "output_type": "execute_result"
    }
   ],
   "source": [
    "emb.shape"
   ]
  },
  {
   "cell_type": "code",
   "execution_count": null,
   "id": "3bf446f3",
   "metadata": {},
   "outputs": [],
   "source": []
  },
  {
   "cell_type": "code",
   "execution_count": null,
   "id": "a15cb999",
   "metadata": {},
   "outputs": [],
   "source": []
  },
  {
   "cell_type": "code",
   "execution_count": 176,
   "id": "a0753a0e",
   "metadata": {},
   "outputs": [],
   "source": [
    "# populating KB with vectors\n",
    "for QID, vectors in qid_to_vector_list.items():\n",
    "    kb.add_entity(entity=QID, entity_vector=np.mean(vectors, axis=0), freq=265)"
   ]
  },
  {
   "cell_type": "code",
   "execution_count": 177,
   "id": "c459fcf9",
   "metadata": {},
   "outputs": [],
   "source": [
    "# Populating aliases   \n",
    "for QID, aliases in qid_to_alias.items():\n",
    "    for alias in aliases:\n",
    "        kb.add_alias(alias=alias, entities=[QID], probabilities=[1])"
   ]
  },
  {
   "cell_type": "markdown",
   "id": "36cacaeb",
   "metadata": {},
   "source": [
    "### At this point we have populated knowledge base `kb`, list of docs with ner and nel markup `output`"
   ]
  },
  {
   "cell_type": "code",
   "execution_count": 178,
   "id": "ea5681ea",
   "metadata": {
    "scrolled": true
   },
   "outputs": [
    {
     "data": {
      "text/plain": [
       "'Q1023876'"
      ]
     },
     "execution_count": 178,
     "metadata": {},
     "output_type": "execute_result"
    }
   ],
   "source": [
    "kb.get_alias_candidates(\"CME Group\")[0].entity_"
   ]
  },
  {
   "cell_type": "code",
   "execution_count": 179,
   "id": "a351b2f8",
   "metadata": {},
   "outputs": [
    {
     "data": {
      "text/plain": [
       "'Q205012'"
      ]
     },
     "execution_count": 179,
     "metadata": {},
     "output_type": "execute_result"
    }
   ],
   "source": [
    "output[57].ents[0].kb_id_"
   ]
  },
  {
   "cell_type": "code",
   "execution_count": 180,
   "id": "896b9aa5",
   "metadata": {},
   "outputs": [
    {
     "name": "stdout",
     "output_type": "stream",
     "text": [
      "Entities in the KB: ['Q4218402', 'Q660770', 'Q1141123', 'Q30893504', 'Q193199', 'Q58707', 'Q4161561', 'Q3063197', 'Q4044421', 'Q2369311', 'Q487907', 'Q2632892', 'Q1915579', 'Q1720713', 'Q223799', 'Q1071853', 'Q2380266', 'Q1477012', 'Q841458', 'Q108398998', 'Q1840188', 'Q251546', 'Q1023876', 'Q4047736', 'Q4304175', 'Q108397344', 'Q768773', 'Q171240', 'Q182477', 'Q940518', 'Q2624680', 'Q102673', 'Q173395', 'Q483551', 'Q329347', 'Q294508', 'Q379271', 'Q1368919', 'Q1809133', 'Q1284261', 'Q4059809', 'Q4258608', 'Q1549389', 'Q1461799', 'Q108397243', 'Q1616858', 'Q2304119', 'Q638448', 'Q7907607', 'Q2035424', 'Q2005769', 'Q4038038', 'Q4244736', 'Q1355823', 'Q3656098', 'Q1642605', 'Q108352452', 'Q4513187', 'Q1967957', 'Q4389244', 'Q871308', 'Q1963801', 'Q952937', 'Q130879', 'Q108396966', 'Q727452', 'Q108398486', 'Q2309', 'Q4499024', 'Q4327204', 'Q131723', 'Q1884500', 'Q2116312', 'Q205012', 'Q567050', 'Q4102033', 'Q1781702', 'Q386414', 'Q4400200']\n",
      "Aliases in the KB: ['РусГидро', 'UBS', 'ПАО \"Трубная металлургическая компания\"', 'Русал', 'ФСК ЕЭС', 'Транснефть', 'Черкизово', 'ВТБ 24', 'ОТКРЫТИЕМ', 'ТГК-1', 'Магнит', 'АЭРОФЛОТ', 'Новатэка', 'Ведомости', 'Bank of America', 'ИНТЕРФАКС', 'Алросы', 'Reuters', 'Ростех', 'ММК\\n', 'Северстали', 'POLYMETAL', 'ПАО \"ТГК-14\"', 'Полюса', 'МКБ\\n', 'Татнефти', 'Сбербанк', 'Россети', 'ГАЗПРОМ НЕФТИ', 'Московской биржи', 'ООО «Стрим Диджитал»', 'Газпромом', 'РОССИЯ', 'РуссНефти', 'АФК', 'Автоваз', 'ЧЕРКИЗОВО', 'Ростелеком', 'МТС', 'Интерфаксу', 'Cisco Systems', 'СБЕР', 'ВТБ\\n', 'Сафмар', 'РОССТАТА', 'РОСНЕФТЬ', 'Сбербанка', 'ММК', 'Татнефть', 'En+ Group', 'Аэрофлоте', 'ICE Futures Europe', 'ВТБ капитала', 'Лондонской бирже', 'Дикси', 'МАГНИТ', 'Роснефть', 'Polymetal', 'Акрон', 'СБЕРБАНКА', 'Сбербанку', 'QIWI', 'РЖД', 'LSE', 'Транснефти', 'Норильского никеля', 'Райффайзенбанк', 'Мечела', 'АО «Тандер»', 'MSCI', 'Ростелекома', 'ТАСС', 'ВТБ КАПИТАЛ', 'ИНТЕР РАО', 'ОАО \"Российские железные дороги\"', 'Prosperity Capital Management', 'CME Group', 'Лондонской фондовой бирже', 'Мобитела', 'Wal-Mart', 'Газпрома', 'Роснефти', 'АФК «Система»', 'CBOE', 'PEMEX', 'Московская биржа', 'ООО \"Мобител\"', 'Sistema Finance S.A.', 'Лента', 'ФосАгро', 'NVidia', 'Газпром', 'Лондонской бирже металлов (LME)', 'ВТБ-Капитал', 'МАГНИТА', 'Открытие Капитал', 'ЛУКОЙЛ', 'FTSE', 'ВТБ', 'ПАО \"Россети\"', 'ЛУКОЙЛа', 'РУСАЛа', 'Алроса', 'ВТБ Капитала', 'Мосбиржа', 'ТМК', 'биткоин', 'Интерфаксом', 'Wintershall', 'Атон', 'МегаФона', 'Русагро', 'Акрона', 'ПАО «Магнит»', 'Интер РАО', 'Магнита', 'РусАл', 'АФК \"Система\"', 'АЛРОСА', 'Qiwi', 'Полюсу', 'Квадра', 'КТК', 'Роснефтью', 'Газпром нефти']\n"
     ]
    }
   ],
   "source": [
    "print(f\"Entities in the KB: {kb.get_entity_strings()}\")\n",
    "print(f\"Aliases in the KB: {kb.get_alias_strings()}\")"
   ]
  },
  {
   "cell_type": "code",
   "execution_count": 181,
   "id": "76292796",
   "metadata": {},
   "outputs": [],
   "source": [
    "kb.to_disk(kb_path)\n",
    "\n",
    "# nlp.to_disk(nlp_dir)"
   ]
  },
  {
   "cell_type": "code",
   "execution_count": 182,
   "id": "bf31431c",
   "metadata": {},
   "outputs": [],
   "source": [
    "train_docs = DocBin(store_user_data=True)\n",
    "dev_docs = DocBin(store_user_data=True)\n",
    "test_docs = DocBin(store_user_data=True)\n"
   ]
  },
  {
   "cell_type": "code",
   "execution_count": 183,
   "id": "0acbbd90",
   "metadata": {},
   "outputs": [],
   "source": [
    "for i, doc in enumerate(output):\n",
    "    if i % 10 in (1,3,5):\n",
    "        dev_docs.add(doc)\n",
    "    if i % 10 in (4,):\n",
    "        test_docs.add(doc)\n",
    "    else:\n",
    "        train_docs.add(doc)"
   ]
  },
  {
   "cell_type": "code",
   "execution_count": 184,
   "id": "7b8839ac",
   "metadata": {},
   "outputs": [],
   "source": [
    "train_docs.to_disk(output_folder / \"train.spacy\")\n",
    "test_docs.to_disk(output_folder / \"test.spacy\")\n",
    "dev_docs.to_disk(output_folder / \"dev.spacy\")"
   ]
  },
  {
   "cell_type": "code",
   "execution_count": 20,
   "id": "5e950fc1",
   "metadata": {},
   "outputs": [
    {
     "data": {
      "text/plain": [
       "['__add__',\n",
       " '__class__',\n",
       " '__delattr__',\n",
       " '__dir__',\n",
       " '__doc__',\n",
       " '__eq__',\n",
       " '__format__',\n",
       " '__ge__',\n",
       " '__getattribute__',\n",
       " '__gt__',\n",
       " '__hash__',\n",
       " '__init__',\n",
       " '__init_subclass__',\n",
       " '__le__',\n",
       " '__lt__',\n",
       " '__ne__',\n",
       " '__new__',\n",
       " '__radd__',\n",
       " '__reduce__',\n",
       " '__reduce_ex__',\n",
       " '__repr__',\n",
       " '__rsub__',\n",
       " '__setattr__',\n",
       " '__sizeof__',\n",
       " '__str__',\n",
       " '__sub__',\n",
       " '__subclasshook__',\n",
       " 'astimezone',\n",
       " 'combine',\n",
       " 'ctime',\n",
       " 'date',\n",
       " 'day',\n",
       " 'dst',\n",
       " 'fold',\n",
       " 'fromisocalendar',\n",
       " 'fromisoformat',\n",
       " 'fromordinal',\n",
       " 'fromtimestamp',\n",
       " 'hour',\n",
       " 'isocalendar',\n",
       " 'isoformat',\n",
       " 'isoweekday',\n",
       " 'max',\n",
       " 'microsecond',\n",
       " 'min',\n",
       " 'minute',\n",
       " 'month',\n",
       " 'now',\n",
       " 'replace',\n",
       " 'resolution',\n",
       " 'second',\n",
       " 'strftime',\n",
       " 'strptime',\n",
       " 'time',\n",
       " 'timestamp',\n",
       " 'timetuple',\n",
       " 'timetz',\n",
       " 'today',\n",
       " 'toordinal',\n",
       " 'tzinfo',\n",
       " 'tzname',\n",
       " 'utcfromtimestamp',\n",
       " 'utcnow',\n",
       " 'utcoffset',\n",
       " 'utctimetuple',\n",
       " 'weekday',\n",
       " 'year']"
      ]
     },
     "execution_count": 20,
     "metadata": {},
     "output_type": "execute_result"
    }
   ],
   "source": [
    "dir(datetime)"
   ]
  },
  {
   "cell_type": "code",
   "execution_count": 21,
   "id": "26cee0a7",
   "metadata": {},
   "outputs": [
    {
     "data": {
      "text/plain": [
       "datetime.datetime(2021, 10, 17, 12, 18, 17, 384835)"
      ]
     },
     "execution_count": 21,
     "metadata": {},
     "output_type": "execute_result"
    }
   ],
   "source": [
    "datetime.fromisoformat(datetime.now().isoformat())"
   ]
  },
  {
   "cell_type": "code",
   "execution_count": null,
   "id": "ee37ea7c",
   "metadata": {},
   "outputs": [],
   "source": []
  }
 ],
 "metadata": {
  "kernelspec": {
   "display_name": "noisemon",
   "language": "python",
   "name": "python3810_noisemon"
  },
  "language_info": {
   "codemirror_mode": {
    "name": "ipython",
    "version": 3
   },
   "file_extension": ".py",
   "mimetype": "text/x-python",
   "name": "python",
   "nbconvert_exporter": "python",
   "pygments_lexer": "ipython3",
   "version": "3.8.10"
  }
 },
 "nbformat": 4,
 "nbformat_minor": 5
}
