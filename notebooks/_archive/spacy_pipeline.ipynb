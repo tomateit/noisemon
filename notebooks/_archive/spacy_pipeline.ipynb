{
 "cells": [
  {
   "cell_type": "markdown",
   "id": "427bde8a",
   "metadata": {},
   "source": [
    "# Custom spaCy model demo and checks"
   ]
  },
  {
   "cell_type": "code",
   "execution_count": 4,
   "id": "26c24d25-596f-483c-a199-fc3b215ae79d",
   "metadata": {},
   "outputs": [
    {
     "name": "stdout",
     "output_type": "stream",
     "text": [
      "/home/codeholder/code/python-playground/app_noisemon\n"
     ]
    }
   ],
   "source": [
    "%cd .."
   ]
  },
  {
   "cell_type": "code",
   "execution_count": 12,
   "id": "0837183c-b07d-42f5-93b1-678753661b95",
   "metadata": {
    "tags": []
   },
   "outputs": [],
   "source": [
    "import warnings\n",
    "warnings.filterwarnings(\"ignore\")\n",
    "from pathlib import Path\n",
    "\n",
    "import spacy\n",
    "from spacy.tokens import DocBin\n",
    "from spacy.training.example import Example\n",
    "\n",
    "from spacy import displacy\n",
    "# from scripts.evaluate import score_pipe_examplewise"
   ]
  },
  {
   "cell_type": "code",
   "execution_count": 7,
   "id": "581f4489",
   "metadata": {
    "tags": []
   },
   "outputs": [],
   "source": [
    "nlp = spacy.load(\"ru_core_news_lg\")"
   ]
  },
  {
   "cell_type": "code",
   "execution_count": 9,
   "id": "c1303f13-e591-4548-bb9c-886121882c53",
   "metadata": {
    "tags": []
   },
   "outputs": [],
   "source": [
    "test_data_path = Path(\"./corpus/dev.spacy\")\n",
    "doc_bin = DocBin(store_user_data=True).from_disk(test_data_path)\n",
    "docs = list(doc_bin.get_docs(nlp.vocab))\n",
    "examples = [Example(nlp(gold.text), gold) for gold in docs]"
   ]
  },
  {
   "cell_type": "code",
   "execution_count": 14,
   "id": "02ccc631",
   "metadata": {},
   "outputs": [
    {
     "data": {
      "text/html": [
       "<span class=\"tex2jax_ignore\"><div class=\"entities\" style=\"line-height: 2.5; direction: ltr\">По словам \n",
       "<mark class=\"entity\" style=\"background: #ddd; padding: 0.45em 0.6em; margin: 0 0.25em; line-height: 1; border-radius: 0.35em;\">\n",
       "    Голиковой\n",
       "    <span style=\"font-size: 0.8em; font-weight: bold; line-height: 1; border-radius: 0.35em; vertical-align: middle; margin-left: 0.5rem\">PER</span>\n",
       "</mark>\n",
       " , чаще всего онкологические заболевания становились причиной смерти в \n",
       "<mark class=\"entity\" style=\"background: #ff9561; padding: 0.45em 0.6em; margin: 0 0.25em; line-height: 1; border-radius: 0.35em;\">\n",
       "    Псковской\n",
       "    <span style=\"font-size: 0.8em; font-weight: bold; line-height: 1; border-radius: 0.35em; vertical-align: middle; margin-left: 0.5rem\">LOC</span>\n",
       "</mark>\n",
       " , \n",
       "<mark class=\"entity\" style=\"background: #ff9561; padding: 0.45em 0.6em; margin: 0 0.25em; line-height: 1; border-radius: 0.35em;\">\n",
       "    Тверской\n",
       "    <span style=\"font-size: 0.8em; font-weight: bold; line-height: 1; border-radius: 0.35em; vertical-align: middle; margin-left: 0.5rem\">LOC</span>\n",
       "</mark>\n",
       " , \n",
       "<mark class=\"entity\" style=\"background: #ff9561; padding: 0.45em 0.6em; margin: 0 0.25em; line-height: 1; border-radius: 0.35em;\">\n",
       "    Тульской\n",
       "    <span style=\"font-size: 0.8em; font-weight: bold; line-height: 1; border-radius: 0.35em; vertical-align: middle; margin-left: 0.5rem\">LOC</span>\n",
       "</mark>\n",
       " и \n",
       "<mark class=\"entity\" style=\"background: #ff9561; padding: 0.45em 0.6em; margin: 0 0.25em; line-height: 1; border-radius: 0.35em;\">\n",
       "    Орловской областях\n",
       "    <span style=\"font-size: 0.8em; font-weight: bold; line-height: 1; border-radius: 0.35em; vertical-align: middle; margin-left: 0.5rem\">LOC</span>\n",
       "</mark>\n",
       " , а также в \n",
       "<mark class=\"entity\" style=\"background: #ff9561; padding: 0.45em 0.6em; margin: 0 0.25em; line-height: 1; border-radius: 0.35em;\">\n",
       "    Севастополе\n",
       "    <span style=\"font-size: 0.8em; font-weight: bold; line-height: 1; border-radius: 0.35em; vertical-align: middle; margin-left: 0.5rem\">LOC</span>\n",
       "</mark>\n",
       " . В начале года стало известно , что смертность от онкологических заболеваний среди россиян снизилась впервые за три года . По данным \n",
       "<mark class=\"entity\" style=\"background: #7aecec; padding: 0.45em 0.6em; margin: 0 0.25em; line-height: 1; border-radius: 0.35em;\">\n",
       "    Росстата\n",
       "    <span style=\"font-size: 0.8em; font-weight: bold; line-height: 1; border-radius: 0.35em; vertical-align: middle; margin-left: 0.5rem\">ORG</span>\n",
       "</mark>\n",
       " , в 2017 году от рака умерли 289 тысяч человек . Это на 3,5 процента меньше , чем годом ранее . \n",
       "<mark class=\"entity\" style=\"background: #ff9561; padding: 0.45em 0.6em; margin: 0 0.25em; line-height: 1; border-radius: 0.35em;\">\n",
       "    Австрийские\n",
       "    <span style=\"font-size: 0.8em; font-weight: bold; line-height: 1; border-radius: 0.35em; vertical-align: middle; margin-left: 0.5rem\">LOC</span>\n",
       "</mark>\n",
       " правоохранительные органы не представили доказательств нарушения российскими биатлонистами антидопинговых правил . « Действует презумпция невиновности . Каких-либо ограничений свободы передвижения для команды нет » , — добавили в посольстве . \n",
       "<mark class=\"entity\" style=\"background: #7aecec; padding: 0.45em 0.6em; margin: 0 0.25em; line-height: 1; border-radius: 0.35em;\">\n",
       "    Международный союз биатлонистов ( IBU )\n",
       "    <span style=\"font-size: 0.8em; font-weight: bold; line-height: 1; border-radius: 0.35em; vertical-align: middle; margin-left: 0.5rem\">ORG</span>\n",
       "</mark>\n",
       " также не будет применять санкции к российским биатлонистам . Все они продолжат выступление на Кубке мира . Полиция нагрянула в отель сборной \n",
       "<mark class=\"entity\" style=\"background: #ff9561; padding: 0.45em 0.6em; margin: 0 0.25em; line-height: 1; border-radius: 0.35em;\">\n",
       "    России\n",
       "    <span style=\"font-size: 0.8em; font-weight: bold; line-height: 1; border-radius: 0.35em; vertical-align: middle; margin-left: 0.5rem\">LOC</span>\n",
       "</mark>\n",
       " в \n",
       "<mark class=\"entity\" style=\"background: #ff9561; padding: 0.45em 0.6em; margin: 0 0.25em; line-height: 1; border-radius: 0.35em;\">\n",
       "    Хохфильцене\n",
       "    <span style=\"font-size: 0.8em; font-weight: bold; line-height: 1; border-radius: 0.35em; vertical-align: middle; margin-left: 0.5rem\">LOC</span>\n",
       "</mark>\n",
       " вечером 12 декабря . </div></span>"
      ],
      "text/plain": [
       "<IPython.core.display.HTML object>"
      ]
     },
     "metadata": {},
     "output_type": "display_data"
    }
   ],
   "source": [
    "displacy.render(docs[0], style=\"ent\")"
   ]
  },
  {
   "cell_type": "code",
   "execution_count": null,
   "id": "f3e83fb2",
   "metadata": {},
   "outputs": [],
   "source": []
  },
  {
   "cell_type": "code",
   "execution_count": 23,
   "id": "010057eb-051b-48a5-8f8c-ddc3e51d2c24",
   "metadata": {},
   "outputs": [
    {
     "data": {
      "text/plain": [
       "5"
      ]
     },
     "execution_count": 23,
     "metadata": {},
     "output_type": "execute_result"
    }
   ],
   "source": [
    "len(nlp(docs[109].text)._.trf_data.wordpieces.strings)"
   ]
  },
  {
   "cell_type": "code",
   "execution_count": 30,
   "id": "eb8eb9d2-d4e7-4290-b9d0-366c1f3c9e93",
   "metadata": {},
   "outputs": [
    {
     "data": {
      "text/plain": [
       "217"
      ]
     },
     "execution_count": 30,
     "metadata": {},
     "output_type": "execute_result"
    }
   ],
   "source": [
    "len(nlp(docs[109].text)._.trf_data.wordpieces.strings[4])"
   ]
  },
  {
   "cell_type": "code",
   "execution_count": 51,
   "id": "08c30d5b-38ba-4371-a095-ab37eca06195",
   "metadata": {},
   "outputs": [
    {
     "ename": "IndexError",
     "evalue": "list index out of range",
     "output_type": "error",
     "traceback": [
      "\u001b[0;31m---------------------------------------------------------------------------\u001b[0m",
      "\u001b[0;31mIndexError\u001b[0m                                Traceback (most recent call last)",
      "\u001b[0;32m/tmp/ipykernel_19142/1445397692.py\u001b[0m in \u001b[0;36m<module>\u001b[0;34m\u001b[0m\n\u001b[0;32m----> 1\u001b[0;31m \u001b[0mnlp\u001b[0m\u001b[0;34m(\u001b[0m\u001b[0mdocs\u001b[0m\u001b[0;34m[\u001b[0m\u001b[0;36m109\u001b[0m\u001b[0;34m]\u001b[0m\u001b[0;34m.\u001b[0m\u001b[0mtext\u001b[0m\u001b[0;34m)\u001b[0m\u001b[0;34m.\u001b[0m\u001b[0m_\u001b[0m\u001b[0;34m.\u001b[0m\u001b[0mtrf_data\u001b[0m\u001b[0;34m.\u001b[0m\u001b[0mwordpieces\u001b[0m\u001b[0;34m.\u001b[0m\u001b[0mstrings\u001b[0m\u001b[0;34m[\u001b[0m\u001b[0;36m2\u001b[0m\u001b[0;34m]\u001b[0m\u001b[0;34m[\u001b[0m\u001b[0;36m835\u001b[0m\u001b[0;34m]\u001b[0m\u001b[0;34m\u001b[0m\u001b[0;34m\u001b[0m\u001b[0m\n\u001b[0m",
      "\u001b[0;31mIndexError\u001b[0m: list index out of range"
     ]
    }
   ],
   "source": [
    "nlp(docs[109].text)._.trf_data.wordpieces.strings[2][835]"
   ]
  },
  {
   "cell_type": "code",
   "execution_count": 19,
   "id": "3a9fe9fa-46a0-4a95-9ebc-52f89403738a",
   "metadata": {},
   "outputs": [
    {
     "data": {
      "text/plain": [
       "(217, 312)"
      ]
     },
     "execution_count": 19,
     "metadata": {},
     "output_type": "execute_result"
    }
   ],
   "source": [
    "nlp(docs[109].text)._.trf_data.model_output[0][0].shape"
   ]
  },
  {
   "cell_type": "code",
   "execution_count": 56,
   "id": "11bf6660-7648-4e96-9480-ad6068a61d9a",
   "metadata": {},
   "outputs": [
    {
     "data": {
      "text/plain": [
       "(5, 217, 312)"
      ]
     },
     "execution_count": 56,
     "metadata": {},
     "output_type": "execute_result"
    }
   ],
   "source": [
    "nlp(docs[109].text)._.trf_data.model_output[0].shape"
   ]
  },
  {
   "cell_type": "code",
   "execution_count": 60,
   "id": "8ceea77e-e0f6-45a3-a405-a40003e2c1f9",
   "metadata": {},
   "outputs": [
    {
     "data": {
      "text/plain": [
       "(904, 1)"
      ]
     },
     "execution_count": 60,
     "metadata": {},
     "output_type": "execute_result"
    }
   ],
   "source": [
    "nlp(docs[109].text)._.trf_data.align.data.shape"
   ]
  },
  {
   "cell_type": "code",
   "execution_count": 63,
   "id": "b3478880-9b4e-4bac-9332-36d320e3426d",
   "metadata": {},
   "outputs": [],
   "source": [
    "from transformers import AutoTokenizer"
   ]
  },
  {
   "cell_type": "code",
   "execution_count": 65,
   "id": "74a42314-9ab2-46e6-a44e-fff82e0b5bcb",
   "metadata": {},
   "outputs": [],
   "source": [
    "tokenizer_ = AutoTokenizer.from_pretrained(\"cointegrated/rubert-tiny\")"
   ]
  },
  {
   "cell_type": "code",
   "execution_count": 66,
   "id": "5f402f74-b3de-4a28-a411-5239a89cbd36",
   "metadata": {},
   "outputs": [],
   "source": [
    "from functools import partial as p"
   ]
  },
  {
   "cell_type": "code",
   "execution_count": 67,
   "id": "3b3a8cad-3751-4823-bff6-2404efbbcbff",
   "metadata": {},
   "outputs": [],
   "source": [
    "tokenizer = p(tokenizer_, padding=False, truncation=False, return_tensors=\"np\")"
   ]
  },
  {
   "cell_type": "code",
   "execution_count": 71,
   "id": "7799378b-a21d-420c-aff3-439bcf3745f9",
   "metadata": {},
   "outputs": [],
   "source": [
    "doc = nlp(docs[109].text)"
   ]
  },
  {
   "cell_type": "code",
   "execution_count": 73,
   "id": "e2e2074b-c6db-4f4d-a445-af6bbb64f6de",
   "metadata": {},
   "outputs": [
    {
     "data": {
      "text/plain": [
       "(1085, 312)"
      ]
     },
     "execution_count": 73,
     "metadata": {},
     "output_type": "execute_result"
    }
   ],
   "source": [
    "doc._.trf_data.model_output[0].reshape(-1, 312).shape"
   ]
  },
  {
   "cell_type": "code",
   "execution_count": 70,
   "id": "03298940-136a-42fa-ae56-c471a09044c5",
   "metadata": {},
   "outputs": [
    {
     "data": {
      "text/plain": [
       "(1, 701)"
      ]
     },
     "execution_count": 70,
     "metadata": {},
     "output_type": "execute_result"
    }
   ],
   "source": [
    "tokenizer(docs[109].text).input_ids.shape"
   ]
  }
 ],
 "metadata": {
  "kernelspec": {
   "display_name": "noisemon",
   "language": "python",
   "name": "python3810_noisemon"
  },
  "language_info": {
   "codemirror_mode": {
    "name": "ipython",
    "version": 3
   },
   "file_extension": ".py",
   "mimetype": "text/x-python",
   "name": "python",
   "nbconvert_exporter": "python",
   "pygments_lexer": "ipython3",
   "version": "3.8.10"
  }
 },
 "nbformat": 4,
 "nbformat_minor": 5
}
