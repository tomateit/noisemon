{
 "cells": [
  {
   "cell_type": "code",
   "execution_count": 1,
   "id": "0e47587e-c573-4e05-a7a8-0a1931f3f1d1",
   "metadata": {},
   "outputs": [
    {
     "name": "stdout",
     "output_type": "stream",
     "text": [
      "/home/max/process/dist/app_noisemon\n"
     ]
    }
   ],
   "source": [
    "%cd .."
   ]
  },
  {
   "cell_type": "code",
   "execution_count": 2,
   "id": "13e5297b-c493-408f-a1fa-4b6e8e30e436",
   "metadata": {},
   "outputs": [],
   "source": [
    "import pandas as pd\n",
    "from tqdm import tqdm\n",
    "import json\n",
    "\n",
    "from pathlib import Path"
   ]
  },
  {
   "cell_type": "code",
   "execution_count": 3,
   "id": "e75fbaf0-b4a0-4ada-b096-c45a59541df1",
   "metadata": {},
   "outputs": [],
   "source": [
    "from noisemon.database.database import SessionLocal\n",
    "\n",
    "from noisemon.models.entity import EntityModel, get_insert_many_statement\n",
    "from noisemon.models.document import DocumentData, DocumentModel, DocumentOrigin\n",
    "from noisemon.models.document import dataclass_to_model as document_dataclass_to_model\n",
    "from noisemon.models.mention import *\n"
   ]
  },
  {
   "cell_type": "code",
   "execution_count": 4,
   "id": "c02a0f58-0211-4776-9211-93974e679c44",
   "metadata": {},
   "outputs": [],
   "source": [
    "trex_dir = Path(\"./assets/entity_linking/TREx/\").resolve()"
   ]
  },
  {
   "cell_type": "code",
   "execution_count": 5,
   "id": "e2580144-d04b-464c-b0a6-bad80c5b5d72",
   "metadata": {
    "tags": []
   },
   "outputs": [
    {
     "name": "stdout",
     "output_type": "stream",
     "text": [
      "/home/max/process/dist/app_noisemon/assets/entity_linking/TREx/re-nlg_2370000-2380000.json\n"
     ]
    }
   ],
   "source": [
    "for f in trex_dir.iterdir():\n",
    "    print(f)\n",
    "    break"
   ]
  },
  {
   "cell_type": "code",
   "execution_count": 6,
   "id": "ad267b33-634b-4fc2-af96-9817daae5f82",
   "metadata": {},
   "outputs": [
    {
     "ename": "NameError",
     "evalue": "name 'item_df' is not defined",
     "output_type": "error",
     "traceback": [
      "\u001b[0;31m---------------------------------------------------------------------------\u001b[0m",
      "\u001b[0;31mNameError\u001b[0m                                 Traceback (most recent call last)",
      "Cell \u001b[0;32mIn[6], line 4\u001b[0m\n\u001b[1;32m      2\u001b[0m \u001b[38;5;28;01mwith\u001b[39;00m db\u001b[38;5;241m.\u001b[39mbegin():\n\u001b[1;32m      3\u001b[0m     buffer \u001b[38;5;241m=\u001b[39m []\n\u001b[0;32m----> 4\u001b[0m     \u001b[38;5;28;01mfor\u001b[39;00m idx, row \u001b[38;5;129;01min\u001b[39;00m tqdm(\u001b[43mitem_df\u001b[49m\u001b[38;5;241m.\u001b[39miterrows(), total\u001b[38;5;241m=\u001b[39m\u001b[38;5;28mlen\u001b[39m(item_df)):\n\u001b[1;32m      5\u001b[0m         new_entity \u001b[38;5;241m=\u001b[39m EntityModel(\n\u001b[1;32m      6\u001b[0m             qid\u001b[38;5;241m=\u001b[39mid_to_qid(idx),\n\u001b[1;32m      7\u001b[0m             name\u001b[38;5;241m=\u001b[39mrow\u001b[38;5;241m.\u001b[39men_label,\n\u001b[1;32m      8\u001b[0m             \u001b[38;5;28mtype\u001b[39m\u001b[38;5;241m=\u001b[39m\u001b[38;5;28;01mNone\u001b[39;00m,\n\u001b[1;32m      9\u001b[0m         )\n\u001b[1;32m     10\u001b[0m         buffer\u001b[38;5;241m.\u001b[39mappend(new_entity)\n",
      "\u001b[0;31mNameError\u001b[0m: name 'item_df' is not defined"
     ]
    }
   ],
   "source": [
    "db = SessionLocal()\n",
    "with db.begin():\n",
    "    buffer = []\n",
    "    for idx, row in tqdm(item_df.iterrows(), total=len(item_df)):\n",
    "        new_entity = EntityModel(\n",
    "            qid=id_to_qid(idx),\n",
    "            name=row.en_label,\n",
    "            type=None,\n",
    "        )\n",
    "        buffer.append(new_entity)\n",
    "        \n",
    "        if idx % 5000 == 1:\n",
    "            statement = get_insert_many_statement(buffer)\n",
    "            db.execute(statement)\n",
    "            buffer = []\n",
    "\n",
    "    else:\n",
    "        statement = get_insert_many_statement(buffer)\n",
    "        db.execute(statement)\n",
    "       \n",
    "db.commit()\n",
    "db.close()"
   ]
  },
  {
   "cell_type": "code",
   "execution_count": 13,
   "id": "22e0ab1c-0db4-4b83-95c2-fa9eb14f9054",
   "metadata": {},
   "outputs": [
    {
     "name": "stderr",
     "output_type": "stream",
     "text": [
      "100%|████████████████████████████████████████████████████████████████████████████████████████████████████████████████████| 465/465 [11:25:01<00:00, 88.39s/it]\n"
     ]
    }
   ],
   "source": [
    "files = list(trex_dir.glob(\"*.json\"))\n",
    "db = SessionLocal()\n",
    "\n",
    "for file in tqdm(files):\n",
    "    with db.begin():\n",
    "        with open(file, \"r\") as fin:\n",
    "            content: list[dict] = json.load(fin)\n",
    "            for chunk in content:\n",
    "                # document origin\n",
    "                origin = DocumentOrigin(\n",
    "                    resource=f\"WikiPedia article [{chunk['title']}][:intro]\",\n",
    "                    from_process=\"kb_population\"\n",
    "                )\n",
    "                # document\n",
    "                document = DocumentData(\n",
    "                    origin=origin,\n",
    "                    text=chunk[\"text\"],\n",
    "                    raw_text=chunk[\"text\"],\n",
    "                )\n",
    "                new_document = document_dataclass_to_model(document)\n",
    "                db.add(new_document)\n",
    "                db.flush()\n",
    "                \n",
    "                for annotation in chunk[\"entities\"]:\n",
    "                    if annotation[\"annotator\"] != \"Wikidata_Spotlight_Entity_Linker\": continue\n",
    "                    span_start, span_end = annotation[\"boundaries\"]\n",
    "                    span = chunk[\"text\"][span_start:span_end]\n",
    "                    qid = annotation[\"uri\"]\n",
    "\n",
    "                    new_mention = MentionModel(\n",
    "                        origin_id=new_document.id,\n",
    "                        span=span,\n",
    "                        span_start=span_start,\n",
    "                        span_end=span_end,\n",
    "                        entity_qid=qid, \n",
    "                        vector_index=0\n",
    "                    )\n",
    "                    db.add(new_mention)\n",
    "\n",
    "                db.flush()"
   ]
  },
  {
   "cell_type": "code",
   "execution_count": 14,
   "id": "10d8662f-5fe7-4003-a5c0-7e326e908086",
   "metadata": {},
   "outputs": [],
   "source": [
    "db.commit()"
   ]
  },
  {
   "cell_type": "code",
   "execution_count": 15,
   "id": "4cb02e0f-53e0-4b25-a38f-937c0d81140b",
   "metadata": {},
   "outputs": [],
   "source": [
    "db.close()"
   ]
  },
  {
   "cell_type": "code",
   "execution_count": 14,
   "id": "ec94d39b-1dd9-4809-9ca6-fd472dccf601",
   "metadata": {},
   "outputs": [],
   "source": [
    "annotators = set()"
   ]
  },
  {
   "cell_type": "code",
   "execution_count": 17,
   "id": "585d5226-a1f9-4d2f-b92a-80bc83915d39",
   "metadata": {},
   "outputs": [],
   "source": [
    "for c in chunk:\n",
    "    for e in c[\"entities\"]:\n",
    "        annotators.add(e[\"annotator\"])\n",
    "    "
   ]
  },
  {
   "cell_type": "code",
   "execution_count": 18,
   "id": "467389ca-f993-4ec6-98a5-a4e2a8ada0b2",
   "metadata": {},
   "outputs": [
    {
     "data": {
      "text/plain": [
       "{'Date_Linker',\n",
       " 'Simple_Coreference',\n",
       " 'Wikidata_Property_Linker',\n",
       " 'Wikidata_Spotlight_Entity_Linker'}"
      ]
     },
     "execution_count": 18,
     "metadata": {},
     "output_type": "execute_result"
    }
   ],
   "source": [
    "annotators"
   ]
  },
  {
   "cell_type": "code",
   "execution_count": 26,
   "id": "ac80e73c-2b5f-4da0-9ca6-6f17866ffd1f",
   "metadata": {},
   "outputs": [
    {
     "data": {
      "text/plain": [
       "{'docid': 'http://www.wikidata.org/entity/Q3446429',\n",
       " 'title': 'Ruairí Ó Brádaigh',\n",
       " 'text': 'Ruairí Ó Brádaigh ([ˈɾˠuəɾʲiː oː bˠɾˠaːd̪ˠiː], born Peter Roger Casement Brady; 2 October 1932 – 5 June 2013) was an Irish republican paramilitary and political leader. He was Chief of Staff of the Irish Republican Army (IRA) from 1958 to 1959 and again from 1960 to 1962, president of Sinn Féin from 1970 to 1983, and president of Republican Sinn Féin from 1987 to 2009.',\n",
       " 'uri': 'http://www.wikidata.org/entity/Q3446429',\n",
       " 'entities': [{'boundaries': [52, 57],\n",
       "   'surfaceform': 'Peter',\n",
       "   'uri': 'http://www.wikidata.org/entity/Q33923',\n",
       "   'annotator': 'Wikidata_Spotlight_Entity_Linker'},\n",
       "  {'boundaries': [58, 72],\n",
       "   'surfaceform': 'Roger Casement',\n",
       "   'uri': 'http://www.wikidata.org/entity/Q311966',\n",
       "   'annotator': 'Wikidata_Spotlight_Entity_Linker'},\n",
       "  {'boundaries': [117, 122],\n",
       "   'surfaceform': 'Irish',\n",
       "   'uri': 'http://www.wikidata.org/entity/Q9142',\n",
       "   'annotator': 'Wikidata_Spotlight_Entity_Linker'},\n",
       "  {'boundaries': [198, 219],\n",
       "   'surfaceform': 'Irish Republican Army',\n",
       "   'uri': 'http://www.wikidata.org/entity/Q175284',\n",
       "   'annotator': 'Wikidata_Spotlight_Entity_Linker'},\n",
       "  {'boundaries': [221, 224],\n",
       "   'surfaceform': 'IRA',\n",
       "   'uri': 'http://www.wikidata.org/entity/Q175284',\n",
       "   'annotator': 'Wikidata_Spotlight_Entity_Linker'},\n",
       "  {'boundaries': [80, 94],\n",
       "   'surfaceform': '2 October 1932',\n",
       "   'uri': '1932-10-02T00:00:00Z^^http://www.w3.org/2001/XMLSchema#dateTime',\n",
       "   'annotator': 'Date_Linker'},\n",
       "  {'boundaries': [97, 108],\n",
       "   'surfaceform': '5 June 2013',\n",
       "   'uri': '2013-06-05T00:00:00Z^^http://www.w3.org/2001/XMLSchema#dateTime',\n",
       "   'annotator': 'Date_Linker'},\n",
       "  {'boundaries': [231, 235],\n",
       "   'surfaceform': '1958',\n",
       "   'uri': '1958-00-00T00:00:00Z^^http://www.w3.org/2001/XMLSchema#dateTime',\n",
       "   'annotator': 'Date_Linker'},\n",
       "  {'boundaries': [239, 243],\n",
       "   'surfaceform': '1959',\n",
       "   'uri': '1959-00-00T00:00:00Z^^http://www.w3.org/2001/XMLSchema#dateTime',\n",
       "   'annotator': 'Date_Linker'},\n",
       "  {'boundaries': [259, 263],\n",
       "   'surfaceform': '1960',\n",
       "   'uri': '1960-00-00T00:00:00Z^^http://www.w3.org/2001/XMLSchema#dateTime',\n",
       "   'annotator': 'Date_Linker'},\n",
       "  {'boundaries': [267, 271],\n",
       "   'surfaceform': '1962',\n",
       "   'uri': '1962-00-00T00:00:00Z^^http://www.w3.org/2001/XMLSchema#dateTime',\n",
       "   'annotator': 'Date_Linker'},\n",
       "  {'boundaries': [301, 305],\n",
       "   'surfaceform': '1970',\n",
       "   'uri': '1970-00-00T00:00:00Z^^http://www.w3.org/2001/XMLSchema#dateTime',\n",
       "   'annotator': 'Date_Linker'},\n",
       "  {'boundaries': [309, 313],\n",
       "   'surfaceform': '1983',\n",
       "   'uri': '1983-00-00T00:00:00Z^^http://www.w3.org/2001/XMLSchema#dateTime',\n",
       "   'annotator': 'Date_Linker'},\n",
       "  {'boundaries': [358, 362],\n",
       "   'surfaceform': '1987',\n",
       "   'uri': '1987-00-00T00:00:00Z^^http://www.w3.org/2001/XMLSchema#dateTime',\n",
       "   'annotator': 'Date_Linker'},\n",
       "  {'boundaries': [366, 370],\n",
       "   'surfaceform': '2009',\n",
       "   'uri': '2009-00-00T00:00:00Z^^http://www.w3.org/2001/XMLSchema#dateTime',\n",
       "   'annotator': 'Date_Linker'},\n",
       "  {'boundaries': [169, 171],\n",
       "   'surfaceform': 'He',\n",
       "   'uri': 'http://www.wikidata.org/entity/Q3446429',\n",
       "   'annotator': 'Simple_Coreference'},\n",
       "  {'boundaries': [273, 282],\n",
       "   'surfaceform': 'president',\n",
       "   'uri': 'http://www.wikidata.org/prop/direct/P488',\n",
       "   'annotator': 'Wikidata_Property_Linker'},\n",
       "  {'boundaries': [319, 328],\n",
       "   'surfaceform': 'president',\n",
       "   'uri': 'http://www.wikidata.org/prop/direct/P488',\n",
       "   'annotator': 'Wikidata_Property_Linker'},\n",
       "  {'boundaries': [161, 167],\n",
       "   'surfaceform': 'leader',\n",
       "   'uri': 'http://www.wikidata.org/prop/direct/P488',\n",
       "   'annotator': 'Wikidata_Property_Linker'}],\n",
       " 'words_boundaries': [[0, 6],\n",
       "  [7, 8],\n",
       "  [9, 17],\n",
       "  [18, 20],\n",
       "  [20, 29],\n",
       "  [30, 32],\n",
       "  [33, 40],\n",
       "  [40, 41],\n",
       "  [41, 44],\n",
       "  [44, 46],\n",
       "  [47, 51],\n",
       "  [52, 57],\n",
       "  [58, 63],\n",
       "  [64, 72],\n",
       "  [73, 78],\n",
       "  [78, 79],\n",
       "  [80, 81],\n",
       "  [82, 89],\n",
       "  [90, 94],\n",
       "  [95, 96],\n",
       "  [97, 98],\n",
       "  [99, 103],\n",
       "  [104, 108],\n",
       "  [108, 109],\n",
       "  [110, 113],\n",
       "  [114, 116],\n",
       "  [117, 122],\n",
       "  [123, 133],\n",
       "  [134, 146],\n",
       "  [147, 150],\n",
       "  [151, 160],\n",
       "  [161, 167],\n",
       "  [167, 168],\n",
       "  [169, 171],\n",
       "  [172, 175],\n",
       "  [176, 181],\n",
       "  [182, 184],\n",
       "  [185, 190],\n",
       "  [191, 193],\n",
       "  [194, 197],\n",
       "  [198, 203],\n",
       "  [204, 214],\n",
       "  [215, 219],\n",
       "  [220, 221],\n",
       "  [221, 224],\n",
       "  [224, 225],\n",
       "  [226, 230],\n",
       "  [231, 235],\n",
       "  [236, 238],\n",
       "  [239, 243],\n",
       "  [244, 247],\n",
       "  [248, 253],\n",
       "  [254, 258],\n",
       "  [259, 263],\n",
       "  [264, 266],\n",
       "  [267, 271],\n",
       "  [271, 272],\n",
       "  [273, 282],\n",
       "  [283, 285],\n",
       "  [286, 290],\n",
       "  [291, 295],\n",
       "  [296, 300],\n",
       "  [301, 305],\n",
       "  [306, 308],\n",
       "  [309, 313],\n",
       "  [313, 314],\n",
       "  [315, 318],\n",
       "  [319, 328],\n",
       "  [329, 331],\n",
       "  [332, 342],\n",
       "  [343, 347],\n",
       "  [348, 352],\n",
       "  [353, 357],\n",
       "  [358, 362],\n",
       "  [363, 365],\n",
       "  [366, 370],\n",
       "  [370, 371]],\n",
       " 'triples': [{'sentence_id': 0,\n",
       "   'predicate': {'boundaries': None,\n",
       "    'surfaceform': None,\n",
       "    'uri': 'http://www.wikidata.org/prop/direct/P569',\n",
       "    'annotator': 'NoSubject-Triple-aligner'},\n",
       "   'object': {'boundaries': [80, 94],\n",
       "    'surfaceform': '2 October 1932',\n",
       "    'uri': '1932-10-02T00:00:00Z^^http://www.w3.org/2001/XMLSchema#dateTime',\n",
       "    'annotator': 'Date_Linker'},\n",
       "   'dependency_path': None,\n",
       "   'confidence': None,\n",
       "   'subject': {'boundaries': None,\n",
       "    'surfaceform': 'Ruairí Ó Brádaigh',\n",
       "    'uri': 'http://www.wikidata.org/entity/Q3446429',\n",
       "    'annotator': 'NoSubject-Triple-aligner'},\n",
       "   'annotator': 'NoSubject-Triple-aligner'},\n",
       "  {'sentence_id': 0,\n",
       "   'predicate': {'boundaries': None,\n",
       "    'surfaceform': None,\n",
       "    'uri': 'http://www.wikidata.org/prop/direct/P570',\n",
       "    'annotator': 'NoSubject-Triple-aligner'},\n",
       "   'object': {'boundaries': [97, 108],\n",
       "    'surfaceform': '5 June 2013',\n",
       "    'uri': '2013-06-05T00:00:00Z^^http://www.w3.org/2001/XMLSchema#dateTime',\n",
       "    'annotator': 'Date_Linker'},\n",
       "   'dependency_path': None,\n",
       "   'confidence': None,\n",
       "   'subject': {'boundaries': None,\n",
       "    'surfaceform': 'Ruairí Ó Brádaigh',\n",
       "    'uri': 'http://www.wikidata.org/entity/Q3446429',\n",
       "    'annotator': 'NoSubject-Triple-aligner'},\n",
       "   'annotator': 'NoSubject-Triple-aligner'}],\n",
       " 'sentences_boundaries': [[0, 168], [169, 371]]}"
      ]
     },
     "execution_count": 26,
     "metadata": {},
     "output_type": "execute_result"
    }
   ],
   "source": [
    "chunk"
   ]
  },
  {
   "cell_type": "code",
   "execution_count": 5,
   "id": "a0c40a2c-f634-4d3a-bcec-2cf73086fab6",
   "metadata": {},
   "outputs": [],
   "source": [
    "with open(\"/home/max/process/dist/app_noisemon/assets/entity_linking/TREx/re-nlg_2370000-2380000.json\", \"r\") as fin:\n",
    "    chunk = json.loads(line)\n",
    "            page_id = chunk[\"page_id\"]\n",
    "            page_title = page_df.iloc[page_id].title\n",
    "            origin = DocumentOrigin(resource=f\"WikiPedia Page [{page_title}]\", from_process=\"kb_population\")\n",
    "\n",
    "            for section in chunk.get(\"sections\", []):\n",
    "                origin = DocumentOrigin(\n",
    "                    resource=f\"WikiPedia Page [{page_title}][section: {section['name']}]\", \n",
    "                    from_process=\"kb_population\"\n",
    "                )\n",
    "                document = DocumentData(\n",
    "                    origin=origin,\n",
    "                    text=section[\"text\"],\n",
    "                    raw_text=section[\"text\"],\n",
    "                )\n",
    "                new_document = document_dataclass_to_model(document)\n",
    "                db.add(new_document)\n",
    "                db.commit()\n",
    "                \n",
    "                for span_start, span_end, span, title, qid in parse_section(section, page_df):\n",
    "                    new_mention = MentionModel(\n",
    "                        origin=new_document,\n",
    "                        span=span,\n",
    "                        span_start=span_start,\n",
    "                        span_end=span_end,\n",
    "                        entity_qid=id_to_qid(qid),\n",
    "                        \n",
    "                    )\n",
    "                "
   ]
  },
  {
   "cell_type": "code",
   "execution_count": 8,
   "id": "fb536d07-ed63-4169-8cac-68abc66536e5",
   "metadata": {},
   "outputs": [],
   "source": []
  },
  {
   "cell_type": "code",
   "execution_count": 9,
   "id": "ac22d616-9d7d-4b27-862d-ffcf0c9a8b97",
   "metadata": {},
   "outputs": [
    {
     "data": {
      "text/plain": [
       "['page_id', 'sections']"
      ]
     },
     "execution_count": 9,
     "metadata": {},
     "output_type": "execute_result"
    }
   ],
   "source": [
    "list(chunk.keys())"
   ]
  },
  {
   "cell_type": "code",
   "execution_count": 10,
   "id": "811f6482-ea6d-4026-9d7e-0b28a113b034",
   "metadata": {},
   "outputs": [
    {
     "data": {
      "text/plain": [
       "['name', 'text', 'link_lengths', 'link_offsets', 'target_page_ids']"
      ]
     },
     "execution_count": 10,
     "metadata": {},
     "output_type": "execute_result"
    }
   ],
   "source": [
    "list(chunk[\"sections\"][0].keys())"
   ]
  },
  {
   "cell_type": "code",
   "execution_count": 12,
   "id": "354c3b6c-7f58-47b1-b609-42b8917d88c3",
   "metadata": {},
   "outputs": [],
   "source": [
    "section = chunk[\"sections\"][0]"
   ]
  },
  {
   "cell_type": "code",
   "execution_count": 14,
   "id": "8c8411e9-880b-4fd1-ad79-9d654859bd37",
   "metadata": {},
   "outputs": [
    {
     "data": {
      "text/plain": [
       "'anti-authoritarian'"
      ]
     },
     "execution_count": 14,
     "metadata": {},
     "output_type": "execute_result"
    }
   ],
   "source": [
    "section[\"text\"][16:16+18]"
   ]
  },
  {
   "cell_type": "code",
   "execution_count": 27,
   "id": "09333a64-f1d7-47fe-8ee1-3c26bef0697b",
   "metadata": {},
   "outputs": [
    {
     "name": "stdout",
     "output_type": "stream",
     "text": [
      "anti-authoritarian Anti-authoritarianism 1030234\n",
      "political Political philosophy 179805\n",
      "social philosophy Social philosophy 180592\n",
      "hierarchies Hierarchy 188619\n",
      "self-managed Organizational Self-management 15981562\n",
      "self-governed Self-governance 417633\n",
      "cooperative Cooperative 4539\n",
      "stateless societies Stateless society 1708603\n",
      "free associations Free association (Marxism and anarchism) 5500187\n",
      "state Sovereign state 3624078\n",
      "far-left Far-left politics 1129409\n",
      "political spectrum Political spectrum 210918\n",
      "economics Anarchist economics 4751666\n",
      "legal philosophy Anarchist law 2738779\n",
      "communism Anarcho-communism 188670\n",
      "collectivism Collectivist anarchism 223178\n",
      "syndicalism Anarcho-syndicalism 188993\n",
      "mutualism Mutualism (economic theory) 844212\n",
      "participatory economics Participatory economics 650953\n",
      "anarchist types and traditions History of anarchism 2746978\n",
      "Anarchist schools of thought Anarchist schools of thought 1278791\n",
      "individualism Individualism 171995\n",
      "collectivism Collectivism 237789\n",
      "social Social anarchism 370919\n",
      "individualist anarchism Individualist anarchism 7076\n"
     ]
    }
   ],
   "source": [
    "parse_section(section, page_df)"
   ]
  },
  {
   "cell_type": "code",
   "execution_count": 15,
   "id": "733c7523-00eb-4163-9753-1e2ca0fd4fb5",
   "metadata": {},
   "outputs": [
    {
     "data": {
      "text/plain": [
       "{'name': 'Introduction',\n",
       " 'text': \"Anarchism is an anti-authoritarian political and social philosophy that rejects hierarchies deemed unjust and advocates their replacement with self-managed, self-governed societies based on voluntary, cooperative institutions. These institutions are often described as stateless societies, although several authors have defined them more specifically as distinct institutions based on non-hierarchical or free associations. Anarchism's central disagreement with other ideologies is that it holds the state to be undesirable, unnecessary, and harmful. Anarchism is usually placed on the far-left of the political spectrum, and much of its economics and legal philosophy reflect anti-authoritarian interpretations of communism, collectivism, syndicalism, mutualism, or participatory economics. As anarchism does not offer a fixed body of doctrine from a single particular worldview, many anarchist types and traditions exist and varieties of anarchy diverge widely. Anarchist schools of thought can differ fundamentally, supporting anything from extreme individualism to complete collectivism. Strains of anarchism have often been divided into the categories of social and individualist anarchism, or similar dual classifications.\",\n",
       " 'link_lengths': [18,\n",
       "  9,\n",
       "  17,\n",
       "  11,\n",
       "  12,\n",
       "  13,\n",
       "  11,\n",
       "  19,\n",
       "  17,\n",
       "  5,\n",
       "  8,\n",
       "  18,\n",
       "  9,\n",
       "  16,\n",
       "  9,\n",
       "  12,\n",
       "  11,\n",
       "  9,\n",
       "  23,\n",
       "  30,\n",
       "  28,\n",
       "  13,\n",
       "  12,\n",
       "  6,\n",
       "  23],\n",
       " 'link_offsets': [16,\n",
       "  35,\n",
       "  49,\n",
       "  80,\n",
       "  143,\n",
       "  157,\n",
       "  201,\n",
       "  269,\n",
       "  405,\n",
       "  500,\n",
       "  586,\n",
       "  602,\n",
       "  638,\n",
       "  652,\n",
       "  715,\n",
       "  726,\n",
       "  740,\n",
       "  753,\n",
       "  767,\n",
       "  886,\n",
       "  964,\n",
       "  1052,\n",
       "  1078,\n",
       "  1160,\n",
       "  1171],\n",
       " 'target_page_ids': [867979,\n",
       "  23040,\n",
       "  586276,\n",
       "  13998,\n",
       "  40949353,\n",
       "  191161,\n",
       "  89313,\n",
       "  4228181,\n",
       "  26271818,\n",
       "  23604120,\n",
       "  18247344,\n",
       "  23490,\n",
       "  1228884,\n",
       "  5483237,\n",
       "  17865,\n",
       "  46399294,\n",
       "  49938,\n",
       "  1799997,\n",
       "  76393,\n",
       "  1063286,\n",
       "  46399274,\n",
       "  15181,\n",
       "  5708,\n",
       "  39353100,\n",
       "  14936]}"
      ]
     },
     "execution_count": 15,
     "metadata": {},
     "output_type": "execute_result"
    }
   ],
   "source": [
    "section"
   ]
  },
  {
   "cell_type": "code",
   "execution_count": 18,
   "id": "47ac3b75-647a-437b-9a4a-1108764f03ed",
   "metadata": {},
   "outputs": [
    {
     "data": {
      "text/html": [
       "<div>\n",
       "<style scoped>\n",
       "    .dataframe tbody tr th:only-of-type {\n",
       "        vertical-align: middle;\n",
       "    }\n",
       "\n",
       "    .dataframe tbody tr th {\n",
       "        vertical-align: top;\n",
       "    }\n",
       "\n",
       "    .dataframe thead th {\n",
       "        text-align: right;\n",
       "    }\n",
       "</style>\n",
       "<table border=\"1\" class=\"dataframe\">\n",
       "  <thead>\n",
       "    <tr style=\"text-align: right;\">\n",
       "      <th></th>\n",
       "      <th>page_id</th>\n",
       "      <th>item_id</th>\n",
       "      <th>title</th>\n",
       "      <th>views</th>\n",
       "    </tr>\n",
       "  </thead>\n",
       "  <tbody>\n",
       "    <tr>\n",
       "      <th>260552</th>\n",
       "      <td>867979</td>\n",
       "      <td>1030234</td>\n",
       "      <td>Anti-authoritarianism</td>\n",
       "      <td>1914</td>\n",
       "    </tr>\n",
       "  </tbody>\n",
       "</table>\n",
       "</div>"
      ],
      "text/plain": [
       "        page_id  item_id                  title  views\n",
       "260552   867979  1030234  Anti-authoritarianism   1914"
      ]
     },
     "execution_count": 18,
     "metadata": {},
     "output_type": "execute_result"
    }
   ],
   "source": [
    "page_df[page_df.page_id == 867979]"
   ]
  },
  {
   "cell_type": "code",
   "execution_count": null,
   "id": "0f0604e0-663f-438e-a639-9039f3f22bd8",
   "metadata": {},
   "outputs": [],
   "source": []
  }
 ],
 "metadata": {
  "kernelspec": {
   "display_name": "Python 3 (ipykernel)",
   "language": "python",
   "name": "python3"
  },
  "language_info": {
   "codemirror_mode": {
    "name": "ipython",
    "version": 3
   },
   "file_extension": ".py",
   "mimetype": "text/x-python",
   "name": "python",
   "nbconvert_exporter": "python",
   "pygments_lexer": "ipython3",
   "version": "3.10.6"
  }
 },
 "nbformat": 4,
 "nbformat_minor": 5
}
