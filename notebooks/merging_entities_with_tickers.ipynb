{
 "cells": [
  {
   "cell_type": "markdown",
   "id": "b493f504",
   "metadata": {},
   "source": [
    "# Merging ents with tickers"
   ]
  },
  {
   "cell_type": "markdown",
   "id": "12d07fab",
   "metadata": {},
   "source": [
    "For the sake of autopopulating ORG entities into the app, I use the fact, that the news often contain some sort of a ticker. Those can help us merge recognized organization with its entity in knowledge base without\\with few human interference."
   ]
  },
  {
   "cell_type": "markdown",
   "id": "55d25a98",
   "metadata": {},
   "source": [
    "Ideally, this should happen in runtime, so I have to design the algorithm in a way to handle all possible cases"
   ]
  },
  {
   "cell_type": "markdown",
   "id": "6d18645f",
   "metadata": {},
   "source": []
  },
  {
   "cell_type": "code",
   "execution_count": 1,
   "id": "9eb0e90c",
   "metadata": {},
   "outputs": [
    {
     "name": "stdout",
     "output_type": "stream",
     "text": [
      "/home/codeholder/code/python-playground/app_noisemon\n"
     ]
    }
   ],
   "source": [
    "%cd .."
   ]
  },
  {
   "cell_type": "code",
   "execution_count": 24,
   "id": "7b87a438",
   "metadata": {},
   "outputs": [
    {
     "name": "stderr",
     "output_type": "stream",
     "text": [
      "/home/master/code/python-playground/app_noisemon/.venv/lib/python3.8/site-packages/torch/cuda/__init__.py:52: UserWarning: CUDA initialization: The NVIDIA driver on your system is too old (found version 6050). Please update your GPU driver by downloading and installing a new version from the URL: http://www.nvidia.com/Download/index.aspx Alternatively, go to: https://pytorch.org to install a PyTorch version that has been compiled with your version of the CUDA driver. (Triggered internally at  ../c10/cuda/CUDAFunctions.cpp:115.)\n",
      "  return torch._C._cuda_getDeviceCount() > 0\n"
     ]
    }
   ],
   "source": [
    "import json\n",
    "from pathlib import Path\n",
    "import spacy"
   ]
  },
  {
   "cell_type": "code",
   "execution_count": 44,
   "id": "f436ef71",
   "metadata": {},
   "outputs": [],
   "source": [
    "input_path = Path(\"./data/01-filtered/market_twits.json\")\n",
    "data = json.loads(input_path.read_text())"
   ]
  },
  {
   "cell_type": "code",
   "execution_count": 4,
   "id": "46f92b1c",
   "metadata": {},
   "outputs": [],
   "source": [
    "import regex"
   ]
  },
  {
   "cell_type": "code",
   "execution_count": 25,
   "id": "a181baf7",
   "metadata": {},
   "outputs": [],
   "source": [
    "nlp = spacy.load(\"ru_core_news_lg\")"
   ]
  },
  {
   "cell_type": "code",
   "execution_count": 45,
   "id": "1eca4890",
   "metadata": {},
   "outputs": [
    {
     "data": {
      "text/plain": [
       "'\"Русская Аквакультура\" объявила о намерении провести на Московской бирже вторичное публичное предложение новых обыкновенных акций компании.'"
      ]
     },
     "execution_count": 45,
     "metadata": {},
     "output_type": "execute_result"
    }
   ],
   "source": [
    "data[0]"
   ]
  },
  {
   "cell_type": "code",
   "execution_count": 22,
   "id": "e0a74916",
   "metadata": {},
   "outputs": [],
   "source": [
    "# in the beggining I gonna use only this type of ticker as the least messy\n",
    "ticker_re = regex.compile(\"(?<=\\$)[A-Z]{1,5}\")"
   ]
  },
  {
   "cell_type": "code",
   "execution_count": 46,
   "id": "7e6fcb6c",
   "metadata": {},
   "outputs": [],
   "source": [
    "data = list(filter(lambda text: any(ticker_re.findall(text)), data))"
   ]
  },
  {
   "cell_type": "code",
   "execution_count": 47,
   "id": "db337ff1",
   "metadata": {},
   "outputs": [
    {
     "data": {
      "text/plain": [
       "16"
      ]
     },
     "execution_count": 47,
     "metadata": {},
     "output_type": "execute_result"
    }
   ],
   "source": [
    "len(data)"
   ]
  },
  {
   "cell_type": "code",
   "execution_count": 36,
   "id": "c1b31730",
   "metadata": {},
   "outputs": [
    {
     "data": {
      "text/plain": [
       "'ОТЧЕТНОСТИ США\\nBANK OF AMERICA 1Q FICC TRADING REV. EX-DVA $2.54B, EST. $2.96B\\n\\nBank of America  $BAC  Q1 Revenue, $23.27B vs. $23.06B expected\\n\\n Bank of America  $BAC  Q1 Earnings Per Share (EPS): $0.62. Consensus of $0.59'"
      ]
     },
     "execution_count": 36,
     "metadata": {},
     "output_type": "execute_result"
    }
   ],
   "source": [
    "data[2]"
   ]
  },
  {
   "cell_type": "code",
   "execution_count": null,
   "id": "7c4466eb",
   "metadata": {},
   "outputs": [],
   "source": [
    "def process(text):\n",
    "\n",
    "    tickers = set(ticker_re(text))\n",
    "# 2.1 For tickers extract company names\n",
    "# company_names = list(map(self.ticker_processor.lookup_ticker_in_knowledgebase, tickers))\n",
    "# company_to_ticker_map = dict(zip(company_names, tickers))\n",
    "# 3. Match them with extracted organizations\n",
    "# matched_pairs, unmatched_orgs, unmatched_tickers = self.entity_linker.match_names(ners, company_to_ticker_map)\n",
    "# CASE 1 : everything exactly matched -> horray, populate training dataset\n",
    "# CASE 2 : some of NERS do not exist in tickets -> human check, penalize NER\n",
    "# CASE 3 : ???\n"
   ]
  },
  {
   "cell_type": "code",
   "execution_count": null,
   "id": "0fdc4a90",
   "metadata": {},
   "outputs": [],
   "source": []
  },
  {
   "cell_type": "code",
   "execution_count": null,
   "id": "21a8b499",
   "metadata": {},
   "outputs": [],
   "source": []
  },
  {
   "cell_type": "code",
   "execution_count": null,
   "id": "1c96cba8",
   "metadata": {},
   "outputs": [],
   "source": []
  },
  {
   "cell_type": "code",
   "execution_count": null,
   "id": "9294a511",
   "metadata": {},
   "outputs": [],
   "source": []
  },
  {
   "cell_type": "code",
   "execution_count": null,
   "id": "6ce17117",
   "metadata": {},
   "outputs": [],
   "source": []
  }
 ],
 "metadata": {
  "kernelspec": {
   "display_name": "noisemon",
   "language": "python",
   "name": "python3810_noisemon"
  },
  "language_info": {
   "codemirror_mode": {
    "name": "ipython",
    "version": 3
   },
   "file_extension": ".py",
   "mimetype": "text/x-python",
   "name": "python",
   "nbconvert_exporter": "python",
   "pygments_lexer": "ipython3",
   "version": "3.8.10"
  }
 },
 "nbformat": 4,
 "nbformat_minor": 5
}
