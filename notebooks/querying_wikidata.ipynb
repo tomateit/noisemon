{
 "cells": [
  {
   "cell_type": "markdown",
   "metadata": {},
   "source": [
    "# Querying wikidata"
   ]
  },
  {
   "cell_type": "code",
   "execution_count": 1,
   "metadata": {},
   "outputs": [],
   "source": [
    "from pprint import pprint\n",
    "from SPARQLWrapper import SPARQLWrapper, JSON, RDF"
   ]
  },
  {
   "cell_type": "code",
   "execution_count": 2,
   "metadata": {},
   "outputs": [],
   "source": [
    "sparql = SPARQLWrapper(\"http://query.wikidata.org/sparql\")\n",
    "sparql.setReturnFormat(JSON)"
   ]
  },
  {
   "cell_type": "markdown",
   "metadata": {},
   "source": [
    "## Querying company names"
   ]
  },
  {
   "cell_type": "code",
   "execution_count": 3,
   "metadata": {},
   "outputs": [
    {
     "data": {
      "text/plain": [
       "'\\nSELECT DISTINCT ?id ?idLabel WHERE {\\n    SERVICE wikibase:label { bd:serviceParam wikibase:language \"ru,en\". }\\n    VALUES ?orgLike { \\n        wd:Q93429702 \\n        wd:Q22687 \\n        wd:Q16691582 \\n        wd:Q4830453 \\n        wd:Q891723 \\n        wd:Q6881511\\n    }\\n    \\n    ?id wdt:P31 ?orgLike .\\n  \\n} LIMIT 20\\n'"
      ]
     },
     "execution_count": 3,
     "metadata": {},
     "output_type": "execute_result"
    }
   ],
   "source": [
    "\"\"\"\n",
    "SELECT DISTINCT ?id ?idLabel WHERE {\n",
    "    SERVICE wikibase:label { bd:serviceParam wikibase:language \"en\". }\n",
    "    VALUES ?orgLike { \n",
    "        wd:Q93429702 \n",
    "        wd:Q22687 \n",
    "        wd:Q16691582 \n",
    "        wd:Q4830453 \n",
    "        wd:Q891723 \n",
    "        wd:Q6881511\n",
    "    }\n",
    "    \n",
    "    ?id wdt:P31 ?orgLike .\n",
    "  \n",
    "} LIMIT 20\n",
    "\"\"\""
   ]
  },
  {
   "cell_type": "markdown",
   "metadata": {},
   "source": [
    "## Querying tickers and names"
   ]
  },
  {
   "cell_type": "code",
   "execution_count": 5,
   "metadata": {},
   "outputs": [],
   "source": [
    "# Business listed on NYSE and NASDAQ along with their ticker symbols\n",
    "sparql.setQuery( \"\"\"\n",
    "SELECT DISTINCT ?id ?idLabel ?exchangesLabel ?ticker WHERE {\n",
    "    SERVICE wikibase:label { bd:serviceParam wikibase:language \"en\" . }\n",
    "    VALUES ?exchanges { wd:Q13677 wd:Q82059 }\n",
    "    \n",
    "    ?id p:P414 ?exchange .\n",
    "        \n",
    "    ?exchange ps:P414 ?exchanges ;\n",
    "              pq:P249 ?ticker .\n",
    "} LIMIT 20 \"\"\")\n",
    "\n",
    "results = sparql.query().convert()"
   ]
  },
  {
   "cell_type": "code",
   "execution_count": 6,
   "metadata": {},
   "outputs": [
    {
     "name": "stdout",
     "output_type": "stream",
     "text": [
      "{'exchangesLabel': {'type': 'literal',\n",
      "                    'value': 'New York Stock Exchange',\n",
      "                    'xml:lang': 'en'},\n",
      " 'id': {'type': 'uri', 'value': 'http://www.wikidata.org/entity/Q522617'},\n",
      " 'idLabel': {'type': 'literal', 'value': 'Invesco', 'xml:lang': 'en'},\n",
      " 'ticker': {'type': 'literal', 'value': 'IVZ'}}\n"
     ]
    }
   ],
   "source": [
    "pprint(results[\"results\"][\"bindings\"][0])"
   ]
  },
  {
   "cell_type": "code",
   "execution_count": 40,
   "metadata": {},
   "outputs": [
    {
     "name": "stdout",
     "output_type": "stream",
     "text": [
      "[Q]             [COMPANY]                             [TICKER]  [AT EXCHANGE]\n",
      "Q7271499       \tQuestar Corporation                \tSTR\tНью-Йоркская фондовая биржа\n",
      "Q5206232       \tDTE Energy                         \tDTE\tНью-Йоркская фондовая биржа\n",
      "Q5207184       \tDaVita                             \tDVA\tНью-Йоркская фондовая биржа\n",
      "Q7688650       \tTaubman Centers                    \tTCO\tНью-Йоркская фондовая биржа\n",
      "Q18344949      \tGlobus Medical                     \tGMED\tНью-Йоркская фондовая биржа\n",
      "Q5214701       \tDana Corporation                   \tDAN\tНью-Йоркская фондовая биржа\n",
      "Q5337641       \tEdgewell Personal Care             \tEPC\tНью-Йоркская фондовая биржа\n",
      "Q5599779       \tGreat Plains Energy                \tGXP\tНью-Йоркская фондовая биржа\n",
      "Q4833115       \tAzurix                             \tAZX\tНью-Йоркская фондовая биржа\n",
      "Q7567571       \tSouth Jersey Industries            \tSJI\tНью-Йоркская фондовая биржа\n",
      "Q7440621       \tSealed Air                         \tSEE\tНью-Йоркская фондовая биржа\n",
      "Q14903417      \tDelhaize Le Lion                   \tDEG\tНью-Йоркская фондовая биржа\n",
      "Q6404433       \tKid Brands                         \tKID\tНью-Йоркская фондовая биржа\n",
      "Q7978891       \tWebster Bank                       \tWBS\tНью-Йоркская фондовая биржа\n",
      "Q5370289       \tEmcor                              \tEME\tНью-Йоркская фондовая биржа\n",
      "Q5370829       \tEmeritus Assisted Living           \tESC\tНью-Йоркская фондовая биржа\n",
      "Q6159625       \tJarden                             \tJAH\tНью-Йоркская фондовая биржа\n",
      "Q16013760      \tEnpro Industries                   \tNPO\tНью-Йоркская фондовая биржа\n",
      "Q7076286       \tOch-Ziff Capital Management        \tOZM\tНью-Йоркская фондовая биржа\n",
      "Q4732268       \tAllianceBernstein                  \tAB\tНью-Йоркская фондовая биржа\n"
     ]
    }
   ],
   "source": [
    "print(\"[Q]             [COMPANY]                             [TICKER]  [AT EXCHANGE]\")\n",
    "for company in results[\"results\"][\"bindings\"]:\n",
    "    company_entity = company[\"id\"][\"value\"].split(\"/\")[-1].ljust(15)\n",
    "    company_name = company[\"idLabel\"][\"value\"].ljust(35)\n",
    "    exchange = company[\"exchangesLabel\"][\"value\"]\n",
    "    ticker = company[\"ticker\"][\"value\"]\n",
    "    print(company_entity, company_name, ticker, exchange, sep=\"\\t\")"
   ]
  },
  {
   "cell_type": "markdown",
   "metadata": {},
   "source": [
    "## Querying company by name"
   ]
  },
  {
   "cell_type": "code",
   "execution_count": 18,
   "metadata": {},
   "outputs": [],
   "source": [
    "# Entities that are listen on stockexchange and match by name\n",
    "query =  \"\"\"\n",
    "SELECT DISTINCT ?id ?label WHERE {\n",
    "    VALUES ?exchanges { wd:Q13677 wd:Q82059 }\n",
    "    \n",
    "    ?id p:P414 ?exchange;\n",
    "        rdfs:label ?label FILTER (regex(?label, \"%s\", \"i\") && lang(?label)=\"ru\") .\n",
    "    \n",
    "} LIMIT 20 \"\"\" % (\"apple\",)\n",
    "sparql.setQuery(query)\n",
    "\n",
    "results = sparql.query().convert()"
   ]
  },
  {
   "cell_type": "code",
   "execution_count": 19,
   "metadata": {},
   "outputs": [
    {
     "name": "stdout",
     "output_type": "stream",
     "text": [
      "[{'id': {'type': 'uri', 'value': 'http://www.wikidata.org/entity/Q312'},\n",
      "  'label': {'type': 'literal', 'value': 'Apple', 'xml:lang': 'ru'}},\n",
      " {'id': {'type': 'uri', 'value': 'http://www.wikidata.org/entity/Q1254149'},\n",
      "  'label': {'type': 'literal',\n",
      "            'value': 'Dr Pepper Snapple Group',\n",
      "            'xml:lang': 'ru'}}]\n"
     ]
    }
   ],
   "source": [
    "pprint(results[\"results\"][\"bindings\"])"
   ]
  },
  {
   "cell_type": "markdown",
   "metadata": {},
   "source": [
    "## Querying company by ticker"
   ]
  },
  {
   "cell_type": "markdown",
   "metadata": {},
   "source": [
    "Some useful ids\n",
    "+ `ticker symbol (P249)`\n",
    "+ `ISIN (P946)`\n",
    "+ `company (Q783794)`\n",
    "    + legal entity representing an association of people, whether natural, legal or a mixture of both, with a specific objective\n",
    "+ `organization (Q43229)`\n",
    "    + social entity (not necessarily commercial) uniting people into a structured group managing shared means to meet some needs, or to pursue collective goals"
   ]
  },
  {
   "cell_type": "code",
   "execution_count": 3,
   "metadata": {},
   "outputs": [],
   "source": [
    "# Entities that are listen on stockexchange and match by ticker\n",
    "query =  \"\"\"\n",
    "SELECT DISTINCT ?id ?idLabel ?alias WHERE {\n",
    "    SERVICE wikibase:label { bd:serviceParam wikibase:language \"ru,en\". }\n",
    "    VALUES ?ticker { \"%s\"}\n",
    "    \n",
    "    ?id p:P414 ?exchange.\n",
    "    ?exchange pq:P249 ?ticker.\n",
    "    ?id skos:altLabel ?alias .\n",
    "}\n",
    "LIMIT 150\"\"\" % (\"SBER\",)\n",
    "sparql.setQuery(query)\n",
    "\n",
    "results = sparql.query().convert()"
   ]
  },
  {
   "cell_type": "code",
   "execution_count": 4,
   "metadata": {},
   "outputs": [
    {
     "name": "stdout",
     "output_type": "stream",
     "text": [
      "[{'alias': {'type': 'literal', 'value': 'Sberbank', 'xml:lang': 'en'},\n",
      "  'id': {'type': 'uri', 'value': 'http://www.wikidata.org/entity/Q205012'},\n",
      "  'idLabel': {'type': 'literal', 'value': 'Сбербанк РФ', 'xml:lang': 'ru'}},\n",
      " {'alias': {'type': 'literal',\n",
      "            'value': 'Акционерный коммерческий Сберегательный банк Российской '\n",
      "                     'Федерации',\n",
      "            'xml:lang': 'ru'},\n",
      "  'id': {'type': 'uri', 'value': 'http://www.wikidata.org/entity/Q205012'},\n",
      "  'idLabel': {'type': 'literal', 'value': 'Сбербанк РФ', 'xml:lang': 'ru'}},\n",
      " {'alias': {'type': 'literal',\n",
      "            'value': 'ОАО «Сбербанк России»',\n",
      "            'xml:lang': 'ru'},\n",
      "  'id': {'type': 'uri', 'value': 'http://www.wikidata.org/entity/Q205012'},\n",
      "  'idLabel': {'type': 'literal', 'value': 'Сбербанк РФ', 'xml:lang': 'ru'}},\n",
      " {'alias': {'type': 'literal', 'value': 'ПАО Сбербанк', 'xml:lang': 'ru'},\n",
      "  'id': {'type': 'uri', 'value': 'http://www.wikidata.org/entity/Q205012'},\n",
      "  'idLabel': {'type': 'literal', 'value': 'Сбербанк РФ', 'xml:lang': 'ru'}},\n",
      " {'alias': {'type': 'literal',\n",
      "            'value': 'Публичное акционерное общество «Сбербанк России»',\n",
      "            'xml:lang': 'ru'},\n",
      "  'id': {'type': 'uri', 'value': 'http://www.wikidata.org/entity/Q205012'},\n",
      "  'idLabel': {'type': 'literal', 'value': 'Сбербанк РФ', 'xml:lang': 'ru'}},\n",
      " {'alias': {'type': 'literal', 'value': 'Сбербанк России', 'xml:lang': 'ru'},\n",
      "  'id': {'type': 'uri', 'value': 'http://www.wikidata.org/entity/Q205012'},\n",
      "  'idLabel': {'type': 'literal', 'value': 'Сбербанк РФ', 'xml:lang': 'ru'}},\n",
      " {'alias': {'type': 'literal', 'value': 'СБРФ', 'xml:lang': 'ru'},\n",
      "  'id': {'type': 'uri', 'value': 'http://www.wikidata.org/entity/Q205012'},\n",
      "  'idLabel': {'type': 'literal', 'value': 'Сбербанк РФ', 'xml:lang': 'ru'}}]\n"
     ]
    }
   ],
   "source": [
    "pprint(results[\"results\"][\"bindings\"])"
   ]
  },
  {
   "cell_type": "markdown",
   "metadata": {},
   "source": [
    "### Query label by QID"
   ]
  },
  {
   "cell_type": "code",
   "execution_count": 17,
   "metadata": {},
   "outputs": [],
   "source": [
    "query =  \"\"\"\n",
    "SELECT DISTINCT ?label WHERE {\n",
    "    wd:%s rdfs:label ?label FILTER (lang(?label)=\"ru\" || lang(?label)=\"en\").\n",
    "}\n",
    "LIMIT 20\"\"\" % (\"Q380\")\n",
    "sparql.setQuery(query)\n",
    "\n",
    "results = sparql.query().convert()"
   ]
  },
  {
   "cell_type": "code",
   "execution_count": 18,
   "metadata": {},
   "outputs": [
    {
     "name": "stdout",
     "output_type": "stream",
     "text": [
      "[{'label': {'type': 'literal', 'value': 'Facebook, Inc.', 'xml:lang': 'ru'}},\n",
      " {'label': {'type': 'literal', 'value': 'Facebook, Inc.', 'xml:lang': 'en'}}]\n"
     ]
    }
   ],
   "source": [
    "pprint(results[\"results\"][\"bindings\"])"
   ]
  },
  {
   "cell_type": "code",
   "execution_count": 22,
   "metadata": {},
   "outputs": [
    {
     "data": {
      "text/plain": [
       "{'head': {'vars': ['label']},\n",
       " 'results': {'bindings': [{'label': {'xml:lang': 'ru',\n",
       "     'type': 'literal',\n",
       "     'value': 'Русал'}}]}}"
      ]
     },
     "execution_count": 22,
     "metadata": {},
     "output_type": "execute_result"
    }
   ],
   "source": [
    "results"
   ]
  },
  {
   "cell_type": "code",
   "execution_count": 25,
   "metadata": {},
   "outputs": [
    {
     "name": "stdout",
     "output_type": "stream",
     "text": [
      "'Русал'\n"
     ]
    }
   ],
   "source": [
    "pprint(results[\"results\"][\"bindings\"][0][\"label\"][\"value\"])"
   ]
  },
  {
   "cell_type": "code",
   "execution_count": null,
   "metadata": {},
   "outputs": [],
   "source": []
  }
 ],
 "metadata": {
  "kernelspec": {
   "display_name": "Noisemon",
   "language": "python",
   "name": "noisemon"
  },
  "language_info": {
   "codemirror_mode": {
    "name": "ipython",
    "version": 3
   },
   "file_extension": ".py",
   "mimetype": "text/x-python",
   "name": "python",
   "nbconvert_exporter": "python",
   "pygments_lexer": "ipython3",
   "version": "3.8.10"
  }
 },
 "nbformat": 4,
 "nbformat_minor": 4
}
