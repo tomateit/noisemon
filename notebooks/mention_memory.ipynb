{
 "cells": [
  {
   "cell_type": "markdown",
   "id": "2ae41cf8-9587-48e4-ad51-e58e32d1283b",
   "metadata": {},
   "source": [
    "# Mention memory"
   ]
  },
  {
   "cell_type": "markdown",
   "id": "3a6845c7-1a32-46ec-8e0e-f46dec4cae5d",
   "metadata": {},
   "source": [
    "Pondering into this paper: https://arxiv.org/pdf/2110.06176.pdf"
   ]
  },
  {
   "cell_type": "code",
   "execution_count": 1,
   "id": "d13d186a-a971-4e57-84a6-91c325912209",
   "metadata": {},
   "outputs": [],
   "source": [
    "import torch"
   ]
  },
  {
   "cell_type": "code",
   "execution_count": 2,
   "id": "64b80d38-3dec-48e9-8c1d-0c9e4ea539f4",
   "metadata": {},
   "outputs": [
    {
     "name": "stdout",
     "output_type": "stream",
     "text": [
      "False\n"
     ]
    }
   ],
   "source": [
    "print(torch.cuda.is_available())"
   ]
  },
  {
   "cell_type": "code",
   "execution_count": null,
   "id": "84efe43c-6b90-483d-8e65-f090e08fa8e9",
   "metadata": {},
   "outputs": [],
   "source": []
  }
 ],
 "metadata": {
  "kernelspec": {
   "display_name": "Python 3 (ipykernel)",
   "language": "python",
   "name": "python3"
  },
  "language_info": {
   "codemirror_mode": {
    "name": "ipython",
    "version": 3
   },
   "file_extension": ".py",
   "mimetype": "text/x-python",
   "name": "python",
   "nbconvert_exporter": "python",
   "pygments_lexer": "ipython3",
   "version": "3.8.10"
  }
 },
 "nbformat": 4,
 "nbformat_minor": 5
}
