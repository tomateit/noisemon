{
 "cells": [
  {
   "cell_type": "markdown",
   "id": "1f7a2b9c-7a8f-4691-b8f5-e79f29f9e0c3",
   "metadata": {},
   "source": [
    "# Get a list of entities which are organizations or companies"
   ]
  },
  {
   "cell_type": "code",
   "execution_count": 2,
   "id": "964b2ec1-72c2-4e39-9fc8-2d80a67a0c86",
   "metadata": {},
   "outputs": [],
   "source": [
    "from SPARQLWrapper import SPARQLWrapper, JSON"
   ]
  },
  {
   "cell_type": "code",
   "execution_count": null,
   "id": "0490aee7-b08a-4232-a1d2-3e1877fb3b69",
   "metadata": {},
   "outputs": [],
   "source": [
    "wd:Q43229, wd:Q4830453"
   ]
  },
  {
   "cell_type": "code",
   "execution_count": null,
   "id": "257adafc-eebd-4fa8-81d4-af8a4e0e5eb4",
   "metadata": {},
   "outputs": [],
   "source": [
    "def count_business_entities():\n",
    "    sparql = SPARQLWrapper(\"https://query.wikidata.org/sparql\")\n",
    "\n",
    "    query = \"\"\"\n",
    "    SELECT (COUNT(?item) AS ?count)\n",
    "    WHERE {\n",
    "      ?item wdt:P31 wd:Q4830453 .\n",
    "    }\n",
    "    \"\"\"\n",
    "\n",
    "    sparql.setQuery(query)\n",
    "    sparql.setReturnFormat(JSON)\n",
    "\n",
    "    results = sparql.query().convert()\n",
    "\n",
    "    count = int(results[\"results\"][\"bindings\"][0][\"count\"][\"value\"])\n",
    "    return count"
   ]
  },
  {
   "cell_type": "code",
   "execution_count": 2,
   "id": "9e8e8abb-f7f7-4cf5-8bb3-7681727f6cda",
   "metadata": {},
   "outputs": [
    {
     "name": "stdout",
     "output_type": "stream",
     "text": [
      "Number of business entities: 219347\n"
     ]
    }
   ],
   "source": [
    "\n",
    "business_entity_count = count_business_entities()\n",
    "print(\"Number of business entities:\", business_entity_count)"
   ]
  },
  {
   "cell_type": "code",
   "execution_count": 46,
   "id": "51be6adf-48f9-4d05-9c7b-3b8bbd9d4f71",
   "metadata": {},
   "outputs": [],
   "source": [
    "def query_org_entities():\n",
    "    sparql = SPARQLWrapper(\"https://query.wikidata.org/sparql\")\n",
    "    \n",
    "    query = \"\"\"\n",
    "    SELECT ?item\n",
    "    WHERE {\n",
    "      ?item wdt:P31 wd:Q43229 .\n",
    "    }\n",
    "    \"\"\"\n",
    "    \n",
    "    entities = []\n",
    "\n",
    "    sparql.setQuery(query)\n",
    "    sparql.setReturnFormat(JSON)\n",
    "\n",
    "    results = sparql.query().convert()\n",
    "\n",
    "    for result in results[\"results\"][\"bindings\"]:\n",
    "        qid = result[\"item\"][\"value\"].split(\"/\")[-1]\n",
    "        entities.append(qid)\n",
    "\n",
    "    return entities"
   ]
  },
  {
   "cell_type": "code",
   "execution_count": 47,
   "id": "282d4f67-eecb-4b04-a146-0d55c1617f41",
   "metadata": {},
   "outputs": [],
   "source": [
    "def query_business_entities():\n",
    "    sparql = SPARQLWrapper(\"https://query.wikidata.org/sparql\")\n",
    "    \n",
    "    query = \"\"\"\n",
    "    SELECT ?item\n",
    "    WHERE {\n",
    "      ?item wdt:P31 wd:Q4830453 .\n",
    "    }\n",
    "    \"\"\"\n",
    "    \n",
    "    entities = []\n",
    "\n",
    "    sparql.setQuery(query)\n",
    "    sparql.setReturnFormat(JSON)\n",
    "\n",
    "    results = sparql.query().convert()\n",
    "\n",
    "    for result in results[\"results\"][\"bindings\"]:\n",
    "        qid = result[\"item\"][\"value\"].split(\"/\")[-1]\n",
    "        entities.append(qid)\n",
    "\n",
    "    return entities"
   ]
  },
  {
   "cell_type": "code",
   "execution_count": 48,
   "id": "02a759be-4346-4195-974c-131d1950c703",
   "metadata": {},
   "outputs": [],
   "source": [
    "business_entities = query_business_entities()"
   ]
  },
  {
   "cell_type": "code",
   "execution_count": 49,
   "id": "5f7f979c-4d69-4388-afdb-1654d52ba28c",
   "metadata": {},
   "outputs": [],
   "source": [
    "org_entities = query_org_entities()"
   ]
  },
  {
   "cell_type": "code",
   "execution_count": 50,
   "id": "10dc3b96-e1c9-416c-80ae-01b8d8bcf92d",
   "metadata": {},
   "outputs": [
    {
     "name": "stdout",
     "output_type": "stream",
     "text": [
      "['L649066', 'L725783', 'L651618', 'L1144533', 'Q66', 'Q67', 'Q95', 'Q248', 'Q312', 'Q386']\n"
     ]
    }
   ],
   "source": [
    "print(business_entities[:10])"
   ]
  },
  {
   "cell_type": "code",
   "execution_count": 51,
   "id": "771efeb5-5027-425e-80e2-0b088cd3e3a9",
   "metadata": {},
   "outputs": [
    {
     "data": {
      "text/plain": [
       "313841"
      ]
     },
     "execution_count": 51,
     "metadata": {},
     "output_type": "execute_result"
    }
   ],
   "source": [
    "len(business_entities + org_entities)"
   ]
  },
  {
   "cell_type": "code",
   "execution_count": 66,
   "id": "8a13676f-92e0-419d-ae53-ddfc019befd8",
   "metadata": {},
   "outputs": [],
   "source": [
    "entities = [e for e in set(business_entities + org_entities) if \"Q\" in e]"
   ]
  },
  {
   "cell_type": "code",
   "execution_count": 67,
   "id": "ae58aa25-01c1-4658-b372-5174982ca073",
   "metadata": {},
   "outputs": [
    {
     "data": {
      "text/plain": [
       "312676"
      ]
     },
     "execution_count": 67,
     "metadata": {},
     "output_type": "execute_result"
    }
   ],
   "source": [
    "len(entities)"
   ]
  },
  {
   "cell_type": "code",
   "execution_count": 68,
   "id": "4b80da13-5f94-4f67-bc23-7c848c0ea222",
   "metadata": {},
   "outputs": [],
   "source": [
    "import pandas as pd"
   ]
  },
  {
   "cell_type": "code",
   "execution_count": 69,
   "id": "4f3bcf16-02b1-4c55-8315-a9ac605fcb4b",
   "metadata": {},
   "outputs": [],
   "source": [
    "pd.DataFrame({\"qid\": entitites}).to_parquet(\"business_entities.parquet\")"
   ]
  },
  {
   "cell_type": "code",
   "execution_count": null,
   "id": "72bbff6e-4d89-436e-ba5e-18417926d17a",
   "metadata": {},
   "outputs": [],
   "source": []
  }
 ],
 "metadata": {
  "kernelspec": {
   "display_name": "Python 3 (ipykernel)",
   "language": "python",
   "name": "python3"
  },
  "language_info": {
   "codemirror_mode": {
    "name": "ipython",
    "version": 3
   },
   "file_extension": ".py",
   "mimetype": "text/x-python",
   "name": "python",
   "nbconvert_exporter": "python",
   "pygments_lexer": "ipython3",
   "version": "3.10.12"
  }
 },
 "nbformat": 4,
 "nbformat_minor": 5
}
