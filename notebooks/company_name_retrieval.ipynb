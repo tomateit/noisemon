{
 "metadata": {
  "language_info": {
   "codemirror_mode": {
    "name": "ipython",
    "version": 3
   },
   "file_extension": ".py",
   "mimetype": "text/x-python",
   "name": "python",
   "nbconvert_exporter": "python",
   "pygments_lexer": "ipython3",
   "version": "3.8.10-final"
  },
  "orig_nbformat": 2,
  "kernelspec": {
   "name": "python381064bitvenvvenv474d31a0d3014a3ca786c8aadcd2cde7",
   "display_name": "Python 3.8.10 64-bit ('.venv': venv)"
  }
 },
 "nbformat": 4,
 "nbformat_minor": 2,
 "cells": [
  {
   "source": [
    "# Get company names"
   ],
   "cell_type": "markdown",
   "metadata": {}
  },
  {
   "cell_type": "code",
   "execution_count": 7,
   "metadata": {},
   "outputs": [],
   "source": [
    "from datetime import datetime\n",
    "from pprint import pprint\n",
    "from SPARQLWrapper import SPARQLWrapper, JSON, XML, N3, RDF"
   ]
  },
  {
   "cell_type": "code",
   "execution_count": 3,
   "metadata": {},
   "outputs": [],
   "source": [
    "sparql = SPARQLWrapper(\"http://dbpedia.org/sparql\")"
   ]
  },
  {
   "source": [
    "dbo:type \tmdbr:Public_company\n"
   ],
   "cell_type": "markdown",
   "metadata": {}
  },
  {
   "cell_type": "code",
   "execution_count": 19,
   "metadata": {},
   "outputs": [],
   "source": [
    "#SPARQL query to be executed\n",
    "sparql.setQuery(\"\"\"\n",
    "PREFIX dbo: <http://dbpedia.org/ontology/>\n",
    "PREFIX rdfs: <http://www.w3.org/2000/01/rdf-schema#>\n",
    "\n",
    "SELECT DISTINCT ?company, ?label  WHERE {\n",
    "    ?company dbo:type dbr:Public_company .\n",
    "    ?company rdfs:label ?label FILTER(lang(?label)=\"ru\") .\n",
    "} LIMIT 20\n",
    "\"\"\")\n",
    "\n",
    "sparql.setReturnFormat(JSON)   # Return format is JSON\n",
    "results = sparql.query().convert()   # execute SPARQL query and write result to \"results\""
   ]
  },
  {
   "cell_type": "code",
   "execution_count": 20,
   "metadata": {},
   "outputs": [
    {
     "output_type": "stream",
     "name": "stdout",
     "text": [
      "['Baltika Group',\n 'Bandai Namco Holdings',\n 'Bang & Olufsen',\n 'Bangkok Bank',\n 'Bank Central Asia',\n 'Банк Апоалим',\n 'Банк Леуми',\n 'BankMuscat',\n 'Bank One Corporation',\n 'Санкт-Петербург (банк)',\n 'Bank of America',\n 'Bank of Beijing',\n 'Bank of China',\n 'Bank of Communications',\n 'Банк Кипра',\n 'Bank of East Asia',\n 'Банк Мальдив',\n 'Bank of Montreal',\n 'Bank of Yokohama',\n 'Banque Saudi Fransi']\n"
     ]
    }
   ],
   "source": [
    "pprint([item[\"label\"][\"value\"] for item in results[\"results\"][\"bindings\"]])"
   ]
  },
  {
   "cell_type": "code",
   "execution_count": null,
   "metadata": {},
   "outputs": [],
   "source": []
  }
 ]
}