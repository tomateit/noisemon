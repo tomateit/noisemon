{
 "metadata": {
  "language_info": {
   "codemirror_mode": {
    "name": "ipython",
    "version": 3
   },
   "file_extension": ".py",
   "mimetype": "text/x-python",
   "name": "python",
   "nbconvert_exporter": "python",
   "pygments_lexer": "ipython3",
   "version": "3.8.10-final"
  },
  "orig_nbformat": 2,
  "kernelspec": {
   "name": "python381064bitvenvvenv474d31a0d3014a3ca786c8aadcd2cde7",
   "display_name": "Python 3.8.10 64-bit ('.venv': venv)"
  }
 },
 "nbformat": 4,
 "nbformat_minor": 2,
 "cells": [
  {
   "cell_type": "code",
   "execution_count": 1,
   "metadata": {},
   "outputs": [],
   "source": [
    "from datetime import datetime\n",
    "from SPARQLWrapper import SPARQLWrapper, JSON, XML, N3, RDF"
   ]
  },
  {
   "cell_type": "code",
   "execution_count": 2,
   "metadata": {},
   "outputs": [],
   "source": [
    "sparql = SPARQLWrapper(\"http://dbpedia.org/sparql\")"
   ]
  },
  {
   "source": [
    "dbo:type \tmdbr:Public_company\n"
   ],
   "cell_type": "markdown",
   "metadata": {}
  },
  {
   "cell_type": "code",
   "execution_count": 3,
   "metadata": {},
   "outputs": [],
   "source": [
    "#SPARQL query to be executed\n",
    "sparql.setQuery(\"\"\"\n",
    "PREFIX rdf: <http://www.w3.org/1999/02/22-rdf-syntax-ns#>\n",
    "PREFIX dbo: <http://dbpedia.org/ontology/>\n",
    "PREFIX rdfs: <http://www.w3.org/2000/01/rdf-schema#>\n",
    "PREFIX dc:  <http://purl.org/dc/elements/1.1/>\n",
    "\n",
    "SELECT DISTINCT ?company, ?name  WHERE {\n",
    "    ?company dbo:type dbr:Public_company .\n",
    "    ?company rdfs:label ?name FILTER(lang(?name)=\"ru\") .\n",
    "} LIMIT 20\n",
    "\"\"\")\n",
    "\n",
    "sparql.setReturnFormat(JSON)   # Return format is JSON\n",
    "results = sparql.query().convert()   # execute SPARQL query and write result to \"results\""
   ]
  },
  {
   "cell_type": "code",
   "execution_count": 4,
   "metadata": {},
   "outputs": [
    {
     "output_type": "execute_result",
     "data": {
      "text/plain": [
       "{'head': {'link': [], 'vars': ['company', 'name']},\n",
       " 'results': {'distinct': False,\n",
       "  'ordered': True,\n",
       "  'bindings': [{'company': {'type': 'uri',\n",
       "     'value': 'http://dbpedia.org/resource/Baltika_Group'},\n",
       "    'name': {'type': 'literal', 'xml:lang': 'ru', 'value': 'Baltika Group'}},\n",
       "   {'company': {'type': 'uri',\n",
       "     'value': 'http://dbpedia.org/resource/Bandai_Namco_Holdings'},\n",
       "    'name': {'type': 'literal',\n",
       "     'xml:lang': 'ru',\n",
       "     'value': 'Bandai Namco Holdings'}},\n",
       "   {'company': {'type': 'uri',\n",
       "     'value': 'http://dbpedia.org/resource/Bang_&_Olufsen'},\n",
       "    'name': {'type': 'literal', 'xml:lang': 'ru', 'value': 'Bang & Olufsen'}},\n",
       "   {'company': {'type': 'uri',\n",
       "     'value': 'http://dbpedia.org/resource/Bangkok_Bank'},\n",
       "    'name': {'type': 'literal', 'xml:lang': 'ru', 'value': 'Bangkok Bank'}},\n",
       "   {'company': {'type': 'uri',\n",
       "     'value': 'http://dbpedia.org/resource/Bank_Central_Asia'},\n",
       "    'name': {'type': 'literal',\n",
       "     'xml:lang': 'ru',\n",
       "     'value': 'Bank Central Asia'}},\n",
       "   {'company': {'type': 'uri',\n",
       "     'value': 'http://dbpedia.org/resource/Bank_Hapoalim'},\n",
       "    'name': {'type': 'literal', 'xml:lang': 'ru', 'value': 'Банк Апоалим'}},\n",
       "   {'company': {'type': 'uri',\n",
       "     'value': 'http://dbpedia.org/resource/Bank_Leumi'},\n",
       "    'name': {'type': 'literal', 'xml:lang': 'ru', 'value': 'Банк Леуми'}},\n",
       "   {'company': {'type': 'uri',\n",
       "     'value': 'http://dbpedia.org/resource/Bank_Muscat'},\n",
       "    'name': {'type': 'literal', 'xml:lang': 'ru', 'value': 'BankMuscat'}},\n",
       "   {'company': {'type': 'uri',\n",
       "     'value': 'http://dbpedia.org/resource/Bank_One_Corporation'},\n",
       "    'name': {'type': 'literal',\n",
       "     'xml:lang': 'ru',\n",
       "     'value': 'Bank One Corporation'}},\n",
       "   {'company': {'type': 'uri',\n",
       "     'value': 'http://dbpedia.org/resource/Bank_Saint_Petersburg'},\n",
       "    'name': {'type': 'literal',\n",
       "     'xml:lang': 'ru',\n",
       "     'value': 'Санкт-Петербург (банк)'}},\n",
       "   {'company': {'type': 'uri',\n",
       "     'value': 'http://dbpedia.org/resource/Bank_of_America'},\n",
       "    'name': {'type': 'literal', 'xml:lang': 'ru', 'value': 'Bank of America'}},\n",
       "   {'company': {'type': 'uri',\n",
       "     'value': 'http://dbpedia.org/resource/Bank_of_Beijing'},\n",
       "    'name': {'type': 'literal', 'xml:lang': 'ru', 'value': 'Bank of Beijing'}},\n",
       "   {'company': {'type': 'uri',\n",
       "     'value': 'http://dbpedia.org/resource/Bank_of_China'},\n",
       "    'name': {'type': 'literal', 'xml:lang': 'ru', 'value': 'Bank of China'}},\n",
       "   {'company': {'type': 'uri',\n",
       "     'value': 'http://dbpedia.org/resource/Bank_of_Communications'},\n",
       "    'name': {'type': 'literal',\n",
       "     'xml:lang': 'ru',\n",
       "     'value': 'Bank of Communications'}},\n",
       "   {'company': {'type': 'uri',\n",
       "     'value': 'http://dbpedia.org/resource/Bank_of_Cyprus'},\n",
       "    'name': {'type': 'literal', 'xml:lang': 'ru', 'value': 'Банк Кипра'}},\n",
       "   {'company': {'type': 'uri',\n",
       "     'value': 'http://dbpedia.org/resource/Bank_of_East_Asia'},\n",
       "    'name': {'type': 'literal',\n",
       "     'xml:lang': 'ru',\n",
       "     'value': 'Bank of East Asia'}},\n",
       "   {'company': {'type': 'uri',\n",
       "     'value': 'http://dbpedia.org/resource/Bank_of_Maldives'},\n",
       "    'name': {'type': 'literal', 'xml:lang': 'ru', 'value': 'Банк Мальдив'}},\n",
       "   {'company': {'type': 'uri',\n",
       "     'value': 'http://dbpedia.org/resource/Bank_of_Montreal'},\n",
       "    'name': {'type': 'literal',\n",
       "     'xml:lang': 'ru',\n",
       "     'value': 'Bank of Montreal'}},\n",
       "   {'company': {'type': 'uri',\n",
       "     'value': 'http://dbpedia.org/resource/Bank_of_Yokohama'},\n",
       "    'name': {'type': 'literal',\n",
       "     'xml:lang': 'ru',\n",
       "     'value': 'Bank of Yokohama'}},\n",
       "   {'company': {'type': 'uri',\n",
       "     'value': 'http://dbpedia.org/resource/Banque_Saudi_Fransi'},\n",
       "    'name': {'type': 'literal',\n",
       "     'xml:lang': 'ru',\n",
       "     'value': 'Banque Saudi Fransi'}}]}}"
      ]
     },
     "metadata": {},
     "execution_count": 4
    }
   ],
   "source": [
    "results"
   ]
  },
  {
   "cell_type": "code",
   "execution_count": null,
   "metadata": {},
   "outputs": [],
   "source": []
  }
 ]
}