{
 "cells": [
  {
   "cell_type": "markdown",
   "id": "01d3f238-b55d-4bdc-a0b0-5a2b4f651872",
   "metadata": {},
   "source": [
    "# KB population"
   ]
  },
  {
   "cell_type": "markdown",
   "id": "be2d0552-5255-467c-bd46-a10c36b826a0",
   "metadata": {},
   "source": [
    "Adding labeled entities from third-party datasets"
   ]
  },
  {
   "cell_type": "code",
   "execution_count": 2,
   "id": "0e47587e-c573-4e05-a7a8-0a1931f3f1d1",
   "metadata": {},
   "outputs": [
    {
     "name": "stdout",
     "output_type": "stream",
     "text": [
      "/home/max/process/dist/app_noisemon\n"
     ]
    }
   ],
   "source": [
    "%cd .."
   ]
  },
  {
   "cell_type": "code",
   "execution_count": 3,
   "id": "13e5297b-c493-408f-a1fa-4b6e8e30e436",
   "metadata": {},
   "outputs": [],
   "source": [
    "import json\n",
    "from pathlib import Path\n",
    "\n",
    "import pandas as pd\n",
    "from tqdm import tqdm"
   ]
  },
  {
   "cell_type": "code",
   "execution_count": 4,
   "id": "e75fbaf0-b4a0-4ada-b096-c45a59541df1",
   "metadata": {},
   "outputs": [],
   "source": [
    "from noisemon.database.database import SessionLocal\n",
    "from noisemon.models.entity import EntityModel, get_insert_many_statement\n",
    "from noisemon.models.document import DocumentData, DocumentModel, DocumentOrigin\n",
    "from noisemon.models.document import dataclass_to_model as document_dataclass_to_model\n",
    "from noisemon.models.mention import *"
   ]
  },
  {
   "cell_type": "code",
   "execution_count": 5,
   "id": "c02a0f58-0211-4776-9211-93974e679c44",
   "metadata": {},
   "outputs": [],
   "source": [
    "archive_dir = Path(\"./assets/entity_linking/archive/\").resolve()"
   ]
  },
  {
   "cell_type": "code",
   "execution_count": 6,
   "id": "e2580144-d04b-464c-b0a6-bad80c5b5d72",
   "metadata": {},
   "outputs": [
    {
     "data": {
      "text/plain": [
       "[PosixPath('/home/max/process/dist/app_noisemon/assets/entity_linking/archive/item_aliases.csv'),\n",
       " PosixPath('/home/max/process/dist/app_noisemon/assets/entity_linking/archive/page.csv'),\n",
       " PosixPath('/home/max/process/dist/app_noisemon/assets/entity_linking/archive/item.csv'),\n",
       " PosixPath('/home/max/process/dist/app_noisemon/assets/entity_linking/archive/property.csv'),\n",
       " PosixPath('/home/max/process/dist/app_noisemon/assets/entity_linking/archive/property_aliases.csv'),\n",
       " PosixPath('/home/max/process/dist/app_noisemon/assets/entity_linking/archive/statements.csv'),\n",
       " PosixPath('/home/max/process/dist/app_noisemon/assets/entity_linking/archive/link_annotated_text.jsonl')]"
      ]
     },
     "execution_count": 6,
     "metadata": {},
     "output_type": "execute_result"
    }
   ],
   "source": [
    "list(archive_dir.iterdir())"
   ]
  },
  {
   "cell_type": "code",
   "execution_count": 7,
   "id": "921c67a1-b111-4568-bdb8-d79b7de0f31e",
   "metadata": {},
   "outputs": [],
   "source": [
    "page_df = pd.read_csv(archive_dir / \"page.csv\")\n",
    "page_df.set_index(\"page_id\", inplace=True)"
   ]
  },
  {
   "cell_type": "code",
   "execution_count": 8,
   "id": "575262a7-ab0f-49d2-9983-edab9c6f6288",
   "metadata": {},
   "outputs": [],
   "source": [
    "item_df = pd.read_csv(archive_dir / \"item.csv\")\n",
    "item_df.set_index(\"item_id\", inplace=True)"
   ]
  },
  {
   "cell_type": "markdown",
   "id": "2ceb2786-03a4-46e3-9691-3b95a47f49c2",
   "metadata": {},
   "source": [
    "## Populate with entities"
   ]
  },
  {
   "cell_type": "markdown",
   "id": "40229464-7f00-4814-916f-4ec09bdca96b",
   "metadata": {},
   "source": [
    "KB does not have the entities to link with later; I currently do not do upserts on the run, as I assume entities already known at the runtime."
   ]
  },
  {
   "cell_type": "code",
   "execution_count": 19,
   "id": "ad267b33-634b-4fc2-af96-9817daae5f82",
   "metadata": {},
   "outputs": [
    {
     "name": "stderr",
     "output_type": "stream",
     "text": [
      "100%|█████████████████████████████████████████████████████████████████████████████████████████████████████████| 51450316/51450316 [2:33:30<00:00, 5586.03it/s]\n"
     ]
    }
   ],
   "source": [
    "db = SessionLocal()\n",
    "with db.begin():\n",
    "    buffer = []\n",
    "    for idx, row in tqdm(item_df.iterrows(), total=len(item_df)):\n",
    "        new_entity = EntityModel(\n",
    "            qid=id_to_qid(idx),\n",
    "            name=row.en_label,\n",
    "            type=None,\n",
    "        )\n",
    "        buffer.append(new_entity)\n",
    "        \n",
    "        if idx % 5000 == 1:\n",
    "            statement = get_insert_many_statement(buffer)\n",
    "            db.execute(statement)\n",
    "            buffer = []\n",
    "\n",
    "    else:\n",
    "        statement = get_insert_many_statement(buffer)\n",
    "        db.execute(statement)\n",
    "       \n",
    "db.commit()\n",
    "db.close()"
   ]
  },
  {
   "cell_type": "markdown",
   "id": "f681b570-ef3f-4880-9b08-7a7835ac4905",
   "metadata": {},
   "source": [
    "## Populate with mentions"
   ]
  },
  {
   "cell_type": "code",
   "execution_count": 9,
   "id": "5bd2c6a5-979e-494d-a27b-7efd1f268790",
   "metadata": {},
   "outputs": [],
   "source": [
    "def id_to_qid(id: str):\n",
    "    return f\"http://www.wikidata.org/entity/Q{id}\""
   ]
  },
  {
   "cell_type": "code",
   "execution_count": 11,
   "id": "55e46558-7287-4f0e-82b1-3b1c1adb7631",
   "metadata": {},
   "outputs": [],
   "source": [
    "def parse_section(section, page_df):\n",
    "    for offset, length, target_page_id in zip(section[\"link_offsets\"], section[\"link_lengths\"], section[\"target_page_ids\"]):\n",
    "        span_start = offset\n",
    "        span_end = offset+length\n",
    "        span = section[\"text\"][span_start:span_end]\n",
    "        row = page_df.loc[target_page_id]\n",
    "        title = row.title\n",
    "        qid = row.item_id\n",
    "        yield span_start, span_end, span, title, qid"
   ]
  },
  {
   "cell_type": "code",
   "execution_count": 12,
   "id": "871ca934-4ccd-4071-aab9-dbf23299262b",
   "metadata": {},
   "outputs": [
    {
     "name": "stdout",
     "output_type": "stream",
     "text": [
      "5343564 ./assets/entity_linking/archive/link_annotated_text.jsonl\n"
     ]
    }
   ],
   "source": [
    "!wc -l \"./assets/entity_linking/archive/link_annotated_text.jsonl\""
   ]
  },
  {
   "cell_type": "code",
   "execution_count": 13,
   "id": "22e0ab1c-0db4-4b83-95c2-fa9eb14f9054",
   "metadata": {},
   "outputs": [
    {
     "name": "stderr",
     "output_type": "stream",
     "text": [
      " 90%|███████████████████████████████████████████████████████████████████████████████████████████████▊          | 4830378/5343564 [36:05:22<3:50:03, 37.18it/s]\n"
     ]
    },
    {
     "ename": "OperationalError",
     "evalue": "(psycopg2.OperationalError) server closed the connection unexpectedly\n\tThis probably means the server terminated abnormally\n\tbefore or while processing the request.\n\n[SQL: INSERT INTO documents (id, origin, text, raw_text) VALUES (%(id)s, %(origin)s, %(text)s, %(raw_text)s)]\n[parameters: {'id': '9b28f443-78c1-4e9d-a875-516815cc3890', 'origin': '{\"from_process\": \"kb_population\", \"link\": null, \"resource\": \"WikiPedia Page [Anna constituency][section: Introduction]\", \"timestamp\": null}', 'text': 'The Anna Constituency (No. 89) is a Russian legislative constituency in Voronezh Oblast.', 'raw_text': 'The Anna Constituency (No. 89) is a Russian legislative constituency in Voronezh Oblast.'}]\n(Background on this error at: https://sqlalche.me/e/20/e3q8)",
     "output_type": "error",
     "traceback": [
      "\u001b[0;31m---------------------------------------------------------------------------\u001b[0m",
      "\u001b[0;31mOperationalError\u001b[0m                          Traceback (most recent call last)",
      "File \u001b[0;32m~/process/dist/app_noisemon/.venv/lib/python3.10/site-packages/sqlalchemy/engine/base.py:1964\u001b[0m, in \u001b[0;36mConnection._exec_single_context\u001b[0;34m(self, dialect, context, statement, parameters)\u001b[0m\n\u001b[1;32m   1963\u001b[0m     \u001b[38;5;28;01mif\u001b[39;00m \u001b[38;5;129;01mnot\u001b[39;00m evt_handled:\n\u001b[0;32m-> 1964\u001b[0m         \u001b[38;5;28;43mself\u001b[39;49m\u001b[38;5;241;43m.\u001b[39;49m\u001b[43mdialect\u001b[49m\u001b[38;5;241;43m.\u001b[39;49m\u001b[43mdo_execute\u001b[49m\u001b[43m(\u001b[49m\n\u001b[1;32m   1965\u001b[0m \u001b[43m            \u001b[49m\u001b[43mcursor\u001b[49m\u001b[43m,\u001b[49m\u001b[43m \u001b[49m\u001b[43mstr_statement\u001b[49m\u001b[43m,\u001b[49m\u001b[43m \u001b[49m\u001b[43meffective_parameters\u001b[49m\u001b[43m,\u001b[49m\u001b[43m \u001b[49m\u001b[43mcontext\u001b[49m\n\u001b[1;32m   1966\u001b[0m \u001b[43m        \u001b[49m\u001b[43m)\u001b[49m\n\u001b[1;32m   1968\u001b[0m \u001b[38;5;28;01mif\u001b[39;00m \u001b[38;5;28mself\u001b[39m\u001b[38;5;241m.\u001b[39m_has_events \u001b[38;5;129;01mor\u001b[39;00m \u001b[38;5;28mself\u001b[39m\u001b[38;5;241m.\u001b[39mengine\u001b[38;5;241m.\u001b[39m_has_events:\n",
      "File \u001b[0;32m~/process/dist/app_noisemon/.venv/lib/python3.10/site-packages/sqlalchemy/engine/default.py:746\u001b[0m, in \u001b[0;36mDefaultDialect.do_execute\u001b[0;34m(self, cursor, statement, parameters, context)\u001b[0m\n\u001b[1;32m    745\u001b[0m \u001b[38;5;28;01mdef\u001b[39;00m \u001b[38;5;21mdo_execute\u001b[39m(\u001b[38;5;28mself\u001b[39m, cursor, statement, parameters, context\u001b[38;5;241m=\u001b[39m\u001b[38;5;28;01mNone\u001b[39;00m):\n\u001b[0;32m--> 746\u001b[0m     \u001b[43mcursor\u001b[49m\u001b[38;5;241;43m.\u001b[39;49m\u001b[43mexecute\u001b[49m\u001b[43m(\u001b[49m\u001b[43mstatement\u001b[49m\u001b[43m,\u001b[49m\u001b[43m \u001b[49m\u001b[43mparameters\u001b[49m\u001b[43m)\u001b[49m\n",
      "\u001b[0;31mOperationalError\u001b[0m: server closed the connection unexpectedly\n\tThis probably means the server terminated abnormally\n\tbefore or while processing the request.\n",
      "\nThe above exception was the direct cause of the following exception:\n",
      "\u001b[0;31mOperationalError\u001b[0m                          Traceback (most recent call last)",
      "Cell \u001b[0;32mIn[13], line 24\u001b[0m\n\u001b[1;32m     22\u001b[0m new_document \u001b[38;5;241m=\u001b[39m document_dataclass_to_model(document)\n\u001b[1;32m     23\u001b[0m db\u001b[38;5;241m.\u001b[39madd(new_document)\n\u001b[0;32m---> 24\u001b[0m \u001b[43mdb\u001b[49m\u001b[38;5;241;43m.\u001b[39;49m\u001b[43mflush\u001b[49m\u001b[43m(\u001b[49m\u001b[43m)\u001b[49m\n\u001b[1;32m     26\u001b[0m \u001b[38;5;28;01mfor\u001b[39;00m span_start, span_end, span, title, qid \u001b[38;5;129;01min\u001b[39;00m parse_section(section, page_df):\n\u001b[1;32m     27\u001b[0m     new_mention \u001b[38;5;241m=\u001b[39m MentionModel(\n\u001b[1;32m     28\u001b[0m         origin\u001b[38;5;241m=\u001b[39mnew_document,\n\u001b[1;32m     29\u001b[0m         span\u001b[38;5;241m=\u001b[39mspan,\n\u001b[0;32m   (...)\u001b[0m\n\u001b[1;32m     33\u001b[0m         vector_index\u001b[38;5;241m=\u001b[39m\u001b[38;5;241m0\u001b[39m\n\u001b[1;32m     34\u001b[0m     )\n",
      "File \u001b[0;32m~/process/dist/app_noisemon/.venv/lib/python3.10/site-packages/sqlalchemy/orm/session.py:3955\u001b[0m, in \u001b[0;36mSession.flush\u001b[0;34m(self, objects)\u001b[0m\n\u001b[1;32m   3953\u001b[0m \u001b[38;5;28;01mtry\u001b[39;00m:\n\u001b[1;32m   3954\u001b[0m     \u001b[38;5;28mself\u001b[39m\u001b[38;5;241m.\u001b[39m_flushing \u001b[38;5;241m=\u001b[39m \u001b[38;5;28;01mTrue\u001b[39;00m\n\u001b[0;32m-> 3955\u001b[0m     \u001b[38;5;28;43mself\u001b[39;49m\u001b[38;5;241;43m.\u001b[39;49m\u001b[43m_flush\u001b[49m\u001b[43m(\u001b[49m\u001b[43mobjects\u001b[49m\u001b[43m)\u001b[49m\n\u001b[1;32m   3956\u001b[0m \u001b[38;5;28;01mfinally\u001b[39;00m:\n\u001b[1;32m   3957\u001b[0m     \u001b[38;5;28mself\u001b[39m\u001b[38;5;241m.\u001b[39m_flushing \u001b[38;5;241m=\u001b[39m \u001b[38;5;28;01mFalse\u001b[39;00m\n",
      "File \u001b[0;32m~/process/dist/app_noisemon/.venv/lib/python3.10/site-packages/sqlalchemy/orm/session.py:4091\u001b[0m, in \u001b[0;36mSession._flush\u001b[0;34m(self, objects)\u001b[0m\n\u001b[1;32m   4088\u001b[0m     transaction\u001b[38;5;241m.\u001b[39mcommit()\n\u001b[1;32m   4090\u001b[0m \u001b[38;5;28;01mexcept\u001b[39;00m:\n\u001b[0;32m-> 4091\u001b[0m     \u001b[38;5;28;01mwith\u001b[39;00m util\u001b[38;5;241m.\u001b[39msafe_reraise():\n\u001b[1;32m   4092\u001b[0m         transaction\u001b[38;5;241m.\u001b[39mrollback(_capture_exception\u001b[38;5;241m=\u001b[39m\u001b[38;5;28;01mTrue\u001b[39;00m)\n",
      "File \u001b[0;32m~/process/dist/app_noisemon/.venv/lib/python3.10/site-packages/sqlalchemy/util/langhelpers.py:148\u001b[0m, in \u001b[0;36msafe_reraise.__exit__\u001b[0;34m(self, type_, value, traceback)\u001b[0m\n\u001b[1;32m    146\u001b[0m     \u001b[38;5;28;01massert\u001b[39;00m exc_value \u001b[38;5;129;01mis\u001b[39;00m \u001b[38;5;129;01mnot\u001b[39;00m \u001b[38;5;28;01mNone\u001b[39;00m\n\u001b[1;32m    147\u001b[0m     \u001b[38;5;28mself\u001b[39m\u001b[38;5;241m.\u001b[39m_exc_info \u001b[38;5;241m=\u001b[39m \u001b[38;5;28;01mNone\u001b[39;00m  \u001b[38;5;66;03m# remove potential circular references\u001b[39;00m\n\u001b[0;32m--> 148\u001b[0m     \u001b[38;5;28;01mraise\u001b[39;00m exc_value\u001b[38;5;241m.\u001b[39mwith_traceback(exc_tb)\n\u001b[1;32m    149\u001b[0m \u001b[38;5;28;01melse\u001b[39;00m:\n\u001b[1;32m    150\u001b[0m     \u001b[38;5;28mself\u001b[39m\u001b[38;5;241m.\u001b[39m_exc_info \u001b[38;5;241m=\u001b[39m \u001b[38;5;28;01mNone\u001b[39;00m  \u001b[38;5;66;03m# remove potential circular references\u001b[39;00m\n",
      "File \u001b[0;32m~/process/dist/app_noisemon/.venv/lib/python3.10/site-packages/sqlalchemy/orm/session.py:4052\u001b[0m, in \u001b[0;36mSession._flush\u001b[0;34m(self, objects)\u001b[0m\n\u001b[1;32m   4050\u001b[0m \u001b[38;5;28mself\u001b[39m\u001b[38;5;241m.\u001b[39m_warn_on_events \u001b[38;5;241m=\u001b[39m \u001b[38;5;28;01mTrue\u001b[39;00m\n\u001b[1;32m   4051\u001b[0m \u001b[38;5;28;01mtry\u001b[39;00m:\n\u001b[0;32m-> 4052\u001b[0m     \u001b[43mflush_context\u001b[49m\u001b[38;5;241;43m.\u001b[39;49m\u001b[43mexecute\u001b[49m\u001b[43m(\u001b[49m\u001b[43m)\u001b[49m\n\u001b[1;32m   4053\u001b[0m \u001b[38;5;28;01mfinally\u001b[39;00m:\n\u001b[1;32m   4054\u001b[0m     \u001b[38;5;28mself\u001b[39m\u001b[38;5;241m.\u001b[39m_warn_on_events \u001b[38;5;241m=\u001b[39m \u001b[38;5;28;01mFalse\u001b[39;00m\n",
      "File \u001b[0;32m~/process/dist/app_noisemon/.venv/lib/python3.10/site-packages/sqlalchemy/orm/unitofwork.py:467\u001b[0m, in \u001b[0;36mUOWTransaction.execute\u001b[0;34m(self)\u001b[0m\n\u001b[1;32m    465\u001b[0m \u001b[38;5;28;01melse\u001b[39;00m:\n\u001b[1;32m    466\u001b[0m     \u001b[38;5;28;01mfor\u001b[39;00m rec \u001b[38;5;129;01min\u001b[39;00m topological\u001b[38;5;241m.\u001b[39msort(\u001b[38;5;28mself\u001b[39m\u001b[38;5;241m.\u001b[39mdependencies, postsort_actions):\n\u001b[0;32m--> 467\u001b[0m         \u001b[43mrec\u001b[49m\u001b[38;5;241;43m.\u001b[39;49m\u001b[43mexecute\u001b[49m\u001b[43m(\u001b[49m\u001b[38;5;28;43mself\u001b[39;49m\u001b[43m)\u001b[49m\n",
      "File \u001b[0;32m~/process/dist/app_noisemon/.venv/lib/python3.10/site-packages/sqlalchemy/orm/unitofwork.py:644\u001b[0m, in \u001b[0;36mSaveUpdateAll.execute\u001b[0;34m(self, uow)\u001b[0m\n\u001b[1;32m    642\u001b[0m \u001b[38;5;129m@util\u001b[39m\u001b[38;5;241m.\u001b[39mpreload_module(\u001b[38;5;124m\"\u001b[39m\u001b[38;5;124msqlalchemy.orm.persistence\u001b[39m\u001b[38;5;124m\"\u001b[39m)\n\u001b[1;32m    643\u001b[0m \u001b[38;5;28;01mdef\u001b[39;00m \u001b[38;5;21mexecute\u001b[39m(\u001b[38;5;28mself\u001b[39m, uow):\n\u001b[0;32m--> 644\u001b[0m     \u001b[43mutil\u001b[49m\u001b[38;5;241;43m.\u001b[39;49m\u001b[43mpreloaded\u001b[49m\u001b[38;5;241;43m.\u001b[39;49m\u001b[43morm_persistence\u001b[49m\u001b[38;5;241;43m.\u001b[39;49m\u001b[43msave_obj\u001b[49m\u001b[43m(\u001b[49m\n\u001b[1;32m    645\u001b[0m \u001b[43m        \u001b[49m\u001b[38;5;28;43mself\u001b[39;49m\u001b[38;5;241;43m.\u001b[39;49m\u001b[43mmapper\u001b[49m\u001b[43m,\u001b[49m\n\u001b[1;32m    646\u001b[0m \u001b[43m        \u001b[49m\u001b[43muow\u001b[49m\u001b[38;5;241;43m.\u001b[39;49m\u001b[43mstates_for_mapper_hierarchy\u001b[49m\u001b[43m(\u001b[49m\u001b[38;5;28;43mself\u001b[39;49m\u001b[38;5;241;43m.\u001b[39;49m\u001b[43mmapper\u001b[49m\u001b[43m,\u001b[49m\u001b[43m \u001b[49m\u001b[38;5;28;43;01mFalse\u001b[39;49;00m\u001b[43m,\u001b[49m\u001b[43m \u001b[49m\u001b[38;5;28;43;01mFalse\u001b[39;49;00m\u001b[43m)\u001b[49m\u001b[43m,\u001b[49m\n\u001b[1;32m    647\u001b[0m \u001b[43m        \u001b[49m\u001b[43muow\u001b[49m\u001b[43m,\u001b[49m\n\u001b[1;32m    648\u001b[0m \u001b[43m    \u001b[49m\u001b[43m)\u001b[49m\n",
      "File \u001b[0;32m~/process/dist/app_noisemon/.venv/lib/python3.10/site-packages/sqlalchemy/orm/persistence.py:93\u001b[0m, in \u001b[0;36msave_obj\u001b[0;34m(base_mapper, states, uowtransaction, single)\u001b[0m\n\u001b[1;32m     81\u001b[0m     update \u001b[38;5;241m=\u001b[39m _collect_update_commands(\n\u001b[1;32m     82\u001b[0m         uowtransaction, table, states_to_update\n\u001b[1;32m     83\u001b[0m     )\n\u001b[1;32m     85\u001b[0m     _emit_update_statements(\n\u001b[1;32m     86\u001b[0m         base_mapper,\n\u001b[1;32m     87\u001b[0m         uowtransaction,\n\u001b[0;32m   (...)\u001b[0m\n\u001b[1;32m     90\u001b[0m         update,\n\u001b[1;32m     91\u001b[0m     )\n\u001b[0;32m---> 93\u001b[0m     \u001b[43m_emit_insert_statements\u001b[49m\u001b[43m(\u001b[49m\n\u001b[1;32m     94\u001b[0m \u001b[43m        \u001b[49m\u001b[43mbase_mapper\u001b[49m\u001b[43m,\u001b[49m\n\u001b[1;32m     95\u001b[0m \u001b[43m        \u001b[49m\u001b[43muowtransaction\u001b[49m\u001b[43m,\u001b[49m\n\u001b[1;32m     96\u001b[0m \u001b[43m        \u001b[49m\u001b[43mmapper\u001b[49m\u001b[43m,\u001b[49m\n\u001b[1;32m     97\u001b[0m \u001b[43m        \u001b[49m\u001b[43mtable\u001b[49m\u001b[43m,\u001b[49m\n\u001b[1;32m     98\u001b[0m \u001b[43m        \u001b[49m\u001b[43minsert\u001b[49m\u001b[43m,\u001b[49m\n\u001b[1;32m     99\u001b[0m \u001b[43m    \u001b[49m\u001b[43m)\u001b[49m\n\u001b[1;32m    101\u001b[0m _finalize_insert_update_commands(\n\u001b[1;32m    102\u001b[0m     base_mapper,\n\u001b[1;32m    103\u001b[0m     uowtransaction,\n\u001b[0;32m   (...)\u001b[0m\n\u001b[1;32m    119\u001b[0m     ),\n\u001b[1;32m    120\u001b[0m )\n",
      "File \u001b[0;32m~/process/dist/app_noisemon/.venv/lib/python3.10/site-packages/sqlalchemy/orm/persistence.py:1173\u001b[0m, in \u001b[0;36m_emit_insert_statements\u001b[0;34m(base_mapper, uowtransaction, mapper, table, insert, bookkeeping, use_orm_insert_stmt, execution_options)\u001b[0m\n\u001b[1;32m   1167\u001b[0m     result \u001b[38;5;241m=\u001b[39m connection\u001b[38;5;241m.\u001b[39mexecute(\n\u001b[1;32m   1168\u001b[0m         statement\u001b[38;5;241m.\u001b[39mvalues(value_params),\n\u001b[1;32m   1169\u001b[0m         params,\n\u001b[1;32m   1170\u001b[0m         execution_options\u001b[38;5;241m=\u001b[39mexecution_options,\n\u001b[1;32m   1171\u001b[0m     )\n\u001b[1;32m   1172\u001b[0m \u001b[38;5;28;01melse\u001b[39;00m:\n\u001b[0;32m-> 1173\u001b[0m     result \u001b[38;5;241m=\u001b[39m \u001b[43mconnection\u001b[49m\u001b[38;5;241;43m.\u001b[39;49m\u001b[43mexecute\u001b[49m\u001b[43m(\u001b[49m\n\u001b[1;32m   1174\u001b[0m \u001b[43m        \u001b[49m\u001b[43mstatement\u001b[49m\u001b[43m,\u001b[49m\n\u001b[1;32m   1175\u001b[0m \u001b[43m        \u001b[49m\u001b[43mparams\u001b[49m\u001b[43m,\u001b[49m\n\u001b[1;32m   1176\u001b[0m \u001b[43m        \u001b[49m\u001b[43mexecution_options\u001b[49m\u001b[38;5;241;43m=\u001b[39;49m\u001b[43mexecution_options\u001b[49m\u001b[43m,\u001b[49m\n\u001b[1;32m   1177\u001b[0m \u001b[43m    \u001b[49m\u001b[43m)\u001b[49m\n\u001b[1;32m   1179\u001b[0m primary_key \u001b[38;5;241m=\u001b[39m result\u001b[38;5;241m.\u001b[39minserted_primary_key\n\u001b[1;32m   1180\u001b[0m \u001b[38;5;28;01mif\u001b[39;00m primary_key \u001b[38;5;129;01mis\u001b[39;00m \u001b[38;5;28;01mNone\u001b[39;00m:\n",
      "File \u001b[0;32m~/process/dist/app_noisemon/.venv/lib/python3.10/site-packages/sqlalchemy/engine/base.py:1414\u001b[0m, in \u001b[0;36mConnection.execute\u001b[0;34m(self, statement, parameters, execution_options)\u001b[0m\n\u001b[1;32m   1412\u001b[0m     \u001b[38;5;28;01mraise\u001b[39;00m exc\u001b[38;5;241m.\u001b[39mObjectNotExecutableError(statement) \u001b[38;5;28;01mfrom\u001b[39;00m \u001b[38;5;21;01merr\u001b[39;00m\n\u001b[1;32m   1413\u001b[0m \u001b[38;5;28;01melse\u001b[39;00m:\n\u001b[0;32m-> 1414\u001b[0m     \u001b[38;5;28;01mreturn\u001b[39;00m \u001b[43mmeth\u001b[49m\u001b[43m(\u001b[49m\n\u001b[1;32m   1415\u001b[0m \u001b[43m        \u001b[49m\u001b[38;5;28;43mself\u001b[39;49m\u001b[43m,\u001b[49m\n\u001b[1;32m   1416\u001b[0m \u001b[43m        \u001b[49m\u001b[43mdistilled_parameters\u001b[49m\u001b[43m,\u001b[49m\n\u001b[1;32m   1417\u001b[0m \u001b[43m        \u001b[49m\u001b[43mexecution_options\u001b[49m\u001b[43m \u001b[49m\u001b[38;5;129;43;01mor\u001b[39;49;00m\u001b[43m \u001b[49m\u001b[43mNO_OPTIONS\u001b[49m\u001b[43m,\u001b[49m\n\u001b[1;32m   1418\u001b[0m \u001b[43m    \u001b[49m\u001b[43m)\u001b[49m\n",
      "File \u001b[0;32m~/process/dist/app_noisemon/.venv/lib/python3.10/site-packages/sqlalchemy/sql/elements.py:489\u001b[0m, in \u001b[0;36mClauseElement._execute_on_connection\u001b[0;34m(self, connection, distilled_params, execution_options)\u001b[0m\n\u001b[1;32m    487\u001b[0m     \u001b[38;5;28;01mif\u001b[39;00m TYPE_CHECKING:\n\u001b[1;32m    488\u001b[0m         \u001b[38;5;28;01massert\u001b[39;00m \u001b[38;5;28misinstance\u001b[39m(\u001b[38;5;28mself\u001b[39m, Executable)\n\u001b[0;32m--> 489\u001b[0m     \u001b[38;5;28;01mreturn\u001b[39;00m \u001b[43mconnection\u001b[49m\u001b[38;5;241;43m.\u001b[39;49m\u001b[43m_execute_clauseelement\u001b[49m\u001b[43m(\u001b[49m\n\u001b[1;32m    490\u001b[0m \u001b[43m        \u001b[49m\u001b[38;5;28;43mself\u001b[39;49m\u001b[43m,\u001b[49m\u001b[43m \u001b[49m\u001b[43mdistilled_params\u001b[49m\u001b[43m,\u001b[49m\u001b[43m \u001b[49m\u001b[43mexecution_options\u001b[49m\n\u001b[1;32m    491\u001b[0m \u001b[43m    \u001b[49m\u001b[43m)\u001b[49m\n\u001b[1;32m    492\u001b[0m \u001b[38;5;28;01melse\u001b[39;00m:\n\u001b[1;32m    493\u001b[0m     \u001b[38;5;28;01mraise\u001b[39;00m exc\u001b[38;5;241m.\u001b[39mObjectNotExecutableError(\u001b[38;5;28mself\u001b[39m)\n",
      "File \u001b[0;32m~/process/dist/app_noisemon/.venv/lib/python3.10/site-packages/sqlalchemy/engine/base.py:1638\u001b[0m, in \u001b[0;36mConnection._execute_clauseelement\u001b[0;34m(self, elem, distilled_parameters, execution_options)\u001b[0m\n\u001b[1;32m   1626\u001b[0m compiled_cache: Optional[CompiledCacheType] \u001b[38;5;241m=\u001b[39m execution_options\u001b[38;5;241m.\u001b[39mget(\n\u001b[1;32m   1627\u001b[0m     \u001b[38;5;124m\"\u001b[39m\u001b[38;5;124mcompiled_cache\u001b[39m\u001b[38;5;124m\"\u001b[39m, \u001b[38;5;28mself\u001b[39m\u001b[38;5;241m.\u001b[39mengine\u001b[38;5;241m.\u001b[39m_compiled_cache\n\u001b[1;32m   1628\u001b[0m )\n\u001b[1;32m   1630\u001b[0m compiled_sql, extracted_params, cache_hit \u001b[38;5;241m=\u001b[39m elem\u001b[38;5;241m.\u001b[39m_compile_w_cache(\n\u001b[1;32m   1631\u001b[0m     dialect\u001b[38;5;241m=\u001b[39mdialect,\n\u001b[1;32m   1632\u001b[0m     compiled_cache\u001b[38;5;241m=\u001b[39mcompiled_cache,\n\u001b[0;32m   (...)\u001b[0m\n\u001b[1;32m   1636\u001b[0m     linting\u001b[38;5;241m=\u001b[39m\u001b[38;5;28mself\u001b[39m\u001b[38;5;241m.\u001b[39mdialect\u001b[38;5;241m.\u001b[39mcompiler_linting \u001b[38;5;241m|\u001b[39m compiler\u001b[38;5;241m.\u001b[39mWARN_LINTING,\n\u001b[1;32m   1637\u001b[0m )\n\u001b[0;32m-> 1638\u001b[0m ret \u001b[38;5;241m=\u001b[39m \u001b[38;5;28;43mself\u001b[39;49m\u001b[38;5;241;43m.\u001b[39;49m\u001b[43m_execute_context\u001b[49m\u001b[43m(\u001b[49m\n\u001b[1;32m   1639\u001b[0m \u001b[43m    \u001b[49m\u001b[43mdialect\u001b[49m\u001b[43m,\u001b[49m\n\u001b[1;32m   1640\u001b[0m \u001b[43m    \u001b[49m\u001b[43mdialect\u001b[49m\u001b[38;5;241;43m.\u001b[39;49m\u001b[43mexecution_ctx_cls\u001b[49m\u001b[38;5;241;43m.\u001b[39;49m\u001b[43m_init_compiled\u001b[49m\u001b[43m,\u001b[49m\n\u001b[1;32m   1641\u001b[0m \u001b[43m    \u001b[49m\u001b[43mcompiled_sql\u001b[49m\u001b[43m,\u001b[49m\n\u001b[1;32m   1642\u001b[0m \u001b[43m    \u001b[49m\u001b[43mdistilled_parameters\u001b[49m\u001b[43m,\u001b[49m\n\u001b[1;32m   1643\u001b[0m \u001b[43m    \u001b[49m\u001b[43mexecution_options\u001b[49m\u001b[43m,\u001b[49m\n\u001b[1;32m   1644\u001b[0m \u001b[43m    \u001b[49m\u001b[43mcompiled_sql\u001b[49m\u001b[43m,\u001b[49m\n\u001b[1;32m   1645\u001b[0m \u001b[43m    \u001b[49m\u001b[43mdistilled_parameters\u001b[49m\u001b[43m,\u001b[49m\n\u001b[1;32m   1646\u001b[0m \u001b[43m    \u001b[49m\u001b[43melem\u001b[49m\u001b[43m,\u001b[49m\n\u001b[1;32m   1647\u001b[0m \u001b[43m    \u001b[49m\u001b[43mextracted_params\u001b[49m\u001b[43m,\u001b[49m\n\u001b[1;32m   1648\u001b[0m \u001b[43m    \u001b[49m\u001b[43mcache_hit\u001b[49m\u001b[38;5;241;43m=\u001b[39;49m\u001b[43mcache_hit\u001b[49m\u001b[43m,\u001b[49m\n\u001b[1;32m   1649\u001b[0m \u001b[43m\u001b[49m\u001b[43m)\u001b[49m\n\u001b[1;32m   1650\u001b[0m \u001b[38;5;28;01mif\u001b[39;00m has_events:\n\u001b[1;32m   1651\u001b[0m     \u001b[38;5;28mself\u001b[39m\u001b[38;5;241m.\u001b[39mdispatch\u001b[38;5;241m.\u001b[39mafter_execute(\n\u001b[1;32m   1652\u001b[0m         \u001b[38;5;28mself\u001b[39m,\n\u001b[1;32m   1653\u001b[0m         elem,\n\u001b[0;32m   (...)\u001b[0m\n\u001b[1;32m   1657\u001b[0m         ret,\n\u001b[1;32m   1658\u001b[0m     )\n",
      "File \u001b[0;32m~/process/dist/app_noisemon/.venv/lib/python3.10/site-packages/sqlalchemy/engine/base.py:1842\u001b[0m, in \u001b[0;36mConnection._execute_context\u001b[0;34m(self, dialect, constructor, statement, parameters, execution_options, *args, **kw)\u001b[0m\n\u001b[1;32m   1837\u001b[0m     \u001b[38;5;28;01mreturn\u001b[39;00m \u001b[38;5;28mself\u001b[39m\u001b[38;5;241m.\u001b[39m_exec_insertmany_context(\n\u001b[1;32m   1838\u001b[0m         dialect,\n\u001b[1;32m   1839\u001b[0m         context,\n\u001b[1;32m   1840\u001b[0m     )\n\u001b[1;32m   1841\u001b[0m \u001b[38;5;28;01melse\u001b[39;00m:\n\u001b[0;32m-> 1842\u001b[0m     \u001b[38;5;28;01mreturn\u001b[39;00m \u001b[38;5;28;43mself\u001b[39;49m\u001b[38;5;241;43m.\u001b[39;49m\u001b[43m_exec_single_context\u001b[49m\u001b[43m(\u001b[49m\n\u001b[1;32m   1843\u001b[0m \u001b[43m        \u001b[49m\u001b[43mdialect\u001b[49m\u001b[43m,\u001b[49m\u001b[43m \u001b[49m\u001b[43mcontext\u001b[49m\u001b[43m,\u001b[49m\u001b[43m \u001b[49m\u001b[43mstatement\u001b[49m\u001b[43m,\u001b[49m\u001b[43m \u001b[49m\u001b[43mparameters\u001b[49m\n\u001b[1;32m   1844\u001b[0m \u001b[43m    \u001b[49m\u001b[43m)\u001b[49m\n",
      "File \u001b[0;32m~/process/dist/app_noisemon/.venv/lib/python3.10/site-packages/sqlalchemy/engine/base.py:1983\u001b[0m, in \u001b[0;36mConnection._exec_single_context\u001b[0;34m(self, dialect, context, statement, parameters)\u001b[0m\n\u001b[1;32m   1980\u001b[0m     result \u001b[38;5;241m=\u001b[39m context\u001b[38;5;241m.\u001b[39m_setup_result_proxy()\n\u001b[1;32m   1982\u001b[0m \u001b[38;5;28;01mexcept\u001b[39;00m \u001b[38;5;167;01mBaseException\u001b[39;00m \u001b[38;5;28;01mas\u001b[39;00m e:\n\u001b[0;32m-> 1983\u001b[0m     \u001b[38;5;28;43mself\u001b[39;49m\u001b[38;5;241;43m.\u001b[39;49m\u001b[43m_handle_dbapi_exception\u001b[49m\u001b[43m(\u001b[49m\n\u001b[1;32m   1984\u001b[0m \u001b[43m        \u001b[49m\u001b[43me\u001b[49m\u001b[43m,\u001b[49m\u001b[43m \u001b[49m\u001b[43mstr_statement\u001b[49m\u001b[43m,\u001b[49m\u001b[43m \u001b[49m\u001b[43meffective_parameters\u001b[49m\u001b[43m,\u001b[49m\u001b[43m \u001b[49m\u001b[43mcursor\u001b[49m\u001b[43m,\u001b[49m\u001b[43m \u001b[49m\u001b[43mcontext\u001b[49m\n\u001b[1;32m   1985\u001b[0m \u001b[43m    \u001b[49m\u001b[43m)\u001b[49m\n\u001b[1;32m   1987\u001b[0m \u001b[38;5;28;01mreturn\u001b[39;00m result\n",
      "File \u001b[0;32m~/process/dist/app_noisemon/.venv/lib/python3.10/site-packages/sqlalchemy/engine/base.py:2325\u001b[0m, in \u001b[0;36mConnection._handle_dbapi_exception\u001b[0;34m(self, e, statement, parameters, cursor, context, is_sub_exec)\u001b[0m\n\u001b[1;32m   2323\u001b[0m \u001b[38;5;28;01melif\u001b[39;00m should_wrap:\n\u001b[1;32m   2324\u001b[0m     \u001b[38;5;28;01massert\u001b[39;00m sqlalchemy_exception \u001b[38;5;129;01mis\u001b[39;00m \u001b[38;5;129;01mnot\u001b[39;00m \u001b[38;5;28;01mNone\u001b[39;00m\n\u001b[0;32m-> 2325\u001b[0m     \u001b[38;5;28;01mraise\u001b[39;00m sqlalchemy_exception\u001b[38;5;241m.\u001b[39mwith_traceback(exc_info[\u001b[38;5;241m2\u001b[39m]) \u001b[38;5;28;01mfrom\u001b[39;00m \u001b[38;5;21;01me\u001b[39;00m\n\u001b[1;32m   2326\u001b[0m \u001b[38;5;28;01melse\u001b[39;00m:\n\u001b[1;32m   2327\u001b[0m     \u001b[38;5;28;01massert\u001b[39;00m exc_info[\u001b[38;5;241m1\u001b[39m] \u001b[38;5;129;01mis\u001b[39;00m \u001b[38;5;129;01mnot\u001b[39;00m \u001b[38;5;28;01mNone\u001b[39;00m\n",
      "File \u001b[0;32m~/process/dist/app_noisemon/.venv/lib/python3.10/site-packages/sqlalchemy/engine/base.py:1964\u001b[0m, in \u001b[0;36mConnection._exec_single_context\u001b[0;34m(self, dialect, context, statement, parameters)\u001b[0m\n\u001b[1;32m   1962\u001b[0m                 \u001b[38;5;28;01mbreak\u001b[39;00m\n\u001b[1;32m   1963\u001b[0m     \u001b[38;5;28;01mif\u001b[39;00m \u001b[38;5;129;01mnot\u001b[39;00m evt_handled:\n\u001b[0;32m-> 1964\u001b[0m         \u001b[38;5;28;43mself\u001b[39;49m\u001b[38;5;241;43m.\u001b[39;49m\u001b[43mdialect\u001b[49m\u001b[38;5;241;43m.\u001b[39;49m\u001b[43mdo_execute\u001b[49m\u001b[43m(\u001b[49m\n\u001b[1;32m   1965\u001b[0m \u001b[43m            \u001b[49m\u001b[43mcursor\u001b[49m\u001b[43m,\u001b[49m\u001b[43m \u001b[49m\u001b[43mstr_statement\u001b[49m\u001b[43m,\u001b[49m\u001b[43m \u001b[49m\u001b[43meffective_parameters\u001b[49m\u001b[43m,\u001b[49m\u001b[43m \u001b[49m\u001b[43mcontext\u001b[49m\n\u001b[1;32m   1966\u001b[0m \u001b[43m        \u001b[49m\u001b[43m)\u001b[49m\n\u001b[1;32m   1968\u001b[0m \u001b[38;5;28;01mif\u001b[39;00m \u001b[38;5;28mself\u001b[39m\u001b[38;5;241m.\u001b[39m_has_events \u001b[38;5;129;01mor\u001b[39;00m \u001b[38;5;28mself\u001b[39m\u001b[38;5;241m.\u001b[39mengine\u001b[38;5;241m.\u001b[39m_has_events:\n\u001b[1;32m   1969\u001b[0m     \u001b[38;5;28mself\u001b[39m\u001b[38;5;241m.\u001b[39mdispatch\u001b[38;5;241m.\u001b[39mafter_cursor_execute(\n\u001b[1;32m   1970\u001b[0m         \u001b[38;5;28mself\u001b[39m,\n\u001b[1;32m   1971\u001b[0m         cursor,\n\u001b[0;32m   (...)\u001b[0m\n\u001b[1;32m   1975\u001b[0m         context\u001b[38;5;241m.\u001b[39mexecutemany,\n\u001b[1;32m   1976\u001b[0m     )\n",
      "File \u001b[0;32m~/process/dist/app_noisemon/.venv/lib/python3.10/site-packages/sqlalchemy/engine/default.py:746\u001b[0m, in \u001b[0;36mDefaultDialect.do_execute\u001b[0;34m(self, cursor, statement, parameters, context)\u001b[0m\n\u001b[1;32m    745\u001b[0m \u001b[38;5;28;01mdef\u001b[39;00m \u001b[38;5;21mdo_execute\u001b[39m(\u001b[38;5;28mself\u001b[39m, cursor, statement, parameters, context\u001b[38;5;241m=\u001b[39m\u001b[38;5;28;01mNone\u001b[39;00m):\n\u001b[0;32m--> 746\u001b[0m     \u001b[43mcursor\u001b[49m\u001b[38;5;241;43m.\u001b[39;49m\u001b[43mexecute\u001b[49m\u001b[43m(\u001b[49m\u001b[43mstatement\u001b[49m\u001b[43m,\u001b[49m\u001b[43m \u001b[49m\u001b[43mparameters\u001b[49m\u001b[43m)\u001b[49m\n",
      "\u001b[0;31mOperationalError\u001b[0m: (psycopg2.OperationalError) server closed the connection unexpectedly\n\tThis probably means the server terminated abnormally\n\tbefore or while processing the request.\n\n[SQL: INSERT INTO documents (id, origin, text, raw_text) VALUES (%(id)s, %(origin)s, %(text)s, %(raw_text)s)]\n[parameters: {'id': '9b28f443-78c1-4e9d-a875-516815cc3890', 'origin': '{\"from_process\": \"kb_population\", \"link\": null, \"resource\": \"WikiPedia Page [Anna constituency][section: Introduction]\", \"timestamp\": null}', 'text': 'The Anna Constituency (No. 89) is a Russian legislative constituency in Voronezh Oblast.', 'raw_text': 'The Anna Constituency (No. 89) is a Russian legislative constituency in Voronezh Oblast.'}]\n(Background on this error at: https://sqlalche.me/e/20/e3q8)"
     ]
    }
   ],
   "source": [
    "db = SessionLocal()\n",
    "with open(archive_dir / \"link_annotated_text.jsonl\", \"r\") as fin:\n",
    "    for line_number, line in tqdm(enumerate(fin), total=5343564):\n",
    "        if line_number <= 2902312:\n",
    "            continue\n",
    "        with db.begin():\n",
    "            chunk = json.loads(line)\n",
    "            page_id = chunk[\"page_id\"]\n",
    "            page_title = page_df.loc[page_id].title\n",
    "            origin = DocumentOrigin(resource=f\"WikiPedia Page [{page_title}]\", from_process=\"kb_population\")\n",
    "\n",
    "            for section in chunk.get(\"sections\", []):\n",
    "                origin = DocumentOrigin(\n",
    "                    resource=f\"WikiPedia Page [{page_title}][section: {section['name']}]\", \n",
    "                    from_process=\"kb_population\"\n",
    "                )\n",
    "                document = DocumentData(\n",
    "                    origin=origin,\n",
    "                    text=section[\"text\"],\n",
    "                    raw_text=section[\"text\"],\n",
    "                )\n",
    "                new_document = document_dataclass_to_model(document)\n",
    "                db.add(new_document)\n",
    "                db.flush()\n",
    "                \n",
    "                for span_start, span_end, span, title, qid in parse_section(section, page_df):\n",
    "                    new_mention = MentionModel(\n",
    "                        origin=new_document,\n",
    "                        span=span,\n",
    "                        span_start=span_start,\n",
    "                        span_end=span_end,\n",
    "                        entity_qid=id_to_qid(qid),\n",
    "                        vector_index=0\n",
    "                    )\n",
    "                    db.add(new_mention)\n",
    "                db.flush()"
   ]
  },
  {
   "cell_type": "code",
   "execution_count": 37,
   "id": "322c6f3a-d68c-4911-bc71-dff4838c25b6",
   "metadata": {},
   "outputs": [],
   "source": [
    "db.commit()"
   ]
  },
  {
   "cell_type": "code",
   "execution_count": 20,
   "id": "fb536d07-ed63-4169-8cac-68abc66536e5",
   "metadata": {},
   "outputs": [
    {
     "ename": "IndexError",
     "evalue": "single positional indexer is out-of-bounds",
     "output_type": "error",
     "traceback": [
      "\u001b[0;31m---------------------------------------------------------------------------\u001b[0m",
      "\u001b[0;31mIndexError\u001b[0m                                Traceback (most recent call last)",
      "Cell \u001b[0;32mIn[20], line 1\u001b[0m\n\u001b[0;32m----> 1\u001b[0m \u001b[38;5;28;43mlist\u001b[39;49m\u001b[43m(\u001b[49m\u001b[43mparse_section\u001b[49m\u001b[43m(\u001b[49m\u001b[43msection\u001b[49m\u001b[43m,\u001b[49m\u001b[43m \u001b[49m\u001b[43mpage_df\u001b[49m\u001b[43m)\u001b[49m\u001b[43m)\u001b[49m\n",
      "Cell \u001b[0;32mIn[13], line 6\u001b[0m, in \u001b[0;36mparse_section\u001b[0;34m(section, page_df)\u001b[0m\n\u001b[1;32m      4\u001b[0m span_end \u001b[38;5;241m=\u001b[39m offset\u001b[38;5;241m+\u001b[39mlength\n\u001b[1;32m      5\u001b[0m span \u001b[38;5;241m=\u001b[39m section[\u001b[38;5;124m\"\u001b[39m\u001b[38;5;124mtext\u001b[39m\u001b[38;5;124m\"\u001b[39m][span_start:span_end]\n\u001b[0;32m----> 6\u001b[0m row \u001b[38;5;241m=\u001b[39m \u001b[43mpage_df\u001b[49m\u001b[38;5;241;43m.\u001b[39;49m\u001b[43miloc\u001b[49m\u001b[43m[\u001b[49m\u001b[43mtarget_page_id\u001b[49m\u001b[43m]\u001b[49m\n\u001b[1;32m      7\u001b[0m title \u001b[38;5;241m=\u001b[39m row\u001b[38;5;241m.\u001b[39mtitle\n\u001b[1;32m      8\u001b[0m qid \u001b[38;5;241m=\u001b[39m row\u001b[38;5;241m.\u001b[39mitem_id\n",
      "File \u001b[0;32m~/process/dist/app_noisemon/.venv/lib/python3.10/site-packages/pandas/core/indexing.py:1073\u001b[0m, in \u001b[0;36m_LocationIndexer.__getitem__\u001b[0;34m(self, key)\u001b[0m\n\u001b[1;32m   1070\u001b[0m axis \u001b[38;5;241m=\u001b[39m \u001b[38;5;28mself\u001b[39m\u001b[38;5;241m.\u001b[39maxis \u001b[38;5;129;01mor\u001b[39;00m \u001b[38;5;241m0\u001b[39m\n\u001b[1;32m   1072\u001b[0m maybe_callable \u001b[38;5;241m=\u001b[39m com\u001b[38;5;241m.\u001b[39mapply_if_callable(key, \u001b[38;5;28mself\u001b[39m\u001b[38;5;241m.\u001b[39mobj)\n\u001b[0;32m-> 1073\u001b[0m \u001b[38;5;28;01mreturn\u001b[39;00m \u001b[38;5;28;43mself\u001b[39;49m\u001b[38;5;241;43m.\u001b[39;49m\u001b[43m_getitem_axis\u001b[49m\u001b[43m(\u001b[49m\u001b[43mmaybe_callable\u001b[49m\u001b[43m,\u001b[49m\u001b[43m \u001b[49m\u001b[43maxis\u001b[49m\u001b[38;5;241;43m=\u001b[39;49m\u001b[43maxis\u001b[49m\u001b[43m)\u001b[49m\n",
      "File \u001b[0;32m~/process/dist/app_noisemon/.venv/lib/python3.10/site-packages/pandas/core/indexing.py:1625\u001b[0m, in \u001b[0;36m_iLocIndexer._getitem_axis\u001b[0;34m(self, key, axis)\u001b[0m\n\u001b[1;32m   1622\u001b[0m     \u001b[38;5;28;01mraise\u001b[39;00m \u001b[38;5;167;01mTypeError\u001b[39;00m(\u001b[38;5;124m\"\u001b[39m\u001b[38;5;124mCannot index by location index with a non-integer key\u001b[39m\u001b[38;5;124m\"\u001b[39m)\n\u001b[1;32m   1624\u001b[0m \u001b[38;5;66;03m# validate the location\u001b[39;00m\n\u001b[0;32m-> 1625\u001b[0m \u001b[38;5;28;43mself\u001b[39;49m\u001b[38;5;241;43m.\u001b[39;49m\u001b[43m_validate_integer\u001b[49m\u001b[43m(\u001b[49m\u001b[43mkey\u001b[49m\u001b[43m,\u001b[49m\u001b[43m \u001b[49m\u001b[43maxis\u001b[49m\u001b[43m)\u001b[49m\n\u001b[1;32m   1627\u001b[0m \u001b[38;5;28;01mreturn\u001b[39;00m \u001b[38;5;28mself\u001b[39m\u001b[38;5;241m.\u001b[39mobj\u001b[38;5;241m.\u001b[39m_ixs(key, axis\u001b[38;5;241m=\u001b[39maxis)\n",
      "File \u001b[0;32m~/process/dist/app_noisemon/.venv/lib/python3.10/site-packages/pandas/core/indexing.py:1557\u001b[0m, in \u001b[0;36m_iLocIndexer._validate_integer\u001b[0;34m(self, key, axis)\u001b[0m\n\u001b[1;32m   1555\u001b[0m len_axis \u001b[38;5;241m=\u001b[39m \u001b[38;5;28mlen\u001b[39m(\u001b[38;5;28mself\u001b[39m\u001b[38;5;241m.\u001b[39mobj\u001b[38;5;241m.\u001b[39m_get_axis(axis))\n\u001b[1;32m   1556\u001b[0m \u001b[38;5;28;01mif\u001b[39;00m key \u001b[38;5;241m>\u001b[39m\u001b[38;5;241m=\u001b[39m len_axis \u001b[38;5;129;01mor\u001b[39;00m key \u001b[38;5;241m<\u001b[39m \u001b[38;5;241m-\u001b[39mlen_axis:\n\u001b[0;32m-> 1557\u001b[0m     \u001b[38;5;28;01mraise\u001b[39;00m \u001b[38;5;167;01mIndexError\u001b[39;00m(\u001b[38;5;124m\"\u001b[39m\u001b[38;5;124msingle positional indexer is out-of-bounds\u001b[39m\u001b[38;5;124m\"\u001b[39m)\n",
      "\u001b[0;31mIndexError\u001b[0m: single positional indexer is out-of-bounds"
     ]
    }
   ],
   "source": [
    "list(parse_section(section, page_df))"
   ]
  },
  {
   "cell_type": "code",
   "execution_count": 12,
   "id": "354c3b6c-7f58-47b1-b609-42b8917d88c3",
   "metadata": {},
   "outputs": [],
   "source": [
    "section = chunk[\"sections\"][0]"
   ]
  },
  {
   "cell_type": "code",
   "execution_count": 14,
   "id": "8c8411e9-880b-4fd1-ad79-9d654859bd37",
   "metadata": {},
   "outputs": [
    {
     "data": {
      "text/plain": [
       "'anti-authoritarian'"
      ]
     },
     "execution_count": 14,
     "metadata": {},
     "output_type": "execute_result"
    }
   ],
   "source": [
    "section[\"text\"][16:16+18]"
   ]
  },
  {
   "cell_type": "code",
   "execution_count": 27,
   "id": "09333a64-f1d7-47fe-8ee1-3c26bef0697b",
   "metadata": {},
   "outputs": [
    {
     "name": "stdout",
     "output_type": "stream",
     "text": [
      "anti-authoritarian Anti-authoritarianism 1030234\n",
      "political Political philosophy 179805\n",
      "social philosophy Social philosophy 180592\n",
      "hierarchies Hierarchy 188619\n",
      "self-managed Organizational Self-management 15981562\n",
      "self-governed Self-governance 417633\n",
      "cooperative Cooperative 4539\n",
      "stateless societies Stateless society 1708603\n",
      "free associations Free association (Marxism and anarchism) 5500187\n",
      "state Sovereign state 3624078\n",
      "far-left Far-left politics 1129409\n",
      "political spectrum Political spectrum 210918\n",
      "economics Anarchist economics 4751666\n",
      "legal philosophy Anarchist law 2738779\n",
      "communism Anarcho-communism 188670\n",
      "collectivism Collectivist anarchism 223178\n",
      "syndicalism Anarcho-syndicalism 188993\n",
      "mutualism Mutualism (economic theory) 844212\n",
      "participatory economics Participatory economics 650953\n",
      "anarchist types and traditions History of anarchism 2746978\n",
      "Anarchist schools of thought Anarchist schools of thought 1278791\n",
      "individualism Individualism 171995\n",
      "collectivism Collectivism 237789\n",
      "social Social anarchism 370919\n",
      "individualist anarchism Individualist anarchism 7076\n"
     ]
    }
   ],
   "source": [
    "parse_section(section, page_df)"
   ]
  },
  {
   "cell_type": "code",
   "execution_count": 15,
   "id": "733c7523-00eb-4163-9753-1e2ca0fd4fb5",
   "metadata": {},
   "outputs": [
    {
     "data": {
      "text/plain": [
       "{'name': 'Introduction',\n",
       " 'text': \"Anarchism is an anti-authoritarian political and social philosophy that rejects hierarchies deemed unjust and advocates their replacement with self-managed, self-governed societies based on voluntary, cooperative institutions. These institutions are often described as stateless societies, although several authors have defined them more specifically as distinct institutions based on non-hierarchical or free associations. Anarchism's central disagreement with other ideologies is that it holds the state to be undesirable, unnecessary, and harmful. Anarchism is usually placed on the far-left of the political spectrum, and much of its economics and legal philosophy reflect anti-authoritarian interpretations of communism, collectivism, syndicalism, mutualism, or participatory economics. As anarchism does not offer a fixed body of doctrine from a single particular worldview, many anarchist types and traditions exist and varieties of anarchy diverge widely. Anarchist schools of thought can differ fundamentally, supporting anything from extreme individualism to complete collectivism. Strains of anarchism have often been divided into the categories of social and individualist anarchism, or similar dual classifications.\",\n",
       " 'link_lengths': [18,\n",
       "  9,\n",
       "  17,\n",
       "  11,\n",
       "  12,\n",
       "  13,\n",
       "  11,\n",
       "  19,\n",
       "  17,\n",
       "  5,\n",
       "  8,\n",
       "  18,\n",
       "  9,\n",
       "  16,\n",
       "  9,\n",
       "  12,\n",
       "  11,\n",
       "  9,\n",
       "  23,\n",
       "  30,\n",
       "  28,\n",
       "  13,\n",
       "  12,\n",
       "  6,\n",
       "  23],\n",
       " 'link_offsets': [16,\n",
       "  35,\n",
       "  49,\n",
       "  80,\n",
       "  143,\n",
       "  157,\n",
       "  201,\n",
       "  269,\n",
       "  405,\n",
       "  500,\n",
       "  586,\n",
       "  602,\n",
       "  638,\n",
       "  652,\n",
       "  715,\n",
       "  726,\n",
       "  740,\n",
       "  753,\n",
       "  767,\n",
       "  886,\n",
       "  964,\n",
       "  1052,\n",
       "  1078,\n",
       "  1160,\n",
       "  1171],\n",
       " 'target_page_ids': [867979,\n",
       "  23040,\n",
       "  586276,\n",
       "  13998,\n",
       "  40949353,\n",
       "  191161,\n",
       "  89313,\n",
       "  4228181,\n",
       "  26271818,\n",
       "  23604120,\n",
       "  18247344,\n",
       "  23490,\n",
       "  1228884,\n",
       "  5483237,\n",
       "  17865,\n",
       "  46399294,\n",
       "  49938,\n",
       "  1799997,\n",
       "  76393,\n",
       "  1063286,\n",
       "  46399274,\n",
       "  15181,\n",
       "  5708,\n",
       "  39353100,\n",
       "  14936]}"
      ]
     },
     "execution_count": 15,
     "metadata": {},
     "output_type": "execute_result"
    }
   ],
   "source": [
    "section"
   ]
  },
  {
   "cell_type": "code",
   "execution_count": 18,
   "id": "47ac3b75-647a-437b-9a4a-1108764f03ed",
   "metadata": {},
   "outputs": [
    {
     "data": {
      "text/html": [
       "<div>\n",
       "<style scoped>\n",
       "    .dataframe tbody tr th:only-of-type {\n",
       "        vertical-align: middle;\n",
       "    }\n",
       "\n",
       "    .dataframe tbody tr th {\n",
       "        vertical-align: top;\n",
       "    }\n",
       "\n",
       "    .dataframe thead th {\n",
       "        text-align: right;\n",
       "    }\n",
       "</style>\n",
       "<table border=\"1\" class=\"dataframe\">\n",
       "  <thead>\n",
       "    <tr style=\"text-align: right;\">\n",
       "      <th></th>\n",
       "      <th>page_id</th>\n",
       "      <th>item_id</th>\n",
       "      <th>title</th>\n",
       "      <th>views</th>\n",
       "    </tr>\n",
       "  </thead>\n",
       "  <tbody>\n",
       "    <tr>\n",
       "      <th>260552</th>\n",
       "      <td>867979</td>\n",
       "      <td>1030234</td>\n",
       "      <td>Anti-authoritarianism</td>\n",
       "      <td>1914</td>\n",
       "    </tr>\n",
       "  </tbody>\n",
       "</table>\n",
       "</div>"
      ],
      "text/plain": [
       "        page_id  item_id                  title  views\n",
       "260552   867979  1030234  Anti-authoritarianism   1914"
      ]
     },
     "execution_count": 18,
     "metadata": {},
     "output_type": "execute_result"
    }
   ],
   "source": [
    "page_df[page_df.page_id == 867979]"
   ]
  },
  {
   "cell_type": "code",
   "execution_count": null,
   "id": "0f0604e0-663f-438e-a639-9039f3f22bd8",
   "metadata": {},
   "outputs": [],
   "source": []
  }
 ],
 "metadata": {
  "kernelspec": {
   "display_name": "Python 3 (ipykernel)",
   "language": "python",
   "name": "python3"
  },
  "language_info": {
   "codemirror_mode": {
    "name": "ipython",
    "version": 3
   },
   "file_extension": ".py",
   "mimetype": "text/x-python",
   "name": "python",
   "nbconvert_exporter": "python",
   "pygments_lexer": "ipython3",
   "version": "3.10.6"
  }
 },
 "nbformat": 4,
 "nbformat_minor": 5
}
