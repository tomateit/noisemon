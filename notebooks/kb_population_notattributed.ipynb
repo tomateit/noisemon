{
 "cells": [
  {
   "cell_type": "code",
   "execution_count": 1,
   "id": "0e47587e-c573-4e05-a7a8-0a1931f3f1d1",
   "metadata": {},
   "outputs": [
    {
     "name": "stdout",
     "output_type": "stream",
     "text": [
      "/home/max/process/dist/app_noisemon\n"
     ]
    }
   ],
   "source": [
    "%cd .."
   ]
  },
  {
   "cell_type": "code",
   "execution_count": 2,
   "id": "13e5297b-c493-408f-a1fa-4b6e8e30e436",
   "metadata": {},
   "outputs": [],
   "source": [
    "import pandas as pd\n",
    "from tqdm import tqdm\n",
    "import json\n",
    "\n",
    "from pathlib import Path"
   ]
  },
  {
   "cell_type": "code",
   "execution_count": 3,
   "id": "e75fbaf0-b4a0-4ada-b096-c45a59541df1",
   "metadata": {},
   "outputs": [],
   "source": [
    "from noisemon.database.database import SessionLocal\n",
    "\n",
    "from noisemon.models.entity import EntityModel, get_insert_many_statement\n",
    "from noisemon.models.document import DocumentData, DocumentModel, DocumentOrigin\n",
    "from noisemon.models.document import dataclass_to_model as document_dataclass_to_model\n",
    "from noisemon.models.mention import *\n"
   ]
  },
  {
   "cell_type": "code",
   "execution_count": 4,
   "id": "c02a0f58-0211-4776-9211-93974e679c44",
   "metadata": {},
   "outputs": [],
   "source": [
    "archive_dir = Path(\"./assets/entity_linking/archive/\").resolve()"
   ]
  },
  {
   "cell_type": "code",
   "execution_count": 5,
   "id": "e2580144-d04b-464c-b0a6-bad80c5b5d72",
   "metadata": {},
   "outputs": [
    {
     "name": "stdout",
     "output_type": "stream",
     "text": [
      "/home/max/process/dist/app_noisemon/assets/entity_linking/archive/item_aliases.csv\n",
      "/home/max/process/dist/app_noisemon/assets/entity_linking/archive/page.csv\n",
      "/home/max/process/dist/app_noisemon/assets/entity_linking/archive/item.csv\n",
      "/home/max/process/dist/app_noisemon/assets/entity_linking/archive/property.csv\n",
      "/home/max/process/dist/app_noisemon/assets/entity_linking/archive/property_aliases.csv\n",
      "/home/max/process/dist/app_noisemon/assets/entity_linking/archive/statements.csv\n",
      "/home/max/process/dist/app_noisemon/assets/entity_linking/archive/link_annotated_text.jsonl\n"
     ]
    }
   ],
   "source": [
    "for f in archive_dir.iterdir():\n",
    "    print(f)"
   ]
  },
  {
   "cell_type": "code",
   "execution_count": 6,
   "id": "ea3d9dc9-62cd-474f-8bfc-51a38400a1f0",
   "metadata": {},
   "outputs": [],
   "source": [
    "page_df = pd.read_csv(\"./assets/entity_linking/archive/page.csv\")"
   ]
  },
  {
   "cell_type": "code",
   "execution_count": 7,
   "id": "8b13d4c0-a1df-441a-9df1-428b692fb078",
   "metadata": {},
   "outputs": [],
   "source": [
    "page_df.set_index('page_id', inplace=True)"
   ]
  },
  {
   "cell_type": "code",
   "execution_count": 8,
   "id": "8fafdb65-44bc-4021-9af5-ce82b0ca7003",
   "metadata": {},
   "outputs": [
    {
     "data": {
      "text/html": [
       "<div>\n",
       "<style scoped>\n",
       "    .dataframe tbody tr th:only-of-type {\n",
       "        vertical-align: middle;\n",
       "    }\n",
       "\n",
       "    .dataframe tbody tr th {\n",
       "        vertical-align: top;\n",
       "    }\n",
       "\n",
       "    .dataframe thead th {\n",
       "        text-align: right;\n",
       "    }\n",
       "</style>\n",
       "<table border=\"1\" class=\"dataframe\">\n",
       "  <thead>\n",
       "    <tr style=\"text-align: right;\">\n",
       "      <th></th>\n",
       "      <th>item_id</th>\n",
       "      <th>title</th>\n",
       "      <th>views</th>\n",
       "    </tr>\n",
       "    <tr>\n",
       "      <th>page_id</th>\n",
       "      <th></th>\n",
       "      <th></th>\n",
       "      <th></th>\n",
       "    </tr>\n",
       "  </thead>\n",
       "  <tbody>\n",
       "    <tr>\n",
       "      <th>12</th>\n",
       "      <td>6199</td>\n",
       "      <td>Anarchism</td>\n",
       "      <td>31335</td>\n",
       "    </tr>\n",
       "    <tr>\n",
       "      <th>25</th>\n",
       "      <td>38404</td>\n",
       "      <td>Autism</td>\n",
       "      <td>49693</td>\n",
       "    </tr>\n",
       "    <tr>\n",
       "      <th>39</th>\n",
       "      <td>101038</td>\n",
       "      <td>Albedo</td>\n",
       "      <td>14573</td>\n",
       "    </tr>\n",
       "    <tr>\n",
       "      <th>290</th>\n",
       "      <td>9659</td>\n",
       "      <td>A</td>\n",
       "      <td>25859</td>\n",
       "    </tr>\n",
       "    <tr>\n",
       "      <th>303</th>\n",
       "      <td>173</td>\n",
       "      <td>Alabama</td>\n",
       "      <td>52765</td>\n",
       "    </tr>\n",
       "    <tr>\n",
       "      <th>...</th>\n",
       "      <td>...</td>\n",
       "      <td>...</td>\n",
       "      <td>...</td>\n",
       "    </tr>\n",
       "    <tr>\n",
       "      <th>62470350</th>\n",
       "      <td>76894635</td>\n",
       "      <td>Daming Zhu</td>\n",
       "      <td>16</td>\n",
       "    </tr>\n",
       "    <tr>\n",
       "      <th>62470423</th>\n",
       "      <td>76894633</td>\n",
       "      <td>Tony Dews</td>\n",
       "      <td>7</td>\n",
       "    </tr>\n",
       "    <tr>\n",
       "      <th>62470432</th>\n",
       "      <td>76896959</td>\n",
       "      <td>Samsung PL20</td>\n",
       "      <td>9</td>\n",
       "    </tr>\n",
       "    <tr>\n",
       "      <th>62470465</th>\n",
       "      <td>6034153</td>\n",
       "      <td>Nils-Fredrik Palmstierna</td>\n",
       "      <td>8</td>\n",
       "    </tr>\n",
       "    <tr>\n",
       "      <th>62473330</th>\n",
       "      <td>21083961</td>\n",
       "      <td>Shibuya Crossing</td>\n",
       "      <td>68</td>\n",
       "    </tr>\n",
       "  </tbody>\n",
       "</table>\n",
       "<p>5362174 rows × 3 columns</p>\n",
       "</div>"
      ],
      "text/plain": [
       "           item_id                     title  views\n",
       "page_id                                            \n",
       "12            6199                 Anarchism  31335\n",
       "25           38404                    Autism  49693\n",
       "39          101038                    Albedo  14573\n",
       "290           9659                         A  25859\n",
       "303            173                   Alabama  52765\n",
       "...            ...                       ...    ...\n",
       "62470350  76894635                Daming Zhu     16\n",
       "62470423  76894633                 Tony Dews      7\n",
       "62470432  76896959              Samsung PL20      9\n",
       "62470465   6034153  Nils-Fredrik Palmstierna      8\n",
       "62473330  21083961          Shibuya Crossing     68\n",
       "\n",
       "[5362174 rows x 3 columns]"
      ]
     },
     "execution_count": 8,
     "metadata": {},
     "output_type": "execute_result"
    }
   ],
   "source": [
    "page_df"
   ]
  },
  {
   "cell_type": "code",
   "execution_count": 9,
   "id": "5bd2c6a5-979e-494d-a27b-7efd1f268790",
   "metadata": {},
   "outputs": [],
   "source": [
    "def id_to_qid(id: str):\n",
    "    return f\"http://www.wikidata.org/entity/Q{id}\""
   ]
  },
  {
   "cell_type": "code",
   "execution_count": 10,
   "id": "a38b53ac-f09d-4e0c-bc96-371d09d439c4",
   "metadata": {},
   "outputs": [],
   "source": [
    "item_df = pd.read_csv(\"./assets/entity_linking/archive/item.csv\")"
   ]
  },
  {
   "cell_type": "code",
   "execution_count": 11,
   "id": "d71990d5-621e-49a3-9a3a-bbf8ecacae12",
   "metadata": {},
   "outputs": [],
   "source": [
    "item_df.set_index(\"item_id\", inplace=True)"
   ]
  },
  {
   "cell_type": "code",
   "execution_count": 12,
   "id": "c247eb1b-f127-495f-8d8d-584ca666bb68",
   "metadata": {},
   "outputs": [
    {
     "data": {
      "text/html": [
       "<div>\n",
       "<style scoped>\n",
       "    .dataframe tbody tr th:only-of-type {\n",
       "        vertical-align: middle;\n",
       "    }\n",
       "\n",
       "    .dataframe tbody tr th {\n",
       "        vertical-align: top;\n",
       "    }\n",
       "\n",
       "    .dataframe thead th {\n",
       "        text-align: right;\n",
       "    }\n",
       "</style>\n",
       "<table border=\"1\" class=\"dataframe\">\n",
       "  <thead>\n",
       "    <tr style=\"text-align: right;\">\n",
       "      <th></th>\n",
       "      <th>en_label</th>\n",
       "      <th>en_description</th>\n",
       "    </tr>\n",
       "    <tr>\n",
       "      <th>item_id</th>\n",
       "      <th></th>\n",
       "      <th></th>\n",
       "    </tr>\n",
       "  </thead>\n",
       "  <tbody>\n",
       "    <tr>\n",
       "      <th>1</th>\n",
       "      <td>Universe</td>\n",
       "      <td>totality of space and all contents</td>\n",
       "    </tr>\n",
       "    <tr>\n",
       "      <th>2</th>\n",
       "      <td>Earth</td>\n",
       "      <td>third planet from the Sun in the Solar System</td>\n",
       "    </tr>\n",
       "    <tr>\n",
       "      <th>3</th>\n",
       "      <td>life</td>\n",
       "      <td>matter capable of extracting energy from the e...</td>\n",
       "    </tr>\n",
       "    <tr>\n",
       "      <th>4</th>\n",
       "      <td>death</td>\n",
       "      <td>permanent cessation of vital functions</td>\n",
       "    </tr>\n",
       "    <tr>\n",
       "      <th>5</th>\n",
       "      <td>human</td>\n",
       "      <td>common name of Homo sapiens, unique extant spe...</td>\n",
       "    </tr>\n",
       "    <tr>\n",
       "      <th>...</th>\n",
       "      <td>...</td>\n",
       "      <td>...</td>\n",
       "    </tr>\n",
       "    <tr>\n",
       "      <th>77257472</th>\n",
       "      <td>2dFGRS TGN256Z026</td>\n",
       "      <td>NaN</td>\n",
       "    </tr>\n",
       "    <tr>\n",
       "      <th>77257483</th>\n",
       "      <td>2dFGRS TGS171Z171</td>\n",
       "      <td>NaN</td>\n",
       "    </tr>\n",
       "    <tr>\n",
       "      <th>77257484</th>\n",
       "      <td>2dFGRS TGS373Z078</td>\n",
       "      <td>NaN</td>\n",
       "    </tr>\n",
       "    <tr>\n",
       "      <th>77257491</th>\n",
       "      <td>2dFGRS TGS374Z114</td>\n",
       "      <td>NaN</td>\n",
       "    </tr>\n",
       "    <tr>\n",
       "      <th>77257493</th>\n",
       "      <td>2dFGRS TGS231Z096</td>\n",
       "      <td>NaN</td>\n",
       "    </tr>\n",
       "  </tbody>\n",
       "</table>\n",
       "<p>51450316 rows × 2 columns</p>\n",
       "</div>"
      ],
      "text/plain": [
       "                   en_label                                     en_description\n",
       "item_id                                                                       \n",
       "1                  Universe                 totality of space and all contents\n",
       "2                     Earth      third planet from the Sun in the Solar System\n",
       "3                      life  matter capable of extracting energy from the e...\n",
       "4                     death             permanent cessation of vital functions\n",
       "5                     human  common name of Homo sapiens, unique extant spe...\n",
       "...                     ...                                                ...\n",
       "77257472  2dFGRS TGN256Z026                                                NaN\n",
       "77257483  2dFGRS TGS171Z171                                                NaN\n",
       "77257484  2dFGRS TGS373Z078                                                NaN\n",
       "77257491  2dFGRS TGS374Z114                                                NaN\n",
       "77257493  2dFGRS TGS231Z096                                                NaN\n",
       "\n",
       "[51450316 rows x 2 columns]"
      ]
     },
     "execution_count": 12,
     "metadata": {},
     "output_type": "execute_result"
    }
   ],
   "source": [
    "item_df"
   ]
  },
  {
   "cell_type": "code",
   "execution_count": 19,
   "id": "ad267b33-634b-4fc2-af96-9817daae5f82",
   "metadata": {},
   "outputs": [
    {
     "name": "stderr",
     "output_type": "stream",
     "text": [
      "100%|█████████████████████████████████████████████████████████████████████████████████████████████████████████| 51450316/51450316 [2:33:30<00:00, 5586.03it/s]\n"
     ]
    }
   ],
   "source": [
    "db = SessionLocal()\n",
    "with db.begin():\n",
    "    buffer = []\n",
    "    for idx, row in tqdm(item_df.iterrows(), total=len(item_df)):\n",
    "        new_entity = EntityModel(\n",
    "            qid=id_to_qid(idx),\n",
    "            name=row.en_label,\n",
    "            type=None,\n",
    "        )\n",
    "        buffer.append(new_entity)\n",
    "        \n",
    "        if idx % 5000 == 1:\n",
    "            statement = get_insert_many_statement(buffer)\n",
    "            db.execute(statement)\n",
    "            buffer = []\n",
    "\n",
    "    else:\n",
    "        statement = get_insert_many_statement(buffer)\n",
    "        db.execute(statement)\n",
    "       \n",
    "db.commit()\n",
    "db.close()"
   ]
  },
  {
   "cell_type": "code",
   "execution_count": 32,
   "id": "55e46558-7287-4f0e-82b1-3b1c1adb7631",
   "metadata": {},
   "outputs": [],
   "source": [
    "def parse_section(section, page_df):\n",
    "    for offset, length, target_page_id in zip(section[\"link_offsets\"], section[\"link_lengths\"], section[\"target_page_ids\"]):\n",
    "        span_start = offset\n",
    "        span_end = offset+length\n",
    "        span = section[\"text\"][span_start:span_end]\n",
    "        row = page_df.loc[target_page_id]\n",
    "        title = row.title\n",
    "        qid = row.item_id\n",
    "        yield span_start, span_end, span, title, qid"
   ]
  },
  {
   "cell_type": "code",
   "execution_count": 35,
   "id": "871ca934-4ccd-4071-aab9-dbf23299262b",
   "metadata": {},
   "outputs": [
    {
     "name": "stdout",
     "output_type": "stream",
     "text": [
      "5343564 ./assets/entity_linking/archive/link_annotated_text.jsonl\n"
     ]
    }
   ],
   "source": [
    "!wc -l \"./assets/entity_linking/archive/link_annotated_text.jsonl\""
   ]
  },
  {
   "cell_type": "code",
   "execution_count": null,
   "id": "22e0ab1c-0db4-4b83-95c2-fa9eb14f9054",
   "metadata": {},
   "outputs": [
    {
     "name": "stderr",
     "output_type": "stream",
     "text": [
      "  0%|                                                                                                              | 2452/5343564 [05:59<249:26:09,  5.95it/s]"
     ]
    }
   ],
   "source": [
    "db = SessionLocal()\n",
    "with open(\"./assets/entity_linking/archive/link_annotated_text.jsonl\", \"r\") as fin:\n",
    "    for line in tqdm(fin, total=5343564):\n",
    "        with db.begin():\n",
    "            chunk = json.loads(line)\n",
    "            page_id = chunk[\"page_id\"]\n",
    "            page_title = page_df.iloc[page_id].title\n",
    "            origin = DocumentOrigin(resource=f\"WikiPedia Page [{page_title}]\", from_process=\"kb_population\")\n",
    "\n",
    "            for section in chunk.get(\"sections\", []):\n",
    "                origin = DocumentOrigin(\n",
    "                    resource=f\"WikiPedia Page [{page_title}][section: {section['name']}]\", \n",
    "                    from_process=\"kb_population\"\n",
    "                )\n",
    "                document = DocumentData(\n",
    "                    origin=origin,\n",
    "                    text=section[\"text\"],\n",
    "                    raw_text=section[\"text\"],\n",
    "                )\n",
    "                new_document = document_dataclass_to_model(document)\n",
    "                db.add(new_document)\n",
    "                db.flush()\n",
    "                \n",
    "                for span_start, span_end, span, title, qid in parse_section(section, page_df):\n",
    "                    new_mention = MentionModel(\n",
    "                        origin=new_document,\n",
    "                        span=span,\n",
    "                        span_start=span_start,\n",
    "                        span_end=span_end,\n",
    "                        entity_qid=id_to_qid(qid),\n",
    "                        vector_index=0\n",
    "                    )\n",
    "                    db.add(new_mention)\n",
    "                db.flush()"
   ]
  },
  {
   "cell_type": "code",
   "execution_count": 20,
   "id": "fb536d07-ed63-4169-8cac-68abc66536e5",
   "metadata": {},
   "outputs": [
    {
     "ename": "IndexError",
     "evalue": "single positional indexer is out-of-bounds",
     "output_type": "error",
     "traceback": [
      "\u001b[0;31m---------------------------------------------------------------------------\u001b[0m",
      "\u001b[0;31mIndexError\u001b[0m                                Traceback (most recent call last)",
      "Cell \u001b[0;32mIn[20], line 1\u001b[0m\n\u001b[0;32m----> 1\u001b[0m \u001b[38;5;28;43mlist\u001b[39;49m\u001b[43m(\u001b[49m\u001b[43mparse_section\u001b[49m\u001b[43m(\u001b[49m\u001b[43msection\u001b[49m\u001b[43m,\u001b[49m\u001b[43m \u001b[49m\u001b[43mpage_df\u001b[49m\u001b[43m)\u001b[49m\u001b[43m)\u001b[49m\n",
      "Cell \u001b[0;32mIn[13], line 6\u001b[0m, in \u001b[0;36mparse_section\u001b[0;34m(section, page_df)\u001b[0m\n\u001b[1;32m      4\u001b[0m span_end \u001b[38;5;241m=\u001b[39m offset\u001b[38;5;241m+\u001b[39mlength\n\u001b[1;32m      5\u001b[0m span \u001b[38;5;241m=\u001b[39m section[\u001b[38;5;124m\"\u001b[39m\u001b[38;5;124mtext\u001b[39m\u001b[38;5;124m\"\u001b[39m][span_start:span_end]\n\u001b[0;32m----> 6\u001b[0m row \u001b[38;5;241m=\u001b[39m \u001b[43mpage_df\u001b[49m\u001b[38;5;241;43m.\u001b[39;49m\u001b[43miloc\u001b[49m\u001b[43m[\u001b[49m\u001b[43mtarget_page_id\u001b[49m\u001b[43m]\u001b[49m\n\u001b[1;32m      7\u001b[0m title \u001b[38;5;241m=\u001b[39m row\u001b[38;5;241m.\u001b[39mtitle\n\u001b[1;32m      8\u001b[0m qid \u001b[38;5;241m=\u001b[39m row\u001b[38;5;241m.\u001b[39mitem_id\n",
      "File \u001b[0;32m~/process/dist/app_noisemon/.venv/lib/python3.10/site-packages/pandas/core/indexing.py:1073\u001b[0m, in \u001b[0;36m_LocationIndexer.__getitem__\u001b[0;34m(self, key)\u001b[0m\n\u001b[1;32m   1070\u001b[0m axis \u001b[38;5;241m=\u001b[39m \u001b[38;5;28mself\u001b[39m\u001b[38;5;241m.\u001b[39maxis \u001b[38;5;129;01mor\u001b[39;00m \u001b[38;5;241m0\u001b[39m\n\u001b[1;32m   1072\u001b[0m maybe_callable \u001b[38;5;241m=\u001b[39m com\u001b[38;5;241m.\u001b[39mapply_if_callable(key, \u001b[38;5;28mself\u001b[39m\u001b[38;5;241m.\u001b[39mobj)\n\u001b[0;32m-> 1073\u001b[0m \u001b[38;5;28;01mreturn\u001b[39;00m \u001b[38;5;28;43mself\u001b[39;49m\u001b[38;5;241;43m.\u001b[39;49m\u001b[43m_getitem_axis\u001b[49m\u001b[43m(\u001b[49m\u001b[43mmaybe_callable\u001b[49m\u001b[43m,\u001b[49m\u001b[43m \u001b[49m\u001b[43maxis\u001b[49m\u001b[38;5;241;43m=\u001b[39;49m\u001b[43maxis\u001b[49m\u001b[43m)\u001b[49m\n",
      "File \u001b[0;32m~/process/dist/app_noisemon/.venv/lib/python3.10/site-packages/pandas/core/indexing.py:1625\u001b[0m, in \u001b[0;36m_iLocIndexer._getitem_axis\u001b[0;34m(self, key, axis)\u001b[0m\n\u001b[1;32m   1622\u001b[0m     \u001b[38;5;28;01mraise\u001b[39;00m \u001b[38;5;167;01mTypeError\u001b[39;00m(\u001b[38;5;124m\"\u001b[39m\u001b[38;5;124mCannot index by location index with a non-integer key\u001b[39m\u001b[38;5;124m\"\u001b[39m)\n\u001b[1;32m   1624\u001b[0m \u001b[38;5;66;03m# validate the location\u001b[39;00m\n\u001b[0;32m-> 1625\u001b[0m \u001b[38;5;28;43mself\u001b[39;49m\u001b[38;5;241;43m.\u001b[39;49m\u001b[43m_validate_integer\u001b[49m\u001b[43m(\u001b[49m\u001b[43mkey\u001b[49m\u001b[43m,\u001b[49m\u001b[43m \u001b[49m\u001b[43maxis\u001b[49m\u001b[43m)\u001b[49m\n\u001b[1;32m   1627\u001b[0m \u001b[38;5;28;01mreturn\u001b[39;00m \u001b[38;5;28mself\u001b[39m\u001b[38;5;241m.\u001b[39mobj\u001b[38;5;241m.\u001b[39m_ixs(key, axis\u001b[38;5;241m=\u001b[39maxis)\n",
      "File \u001b[0;32m~/process/dist/app_noisemon/.venv/lib/python3.10/site-packages/pandas/core/indexing.py:1557\u001b[0m, in \u001b[0;36m_iLocIndexer._validate_integer\u001b[0;34m(self, key, axis)\u001b[0m\n\u001b[1;32m   1555\u001b[0m len_axis \u001b[38;5;241m=\u001b[39m \u001b[38;5;28mlen\u001b[39m(\u001b[38;5;28mself\u001b[39m\u001b[38;5;241m.\u001b[39mobj\u001b[38;5;241m.\u001b[39m_get_axis(axis))\n\u001b[1;32m   1556\u001b[0m \u001b[38;5;28;01mif\u001b[39;00m key \u001b[38;5;241m>\u001b[39m\u001b[38;5;241m=\u001b[39m len_axis \u001b[38;5;129;01mor\u001b[39;00m key \u001b[38;5;241m<\u001b[39m \u001b[38;5;241m-\u001b[39mlen_axis:\n\u001b[0;32m-> 1557\u001b[0m     \u001b[38;5;28;01mraise\u001b[39;00m \u001b[38;5;167;01mIndexError\u001b[39;00m(\u001b[38;5;124m\"\u001b[39m\u001b[38;5;124msingle positional indexer is out-of-bounds\u001b[39m\u001b[38;5;124m\"\u001b[39m)\n",
      "\u001b[0;31mIndexError\u001b[0m: single positional indexer is out-of-bounds"
     ]
    }
   ],
   "source": [
    "list(parse_section(section, page_df))"
   ]
  },
  {
   "cell_type": "code",
   "execution_count": 12,
   "id": "354c3b6c-7f58-47b1-b609-42b8917d88c3",
   "metadata": {},
   "outputs": [],
   "source": [
    "section = chunk[\"sections\"][0]"
   ]
  },
  {
   "cell_type": "code",
   "execution_count": 14,
   "id": "8c8411e9-880b-4fd1-ad79-9d654859bd37",
   "metadata": {},
   "outputs": [
    {
     "data": {
      "text/plain": [
       "'anti-authoritarian'"
      ]
     },
     "execution_count": 14,
     "metadata": {},
     "output_type": "execute_result"
    }
   ],
   "source": [
    "section[\"text\"][16:16+18]"
   ]
  },
  {
   "cell_type": "code",
   "execution_count": 27,
   "id": "09333a64-f1d7-47fe-8ee1-3c26bef0697b",
   "metadata": {},
   "outputs": [
    {
     "name": "stdout",
     "output_type": "stream",
     "text": [
      "anti-authoritarian Anti-authoritarianism 1030234\n",
      "political Political philosophy 179805\n",
      "social philosophy Social philosophy 180592\n",
      "hierarchies Hierarchy 188619\n",
      "self-managed Organizational Self-management 15981562\n",
      "self-governed Self-governance 417633\n",
      "cooperative Cooperative 4539\n",
      "stateless societies Stateless society 1708603\n",
      "free associations Free association (Marxism and anarchism) 5500187\n",
      "state Sovereign state 3624078\n",
      "far-left Far-left politics 1129409\n",
      "political spectrum Political spectrum 210918\n",
      "economics Anarchist economics 4751666\n",
      "legal philosophy Anarchist law 2738779\n",
      "communism Anarcho-communism 188670\n",
      "collectivism Collectivist anarchism 223178\n",
      "syndicalism Anarcho-syndicalism 188993\n",
      "mutualism Mutualism (economic theory) 844212\n",
      "participatory economics Participatory economics 650953\n",
      "anarchist types and traditions History of anarchism 2746978\n",
      "Anarchist schools of thought Anarchist schools of thought 1278791\n",
      "individualism Individualism 171995\n",
      "collectivism Collectivism 237789\n",
      "social Social anarchism 370919\n",
      "individualist anarchism Individualist anarchism 7076\n"
     ]
    }
   ],
   "source": [
    "parse_section(section, page_df)"
   ]
  },
  {
   "cell_type": "code",
   "execution_count": 15,
   "id": "733c7523-00eb-4163-9753-1e2ca0fd4fb5",
   "metadata": {},
   "outputs": [
    {
     "data": {
      "text/plain": [
       "{'name': 'Introduction',\n",
       " 'text': \"Anarchism is an anti-authoritarian political and social philosophy that rejects hierarchies deemed unjust and advocates their replacement with self-managed, self-governed societies based on voluntary, cooperative institutions. These institutions are often described as stateless societies, although several authors have defined them more specifically as distinct institutions based on non-hierarchical or free associations. Anarchism's central disagreement with other ideologies is that it holds the state to be undesirable, unnecessary, and harmful. Anarchism is usually placed on the far-left of the political spectrum, and much of its economics and legal philosophy reflect anti-authoritarian interpretations of communism, collectivism, syndicalism, mutualism, or participatory economics. As anarchism does not offer a fixed body of doctrine from a single particular worldview, many anarchist types and traditions exist and varieties of anarchy diverge widely. Anarchist schools of thought can differ fundamentally, supporting anything from extreme individualism to complete collectivism. Strains of anarchism have often been divided into the categories of social and individualist anarchism, or similar dual classifications.\",\n",
       " 'link_lengths': [18,\n",
       "  9,\n",
       "  17,\n",
       "  11,\n",
       "  12,\n",
       "  13,\n",
       "  11,\n",
       "  19,\n",
       "  17,\n",
       "  5,\n",
       "  8,\n",
       "  18,\n",
       "  9,\n",
       "  16,\n",
       "  9,\n",
       "  12,\n",
       "  11,\n",
       "  9,\n",
       "  23,\n",
       "  30,\n",
       "  28,\n",
       "  13,\n",
       "  12,\n",
       "  6,\n",
       "  23],\n",
       " 'link_offsets': [16,\n",
       "  35,\n",
       "  49,\n",
       "  80,\n",
       "  143,\n",
       "  157,\n",
       "  201,\n",
       "  269,\n",
       "  405,\n",
       "  500,\n",
       "  586,\n",
       "  602,\n",
       "  638,\n",
       "  652,\n",
       "  715,\n",
       "  726,\n",
       "  740,\n",
       "  753,\n",
       "  767,\n",
       "  886,\n",
       "  964,\n",
       "  1052,\n",
       "  1078,\n",
       "  1160,\n",
       "  1171],\n",
       " 'target_page_ids': [867979,\n",
       "  23040,\n",
       "  586276,\n",
       "  13998,\n",
       "  40949353,\n",
       "  191161,\n",
       "  89313,\n",
       "  4228181,\n",
       "  26271818,\n",
       "  23604120,\n",
       "  18247344,\n",
       "  23490,\n",
       "  1228884,\n",
       "  5483237,\n",
       "  17865,\n",
       "  46399294,\n",
       "  49938,\n",
       "  1799997,\n",
       "  76393,\n",
       "  1063286,\n",
       "  46399274,\n",
       "  15181,\n",
       "  5708,\n",
       "  39353100,\n",
       "  14936]}"
      ]
     },
     "execution_count": 15,
     "metadata": {},
     "output_type": "execute_result"
    }
   ],
   "source": [
    "section"
   ]
  },
  {
   "cell_type": "code",
   "execution_count": 18,
   "id": "47ac3b75-647a-437b-9a4a-1108764f03ed",
   "metadata": {},
   "outputs": [
    {
     "data": {
      "text/html": [
       "<div>\n",
       "<style scoped>\n",
       "    .dataframe tbody tr th:only-of-type {\n",
       "        vertical-align: middle;\n",
       "    }\n",
       "\n",
       "    .dataframe tbody tr th {\n",
       "        vertical-align: top;\n",
       "    }\n",
       "\n",
       "    .dataframe thead th {\n",
       "        text-align: right;\n",
       "    }\n",
       "</style>\n",
       "<table border=\"1\" class=\"dataframe\">\n",
       "  <thead>\n",
       "    <tr style=\"text-align: right;\">\n",
       "      <th></th>\n",
       "      <th>page_id</th>\n",
       "      <th>item_id</th>\n",
       "      <th>title</th>\n",
       "      <th>views</th>\n",
       "    </tr>\n",
       "  </thead>\n",
       "  <tbody>\n",
       "    <tr>\n",
       "      <th>260552</th>\n",
       "      <td>867979</td>\n",
       "      <td>1030234</td>\n",
       "      <td>Anti-authoritarianism</td>\n",
       "      <td>1914</td>\n",
       "    </tr>\n",
       "  </tbody>\n",
       "</table>\n",
       "</div>"
      ],
      "text/plain": [
       "        page_id  item_id                  title  views\n",
       "260552   867979  1030234  Anti-authoritarianism   1914"
      ]
     },
     "execution_count": 18,
     "metadata": {},
     "output_type": "execute_result"
    }
   ],
   "source": [
    "page_df[page_df.page_id == 867979]"
   ]
  },
  {
   "cell_type": "code",
   "execution_count": null,
   "id": "0f0604e0-663f-438e-a639-9039f3f22bd8",
   "metadata": {},
   "outputs": [],
   "source": []
  }
 ],
 "metadata": {
  "kernelspec": {
   "display_name": "Python 3 (ipykernel)",
   "language": "python",
   "name": "python3"
  },
  "language_info": {
   "codemirror_mode": {
    "name": "ipython",
    "version": 3
   },
   "file_extension": ".py",
   "mimetype": "text/x-python",
   "name": "python",
   "nbconvert_exporter": "python",
   "pygments_lexer": "ipython3",
   "version": "3.10.6"
  }
 },
 "nbformat": 4,
 "nbformat_minor": 5
}
