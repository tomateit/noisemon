{
 "cells": [
  {
   "cell_type": "code",
   "execution_count": 2,
   "id": "d102f2cd",
   "metadata": {},
   "outputs": [
    {
     "name": "stdout",
     "output_type": "stream",
     "text": [
      "/home/codeholder/code/python-playground/app_noisemon\n"
     ]
    }
   ],
   "source": [
    "%cd .."
   ]
  },
  {
   "cell_type": "code",
   "execution_count": 1,
   "id": "4ed95673",
   "metadata": {},
   "outputs": [
    {
     "name": "stderr",
     "output_type": "stream",
     "text": [
      "/home/master/code/python-playground/app_noisemon/.venv/lib/python3.8/site-packages/torch/cuda/__init__.py:52: UserWarning: CUDA initialization: The NVIDIA driver on your system is too old (found version 6050). Please update your GPU driver by downloading and installing a new version from the URL: http://www.nvidia.com/Download/index.aspx Alternatively, go to: https://pytorch.org to install a PyTorch version that has been compiled with your version of the CUDA driver. (Triggered internally at  ../c10/cuda/CUDAFunctions.cpp:115.)\n",
      "  return torch._C._cuda_getDeviceCount() > 0\n"
     ]
    }
   ],
   "source": [
    "import spacy"
   ]
  },
  {
   "cell_type": "code",
   "execution_count": 8,
   "id": "57944fd5",
   "metadata": {},
   "outputs": [],
   "source": [
    "from spacy.tokens import Doc"
   ]
  },
  {
   "cell_type": "code",
   "execution_count": 9,
   "id": "7d0f7875",
   "metadata": {},
   "outputs": [],
   "source": [
    "Doc.set_extension(\"trf_data\", default = {}, force=True)"
   ]
  },
  {
   "cell_type": "code",
   "execution_count": 10,
   "id": "ece59b87",
   "metadata": {},
   "outputs": [],
   "source": [
    "nlp = spacy.load(\"./training/model-best\")"
   ]
  },
  {
   "cell_type": "code",
   "execution_count": 13,
   "id": "3934923b",
   "metadata": {},
   "outputs": [
    {
     "data": {
      "text/plain": [
       "[('sentencizer', <spacy.pipeline.sentencizer.Sentencizer at 0x7f7e53bde800>),\n",
       " ('entity_recognizer',\n",
       "  <spacy.pipeline.ner.EntityRecognizer at 0x7f7e5302e7c0>),\n",
       " ('entity_linker',\n",
       "  <spacy.pipeline.entity_linker.EntityLinker at 0x7f7e3c7593b0>)]"
      ]
     },
     "execution_count": 13,
     "metadata": {},
     "output_type": "execute_result"
    }
   ],
   "source": [
    "nlp.pipeline"
   ]
  },
  {
   "cell_type": "code",
   "execution_count": 11,
   "id": "ad7815a3",
   "metadata": {},
   "outputs": [],
   "source": [
    "doc = nlp(\"Газпром выполняет свои обязательства и не влияет на рост цен на газ, говорят в Германии\")"
   ]
  },
  {
   "cell_type": "code",
   "execution_count": 12,
   "id": "c868b154",
   "metadata": {},
   "outputs": [
    {
     "data": {
      "text/plain": [
       "{}"
      ]
     },
     "execution_count": 12,
     "metadata": {},
     "output_type": "execute_result"
    }
   ],
   "source": [
    "doc._.trf_data"
   ]
  },
  {
   "cell_type": "code",
   "execution_count": 22,
   "id": "3748d7e0",
   "metadata": {},
   "outputs": [
    {
     "data": {
      "text/plain": [
       "'NIL'"
      ]
     },
     "execution_count": 22,
     "metadata": {},
     "output_type": "execute_result"
    }
   ],
   "source": [
    "doc.ents[1].kb_id_"
   ]
  },
  {
   "cell_type": "code",
   "execution_count": null,
   "id": "49a90686",
   "metadata": {},
   "outputs": [],
   "source": []
  }
 ],
 "metadata": {
  "kernelspec": {
   "display_name": "noisemon",
   "language": "python",
   "name": "python3810_noisemon"
  },
  "language_info": {
   "codemirror_mode": {
    "name": "ipython",
    "version": 3
   },
   "file_extension": ".py",
   "mimetype": "text/x-python",
   "name": "python",
   "nbconvert_exporter": "python",
   "pygments_lexer": "ipython3",
   "version": "3.8.10"
  }
 },
 "nbformat": 4,
 "nbformat_minor": 5
}
