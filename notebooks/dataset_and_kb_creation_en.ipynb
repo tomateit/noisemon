{
 "cells": [
  {
   "cell_type": "code",
   "execution_count": 1,
   "id": "b3656798",
   "metadata": {},
   "outputs": [
    {
     "name": "stdout",
     "output_type": "stream",
     "text": [
      "/home/codeholder/code/python-playground/app_noisemon\n"
     ]
    }
   ],
   "source": [
    "%cd .."
   ]
  },
  {
   "cell_type": "code",
   "execution_count": 16,
   "id": "28e969e3",
   "metadata": {},
   "outputs": [],
   "source": [
    "import spacy\n",
    "import numpy as np"
   ]
  },
  {
   "cell_type": "code",
   "execution_count": 3,
   "id": "258d08b8",
   "metadata": {},
   "outputs": [],
   "source": [
    "#!python -m spacy download \"en_core_web_trf\""
   ]
  },
  {
   "cell_type": "code",
   "execution_count": 4,
   "id": "b876bd85",
   "metadata": {},
   "outputs": [],
   "source": [
    "nlp = spacy.load(\"en_core_web_trf\")"
   ]
  },
  {
   "cell_type": "code",
   "execution_count": 11,
   "id": "2df91664",
   "metadata": {},
   "outputs": [],
   "source": [
    "doc = nlp(\"ddd\")"
   ]
  },
  {
   "cell_type": "code",
   "execution_count": 12,
   "id": "1bbf7887",
   "metadata": {},
   "outputs": [
    {
     "data": {
      "text/plain": [
       "(1, 4, 768)"
      ]
     },
     "execution_count": 12,
     "metadata": {},
     "output_type": "execute_result"
    }
   ],
   "source": [
    "doc._.trf_data.tensors[0].shape"
   ]
  },
  {
   "cell_type": "code",
   "execution_count": 14,
   "id": "e605f738",
   "metadata": {},
   "outputs": [
    {
     "data": {
      "text/plain": [
       "[['<s>', 'dd', 'd', '</s>']]"
      ]
     },
     "execution_count": 14,
     "metadata": {},
     "output_type": "execute_result"
    }
   ],
   "source": [
    "doc._.trf_data.wordpieces.strings"
   ]
  },
  {
   "cell_type": "code",
   "execution_count": 18,
   "id": "d55ccbd7",
   "metadata": {},
   "outputs": [
    {
     "data": {
      "text/plain": [
       "(4, 768)"
      ]
     },
     "execution_count": 18,
     "metadata": {},
     "output_type": "execute_result"
    }
   ],
   "source": [
    "doc._.trf_data.tensors[0].squeeze().shape"
   ]
  },
  {
   "cell_type": "code",
   "execution_count": 20,
   "id": "608fbc56",
   "metadata": {},
   "outputs": [
    {
     "data": {
      "text/plain": [
       "(768,)"
      ]
     },
     "execution_count": 20,
     "metadata": {},
     "output_type": "execute_result"
    }
   ],
   "source": [
    "np.mean(doc._.trf_data.tensors[0].squeeze(), axis=0).shape"
   ]
  },
  {
   "cell_type": "code",
   "execution_count": null,
   "id": "522b650a",
   "metadata": {},
   "outputs": [],
   "source": []
  }
 ],
 "metadata": {
  "kernelspec": {
   "display_name": "noisemon",
   "language": "python",
   "name": "python3810_noisemon"
  },
  "language_info": {
   "codemirror_mode": {
    "name": "ipython",
    "version": 3
   },
   "file_extension": ".py",
   "mimetype": "text/x-python",
   "name": "python",
   "nbconvert_exporter": "python",
   "pygments_lexer": "ipython3",
   "version": "3.8.10"
  }
 },
 "nbformat": 4,
 "nbformat_minor": 5
}
