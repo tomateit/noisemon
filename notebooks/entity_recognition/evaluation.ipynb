{
 "cells": [
  {
   "cell_type": "markdown",
   "id": "de4b1280-1739-4b93-ba64-2b585c608f23",
   "metadata": {},
   "source": [
    "# Evaluating HF model with HF Dataset on ORG detection performance"
   ]
  },
  {
   "cell_type": "code",
   "execution_count": 1,
   "id": "5be43c60-2e9c-4a55-b784-0a2b3edbd378",
   "metadata": {
    "tags": []
   },
   "outputs": [],
   "source": [
    "import torch\n",
    "import numpy as np\n",
    "from tqdm import tqdm"
   ]
  },
  {
   "cell_type": "code",
   "execution_count": 2,
   "id": "6472c77f-ccaa-454e-92b5-91544b686d0b",
   "metadata": {
    "tags": []
   },
   "outputs": [
    {
     "name": "stderr",
     "output_type": "stream",
     "text": [
      "/home/base/noisemon/.venv/lib/python3.10/site-packages/tqdm/auto.py:21: TqdmWarning: IProgress not found. Please update jupyter and ipywidgets. See https://ipywidgets.readthedocs.io/en/stable/user_install.html\n",
      "  from .autonotebook import tqdm as notebook_tqdm\n"
     ]
    }
   ],
   "source": [
    "from transformers import AutoTokenizer, AutoModelForTokenClassification\n",
    "from transformers import DataCollatorForTokenClassification\n",
    "from torch.utils.data import DataLoader\n",
    "from datasets import load_dataset, Dataset\n",
    "import evaluate"
   ]
  },
  {
   "cell_type": "code",
   "execution_count": 3,
   "id": "28c508aa-3e61-4438-8543-e4e88d9e1824",
   "metadata": {
    "tags": []
   },
   "outputs": [],
   "source": [
    "seqeval = evaluate.load(\"seqeval\")"
   ]
  },
  {
   "cell_type": "markdown",
   "id": "e2ceb2f0-1242-48a5-b49f-42929143faa3",
   "metadata": {},
   "source": [
    "## HF Model"
   ]
  },
  {
   "cell_type": "code",
   "execution_count": 4,
   "id": "b193ef92-1f9c-4dd9-9919-471fc09b41ee",
   "metadata": {
    "tags": []
   },
   "outputs": [
    {
     "data": {
      "text/plain": [
       "RobertaForTokenClassification(\n",
       "  (roberta): RobertaModel(\n",
       "    (embeddings): RobertaEmbeddings(\n",
       "      (word_embeddings): Embedding(50265, 1024, padding_idx=1)\n",
       "      (position_embeddings): Embedding(514, 1024, padding_idx=1)\n",
       "      (token_type_embeddings): Embedding(1, 1024)\n",
       "      (LayerNorm): LayerNorm((1024,), eps=1e-05, elementwise_affine=True)\n",
       "      (dropout): Dropout(p=0.1, inplace=False)\n",
       "    )\n",
       "    (encoder): RobertaEncoder(\n",
       "      (layer): ModuleList(\n",
       "        (0-23): 24 x RobertaLayer(\n",
       "          (attention): RobertaAttention(\n",
       "            (self): RobertaSelfAttention(\n",
       "              (query): Linear(in_features=1024, out_features=1024, bias=True)\n",
       "              (key): Linear(in_features=1024, out_features=1024, bias=True)\n",
       "              (value): Linear(in_features=1024, out_features=1024, bias=True)\n",
       "              (dropout): Dropout(p=0.1, inplace=False)\n",
       "            )\n",
       "            (output): RobertaSelfOutput(\n",
       "              (dense): Linear(in_features=1024, out_features=1024, bias=True)\n",
       "              (LayerNorm): LayerNorm((1024,), eps=1e-05, elementwise_affine=True)\n",
       "              (dropout): Dropout(p=0.1, inplace=False)\n",
       "            )\n",
       "          )\n",
       "          (intermediate): RobertaIntermediate(\n",
       "            (dense): Linear(in_features=1024, out_features=4096, bias=True)\n",
       "            (intermediate_act_fn): GELUActivation()\n",
       "          )\n",
       "          (output): RobertaOutput(\n",
       "            (dense): Linear(in_features=4096, out_features=1024, bias=True)\n",
       "            (LayerNorm): LayerNorm((1024,), eps=1e-05, elementwise_affine=True)\n",
       "            (dropout): Dropout(p=0.1, inplace=False)\n",
       "          )\n",
       "        )\n",
       "      )\n",
       "    )\n",
       "  )\n",
       "  (dropout): Dropout(p=0.1, inplace=False)\n",
       "  (classifier): Linear(in_features=1024, out_features=5, bias=True)\n",
       ")"
      ]
     },
     "execution_count": 4,
     "metadata": {},
     "output_type": "execute_result"
    }
   ],
   "source": [
    "model_name = \"Jean-Baptiste/roberta-large-ner-english\"\n",
    "tokenizer = AutoTokenizer.from_pretrained(model_name)\n",
    "model = AutoModelForTokenClassification.from_pretrained(model_name)\n",
    "model.eval()\n",
    "# nlp = pipeline(\n",
    "#     'ner',\n",
    "#     model=model,\n",
    "#     tokenizer=tokenizer,\n",
    "#     aggregation_strategy=\"simple\"\n",
    "# )"
   ]
  },
  {
   "cell_type": "code",
   "execution_count": 5,
   "id": "f90a2d88-ced9-49a5-9cf1-4a4c8beda7dc",
   "metadata": {
    "tags": []
   },
   "outputs": [
    {
     "data": {
      "text/plain": [
       "{'LOC': 3, 'MISC': 4, 'O': 0, 'ORG': 2, 'PER': 1}"
      ]
     },
     "execution_count": 5,
     "metadata": {},
     "output_type": "execute_result"
    }
   ],
   "source": [
    "model.config.label2id"
   ]
  },
  {
   "cell_type": "code",
   "execution_count": 6,
   "id": "2113f495-94c8-467d-a91b-b2c4f8ddba14",
   "metadata": {
    "tags": []
   },
   "outputs": [
    {
     "data": {
      "text/plain": [
       "{0: 'O', 1: 'PER', 2: 'ORG', 3: 'LOC', 4: 'MISC'}"
      ]
     },
     "execution_count": 6,
     "metadata": {},
     "output_type": "execute_result"
    }
   ],
   "source": [
    "model.config.id2label"
   ]
  },
  {
   "cell_type": "code",
   "execution_count": 7,
   "id": "6f88c274-4fab-402f-b12e-e466710978ea",
   "metadata": {
    "tags": []
   },
   "outputs": [],
   "source": [
    "# def tokenize_and_align_labels(examples):\n",
    "#     tokenized_inputs = tokenizer(examples[\"tokens\"], truncation=True, is_split_into_words=True)\n",
    "\n",
    "#     labels = []\n",
    "#     for i, label in enumerate(examples[f\"ner_tags\"]):\n",
    "#         word_ids = tokenized_inputs.word_ids(batch_index=i)  # Map tokens to their respective word.\n",
    "#         previous_word_idx = None\n",
    "#         label_ids = []\n",
    "#         for word_idx in word_ids:  # Set the special tokens to -100.\n",
    "#             if word_idx is None:\n",
    "#                 label_ids.append(-100)\n",
    "#             elif word_idx != previous_word_idx:  # Only label the first token of a given word.\n",
    "#                 label_ids.append(label[word_idx])\n",
    "#             else:\n",
    "#                 label_ids.append(-100)\n",
    "#             previous_word_idx = word_idx\n",
    "#         labels.append(label_ids)\n",
    "\n",
    "#     tokenized_inputs[\"labels\"] = labels\n",
    "#     return tokenized_inputs"
   ]
  },
  {
   "cell_type": "code",
   "execution_count": 8,
   "id": "f8d9b82e-1e6e-4b2d-9034-755e311ba2d4",
   "metadata": {
    "tags": []
   },
   "outputs": [],
   "source": [
    "def tokenize_and_align_labels(examples):\n",
    "    tokenized_inputs = tokenizer(\n",
    "        examples[\"tokens\"], \n",
    "        truncation=True, \n",
    "        is_split_into_words=True,\n",
    "        add_special_tokens=True,\n",
    "    )\n",
    "    \n",
    "    labels = []\n",
    "    for idx, example in enumerate(examples):\n",
    "        label_ids = example[\"ner_tags\"]\n",
    "        word_ids = tokenized_inputs.word_ids(batch_index=idx)\n",
    "        word_ids_truncated = word_ids[1:-1] # cut off special tokens\n",
    "        \n",
    "        _, subtoken_counts = np.unique(np.array(word_ids_truncated), return_counts=True)\n",
    "        label_ids = np.repeat(label_ids, subtoken_counts) \n",
    "        \n",
    "        label_ids = label_ids.tolist()\n",
    "        label_ids = [-100] + label_ids + [-100] # put special tokens back\n",
    "        labels.append(label_ids)\n",
    "        \n",
    "        assert len(label_ids) == len(word_ids)\n",
    "\n",
    "    tokenized_inputs[\"labels\"] = labels\n",
    "    return tokenized_inputs"
   ]
  },
  {
   "cell_type": "markdown",
   "id": "183fc7e0-cb19-4188-81a3-ba6a52756ec5",
   "metadata": {},
   "source": [
    "## Dataset: conll2003"
   ]
  },
  {
   "cell_type": "code",
   "execution_count": 9,
   "id": "1ab40469-16d3-40b7-87c2-2bb2ace0fd0b",
   "metadata": {
    "tags": []
   },
   "outputs": [
    {
     "name": "stderr",
     "output_type": "stream",
     "text": [
      "Found cached dataset conll2003 (/home/base/.cache/huggingface/datasets/conll2003/conll2003/1.0.0/9a4d16a94f8674ba3466315300359b0acd891b68b6c8743ddf60b9c702adce98)\n"
     ]
    }
   ],
   "source": [
    "conll_dataset = load_dataset(\n",
    "    \"conll2003\", \n",
    "    split=\"test\", \n",
    "    # features=[\"tokens\", \"ner_tags\"]\n",
    ")"
   ]
  },
  {
   "cell_type": "code",
   "execution_count": 10,
   "id": "c9c2c7b2-0682-4cb4-91ad-b53475483802",
   "metadata": {
    "tags": []
   },
   "outputs": [
    {
     "data": {
      "text/plain": [
       "{0: 'O',\n",
       " 1: 'B-PER',\n",
       " 2: 'I-PER',\n",
       " 3: 'B-ORG',\n",
       " 4: 'I-ORG',\n",
       " 5: 'B-LOC',\n",
       " 6: 'I-LOC',\n",
       " 7: 'B-MISC',\n",
       " 8: 'I-MISC'}"
      ]
     },
     "execution_count": 10,
     "metadata": {},
     "output_type": "execute_result"
    }
   ],
   "source": [
    "id2label = dict(enumerate(conll_dataset.features[\"ner_tags\"].feature.names))\n",
    "id2label"
   ]
  },
  {
   "cell_type": "code",
   "execution_count": 11,
   "id": "05050a16-671d-4ca2-aff4-cae2b45a2842",
   "metadata": {
    "tags": []
   },
   "outputs": [
    {
     "data": {
      "text/plain": [
       "{'O': 0,\n",
       " 'B-PER': 1,\n",
       " 'I-PER': 2,\n",
       " 'B-ORG': 3,\n",
       " 'I-ORG': 4,\n",
       " 'B-LOC': 5,\n",
       " 'I-LOC': 6,\n",
       " 'B-MISC': 7,\n",
       " 'I-MISC': 8}"
      ]
     },
     "execution_count": 11,
     "metadata": {},
     "output_type": "execute_result"
    }
   ],
   "source": [
    "label2id = {v: k for k, v in id2label.items()}\n",
    "label2id"
   ]
  },
  {
   "cell_type": "code",
   "execution_count": 12,
   "id": "25a90aac-1248-44cb-ad09-806fd9fd6cb1",
   "metadata": {
    "tags": []
   },
   "outputs": [],
   "source": [
    "label2id = {\"O\": 0,\n",
    " \"B-PER\": 0,\n",
    " \"I-PER\": 0,\n",
    " \"B-ORG\": 1,\n",
    " \"I-ORG\": 1,\n",
    " \"B-LOC\": 0,\n",
    " \"I-LOC\": 0,\n",
    " \"B-MISC\": 0,\n",
    " \"I-MISC\": 0}"
   ]
  },
  {
   "cell_type": "code",
   "execution_count": 13,
   "id": "4b629448-e867-436a-9c03-8540e7f78396",
   "metadata": {
    "tags": []
   },
   "outputs": [],
   "source": [
    "conll_examples = []\n",
    "for d in conll_dataset:\n",
    "    del d[\"pos_tags\"]\n",
    "    del d[\"chunk_tags\"]\n",
    "    d[\"ner_tags\"] = [id2label[tag_id] for tag_id in d[\"ner_tags\"]]\n",
    "    d[\"ner_tags\"] = [label2id[tag] for tag in d[\"ner_tags\"]]\n",
    "    conll_examples.append(d)"
   ]
  },
  {
   "cell_type": "code",
   "execution_count": 14,
   "id": "acbec3e2-69e4-4407-8404-c1d7d9852b70",
   "metadata": {
    "tags": []
   },
   "outputs": [
    {
     "data": {
      "text/plain": [
       "{'id': '374',\n",
       " 'tokens': ['NY', 'ISLANDERS', '7', '11', '8', '65', '72', '22'],\n",
       " 'ner_tags': [1, 1, 0, 0, 0, 0, 0, 0]}"
      ]
     },
     "execution_count": 14,
     "metadata": {},
     "output_type": "execute_result"
    }
   ],
   "source": [
    "conll_examples[374]"
   ]
  },
  {
   "cell_type": "code",
   "execution_count": 15,
   "id": "9ec61820-2b67-437b-9b79-b3f6e57c4a30",
   "metadata": {
    "tags": []
   },
   "outputs": [],
   "source": [
    "conll_dataset = Dataset.from_list(conll_examples)"
   ]
  },
  {
   "cell_type": "code",
   "execution_count": 16,
   "id": "063e2f8a-afa3-4fff-ac1a-676c47c6b146",
   "metadata": {
    "tags": []
   },
   "outputs": [],
   "source": [
    "conll_dataset_tokenized = tokenize_and_align_labels(conll_dataset)"
   ]
  },
  {
   "cell_type": "code",
   "execution_count": 17,
   "id": "614d5bac-74a4-4795-b585-9e1a3edfeb6f",
   "metadata": {
    "tags": []
   },
   "outputs": [],
   "source": [
    "conll_dataset_tokenized = Dataset.from_dict(dict(conll_dataset_tokenized))"
   ]
  },
  {
   "cell_type": "markdown",
   "id": "7483e94b-5483-4e42-bbaf-42ac468efe91",
   "metadata": {},
   "source": [
    "## Dataset: ontonotes5"
   ]
  },
  {
   "cell_type": "code",
   "execution_count": 18,
   "id": "fc668dc3-4286-4e43-b41a-56f33b781a18",
   "metadata": {
    "tags": []
   },
   "outputs": [
    {
     "name": "stderr",
     "output_type": "stream",
     "text": [
      "Found cached dataset ontonotes5 (/home/base/.cache/huggingface/datasets/tner___ontonotes5/ontonotes5/1.0.0/58d8410f24e689c113094eef1d1686365ba9155c66b57bdf8fa4273307c37612)\n"
     ]
    }
   ],
   "source": [
    "from datasets import load_dataset\n",
    "\n",
    "ontonotes_dataset = load_dataset(\"tner/ontonotes5\", split=\"test\")"
   ]
  },
  {
   "cell_type": "code",
   "execution_count": 19,
   "id": "a6d72939-dca4-4abd-8427-c19d0fb6a454",
   "metadata": {
    "tags": []
   },
   "outputs": [
    {
     "data": {
      "text/plain": [
       "{'tokens': Sequence(feature=Value(dtype='string', id=None), length=-1, id=None),\n",
       " 'tags': Sequence(feature=Value(dtype='int32', id=None), length=-1, id=None)}"
      ]
     },
     "execution_count": 19,
     "metadata": {},
     "output_type": "execute_result"
    }
   ],
   "source": [
    "ontonotes_dataset.features"
   ]
  },
  {
   "cell_type": "code",
   "execution_count": 20,
   "id": "01297579-a83e-4e82-8630-5872de462cc3",
   "metadata": {
    "tags": []
   },
   "outputs": [],
   "source": [
    "label2id = {\n",
    "    \"O\": 0,\n",
    "    \"B-CARDINAL\": 1,\n",
    "    \"B-DATE\": 2,\n",
    "    \"I-DATE\": 3,\n",
    "    \"B-PERSON\": 4,\n",
    "    \"I-PERSON\": 5,\n",
    "    \"B-NORP\": 6,\n",
    "    \"B-GPE\": 7,\n",
    "    \"I-GPE\": 8,\n",
    "    \"B-LAW\": 9,\n",
    "    \"I-LAW\": 10,\n",
    "    \"B-ORG\": 11,\n",
    "    \"I-ORG\": 12, \n",
    "    \"B-PERCENT\": 13,\n",
    "    \"I-PERCENT\": 14, \n",
    "    \"B-ORDINAL\": 15, \n",
    "    \"B-MONEY\": 16, \n",
    "    \"I-MONEY\": 17, \n",
    "    \"B-WORK_OF_ART\": 18, \n",
    "    \"I-WORK_OF_ART\": 19, \n",
    "    \"B-FAC\": 20, \n",
    "    \"B-TIME\": 21, \n",
    "    \"I-CARDINAL\": 22, \n",
    "    \"B-LOC\": 23, \n",
    "    \"B-QUANTITY\": 24, \n",
    "    \"I-QUANTITY\": 25, \n",
    "    \"I-NORP\": 26, \n",
    "    \"I-LOC\": 27, \n",
    "    \"B-PRODUCT\": 28, \n",
    "    \"I-TIME\": 29, \n",
    "    \"B-EVENT\": 30,\n",
    "    \"I-EVENT\": 31,\n",
    "    \"I-FAC\": 32,\n",
    "    \"B-LANGUAGE\": 33,\n",
    "    \"I-PRODUCT\": 34,\n",
    "    \"I-ORDINAL\": 35,\n",
    "    \"I-LANGUAGE\": 36\n",
    "}"
   ]
  },
  {
   "cell_type": "code",
   "execution_count": 21,
   "id": "2526dc79-3755-480f-9481-9974750cd418",
   "metadata": {
    "tags": []
   },
   "outputs": [
    {
     "data": {
      "text/plain": [
       "{0: 'O',\n",
       " 1: 'B-CARDINAL',\n",
       " 2: 'B-DATE',\n",
       " 3: 'I-DATE',\n",
       " 4: 'B-PERSON',\n",
       " 5: 'I-PERSON',\n",
       " 6: 'B-NORP',\n",
       " 7: 'B-GPE',\n",
       " 8: 'I-GPE',\n",
       " 9: 'B-LAW',\n",
       " 10: 'I-LAW',\n",
       " 11: 'B-ORG',\n",
       " 12: 'I-ORG',\n",
       " 13: 'B-PERCENT',\n",
       " 14: 'I-PERCENT',\n",
       " 15: 'B-ORDINAL',\n",
       " 16: 'B-MONEY',\n",
       " 17: 'I-MONEY',\n",
       " 18: 'B-WORK_OF_ART',\n",
       " 19: 'I-WORK_OF_ART',\n",
       " 20: 'B-FAC',\n",
       " 21: 'B-TIME',\n",
       " 22: 'I-CARDINAL',\n",
       " 23: 'B-LOC',\n",
       " 24: 'B-QUANTITY',\n",
       " 25: 'I-QUANTITY',\n",
       " 26: 'I-NORP',\n",
       " 27: 'I-LOC',\n",
       " 28: 'B-PRODUCT',\n",
       " 29: 'I-TIME',\n",
       " 30: 'B-EVENT',\n",
       " 31: 'I-EVENT',\n",
       " 32: 'I-FAC',\n",
       " 33: 'B-LANGUAGE',\n",
       " 34: 'I-PRODUCT',\n",
       " 35: 'I-ORDINAL',\n",
       " 36: 'I-LANGUAGE'}"
      ]
     },
     "execution_count": 21,
     "metadata": {},
     "output_type": "execute_result"
    }
   ],
   "source": [
    "id2label = {v: k for k, v in label2id.items()}\n",
    "id2label"
   ]
  },
  {
   "cell_type": "code",
   "execution_count": null,
   "id": "4f9fa79d-c94a-45f5-903b-73451c76b2aa",
   "metadata": {},
   "outputs": [],
   "source": []
  },
  {
   "cell_type": "code",
   "execution_count": 22,
   "id": "97a97410-0e1c-4213-8864-148d5f81a04d",
   "metadata": {
    "tags": []
   },
   "outputs": [],
   "source": [
    "label2id = {\n",
    "    \"O\": 0,\n",
    "    \"B-CARDINAL\": 0,\n",
    "    \"B-DATE\": 0,\n",
    "    \"I-DATE\": 0,\n",
    "    \"B-PERSON\": 0,\n",
    "    \"I-PERSON\": 0,\n",
    "    \"B-NORP\": 0,\n",
    "    \"B-GPE\": 0,\n",
    "    \"I-GPE\": 0,\n",
    "    \"B-LAW\": 0,\n",
    "    \"I-LAW\": 0,\n",
    "    \"B-ORG\": 1,\n",
    "    \"I-ORG\": 1, \n",
    "    \"B-PERCENT\": 0,\n",
    "    \"I-PERCENT\": 0, \n",
    "    \"B-ORDINAL\": 0, \n",
    "    \"B-MONEY\": 0, \n",
    "    \"I-MONEY\": 0, \n",
    "    \"B-WORK_OF_ART\": 0, \n",
    "    \"I-WORK_OF_ART\": 0, \n",
    "    \"B-FAC\": 0, \n",
    "    \"B-TIME\": 0, \n",
    "    \"I-CARDINAL\": 0, \n",
    "    \"B-LOC\": 0, \n",
    "    \"B-QUANTITY\": 0, \n",
    "    \"I-QUANTITY\": 0, \n",
    "    \"I-NORP\": 0, \n",
    "    \"I-LOC\": 0, \n",
    "    \"B-PRODUCT\": 0, \n",
    "    \"I-TIME\": 0, \n",
    "    \"B-EVENT\": 0,\n",
    "    \"I-EVENT\": 0,\n",
    "    \"I-FAC\": 0,\n",
    "    \"B-LANGUAGE\": 0,\n",
    "    \"I-PRODUCT\": 0,\n",
    "    \"I-ORDINAL\": 0,\n",
    "    \"I-LANGUAGE\": 0\n",
    "}"
   ]
  },
  {
   "cell_type": "code",
   "execution_count": null,
   "id": "00b1c7ec-24c1-4f0e-b5bc-9194f30de816",
   "metadata": {},
   "outputs": [],
   "source": []
  },
  {
   "cell_type": "code",
   "execution_count": 23,
   "id": "41f33b64-f1b6-4e10-884b-f0730683da4d",
   "metadata": {
    "tags": []
   },
   "outputs": [],
   "source": [
    "ontonotes5_examples = []\n",
    "for d in ontonotes_dataset:\n",
    "    # del d[\"pos_tags\"]\n",
    "    # del d[\"chunk_tags\"]\n",
    "    d[\"tags\"] = [id2label[tag_id] for tag_id in d[\"tags\"]]\n",
    "    d[\"ner_tags\"] = [label2id[tag] for tag in d[\"tags\"]]\n",
    "    del d[\"tags\"]\n",
    "    ontonotes5_examples.append(d)"
   ]
  },
  {
   "cell_type": "code",
   "execution_count": 24,
   "id": "ecdc0b48-cd00-4bdb-8975-7f4dd04e3b3d",
   "metadata": {
    "tags": []
   },
   "outputs": [],
   "source": [
    "ontonotes_dataset = Dataset.from_list(ontonotes5_examples)"
   ]
  },
  {
   "cell_type": "code",
   "execution_count": 25,
   "id": "b0e6cced-e75c-423c-98cd-517bf966c352",
   "metadata": {
    "tags": []
   },
   "outputs": [
    {
     "data": {
      "text/plain": [
       "Dataset({\n",
       "    features: ['tokens', 'ner_tags'],\n",
       "    num_rows: 8262\n",
       "})"
      ]
     },
     "execution_count": 25,
     "metadata": {},
     "output_type": "execute_result"
    }
   ],
   "source": [
    "ontonotes_dataset"
   ]
  },
  {
   "cell_type": "code",
   "execution_count": 26,
   "id": "c6023b87-111c-482e-a280-a37cdac7190e",
   "metadata": {
    "tags": []
   },
   "outputs": [],
   "source": [
    "ontonotes_dataset_tokenized = tokenize_and_align_labels(ontonotes_dataset)"
   ]
  },
  {
   "cell_type": "code",
   "execution_count": 27,
   "id": "718de889-b70c-4a22-b88a-bbb574e54e5f",
   "metadata": {
    "tags": []
   },
   "outputs": [],
   "source": [
    "ontonotes_dataset_tokenized = Dataset.from_dict(dict(ontonotes_dataset_tokenized))"
   ]
  },
  {
   "cell_type": "code",
   "execution_count": null,
   "id": "3d8f1f30-5311-49f5-8c67-d6f38fdb34bc",
   "metadata": {},
   "outputs": [],
   "source": []
  },
  {
   "cell_type": "markdown",
   "id": "0f082c8c-07c2-4ef4-b7c4-2057c3cb7ab0",
   "metadata": {
    "tags": []
   },
   "source": [
    "## Eval"
   ]
  },
  {
   "cell_type": "code",
   "execution_count": 28,
   "id": "3c9cdf6e-da66-4d48-958f-ebc1c956473c",
   "metadata": {
    "tags": []
   },
   "outputs": [],
   "source": [
    "from datasets import concatenate_datasets"
   ]
  },
  {
   "cell_type": "code",
   "execution_count": 29,
   "id": "ed28e537-4e78-4679-9647-4645f931aff0",
   "metadata": {
    "tags": []
   },
   "outputs": [],
   "source": [
    "tokenized_dataset = concatenate_datasets([ontonotes_dataset_tokenized, conll_dataset_tokenized])"
   ]
  },
  {
   "cell_type": "code",
   "execution_count": 30,
   "id": "b1f802f3-da5a-4955-9e15-35408cc2f1f5",
   "metadata": {},
   "outputs": [
    {
     "data": {
      "text/plain": [
       "Dataset({\n",
       "    features: ['input_ids', 'attention_mask', 'labels'],\n",
       "    num_rows: 11715\n",
       "})"
      ]
     },
     "execution_count": 30,
     "metadata": {},
     "output_type": "execute_result"
    }
   ],
   "source": [
    "tokenized_dataset"
   ]
  },
  {
   "cell_type": "code",
   "execution_count": 38,
   "id": "ba78aeda-59b1-43d7-90b7-3fc770c42fc3",
   "metadata": {
    "tags": []
   },
   "outputs": [],
   "source": [
    "from transformers import DataCollatorForTokenClassification\n",
    "\n",
    "data_collator = DataCollatorForTokenClassification(tokenizer=tokenizer)\n",
    "dataloader = DataLoader(tokenized_dataset, collate_fn=data_collator, batch_size=64)"
   ]
  },
  {
   "cell_type": "code",
   "execution_count": 39,
   "id": "b81aac41-38c9-4d85-b8dc-14224d431596",
   "metadata": {
    "tags": []
   },
   "outputs": [],
   "source": [
    "# batch = next(iter(dataloader))"
   ]
  },
  {
   "cell_type": "code",
   "execution_count": 40,
   "id": "8180281e-1f20-4059-85de-c664d973038a",
   "metadata": {
    "tags": []
   },
   "outputs": [],
   "source": [
    "seqeval = evaluate.load(\"seqeval\")"
   ]
  },
  {
   "cell_type": "code",
   "execution_count": 41,
   "id": "2a8f162e-3636-4913-8ba1-1df641f0e708",
   "metadata": {
    "tags": []
   },
   "outputs": [],
   "source": [
    "label_list = [\"O\", \"ORG\"]"
   ]
  },
  {
   "cell_type": "code",
   "execution_count": 42,
   "id": "0727cc44-fb3e-4f34-bde3-044acc1a9e10",
   "metadata": {
    "tags": []
   },
   "outputs": [],
   "source": [
    "def compute_metrics(predictions, labels, label_list=label_list):\n",
    "    # predictions, labels = p\n",
    "    predictions = np.argmax(predictions, axis=2)\n",
    "    predictions[predictions != 2] = 0\n",
    "    predictions[predictions == 2] = 1\n",
    "\n",
    "    true_predictions = [\n",
    "        [label_list[p] for (p, l) in zip(prediction, label) if l != -100]\n",
    "        for prediction, label in zip(predictions, labels)\n",
    "    ]\n",
    "    true_labels = [\n",
    "        [label_list[l] for (p, l) in zip(prediction, label) if l != -100]\n",
    "        for prediction, label in zip(predictions, labels)\n",
    "    ]\n",
    "\n",
    "    results = seqeval.compute(predictions=true_predictions, references=true_labels)\n",
    "    return {\n",
    "        \"precision\": results[\"overall_precision\"],\n",
    "        \"recall\": results[\"overall_recall\"],\n",
    "        \"f1\": results[\"overall_f1\"],\n",
    "        \"accuracy\": results[\"overall_accuracy\"],\n",
    "    }"
   ]
  },
  {
   "cell_type": "code",
   "execution_count": 43,
   "id": "8a2435fa-d8da-4b42-a2e8-a1478a5b70a0",
   "metadata": {
    "tags": []
   },
   "outputs": [],
   "source": [
    "preds = []\n",
    "labels = []"
   ]
  },
  {
   "cell_type": "code",
   "execution_count": 44,
   "id": "b6de049b-eb28-47f7-ad5c-2378b9245e39",
   "metadata": {
    "tags": []
   },
   "outputs": [
    {
     "name": "stderr",
     "output_type": "stream",
     "text": [
      "100%|██████████████████████████████████████████████████████████████████████████████████████████████████████████████████████████████| 184/184 [21:04<00:00,  6.87s/it]\n"
     ]
    }
   ],
   "source": [
    "with torch.no_grad():\n",
    "    for batch in tqdm(dataloader):\n",
    "        p = model(**batch)\n",
    "        predictions = p.logits\n",
    "        predictions = np.argmax(predictions, axis=2)\n",
    "        predictions[predictions != 2] = 0\n",
    "        predictions[predictions == 2] = 1\n",
    "        \n",
    "        preds.append(predictions.numpy())\n",
    "        labels.append(batch.labels.numpy())"
   ]
  },
  {
   "cell_type": "code",
   "execution_count": 45,
   "id": "f5475c63-1fed-4000-88d3-8729d5404298",
   "metadata": {
    "tags": []
   },
   "outputs": [],
   "source": [
    "from sklearn.metrics import classification_report"
   ]
  },
  {
   "cell_type": "code",
   "execution_count": 46,
   "id": "57c0e196-87e9-40af-a807-de283534cd12",
   "metadata": {
    "tags": []
   },
   "outputs": [],
   "source": [
    "# preds = [p.numpy() for p in preds]\n",
    "# labels = [l.numpy() for l in labels]"
   ]
  },
  {
   "cell_type": "code",
   "execution_count": 47,
   "id": "9abb343c-97a1-4467-8c6a-8e2d6eb54316",
   "metadata": {
    "tags": []
   },
   "outputs": [],
   "source": [
    "preds = [np.hstack(p) for p in preds]\n",
    "labels = [np.hstack(l) for l in labels]"
   ]
  },
  {
   "cell_type": "code",
   "execution_count": 48,
   "id": "d76771fb-4aa6-4642-ad8c-a3ef73e69582",
   "metadata": {
    "tags": []
   },
   "outputs": [],
   "source": [
    "preds = np.hstack(preds)\n",
    "labels = np.hstack(labels)"
   ]
  },
  {
   "cell_type": "code",
   "execution_count": 49,
   "id": "131fcf9a-8948-4b0d-9623-caaed570eb0f",
   "metadata": {
    "tags": []
   },
   "outputs": [
    {
     "data": {
      "text/plain": [
       "(721988, 721988)"
      ]
     },
     "execution_count": 49,
     "metadata": {},
     "output_type": "execute_result"
    }
   ],
   "source": [
    "len(preds), len(labels)"
   ]
  },
  {
   "cell_type": "code",
   "execution_count": 50,
   "id": "e57b963c-53be-4046-a7af-70afa86a4544",
   "metadata": {
    "tags": []
   },
   "outputs": [],
   "source": [
    "filtered = [(pred, true) for pred, true in zip(preds, labels) if true != -100]"
   ]
  },
  {
   "cell_type": "code",
   "execution_count": 51,
   "id": "63cb94c3-0b8f-4895-9f99-f784c63bd83b",
   "metadata": {
    "tags": []
   },
   "outputs": [
    {
     "data": {
      "text/plain": [
       "228284"
      ]
     },
     "execution_count": 51,
     "metadata": {},
     "output_type": "execute_result"
    }
   ],
   "source": [
    "len(filtered)"
   ]
  },
  {
   "cell_type": "code",
   "execution_count": 52,
   "id": "79cb60b2-f10b-404d-b15d-3c970b69a592",
   "metadata": {
    "tags": []
   },
   "outputs": [],
   "source": [
    "import pandas as pd"
   ]
  },
  {
   "cell_type": "code",
   "execution_count": 53,
   "id": "92353a89-6ec2-499e-9d47-8bb65dde7330",
   "metadata": {
    "tags": []
   },
   "outputs": [],
   "source": [
    "preds_df = pd.DataFrame(filtered, columns=[\"pred\", \"true\"])"
   ]
  },
  {
   "cell_type": "code",
   "execution_count": 54,
   "id": "b55aea1f-be36-40eb-9383-0a2458fe1a8e",
   "metadata": {
    "tags": []
   },
   "outputs": [
    {
     "data": {
      "text/html": [
       "<div>\n",
       "<style scoped>\n",
       "    .dataframe tbody tr th:only-of-type {\n",
       "        vertical-align: middle;\n",
       "    }\n",
       "\n",
       "    .dataframe tbody tr th {\n",
       "        vertical-align: top;\n",
       "    }\n",
       "\n",
       "    .dataframe thead th {\n",
       "        text-align: right;\n",
       "    }\n",
       "</style>\n",
       "<table border=\"1\" class=\"dataframe\">\n",
       "  <thead>\n",
       "    <tr style=\"text-align: right;\">\n",
       "      <th></th>\n",
       "      <th>pred</th>\n",
       "      <th>true</th>\n",
       "    </tr>\n",
       "  </thead>\n",
       "  <tbody>\n",
       "    <tr>\n",
       "      <th>0</th>\n",
       "      <td>0</td>\n",
       "      <td>0</td>\n",
       "    </tr>\n",
       "    <tr>\n",
       "      <th>1</th>\n",
       "      <td>0</td>\n",
       "      <td>0</td>\n",
       "    </tr>\n",
       "    <tr>\n",
       "      <th>2</th>\n",
       "      <td>0</td>\n",
       "      <td>0</td>\n",
       "    </tr>\n",
       "    <tr>\n",
       "      <th>3</th>\n",
       "      <td>0</td>\n",
       "      <td>0</td>\n",
       "    </tr>\n",
       "    <tr>\n",
       "      <th>4</th>\n",
       "      <td>0</td>\n",
       "      <td>0</td>\n",
       "    </tr>\n",
       "    <tr>\n",
       "      <th>...</th>\n",
       "      <td>...</td>\n",
       "      <td>...</td>\n",
       "    </tr>\n",
       "    <tr>\n",
       "      <th>228279</th>\n",
       "      <td>0</td>\n",
       "      <td>0</td>\n",
       "    </tr>\n",
       "    <tr>\n",
       "      <th>228280</th>\n",
       "      <td>0</td>\n",
       "      <td>0</td>\n",
       "    </tr>\n",
       "    <tr>\n",
       "      <th>228281</th>\n",
       "      <td>0</td>\n",
       "      <td>0</td>\n",
       "    </tr>\n",
       "    <tr>\n",
       "      <th>228282</th>\n",
       "      <td>0</td>\n",
       "      <td>0</td>\n",
       "    </tr>\n",
       "    <tr>\n",
       "      <th>228283</th>\n",
       "      <td>0</td>\n",
       "      <td>0</td>\n",
       "    </tr>\n",
       "  </tbody>\n",
       "</table>\n",
       "<p>228284 rows × 2 columns</p>\n",
       "</div>"
      ],
      "text/plain": [
       "        pred  true\n",
       "0          0     0\n",
       "1          0     0\n",
       "2          0     0\n",
       "3          0     0\n",
       "4          0     0\n",
       "...      ...   ...\n",
       "228279     0     0\n",
       "228280     0     0\n",
       "228281     0     0\n",
       "228282     0     0\n",
       "228283     0     0\n",
       "\n",
       "[228284 rows x 2 columns]"
      ]
     },
     "execution_count": 54,
     "metadata": {},
     "output_type": "execute_result"
    }
   ],
   "source": [
    "preds_df"
   ]
  },
  {
   "cell_type": "code",
   "execution_count": 55,
   "id": "c00d17b1-cf45-4847-a02e-9893525ff413",
   "metadata": {
    "tags": []
   },
   "outputs": [
    {
     "name": "stdout",
     "output_type": "stream",
     "text": [
      "              precision    recall  f1-score   support\n",
      "\n",
      "           0       1.00      0.99      0.99    218273\n",
      "           1       0.86      0.90      0.88     10011\n",
      "\n",
      "    accuracy                           0.99    228284\n",
      "   macro avg       0.93      0.95      0.94    228284\n",
      "weighted avg       0.99      0.99      0.99    228284\n",
      "\n"
     ]
    }
   ],
   "source": [
    "print(classification_report(preds_df.true, preds_df.pred))"
   ]
  },
  {
   "cell_type": "code",
   "execution_count": null,
   "id": "b9523ab8-f72f-43a5-8f95-2d55b681c753",
   "metadata": {},
   "outputs": [],
   "source": []
  }
 ],
 "metadata": {
  "kernelspec": {
   "display_name": "Python 3 (ipykernel)",
   "language": "python",
   "name": "python3"
  },
  "language_info": {
   "codemirror_mode": {
    "name": "ipython",
    "version": 3
   },
   "file_extension": ".py",
   "mimetype": "text/x-python",
   "name": "python",
   "nbconvert_exporter": "python",
   "pygments_lexer": "ipython3",
   "version": "3.10.6"
  }
 },
 "nbformat": 4,
 "nbformat_minor": 5
}
