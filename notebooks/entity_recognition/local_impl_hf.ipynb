{
 "cells": [
  {
   "cell_type": "markdown",
   "id": "00c14df5-325d-42fd-802a-c19754ae404d",
   "metadata": {},
   "source": [
    "# Entity Recognizer service local implementation with HuggingFace library model"
   ]
  },
  {
   "cell_type": "code",
   "execution_count": 1,
   "id": "a3ffbd18-17ab-4bfb-bb9a-76c93b28ff35",
   "metadata": {},
   "outputs": [
    {
     "name": "stderr",
     "output_type": "stream",
     "text": [
      "/home/base/noisemon/.venv/lib/python3.10/site-packages/tqdm/auto.py:21: TqdmWarning: IProgress not found. Please update jupyter and ipywidgets. See https://ipywidgets.readthedocs.io/en/stable/user_install.html\n",
      "  from .autonotebook import tqdm as notebook_tqdm\n"
     ]
    }
   ],
   "source": [
    "from dataclasses import dataclass\n",
    "from typing import Literal\n",
    "\n",
    "from transformers import AutoModelForTokenClassification, AutoTokenizer\n",
    "from transformers import pipeline\n",
    "\n",
    "from noisemon.domain.models.entity_span import EntitySpan\n",
    "from noisemon.domain.services.entity_recognition.entity_recognizer import EntityRecognizer"
   ]
  },
  {
   "cell_type": "code",
   "execution_count": 2,
   "id": "08167385-495d-40e2-9b26-aa017bb57b44",
   "metadata": {},
   "outputs": [],
   "source": [
    "@dataclass\n",
    "class HFEntity:\n",
    "    entity_group: Literal[\"MISC\", \"ORG\", \"PER\", \"LOC\", \"O\"]\n",
    "    score: float\n",
    "    word: str\n",
    "    start: int\n",
    "    end: int"
   ]
  },
  {
   "cell_type": "code",
   "execution_count": 3,
   "id": "a05d8107-c728-4878-bb93-f6428b501984",
   "metadata": {},
   "outputs": [],
   "source": [
    "def hf_entity_to_entity_span(hf_entity: HFEntity) -> EntitySpan:\n",
    "    return EntitySpan(\n",
    "        span_start=hf_entity.start,\n",
    "        span_end=hf_entity.end,\n",
    "        span=hf_entity.word\n",
    "    )"
   ]
  },
  {
   "cell_type": "code",
   "execution_count": 9,
   "id": "4af36a7c-039a-4e67-802f-b3d27cdfe8a1",
   "metadata": {},
   "outputs": [],
   "source": [
    "class EntityRecognizerLocalImpl(EntityRecognizer):\n",
    "    def __init__(self):\n",
    "        model_name = \"philschmid/distilroberta-base-ner-conll2003\"\n",
    "        self.tokenizer = AutoTokenizer.from_pretrained(model_name)\n",
    "        self.model = AutoModelForTokenClassification.from_pretrained(model_name)\n",
    "        self.nlp = pipeline(\n",
    "            \"ner\",\n",
    "            model=self.model,\n",
    "            tokenizer=self.tokenizer,\n",
    "            aggregation_strategy=\"simple\"\n",
    "        )\n",
    "\n",
    "    def recognize_entities(self, text):\n",
    "        output = self.nlp(text)\n",
    "        output: list[HFEntity] = [HFEntity(**e) for e in output]\n",
    "        result = [hf_entity_to_entity_span(e) for e in output if e.entity_group == \"ORG\"]\n",
    "\n",
    "        # strip entitite out of trailing spaces\n",
    "        for es in result:\n",
    "            \n",
    "        \n",
    "        return result"
   ]
  },
  {
   "cell_type": "code",
   "execution_count": 10,
   "id": "f2133b6c-af6f-4006-b102-4dfde45f0eae",
   "metadata": {},
   "outputs": [
    {
     "name": "stderr",
     "output_type": "stream",
     "text": [
      "Downloading (…)okenizer_config.json: 100%|███████████████████████████████████████████████████████████████████████████████████████████| 293/293 [00:00<00:00, 577kB/s]\n",
      "Downloading (…)lve/main/config.json: 100%|██████████████████████████████████████████████████████████████████████████████████████| 1.03k/1.03k [00:00<00:00, 2.08MB/s]\n",
      "Downloading (…)olve/main/vocab.json: 100%|████████████████████████████████████████████████████████████████████████████████████████| 798k/798k [00:00<00:00, 1.45MB/s]\n",
      "Downloading (…)olve/main/merges.txt: 100%|████████████████████████████████████████████████████████████████████████████████████████| 456k/456k [00:00<00:00, 1.09MB/s]\n",
      "Downloading (…)/main/tokenizer.json: 100%|██████████████████████████████████████████████████████████████████████████████████████| 1.36M/1.36M [00:00<00:00, 1.99MB/s]\n",
      "Downloading (…)cial_tokens_map.json: 100%|███████████████████████████████████████████████████████████████████████████████████████████| 239/239 [00:00<00:00, 436kB/s]\n",
      "Downloading pytorch_model.bin: 100%|██████████████████████████████████████████████████████████████████████████████████████████████| 326M/326M [00:59<00:00, 5.52MB/s]\n"
     ]
    }
   ],
   "source": [
    "entity_recognizer = EntityRecognizerLocalImpl()"
   ]
  },
  {
   "cell_type": "markdown",
   "id": "85c83f4b-954c-4c9e-9b9d-afbbafa6264f",
   "metadata": {},
   "source": [
    "## Test data"
   ]
  },
  {
   "cell_type": "code",
   "execution_count": 76,
   "id": "862cd34e-9694-4eb2-b3ce-9aae1b1364d3",
   "metadata": {},
   "outputs": [],
   "source": [
    "test_text = \"Apple Inc. is a leading tech company. Microsoft Corporation is also well-known.\""
   ]
  },
  {
   "cell_type": "code",
   "execution_count": 77,
   "id": "df9aab11-aaef-4457-8b10-ea3949947637",
   "metadata": {},
   "outputs": [
    {
     "data": {
      "text/plain": [
       "(0, 10)"
      ]
     },
     "execution_count": 77,
     "metadata": {},
     "output_type": "execute_result"
    }
   ],
   "source": [
    "test_text.index(\"Apple Inc.\"), len(\"Apple Inc.\")"
   ]
  },
  {
   "cell_type": "code",
   "execution_count": 78,
   "id": "ed647393-a1cf-45b7-ab3b-d893030aa55f",
   "metadata": {},
   "outputs": [
    {
     "data": {
      "text/plain": [
       "(38, 21)"
      ]
     },
     "execution_count": 78,
     "metadata": {},
     "output_type": "execute_result"
    }
   ],
   "source": [
    "test_text.index(\"Microsoft Corporation\"), len(\"Microsoft Corporation\") "
   ]
  },
  {
   "cell_type": "code",
   "execution_count": 16,
   "id": "8544543d-d4c4-495d-8d4b-7ca805377fcb",
   "metadata": {},
   "outputs": [],
   "source": [
    "test_text = \"Amazon.com is an e-commerce giant. Google LLC is a tech company.\""
   ]
  },
  {
   "cell_type": "code",
   "execution_count": null,
   "id": "009de100-a29d-4d8d-b392-06ef4475fc7a",
   "metadata": {},
   "outputs": [],
   "source": []
  },
  {
   "cell_type": "code",
   "execution_count": null,
   "id": "a54362db-ba26-4f04-a783-32347ad18e81",
   "metadata": {},
   "outputs": [],
   "source": []
  },
  {
   "cell_type": "code",
   "execution_count": 17,
   "id": "5b233c55-b6e2-4765-81f7-1865c58b91da",
   "metadata": {},
   "outputs": [
    {
     "data": {
      "text/plain": [
       "[EntitySpan(span=' Amazon', span_start=0, span_end=6),\n",
       " EntitySpan(span='.', span_start=6, span_end=7),\n",
       " EntitySpan(span='com', span_start=7, span_end=10),\n",
       " EntitySpan(span=' Google LLC', span_start=35, span_end=45)]"
      ]
     },
     "execution_count": 17,
     "metadata": {},
     "output_type": "execute_result"
    }
   ],
   "source": [
    "entity_recognizer.recognize_entities(test_text)"
   ]
  },
  {
   "cell_type": "markdown",
   "id": "7ef82413-058b-461c-9a36-58a7675649bf",
   "metadata": {},
   "source": [
    "## Resolving issues"
   ]
  },
  {
   "cell_type": "code",
   "execution_count": 46,
   "id": "ac659182-b1cd-42a1-9677-c9f209b969f4",
   "metadata": {},
   "outputs": [],
   "source": [
    "from copy import deepcopy"
   ]
  },
  {
   "cell_type": "code",
   "execution_count": 64,
   "id": "b79f20bc-e78b-498e-9862-1dd0c66a1f02",
   "metadata": {},
   "outputs": [],
   "source": [
    "def merge_consecutive(data):\n",
    "    data = deepcopy(data)\n",
    "    merged_data = []\n",
    "    current_obj = None\n",
    "    \n",
    "    for obj in data:\n",
    "        if current_obj is None:\n",
    "            current_obj = obj\n",
    "        elif obj['start'] == current_obj['end']:\n",
    "            current_obj['end'] = obj['end']\n",
    "            current_obj['word'] += obj['word']\n",
    "            current_obj['score'] = (current_obj['score'] + obj['score']) / 2\n",
    "        else:\n",
    "            merged_data.append(current_obj)\n",
    "            current_obj = obj\n",
    "            \n",
    "    if current_obj:\n",
    "        merged_data.append(current_obj)\n",
    "        \n",
    "    return merged_data"
   ]
  },
  {
   "cell_type": "code",
   "execution_count": 65,
   "id": "964cb500-28ce-43db-9fde-2b52abc6b5ef",
   "metadata": {},
   "outputs": [
    {
     "data": {
      "text/plain": [
       "[{'entity_group': 'ORG',\n",
       "  'score': 0.9996345,\n",
       "  'word': ' Amazon',\n",
       "  'start': 0,\n",
       "  'end': 6},\n",
       " {'entity_group': 'ORG',\n",
       "  'score': 0.9950395,\n",
       "  'word': '.',\n",
       "  'start': 6,\n",
       "  'end': 7},\n",
       " {'entity_group': 'ORG',\n",
       "  'score': 0.9642482,\n",
       "  'word': 'com',\n",
       "  'start': 7,\n",
       "  'end': 10},\n",
       " {'entity_group': 'ORG',\n",
       "  'score': 0.9988612,\n",
       "  'word': ' Google LLC',\n",
       "  'start': 35,\n",
       "  'end': 45}]"
      ]
     },
     "execution_count": 65,
     "metadata": {},
     "output_type": "execute_result"
    }
   ],
   "source": [
    "data = entity_recognizer.nlp(test_text)\n",
    "data"
   ]
  },
  {
   "cell_type": "code",
   "execution_count": 66,
   "id": "4f470da1-acbb-4bee-bd49-33eb35bd01a1",
   "metadata": {},
   "outputs": [
    {
     "name": "stdout",
     "output_type": "stream",
     "text": [
      "[{'entity_group': 'ORG', 'score': 0.9807925820350647, 'word': ' Amazon.com', 'start': 0, 'end': 10}, {'entity_group': 'ORG', 'score': 0.9988612, 'word': ' Google LLC', 'start': 35, 'end': 45}]\n"
     ]
    }
   ],
   "source": [
    "updated_data = merge_consecutive(data)\n",
    "print(updated_data)"
   ]
  },
  {
   "cell_type": "code",
   "execution_count": 67,
   "id": "efcf0fdb-52c9-4f7d-bb26-da6d71853965",
   "metadata": {},
   "outputs": [],
   "source": [
    "def strip_whitespaces(datum, text):\n",
    "    datum = deepcopy(datum)\n",
    "    if datum[\"word\"].startswith(\" \"):\n",
    "        word = datum[\"word\"][1:]\n",
    "        start = text.index(\n",
    "            word, \n",
    "            max([datum[\"start\"] - 2, 0]), \n",
    "            datum[\"end\"] + 2\n",
    "        )\n",
    "        end = start + len(word)\n",
    "\n",
    "        datum = {\n",
    "            'entity_group': 'ORG',\n",
    "            'score': 0.9807925820350647,\n",
    "            'word': word,\n",
    "            'start': start,\n",
    "            'end': end\n",
    "        }\n",
    "        \n",
    "    return datum"
   ]
  },
  {
   "cell_type": "code",
   "execution_count": 68,
   "id": "359f5a1b-b59d-43fd-a019-a31082df7600",
   "metadata": {},
   "outputs": [
    {
     "name": "stdout",
     "output_type": "stream",
     "text": [
      "{'entity_group': 'ORG', 'score': 0.9807925820350647, 'word': 'Amazon.com', 'start': 0, 'end': 10}\n",
      "{'entity_group': 'ORG', 'score': 0.9807925820350647, 'word': 'Google LLC', 'start': 35, 'end': 45}\n"
     ]
    }
   ],
   "source": [
    "for datum in updated_data:\n",
    "    print(strip_whitespaces(datum, test_text))"
   ]
  },
  {
   "cell_type": "code",
   "execution_count": 58,
   "id": "64df4aea-1ed3-47f2-a47b-3cc5108cd223",
   "metadata": {},
   "outputs": [
    {
     "data": {
      "text/plain": [
       "{'entity_group': 'ORG',\n",
       " 'score': 0.9807925820350647,\n",
       " 'word': ' Amazon.com',\n",
       " 'start': 0,\n",
       " 'end': 10}"
      ]
     },
     "execution_count": 58,
     "metadata": {},
     "output_type": "execute_result"
    }
   ],
   "source": [
    "datum"
   ]
  },
  {
   "cell_type": "code",
   "execution_count": 43,
   "id": "13c0d77e-2456-41a9-89ce-58ad5f4cdf3a",
   "metadata": {},
   "outputs": [
    {
     "data": {
      "text/plain": [
       "35"
      ]
     },
     "execution_count": 43,
     "metadata": {},
     "output_type": "execute_result"
    }
   ],
   "source": [
    "test_text.index(\"Google LLC\")"
   ]
  },
  {
   "cell_type": "code",
   "execution_count": 69,
   "id": "5bad5520-ec58-476b-b394-2ec1cd35ddaf",
   "metadata": {},
   "outputs": [
    {
     "data": {
      "text/plain": [
       "35"
      ]
     },
     "execution_count": 69,
     "metadata": {},
     "output_type": "execute_result"
    }
   ],
   "source": [
    "\"Amazon.com is an e-commerce giant. Google LLC is a tech company.\".index(\"Google LLC\")"
   ]
  },
  {
   "cell_type": "code",
   "execution_count": 70,
   "id": "6c125b03-4a2c-4994-82e7-e32500133261",
   "metadata": {},
   "outputs": [
    {
     "data": {
      "text/plain": [
       "10"
      ]
     },
     "execution_count": 70,
     "metadata": {},
     "output_type": "execute_result"
    }
   ],
   "source": [
    "len(\"Google LLC\")"
   ]
  },
  {
   "cell_type": "code",
   "execution_count": null,
   "id": "f721aa9a-ee02-4af6-85e2-dc90505674e6",
   "metadata": {},
   "outputs": [],
   "source": []
  }
 ],
 "metadata": {
  "kernelspec": {
   "display_name": "Python 3 (ipykernel)",
   "language": "python",
   "name": "python3"
  },
  "language_info": {
   "codemirror_mode": {
    "name": "ipython",
    "version": 3
   },
   "file_extension": ".py",
   "mimetype": "text/x-python",
   "name": "python",
   "nbconvert_exporter": "python",
   "pygments_lexer": "ipython3",
   "version": "3.10.12"
  }
 },
 "nbformat": 4,
 "nbformat_minor": 5
}
