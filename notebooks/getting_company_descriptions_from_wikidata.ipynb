{
  "nbformat": 4,
  "nbformat_minor": 0,
  "metadata": {
    "colab": {
      "provenance": []
    },
    "kernelspec": {
      "name": "python3",
      "display_name": "Python 3"
    },
    "language_info": {
      "name": "python"
    }
  },
  "cells": [
    {
      "cell_type": "code",
      "execution_count": null,
      "metadata": {
        "id": "eMRsWkNT5HTP"
      },
      "outputs": [],
      "source": [
        "!pip install pyarrow\n",
        "!pip install requests"
      ]
    },
    {
      "cell_type": "markdown",
      "source": [
        "# Imports"
      ],
      "metadata": {
        "id": "2eO7lAt2_iED"
      }
    },
    {
      "cell_type": "code",
      "source": [
        "import requests\n",
        "import time\n",
        "\n",
        "import pyarrow.parquet as pq\n",
        "import pandas as pd\n",
        "\n",
        "from time import sleep\n",
        "from urllib.error import HTTPError\n"
      ],
      "metadata": {
        "id": "USFX0gKr6P8o"
      },
      "execution_count": null,
      "outputs": []
    },
    {
      "cell_type": "markdown",
      "source": [
        "# Loading Data"
      ],
      "metadata": {
        "id": "rGzl-gM__ld6"
      }
    },
    {
      "cell_type": "code",
      "source": [
        "data_file = \"/content/business_entities (1).parquet\"\n",
        "table = pq.read_table(data_file)\n",
        "df = table.to_pandas()\n",
        "df"
      ],
      "metadata": {
        "id": "eUVpv0CU6jTx",
        "colab": {
          "base_uri": "https://localhost:8080/",
          "height": 423
        },
        "outputId": "c90ec7ca-f461-4b39-cd48-48051fd94f0f"
      },
      "execution_count": null,
      "outputs": [
        {
          "output_type": "execute_result",
          "data": {
            "text/plain": [
              "               qid\n",
              "0         Q7964731\n",
              "1          Q881127\n",
              "2         Q7552448\n",
              "3         Q7569295\n",
              "4       Q107519888\n",
              "...            ...\n",
              "312671    Q4393194\n",
              "312672   Q54912544\n",
              "312673   Q11319953\n",
              "312674     Q642622\n",
              "312675   Q20472584\n",
              "\n",
              "[312676 rows x 1 columns]"
            ],
            "text/html": [
              "\n",
              "  <div id=\"df-b4dbf7d2-1312-47f3-9a2f-cd9b530aea12\" class=\"colab-df-container\">\n",
              "    <div>\n",
              "<style scoped>\n",
              "    .dataframe tbody tr th:only-of-type {\n",
              "        vertical-align: middle;\n",
              "    }\n",
              "\n",
              "    .dataframe tbody tr th {\n",
              "        vertical-align: top;\n",
              "    }\n",
              "\n",
              "    .dataframe thead th {\n",
              "        text-align: right;\n",
              "    }\n",
              "</style>\n",
              "<table border=\"1\" class=\"dataframe\">\n",
              "  <thead>\n",
              "    <tr style=\"text-align: right;\">\n",
              "      <th></th>\n",
              "      <th>qid</th>\n",
              "    </tr>\n",
              "  </thead>\n",
              "  <tbody>\n",
              "    <tr>\n",
              "      <th>0</th>\n",
              "      <td>Q7964731</td>\n",
              "    </tr>\n",
              "    <tr>\n",
              "      <th>1</th>\n",
              "      <td>Q881127</td>\n",
              "    </tr>\n",
              "    <tr>\n",
              "      <th>2</th>\n",
              "      <td>Q7552448</td>\n",
              "    </tr>\n",
              "    <tr>\n",
              "      <th>3</th>\n",
              "      <td>Q7569295</td>\n",
              "    </tr>\n",
              "    <tr>\n",
              "      <th>4</th>\n",
              "      <td>Q107519888</td>\n",
              "    </tr>\n",
              "    <tr>\n",
              "      <th>...</th>\n",
              "      <td>...</td>\n",
              "    </tr>\n",
              "    <tr>\n",
              "      <th>312671</th>\n",
              "      <td>Q4393194</td>\n",
              "    </tr>\n",
              "    <tr>\n",
              "      <th>312672</th>\n",
              "      <td>Q54912544</td>\n",
              "    </tr>\n",
              "    <tr>\n",
              "      <th>312673</th>\n",
              "      <td>Q11319953</td>\n",
              "    </tr>\n",
              "    <tr>\n",
              "      <th>312674</th>\n",
              "      <td>Q642622</td>\n",
              "    </tr>\n",
              "    <tr>\n",
              "      <th>312675</th>\n",
              "      <td>Q20472584</td>\n",
              "    </tr>\n",
              "  </tbody>\n",
              "</table>\n",
              "<p>312676 rows × 1 columns</p>\n",
              "</div>\n",
              "    <div class=\"colab-df-buttons\">\n",
              "\n",
              "  <div class=\"colab-df-container\">\n",
              "    <button class=\"colab-df-convert\" onclick=\"convertToInteractive('df-b4dbf7d2-1312-47f3-9a2f-cd9b530aea12')\"\n",
              "            title=\"Convert this dataframe to an interactive table.\"\n",
              "            style=\"display:none;\">\n",
              "\n",
              "  <svg xmlns=\"http://www.w3.org/2000/svg\" height=\"24px\" viewBox=\"0 -960 960 960\">\n",
              "    <path d=\"M120-120v-720h720v720H120Zm60-500h600v-160H180v160Zm220 220h160v-160H400v160Zm0 220h160v-160H400v160ZM180-400h160v-160H180v160Zm440 0h160v-160H620v160ZM180-180h160v-160H180v160Zm440 0h160v-160H620v160Z\"/>\n",
              "  </svg>\n",
              "    </button>\n",
              "\n",
              "  <style>\n",
              "    .colab-df-container {\n",
              "      display:flex;\n",
              "      gap: 12px;\n",
              "    }\n",
              "\n",
              "    .colab-df-convert {\n",
              "      background-color: #E8F0FE;\n",
              "      border: none;\n",
              "      border-radius: 50%;\n",
              "      cursor: pointer;\n",
              "      display: none;\n",
              "      fill: #1967D2;\n",
              "      height: 32px;\n",
              "      padding: 0 0 0 0;\n",
              "      width: 32px;\n",
              "    }\n",
              "\n",
              "    .colab-df-convert:hover {\n",
              "      background-color: #E2EBFA;\n",
              "      box-shadow: 0px 1px 2px rgba(60, 64, 67, 0.3), 0px 1px 3px 1px rgba(60, 64, 67, 0.15);\n",
              "      fill: #174EA6;\n",
              "    }\n",
              "\n",
              "    .colab-df-buttons div {\n",
              "      margin-bottom: 4px;\n",
              "    }\n",
              "\n",
              "    [theme=dark] .colab-df-convert {\n",
              "      background-color: #3B4455;\n",
              "      fill: #D2E3FC;\n",
              "    }\n",
              "\n",
              "    [theme=dark] .colab-df-convert:hover {\n",
              "      background-color: #434B5C;\n",
              "      box-shadow: 0px 1px 3px 1px rgba(0, 0, 0, 0.15);\n",
              "      filter: drop-shadow(0px 1px 2px rgba(0, 0, 0, 0.3));\n",
              "      fill: #FFFFFF;\n",
              "    }\n",
              "  </style>\n",
              "\n",
              "    <script>\n",
              "      const buttonEl =\n",
              "        document.querySelector('#df-b4dbf7d2-1312-47f3-9a2f-cd9b530aea12 button.colab-df-convert');\n",
              "      buttonEl.style.display =\n",
              "        google.colab.kernel.accessAllowed ? 'block' : 'none';\n",
              "\n",
              "      async function convertToInteractive(key) {\n",
              "        const element = document.querySelector('#df-b4dbf7d2-1312-47f3-9a2f-cd9b530aea12');\n",
              "        const dataTable =\n",
              "          await google.colab.kernel.invokeFunction('convertToInteractive',\n",
              "                                                    [key], {});\n",
              "        if (!dataTable) return;\n",
              "\n",
              "        const docLinkHtml = 'Like what you see? Visit the ' +\n",
              "          '<a target=\"_blank\" href=https://colab.research.google.com/notebooks/data_table.ipynb>data table notebook</a>'\n",
              "          + ' to learn more about interactive tables.';\n",
              "        element.innerHTML = '';\n",
              "        dataTable['output_type'] = 'display_data';\n",
              "        await google.colab.output.renderOutput(dataTable, element);\n",
              "        const docLink = document.createElement('div');\n",
              "        docLink.innerHTML = docLinkHtml;\n",
              "        element.appendChild(docLink);\n",
              "      }\n",
              "    </script>\n",
              "  </div>\n",
              "\n",
              "\n",
              "<div id=\"df-99225d22-214a-434c-b054-7838381e4a26\">\n",
              "  <button class=\"colab-df-quickchart\" onclick=\"quickchart('df-99225d22-214a-434c-b054-7838381e4a26')\"\n",
              "            title=\"Suggest charts\"\n",
              "            style=\"display:none;\">\n",
              "\n",
              "<svg xmlns=\"http://www.w3.org/2000/svg\" height=\"24px\"viewBox=\"0 0 24 24\"\n",
              "     width=\"24px\">\n",
              "    <g>\n",
              "        <path d=\"M19 3H5c-1.1 0-2 .9-2 2v14c0 1.1.9 2 2 2h14c1.1 0 2-.9 2-2V5c0-1.1-.9-2-2-2zM9 17H7v-7h2v7zm4 0h-2V7h2v10zm4 0h-2v-4h2v4z\"/>\n",
              "    </g>\n",
              "</svg>\n",
              "  </button>\n",
              "\n",
              "<style>\n",
              "  .colab-df-quickchart {\n",
              "      --bg-color: #E8F0FE;\n",
              "      --fill-color: #1967D2;\n",
              "      --hover-bg-color: #E2EBFA;\n",
              "      --hover-fill-color: #174EA6;\n",
              "      --disabled-fill-color: #AAA;\n",
              "      --disabled-bg-color: #DDD;\n",
              "  }\n",
              "\n",
              "  [theme=dark] .colab-df-quickchart {\n",
              "      --bg-color: #3B4455;\n",
              "      --fill-color: #D2E3FC;\n",
              "      --hover-bg-color: #434B5C;\n",
              "      --hover-fill-color: #FFFFFF;\n",
              "      --disabled-bg-color: #3B4455;\n",
              "      --disabled-fill-color: #666;\n",
              "  }\n",
              "\n",
              "  .colab-df-quickchart {\n",
              "    background-color: var(--bg-color);\n",
              "    border: none;\n",
              "    border-radius: 50%;\n",
              "    cursor: pointer;\n",
              "    display: none;\n",
              "    fill: var(--fill-color);\n",
              "    height: 32px;\n",
              "    padding: 0;\n",
              "    width: 32px;\n",
              "  }\n",
              "\n",
              "  .colab-df-quickchart:hover {\n",
              "    background-color: var(--hover-bg-color);\n",
              "    box-shadow: 0 1px 2px rgba(60, 64, 67, 0.3), 0 1px 3px 1px rgba(60, 64, 67, 0.15);\n",
              "    fill: var(--button-hover-fill-color);\n",
              "  }\n",
              "\n",
              "  .colab-df-quickchart-complete:disabled,\n",
              "  .colab-df-quickchart-complete:disabled:hover {\n",
              "    background-color: var(--disabled-bg-color);\n",
              "    fill: var(--disabled-fill-color);\n",
              "    box-shadow: none;\n",
              "  }\n",
              "\n",
              "  .colab-df-spinner {\n",
              "    border: 2px solid var(--fill-color);\n",
              "    border-color: transparent;\n",
              "    border-bottom-color: var(--fill-color);\n",
              "    animation:\n",
              "      spin 1s steps(1) infinite;\n",
              "  }\n",
              "\n",
              "  @keyframes spin {\n",
              "    0% {\n",
              "      border-color: transparent;\n",
              "      border-bottom-color: var(--fill-color);\n",
              "      border-left-color: var(--fill-color);\n",
              "    }\n",
              "    20% {\n",
              "      border-color: transparent;\n",
              "      border-left-color: var(--fill-color);\n",
              "      border-top-color: var(--fill-color);\n",
              "    }\n",
              "    30% {\n",
              "      border-color: transparent;\n",
              "      border-left-color: var(--fill-color);\n",
              "      border-top-color: var(--fill-color);\n",
              "      border-right-color: var(--fill-color);\n",
              "    }\n",
              "    40% {\n",
              "      border-color: transparent;\n",
              "      border-right-color: var(--fill-color);\n",
              "      border-top-color: var(--fill-color);\n",
              "    }\n",
              "    60% {\n",
              "      border-color: transparent;\n",
              "      border-right-color: var(--fill-color);\n",
              "    }\n",
              "    80% {\n",
              "      border-color: transparent;\n",
              "      border-right-color: var(--fill-color);\n",
              "      border-bottom-color: var(--fill-color);\n",
              "    }\n",
              "    90% {\n",
              "      border-color: transparent;\n",
              "      border-bottom-color: var(--fill-color);\n",
              "    }\n",
              "  }\n",
              "</style>\n",
              "\n",
              "  <script>\n",
              "    async function quickchart(key) {\n",
              "      const quickchartButtonEl =\n",
              "        document.querySelector('#' + key + ' button');\n",
              "      quickchartButtonEl.disabled = true;  // To prevent multiple clicks.\n",
              "      quickchartButtonEl.classList.add('colab-df-spinner');\n",
              "      try {\n",
              "        const charts = await google.colab.kernel.invokeFunction(\n",
              "            'suggestCharts', [key], {});\n",
              "      } catch (error) {\n",
              "        console.error('Error during call to suggestCharts:', error);\n",
              "      }\n",
              "      quickchartButtonEl.classList.remove('colab-df-spinner');\n",
              "      quickchartButtonEl.classList.add('colab-df-quickchart-complete');\n",
              "    }\n",
              "    (() => {\n",
              "      let quickchartButtonEl =\n",
              "        document.querySelector('#df-99225d22-214a-434c-b054-7838381e4a26 button');\n",
              "      quickchartButtonEl.style.display =\n",
              "        google.colab.kernel.accessAllowed ? 'block' : 'none';\n",
              "    })();\n",
              "  </script>\n",
              "</div>\n",
              "\n",
              "  <div id=\"id_add3fe11-09c8-45fd-8455-1ca789141195\">\n",
              "    <style>\n",
              "      .colab-df-generate {\n",
              "        background-color: #E8F0FE;\n",
              "        border: none;\n",
              "        border-radius: 50%;\n",
              "        cursor: pointer;\n",
              "        display: none;\n",
              "        fill: #1967D2;\n",
              "        height: 32px;\n",
              "        padding: 0 0 0 0;\n",
              "        width: 32px;\n",
              "      }\n",
              "\n",
              "      .colab-df-generate:hover {\n",
              "        background-color: #E2EBFA;\n",
              "        box-shadow: 0px 1px 2px rgba(60, 64, 67, 0.3), 0px 1px 3px 1px rgba(60, 64, 67, 0.15);\n",
              "        fill: #174EA6;\n",
              "      }\n",
              "\n",
              "      [theme=dark] .colab-df-generate {\n",
              "        background-color: #3B4455;\n",
              "        fill: #D2E3FC;\n",
              "      }\n",
              "\n",
              "      [theme=dark] .colab-df-generate:hover {\n",
              "        background-color: #434B5C;\n",
              "        box-shadow: 0px 1px 3px 1px rgba(0, 0, 0, 0.15);\n",
              "        filter: drop-shadow(0px 1px 2px rgba(0, 0, 0, 0.3));\n",
              "        fill: #FFFFFF;\n",
              "      }\n",
              "    </style>\n",
              "    <button class=\"colab-df-generate\" onclick=\"generateWithVariable('df')\"\n",
              "            title=\"Generate code using this dataframe.\"\n",
              "            style=\"display:none;\">\n",
              "\n",
              "  <svg xmlns=\"http://www.w3.org/2000/svg\" height=\"24px\"viewBox=\"0 0 24 24\"\n",
              "       width=\"24px\">\n",
              "    <path d=\"M7,19H8.4L18.45,9,17,7.55,7,17.6ZM5,21V16.75L18.45,3.32a2,2,0,0,1,2.83,0l1.4,1.43a1.91,1.91,0,0,1,.58,1.4,1.91,1.91,0,0,1-.58,1.4L9.25,21ZM18.45,9,17,7.55Zm-12,3A5.31,5.31,0,0,0,4.9,8.1,5.31,5.31,0,0,0,1,6.5,5.31,5.31,0,0,0,4.9,4.9,5.31,5.31,0,0,0,6.5,1,5.31,5.31,0,0,0,8.1,4.9,5.31,5.31,0,0,0,12,6.5,5.46,5.46,0,0,0,6.5,12Z\"/>\n",
              "  </svg>\n",
              "    </button>\n",
              "    <script>\n",
              "      (() => {\n",
              "      const buttonEl =\n",
              "        document.querySelector('#id_add3fe11-09c8-45fd-8455-1ca789141195 button.colab-df-generate');\n",
              "      buttonEl.style.display =\n",
              "        google.colab.kernel.accessAllowed ? 'block' : 'none';\n",
              "\n",
              "      buttonEl.onclick = () => {\n",
              "        google.colab.notebook.generateWithVariable('df');\n",
              "      }\n",
              "      })();\n",
              "    </script>\n",
              "  </div>\n",
              "\n",
              "    </div>\n",
              "  </div>\n"
            ]
          },
          "metadata": {},
          "execution_count": 54
        }
      ]
    },
    {
      "cell_type": "markdown",
      "source": [
        "\n",
        "\n",
        "# Rate-Limiting Decorators\n",
        "\n"
      ],
      "metadata": {
        "id": "EuYIfEifBN1p"
      }
    },
    {
      "cell_type": "code",
      "source": [
        "def rate_limited(max_per_minute):\n",
        "    min_interval = 60.0 / float(max_per_minute)\n",
        "    def decorate(func):\n",
        "        last_time_called = [0.0]\n",
        "        def rate_limited_function(*args, **kargs):\n",
        "            elapsed = time.time() - last_time_called[0]\n",
        "            left_to_wait = min_interval - elapsed\n",
        "            if left_to_wait > 0:\n",
        "                time.sleep(left_to_wait)\n",
        "            ret = func(*args, **kargs)\n",
        "            last_time_called[0] = time.time()\n",
        "            return ret\n",
        "        return rate_limited_function\n",
        "    return decorate"
      ],
      "metadata": {
        "id": "8kMiKjty6owM"
      },
      "execution_count": null,
      "outputs": []
    },
    {
      "cell_type": "code",
      "source": [
        "# Retry decorator\n",
        "def retry_request(function):\n",
        "    DEFAULT_TIMEOUT = 5\n",
        "    timeout = 5\n",
        "\n",
        "    @rate_limited(20)\n",
        "    def retried_function(*args, **kwargs):\n",
        "        nonlocal timeout\n",
        "        try:\n",
        "            timeout = DEFAULT_TIMEOUT\n",
        "            return function(*args, **kwargs)\n",
        "\n",
        "        except HTTPError as e:\n",
        "            if e.code == 429:\n",
        "                timeout += 5\n",
        "                print(f\"Encountered 429. Gonna sleep for {timeout} and retry\")\n",
        "                sleep(timeout)\n",
        "                return retried_function(*args, **kwargs)\n",
        "            elif e.code == 403:\n",
        "                timeout += 5\n",
        "                print(f\"Encountered 403. Gonna sleep for {timeout} and retry\")\n",
        "                sleep(timeout)\n",
        "                return retried_function(*args, **kwargs)\n",
        "            else:\n",
        "                raise\n",
        "\n",
        "    return retried_function\n"
      ],
      "metadata": {
        "id": "HpFzmR5b1I66"
      },
      "execution_count": null,
      "outputs": []
    },
    {
      "cell_type": "markdown",
      "source": [
        "# WikiData SPARQL Querying\n",
        "\n",
        "\n"
      ],
      "metadata": {
        "id": "XZTimTmvDwgf"
      }
    },
    {
      "cell_type": "code",
      "source": [
        "# SPARQL endpoint for WikiData\n",
        "sparql_endpoint = \"https://query.wikidata.org/sparql\"\n",
        "\n",
        "@retry_request\n",
        "def query_wikidata(qid):\n",
        "    # SPARQL query to retrieve name and description in English\n",
        "    sparql_query = f\"\"\"\n",
        "    SELECT ?item ?itemLabel ?itemDescription\n",
        "    WHERE {{\n",
        "      wd:{qid} rdfs:label ?itemLabel.\n",
        "      OPTIONAL {{ wd:{qid} schema:description ?itemDescription. FILTER(LANG(?itemLabel) = \"en\") FILTER(LANG(?itemDescription) = \"en\") }}\n",
        "      FILTER(LANG(?itemLabel) = \"en\")\n",
        "      FILTER(LANG(?itemDescription) = \"en\" || !BOUND(?itemDescription))\n",
        "    }}\n",
        "    \"\"\"\n",
        "\n",
        "    headers = {\n",
        "        'User-Agent': 'Mozilla/5.0 (Windows NT 10.0; Win64; x64) AppleWebKit/537.36 (KHTML, like Gecko) Chrome/91.0.4472.124 Safari/537.36',\n",
        "        'Accept': 'application/json'\n",
        "    }\n",
        "\n",
        "    # Sending SPARQL query to WikiData\n",
        "    response = requests.get(sparql_endpoint, params={'query': sparql_query, 'format': 'json'}, headers=headers)\n",
        "\n",
        "    # json response\n",
        "    data = response.json()\n",
        "\n",
        "    # Extracting relevant information\n",
        "    if 'results' in data and 'bindings' in data['results'] and len(data['results']['bindings']) > 0:\n",
        "        result = data['results']['bindings'][0]\n",
        "        name = result['itemLabel']['value']\n",
        "        description = None\n",
        "        if 'itemDescription' in result:\n",
        "          description = result['itemDescription']['value']\n",
        "\n",
        "        return {'name': name, 'description': description}\n",
        "\n",
        "    else:\n",
        "        return None\n",
        "\n"
      ],
      "metadata": {
        "id": "HwScrwzQTppu"
      },
      "execution_count": null,
      "outputs": []
    },
    {
      "cell_type": "markdown",
      "source": [
        "# to check if code works fine for single example"
      ],
      "metadata": {
        "id": "trtid0lpDzFH"
      }
    },
    {
      "cell_type": "code",
      "source": [
        "# Example usage\n",
        "qid = 'Q7964731                       '\n",
        "company_info = query_wikidata(qid)\n",
        "print(company_info)\n",
        "if company_info:\n",
        "    print(f\"Name: {company_info['name']}\")\n",
        "    print(f\"Description: {company_info['description']}\")\n",
        "else:\n",
        "    print(\"No information found for the given QID.\")\n"
      ],
      "metadata": {
        "id": "bPdHUTbUVcNu",
        "colab": {
          "base_uri": "https://localhost:8080/"
        },
        "outputId": "8dd3cb21-814b-462a-a9d3-0d1acf7e5290"
      },
      "execution_count": null,
      "outputs": [
        {
          "output_type": "stream",
          "name": "stdout",
          "text": [
            "{'name': 'Walter E. Smithe', 'description': 'Illinois based Furnature Company'}\n",
            "Name: Walter E. Smithe\n",
            "Description: Illinois based Furnature Company\n"
          ]
        }
      ]
    },
    {
      "cell_type": "markdown",
      "source": [
        "# Running code for 200 samples"
      ],
      "metadata": {
        "id": "Z7zR29NSGPwc"
      }
    },
    {
      "cell_type": "code",
      "source": [
        "# Sample 200 QIDs\n",
        "sample_qids = df['qid'].head(200)\n",
        "\n",
        "# empty lists to store the results\n",
        "names = []\n",
        "descriptions = []\n",
        "\n",
        "\n",
        "# Looping through the sample QIDs and retrieve information\n",
        "for qid in sample_qids:\n",
        "    company_info = query_wikidata(qid)\n",
        "\n",
        "    if company_info:\n",
        "        names.append(company_info['name'])\n",
        "        descriptions.append(company_info['description'])\n",
        "    else:\n",
        "        names.append(None)\n",
        "        descriptions.append(None)\n",
        "\n",
        "\n",
        "# Create a DataFrame with the retrieved information\n",
        "wikidata_df = pd.DataFrame({\n",
        "    'qid': sample_qids,\n",
        "    'name': names,\n",
        "    'description': descriptions\n",
        "})\n",
        "\n",
        "#  the DataFrame\n",
        "print(wikidata_df)\n",
        "\n",
        "\n"
      ],
      "metadata": {
        "id": "EIOJmreTymoh",
        "colab": {
          "base_uri": "https://localhost:8080/"
        },
        "outputId": "672adef6-621a-4f81-ec53-bfe1f277ab3d"
      },
      "execution_count": null,
      "outputs": [
        {
          "output_type": "stream",
          "name": "stdout",
          "text": [
            "            qid                                   name  \\\n",
            "0      Q7964731                       Walter E. Smithe   \n",
            "1       Q881127                                Harting   \n",
            "2      Q7552448       Society of Costa Rica Collectors   \n",
            "3      Q7569295  Southeast Asia Basketball Association   \n",
            "4    Q107519888                 Adobe Gastroenterology   \n",
            "..          ...                                    ...   \n",
            "195   Q18163724                   Laxey Towing Company   \n",
            "196   Q54958332                              ASK Group   \n",
            "197   Q94527372                   Carl Schneider & Co.   \n",
            "198    Q1916070                                 Medela   \n",
            "199   Q19894252  Progressive All-Student Unionist Camp   \n",
            "\n",
            "                               description  \n",
            "0         Illinois based Furnature Company  \n",
            "1                                  company  \n",
            "2                             organization  \n",
            "3                     subzone of FIBA Asia  \n",
            "4    organization in Tucson, United States  \n",
            "..                                     ...  \n",
            "195                                   None  \n",
            "196        American manufacturing software  \n",
            "197       German playing card manufacturer  \n",
            "198                                   None  \n",
            "199                           organization  \n",
            "\n",
            "[200 rows x 3 columns]\n"
          ]
        }
      ]
    },
    {
      "cell_type": "code",
      "source": [
        "from google.colab import drive\n",
        "drive.mount('/content/gdrive')\n"
      ],
      "metadata": {
        "id": "xxFachi9SMs_",
        "colab": {
          "base_uri": "https://localhost:8080/"
        },
        "outputId": "87b578f0-00d1-43e1-b775-3d16ced10749"
      },
      "execution_count": null,
      "outputs": [
        {
          "output_type": "stream",
          "name": "stdout",
          "text": [
            "Mounted at /content/gdrive\n"
          ]
        }
      ]
    },
    {
      "cell_type": "code",
      "source": [
        "# Assuming 'wikidata_df' is your DataFrame containing WikiData information\n",
        "parquet_file_path = \"/content/gdrive/My Drive/wikidata_data_qid_200_only_eng.parquet\"\n",
        "wikidata_df.to_parquet(parquet_file_path)\n"
      ],
      "metadata": {
        "id": "8dlH21JIsnuo"
      },
      "execution_count": null,
      "outputs": []
    },
    {
      "cell_type": "code",
      "source": [
        "from google.colab import files\n",
        "files.download(parquet_file_path)\n"
      ],
      "metadata": {
        "colab": {
          "base_uri": "https://localhost:8080/",
          "height": 17
        },
        "id": "9LGcCw4Tsr1X",
        "outputId": "d044ff97-c97f-41d2-e227-f31f1e63bf8c"
      },
      "execution_count": null,
      "outputs": [
        {
          "output_type": "display_data",
          "data": {
            "text/plain": [
              "<IPython.core.display.Javascript object>"
            ],
            "application/javascript": [
              "\n",
              "    async function download(id, filename, size) {\n",
              "      if (!google.colab.kernel.accessAllowed) {\n",
              "        return;\n",
              "      }\n",
              "      const div = document.createElement('div');\n",
              "      const label = document.createElement('label');\n",
              "      label.textContent = `Downloading \"${filename}\": `;\n",
              "      div.appendChild(label);\n",
              "      const progress = document.createElement('progress');\n",
              "      progress.max = size;\n",
              "      div.appendChild(progress);\n",
              "      document.body.appendChild(div);\n",
              "\n",
              "      const buffers = [];\n",
              "      let downloaded = 0;\n",
              "\n",
              "      const channel = await google.colab.kernel.comms.open(id);\n",
              "      // Send a message to notify the kernel that we're ready.\n",
              "      channel.send({})\n",
              "\n",
              "      for await (const message of channel.messages) {\n",
              "        // Send a message to notify the kernel that we're ready.\n",
              "        channel.send({})\n",
              "        if (message.buffers) {\n",
              "          for (const buffer of message.buffers) {\n",
              "            buffers.push(buffer);\n",
              "            downloaded += buffer.byteLength;\n",
              "            progress.value = downloaded;\n",
              "          }\n",
              "        }\n",
              "      }\n",
              "      const blob = new Blob(buffers, {type: 'application/binary'});\n",
              "      const a = document.createElement('a');\n",
              "      a.href = window.URL.createObjectURL(blob);\n",
              "      a.download = filename;\n",
              "      div.appendChild(a);\n",
              "      a.click();\n",
              "      div.remove();\n",
              "    }\n",
              "  "
            ]
          },
          "metadata": {}
        },
        {
          "output_type": "display_data",
          "data": {
            "text/plain": [
              "<IPython.core.display.Javascript object>"
            ],
            "application/javascript": [
              "download(\"download_b3e11bd8-3613-4bb3-bc6e-03989756199b\", \"wikidata_data_qid_200_only_eng.parquet\", 11029)"
            ]
          },
          "metadata": {}
        }
      ]
    }
  ]
}