{
 "cells": [
  {
   "cell_type": "markdown",
   "id": "0d42524e",
   "metadata": {},
   "source": [
    "# Create KB and dataset"
   ]
  },
  {
   "cell_type": "code",
   "execution_count": 1,
   "id": "cc26d396",
   "metadata": {},
   "outputs": [
    {
     "name": "stdout",
     "output_type": "stream",
     "text": [
      "/home/codeholder/code/python-playground/app_noisemon\n"
     ]
    }
   ],
   "source": [
    "%cd .."
   ]
  },
  {
   "cell_type": "code",
   "execution_count": 2,
   "id": "9cd22ddb",
   "metadata": {},
   "outputs": [],
   "source": [
    "import json\n",
    "import os\n",
    "from pathlib import Path\n",
    "from tqdm import tqdm\n",
    "import spacy\n",
    "from spacy.kb import KnowledgeBase\n",
    "from spacy.tokens import Span, DocBin, Doc\n",
    "from spacy.vocab import Vocab\n",
    "from wasabi import Printer\n",
    "msg = Printer()\n",
    "from scripts.convert_labelstudio_to_spacy import LabelStudioToSpacyConverter"
   ]
  },
  {
   "cell_type": "code",
   "execution_count": 3,
   "id": "13d094bd",
   "metadata": {},
   "outputs": [],
   "source": [
    "input_path = Path(\"./data/05-labeled\")\n",
    "output_folder = Path(\"./corpus/\")\n",
    "kb_path = Path(\"./corpus/noisemon_kb\")"
   ]
  },
  {
   "cell_type": "code",
   "execution_count": 4,
   "id": "c65a7d07",
   "metadata": {},
   "outputs": [],
   "source": [
    "files = list(input_path.glob(\"*.json\"))\n",
    "if files:\n",
    "    input_path = max(files, key=os.path.getctime)\n",
    "else:\n",
    "    msg.fail(f\"Directory {input_path} is empty\")"
   ]
  },
  {
   "cell_type": "code",
   "execution_count": 5,
   "id": "6e0bf10a",
   "metadata": {},
   "outputs": [],
   "source": [
    "data = json.loads(input_path.read_text())"
   ]
  },
  {
   "cell_type": "code",
   "execution_count": 6,
   "id": "e7f04e03",
   "metadata": {},
   "outputs": [
    {
     "data": {
      "text/plain": [
       "{'id': 334657,\n",
       " 'annotations': [{'id': 87,\n",
       "   'completed_by': {'id': 1,\n",
       "    'email': 'maksim_ermakov@protonmail.com',\n",
       "    'first_name': '',\n",
       "    'last_name': ''},\n",
       "   'result': [{'value': {'start': 6,\n",
       "      'end': 22,\n",
       "      'text': 'Открытие Капитал',\n",
       "      'labels': ['ORG']},\n",
       "     'id': '74520158391160',\n",
       "     'from_name': 'ner',\n",
       "     'to_name': 'text',\n",
       "     'type': 'labels'},\n",
       "    {'value': {'start': 6, 'end': 22, 'text': ['Q108398998']},\n",
       "     'id': '74520158391160',\n",
       "     'from_name': 'entity',\n",
       "     'to_name': 'text',\n",
       "     'type': 'textarea'},\n",
       "    {'value': {'start': 101,\n",
       "      'end': 109,\n",
       "      'text': 'Роснефти',\n",
       "      'labels': ['ORG']},\n",
       "     'id': '18591563568703',\n",
       "     'from_name': 'ner',\n",
       "     'to_name': 'text',\n",
       "     'type': 'labels'},\n",
       "    {'value': {'start': 101, 'end': 109, 'text': ['Q1141123']},\n",
       "     'id': '18591563568703',\n",
       "     'from_name': 'entity',\n",
       "     'to_name': 'text',\n",
       "     'type': 'textarea'},\n",
       "    {'value': {'start': 198,\n",
       "      'end': 206,\n",
       "      'text': 'Роснефти',\n",
       "      'labels': ['ORG']},\n",
       "     'id': '27292557371956',\n",
       "     'from_name': 'ner',\n",
       "     'to_name': 'text',\n",
       "     'type': 'labels'},\n",
       "    {'value': {'start': 198, 'end': 206, 'text': ['Q1141123']},\n",
       "     'id': '27292557371956',\n",
       "     'from_name': 'entity',\n",
       "     'to_name': 'text',\n",
       "     'type': 'textarea'}],\n",
       "   'was_cancelled': False,\n",
       "   'ground_truth': False,\n",
       "   'created_at': '2021-09-03T20:36:47.944231Z',\n",
       "   'updated_at': '2021-09-03T20:36:47.944258Z',\n",
       "   'lead_time': 765.923,\n",
       "   'prediction': {'id': 206315,\n",
       "    'model_version': 'undefined',\n",
       "    'created_ago': '3\\xa0hours, 6\\xa0minutes',\n",
       "    'result': [{'value': {'start': 6,\n",
       "       'end': 22,\n",
       "       'text': 'Открытие Капитал',\n",
       "       'labels': ['ORG']},\n",
       "      'id': '74520158391160',\n",
       "      'from_name': 'ner',\n",
       "      'to_name': 'text',\n",
       "      'type': 'labels'},\n",
       "     {'value': {'start': 101,\n",
       "       'end': 109,\n",
       "       'text': 'Роснефти',\n",
       "       'labels': ['ORG']},\n",
       "      'id': '18591563568703',\n",
       "      'from_name': 'ner',\n",
       "      'to_name': 'text',\n",
       "      'type': 'labels'},\n",
       "     {'value': {'start': 101, 'end': 109, 'text': ['Q1141123']},\n",
       "      'id': '18591563568703',\n",
       "      'from_name': 'entity',\n",
       "      'to_name': 'text',\n",
       "      'type': 'textarea'},\n",
       "     {'value': {'start': 145, 'end': 147, 'text': 'ИК', 'labels': ['ORG']},\n",
       "      'id': '30353537965205',\n",
       "      'from_name': 'ner',\n",
       "      'to_name': 'text',\n",
       "      'type': 'labels'},\n",
       "     {'value': {'start': 198,\n",
       "       'end': 206,\n",
       "       'text': 'Роснефти',\n",
       "       'labels': ['ORG']},\n",
       "      'id': '27292557371956',\n",
       "      'from_name': 'ner',\n",
       "      'to_name': 'text',\n",
       "      'type': 'labels'},\n",
       "     {'value': {'start': 198, 'end': 206, 'text': ['Q1141123']},\n",
       "      'id': '27292557371956',\n",
       "      'from_name': 'entity',\n",
       "      'to_name': 'text',\n",
       "      'type': 'textarea'}],\n",
       "    'score': None,\n",
       "    'cluster': None,\n",
       "    'neighbors': None,\n",
       "    'mislabeling': 0.0,\n",
       "    'created_at': '2021-09-03T17:30:17.260625Z',\n",
       "    'updated_at': '2021-09-03T17:30:17.260633Z',\n",
       "    'task': 334657},\n",
       "   'result_count': 0,\n",
       "   'task': 334657}],\n",
       " 'predictions': [{'id': 206315,\n",
       "   'model_version': 'undefined',\n",
       "   'created_ago': '3\\xa0weeks, 3\\xa0days',\n",
       "   'result': [{'value': {'start': 6,\n",
       "      'end': 22,\n",
       "      'text': 'Открытие Капитал',\n",
       "      'labels': ['ORG']},\n",
       "     'id': '74520158391160',\n",
       "     'from_name': 'ner',\n",
       "     'to_name': 'text',\n",
       "     'type': 'labels'},\n",
       "    {'value': {'start': 101,\n",
       "      'end': 109,\n",
       "      'text': 'Роснефти',\n",
       "      'labels': ['ORG']},\n",
       "     'id': '18591563568703',\n",
       "     'from_name': 'ner',\n",
       "     'to_name': 'text',\n",
       "     'type': 'labels'},\n",
       "    {'value': {'start': 101, 'end': 109, 'text': ['Q1141123']},\n",
       "     'id': '18591563568703',\n",
       "     'from_name': 'entity',\n",
       "     'to_name': 'text',\n",
       "     'type': 'textarea'},\n",
       "    {'value': {'start': 145, 'end': 147, 'text': 'ИК', 'labels': ['ORG']},\n",
       "     'id': '30353537965205',\n",
       "     'from_name': 'ner',\n",
       "     'to_name': 'text',\n",
       "     'type': 'labels'},\n",
       "    {'value': {'start': 198,\n",
       "      'end': 206,\n",
       "      'text': 'Роснефти',\n",
       "      'labels': ['ORG']},\n",
       "     'id': '27292557371956',\n",
       "     'from_name': 'ner',\n",
       "     'to_name': 'text',\n",
       "     'type': 'labels'},\n",
       "    {'value': {'start': 198, 'end': 206, 'text': ['Q1141123']},\n",
       "     'id': '27292557371956',\n",
       "     'from_name': 'entity',\n",
       "     'to_name': 'text',\n",
       "     'type': 'textarea'}],\n",
       "   'score': None,\n",
       "   'cluster': None,\n",
       "   'neighbors': None,\n",
       "   'mislabeling': 0.0,\n",
       "   'created_at': '2021-09-03T17:30:17.260625Z',\n",
       "   'updated_at': '2021-09-03T17:30:17.260633Z',\n",
       "   'task': 334657}],\n",
       " 'file_upload': 'data_for_labelstudio_FJgVsou.json',\n",
       " 'data': {'text': 'ROSN\\n\"Открытие Капитал\" пересмотрела прогнозные цены акций и глобальных депозитарных расписок (GDR) \"Роснефти\" (MOEX: ROSN), сообщается в обзоре ИК. По итогам переоценки прогнозная стоимость акций \"Роснефти\" была понижена с 420 рублей до 400 рублей за штуку. В то же время аналитики повысили прогнозную цену GDR компании с $6,3 до $6,5 за штуку.',\n",
       "  'sidenote': 'Московская биржа http://www.wikidata.org/entity/Q2632892\\nРоснефть http://www.wikidata.org/entity/Q1141123'},\n",
       " 'meta': {},\n",
       " 'created_at': '2021-09-03T17:30:12.930203Z',\n",
       " 'updated_at': '2021-09-03T17:30:12.930211Z',\n",
       " 'project': 10}"
      ]
     },
     "execution_count": 6,
     "metadata": {},
     "output_type": "execute_result"
    }
   ],
   "source": [
    "data[0]"
   ]
  },
  {
   "cell_type": "code",
   "execution_count": 17,
   "id": "30694721",
   "metadata": {},
   "outputs": [],
   "source": [
    "from collections import defaultdict\n"
   ]
  },
  {
   "cell_type": "code",
   "execution_count": 34,
   "id": "f3becd16",
   "metadata": {},
   "outputs": [
    {
     "name": "stderr",
     "output_type": "stream",
     "text": [
      "  0%|                                                                                                    | 0/79 [00:00<?, ?it/s]/tmp/ipykernel_9982/29372325.py:46: UserWarning: [W018] Entity 'Q1141123' already exists in the Knowledge Base - ignoring the duplicate entry.\n",
      "  kb.add_entity(entity=pair[\"qid\"], entity_vector=vector, freq=265)\n",
      "/tmp/ipykernel_9982/29372325.py:48: UserWarning: [W017] Alias 'Роснефти' already exists in the Knowledge Base.\n",
      "  kb.add_alias(alias=pair[\"text\"], entities=[pair[\"qid\"]], probabilities=[1])\n",
      "/tmp/ipykernel_9982/29372325.py:46: UserWarning: [W018] Entity 'Q940518' already exists in the Knowledge Base - ignoring the duplicate entry.\n",
      "  kb.add_entity(entity=pair[\"qid\"], entity_vector=vector, freq=265)\n",
      "/tmp/ipykernel_9982/29372325.py:48: UserWarning: [W017] Alias 'Магнита' already exists in the Knowledge Base.\n",
      "  kb.add_alias(alias=pair[\"text\"], entities=[pair[\"qid\"]], probabilities=[1])\n",
      "/tmp/ipykernel_9982/29372325.py:46: UserWarning: [W018] Entity 'Q1355823' already exists in the Knowledge Base - ignoring the duplicate entry.\n",
      "  kb.add_entity(entity=pair[\"qid\"], entity_vector=vector, freq=265)\n",
      "/tmp/ipykernel_9982/29372325.py:48: UserWarning: [W017] Alias 'FTSE' already exists in the Knowledge Base.\n",
      "  kb.add_alias(alias=pair[\"text\"], entities=[pair[\"qid\"]], probabilities=[1])\n",
      "  3%|██▎                                                                                         | 2/79 [00:00<00:05, 15.06it/s]/tmp/ipykernel_9982/29372325.py:46: UserWarning: [W018] Entity 'Q379271' already exists in the Knowledge Base - ignoring the duplicate entry.\n",
      "  kb.add_entity(entity=pair[\"qid\"], entity_vector=vector, freq=265)\n",
      "/tmp/ipykernel_9982/29372325.py:46: UserWarning: [W018] Entity 'Q294508' already exists in the Knowledge Base - ignoring the duplicate entry.\n",
      "  kb.add_entity(entity=pair[\"qid\"], entity_vector=vector, freq=265)\n",
      "/tmp/ipykernel_9982/29372325.py:46: UserWarning: [W018] Entity 'Q2369311' already exists in the Knowledge Base - ignoring the duplicate entry.\n",
      "  kb.add_entity(entity=pair[\"qid\"], entity_vector=vector, freq=265)\n",
      "/tmp/ipykernel_9982/29372325.py:48: UserWarning: [W017] Alias 'РуссНефти' already exists in the Knowledge Base.\n",
      "  kb.add_alias(alias=pair[\"text\"], entities=[pair[\"qid\"]], probabilities=[1])\n",
      "/tmp/ipykernel_9982/29372325.py:46: UserWarning: [W018] Entity 'Q2116312' already exists in the Knowledge Base - ignoring the duplicate entry.\n",
      "  kb.add_entity(entity=pair[\"qid\"], entity_vector=vector, freq=265)\n",
      "/tmp/ipykernel_9982/29372325.py:46: UserWarning: [W018] Entity 'Q1616858' already exists in the Knowledge Base - ignoring the duplicate entry.\n",
      "  kb.add_entity(entity=pair[\"qid\"], entity_vector=vector, freq=265)\n",
      "/tmp/ipykernel_9982/29372325.py:48: UserWarning: [W017] Alias 'Татнефти' already exists in the Knowledge Base.\n",
      "  kb.add_alias(alias=pair[\"text\"], entities=[pair[\"qid\"]], probabilities=[1])\n",
      "/tmp/ipykernel_9982/29372325.py:46: UserWarning: [W018] Entity 'Q3063197' already exists in the Knowledge Base - ignoring the duplicate entry.\n",
      "  kb.add_entity(entity=pair[\"qid\"], entity_vector=vector, freq=265)\n",
      "/tmp/ipykernel_9982/29372325.py:48: UserWarning: [W017] Alias 'ФСК ЕЭС' already exists in the Knowledge Base.\n",
      "  kb.add_alias(alias=pair[\"text\"], entities=[pair[\"qid\"]], probabilities=[1])\n",
      "  5%|████▋                                                                                       | 4/79 [00:00<00:17,  4.25it/s]/tmp/ipykernel_9982/29372325.py:46: UserWarning: [W018] Entity 'Q1549389' already exists in the Knowledge Base - ignoring the duplicate entry.\n",
      "  kb.add_entity(entity=pair[\"qid\"], entity_vector=vector, freq=265)\n",
      "/tmp/ipykernel_9982/29372325.py:48: UserWarning: [W017] Alias 'ВТБ' already exists in the Knowledge Base.\n",
      "  kb.add_alias(alias=pair[\"text\"], entities=[pair[\"qid\"]], probabilities=[1])\n",
      "/tmp/ipykernel_9982/29372325.py:48: UserWarning: [W017] Alias 'АЛРОСА' already exists in the Knowledge Base.\n",
      "  kb.add_alias(alias=pair[\"text\"], entities=[pair[\"qid\"]], probabilities=[1])\n",
      "/tmp/ipykernel_9982/29372325.py:46: UserWarning: [W018] Entity 'Q1809133' already exists in the Knowledge Base - ignoring the duplicate entry.\n",
      "  kb.add_entity(entity=pair[\"qid\"], entity_vector=vector, freq=265)\n",
      " 13%|███████████▌                                                                               | 10/79 [00:00<00:05, 12.32it/s]/tmp/ipykernel_9982/29372325.py:46: UserWarning: [W018] Entity 'Q7907607' already exists in the Knowledge Base - ignoring the duplicate entry.\n",
      "  kb.add_entity(entity=pair[\"qid\"], entity_vector=vector, freq=265)\n",
      "/tmp/ipykernel_9982/29372325.py:48: UserWarning: [W017] Alias 'ВТБ Капитала' already exists in the Knowledge Base.\n",
      "  kb.add_alias(alias=pair[\"text\"], entities=[pair[\"qid\"]], probabilities=[1])\n",
      "/tmp/ipykernel_9982/29372325.py:46: UserWarning: [W018] Entity 'Q102673' already exists in the Knowledge Base - ignoring the duplicate entry.\n",
      "  kb.add_entity(entity=pair[\"qid\"], entity_vector=vector, freq=265)\n",
      "/tmp/ipykernel_9982/29372325.py:48: UserWarning: [W017] Alias 'Газпрома' already exists in the Knowledge Base.\n",
      "  kb.add_alias(alias=pair[\"text\"], entities=[pair[\"qid\"]], probabilities=[1])\n",
      " 16%|██████████████▉                                                                            | 13/79 [00:01<00:04, 15.07it/s]/tmp/ipykernel_9982/29372325.py:48: UserWarning: [W017] Alias 'ТМК' already exists in the Knowledge Base.\n",
      "  kb.add_alias(alias=pair[\"text\"], entities=[pair[\"qid\"]], probabilities=[1])\n",
      "/tmp/ipykernel_9982/29372325.py:48: UserWarning: [W017] Alias 'Магнит' already exists in the Knowledge Base.\n",
      "  kb.add_alias(alias=pair[\"text\"], entities=[pair[\"qid\"]], probabilities=[1])\n",
      " 22%|███████████████████▌                                                                       | 17/79 [00:01<00:04, 15.00it/s]/tmp/ipykernel_9982/29372325.py:46: UserWarning: [W018] Entity 'Q1461799' already exists in the Knowledge Base - ignoring the duplicate entry.\n",
      "  kb.add_entity(entity=pair[\"qid\"], entity_vector=vector, freq=265)\n",
      "/tmp/ipykernel_9982/29372325.py:48: UserWarning: [W017] Alias 'ГАЗПРОМ НЕФТИ' already exists in the Knowledge Base.\n",
      "  kb.add_alias(alias=pair[\"text\"], entities=[pair[\"qid\"]], probabilities=[1])\n",
      " 27%|████████████████████████▏                                                                  | 21/79 [00:01<00:03, 19.32it/s]/tmp/ipykernel_9982/29372325.py:48: UserWarning: [W017] Alias 'МАГНИТА' already exists in the Knowledge Base.\n",
      "  kb.add_alias(alias=pair[\"text\"], entities=[pair[\"qid\"]], probabilities=[1])\n",
      "/tmp/ipykernel_9982/29372325.py:46: UserWarning: [W018] Entity 'Q205012' already exists in the Knowledge Base - ignoring the duplicate entry.\n",
      "  kb.add_entity(entity=pair[\"qid\"], entity_vector=vector, freq=265)\n",
      "/tmp/ipykernel_9982/29372325.py:48: UserWarning: [W017] Alias 'Сбербанка' already exists in the Knowledge Base.\n",
      "  kb.add_alias(alias=pair[\"text\"], entities=[pair[\"qid\"]], probabilities=[1])\n",
      "/tmp/ipykernel_9982/29372325.py:46: UserWarning: [W018] Entity 'Q4513187' already exists in the Knowledge Base - ignoring the duplicate entry.\n",
      "  kb.add_entity(entity=pair[\"qid\"], entity_vector=vector, freq=265)\n",
      " 42%|██████████████████████████████████████                                                     | 33/79 [00:01<00:01, 30.45it/s]/tmp/ipykernel_9982/29372325.py:48: UserWarning: [W017] Alias 'СБЕРБАНКА' already exists in the Knowledge Base.\n",
      "  kb.add_alias(alias=pair[\"text\"], entities=[pair[\"qid\"]], probabilities=[1])\n",
      " 47%|██████████████████████████████████████████▌                                                | 37/79 [00:01<00:01, 28.83it/s]/tmp/ipykernel_9982/29372325.py:46: UserWarning: [W018] Entity 'Q108352452' already exists in the Knowledge Base - ignoring the duplicate entry.\n",
      "  kb.add_entity(entity=pair[\"qid\"], entity_vector=vector, freq=265)\n",
      "/tmp/ipykernel_9982/29372325.py:48: UserWarning: [W017] Alias 'АО «Тандер»' already exists in the Knowledge Base.\n",
      "  kb.add_alias(alias=pair[\"text\"], entities=[pair[\"qid\"]], probabilities=[1])\n",
      "/tmp/ipykernel_9982/29372325.py:46: UserWarning: [W018] Entity 'Q1963801' already exists in the Knowledge Base - ignoring the duplicate entry.\n",
      "  kb.add_entity(entity=pair[\"qid\"], entity_vector=vector, freq=265)\n",
      "/tmp/ipykernel_9982/29372325.py:48: UserWarning: [W017] Alias 'ИНТЕР РАО' already exists in the Knowledge Base.\n",
      "  kb.add_alias(alias=pair[\"text\"], entities=[pair[\"qid\"]], probabilities=[1])\n",
      "/tmp/ipykernel_9982/29372325.py:46: UserWarning: [W018] Entity 'Q223799' already exists in the Knowledge Base - ignoring the duplicate entry.\n",
      "  kb.add_entity(entity=pair[\"qid\"], entity_vector=vector, freq=265)\n",
      "/tmp/ipykernel_9982/29372325.py:48: UserWarning: [W017] Alias 'ТАСС' already exists in the Knowledge Base.\n",
      "  kb.add_alias(alias=pair[\"text\"], entities=[pair[\"qid\"]], probabilities=[1])\n"
     ]
    },
    {
     "name": "stderr",
     "output_type": "stream",
     "text": [
      " 52%|███████████████████████████████████████████████▏                                           | 41/79 [00:02<00:01, 27.18it/s]/tmp/ipykernel_9982/29372325.py:46: UserWarning: [W018] Entity 'Q1884500' already exists in the Knowledge Base - ignoring the duplicate entry.\n",
      "  kb.add_entity(entity=pair[\"qid\"], entity_vector=vector, freq=265)\n",
      "/tmp/ipykernel_9982/29372325.py:48: UserWarning: [W017] Alias 'ММК' already exists in the Knowledge Base.\n",
      "  kb.add_alias(alias=pair[\"text\"], entities=[pair[\"qid\"]], probabilities=[1])\n",
      "/tmp/ipykernel_9982/29372325.py:48: UserWarning: [W017] Alias 'Черкизово' already exists in the Knowledge Base.\n",
      "  kb.add_alias(alias=pair[\"text\"], entities=[pair[\"qid\"]], probabilities=[1])\n",
      "/tmp/ipykernel_9982/29372325.py:46: UserWarning: [W018] Entity 'Q171240' already exists in the Knowledge Base - ignoring the duplicate entry.\n",
      "  kb.add_entity(entity=pair[\"qid\"], entity_vector=vector, freq=265)\n",
      "/tmp/ipykernel_9982/29372325.py:46: UserWarning: [W018] Entity 'Q1368919' already exists in the Knowledge Base - ignoring the duplicate entry.\n",
      "  kb.add_entity(entity=pair[\"qid\"], entity_vector=vector, freq=265)\n",
      "/tmp/ipykernel_9982/29372325.py:48: UserWarning: [W017] Alias 'МТС' already exists in the Knowledge Base.\n",
      "  kb.add_alias(alias=pair[\"text\"], entities=[pair[\"qid\"]], probabilities=[1])\n",
      "/tmp/ipykernel_9982/29372325.py:46: UserWarning: [W018] Entity 'Q4499024' already exists in the Knowledge Base - ignoring the duplicate entry.\n",
      "  kb.add_entity(entity=pair[\"qid\"], entity_vector=vector, freq=265)\n",
      " 57%|███████████████████████████████████████████████████▊                                       | 45/79 [00:02<00:02, 16.98it/s]/tmp/ipykernel_9982/29372325.py:46: UserWarning: [W018] Entity 'Q4059809' already exists in the Knowledge Base - ignoring the duplicate entry.\n",
      "  kb.add_entity(entity=pair[\"qid\"], entity_vector=vector, freq=265)\n",
      "/tmp/ipykernel_9982/29372325.py:46: UserWarning: [W018] Entity 'Q638448' already exists in the Knowledge Base - ignoring the duplicate entry.\n",
      "  kb.add_entity(entity=pair[\"qid\"], entity_vector=vector, freq=265)\n",
      "/tmp/ipykernel_9982/29372325.py:48: UserWarning: [W017] Alias 'Северстали' already exists in the Knowledge Base.\n",
      "  kb.add_alias(alias=pair[\"text\"], entities=[pair[\"qid\"]], probabilities=[1])\n",
      "/tmp/ipykernel_9982/29372325.py:46: UserWarning: [W018] Entity 'Q193199' already exists in the Knowledge Base - ignoring the duplicate entry.\n",
      "  kb.add_entity(entity=pair[\"qid\"], entity_vector=vector, freq=265)\n",
      "/tmp/ipykernel_9982/29372325.py:48: UserWarning: [W017] Alias 'UBS' already exists in the Knowledge Base.\n",
      "  kb.add_alias(alias=pair[\"text\"], entities=[pair[\"qid\"]], probabilities=[1])\n",
      "/tmp/ipykernel_9982/29372325.py:46: UserWarning: [W018] Entity 'Q329347' already exists in the Knowledge Base - ignoring the duplicate entry.\n",
      "  kb.add_entity(entity=pair[\"qid\"], entity_vector=vector, freq=265)\n",
      "/tmp/ipykernel_9982/29372325.py:48: UserWarning: [W017] Alias 'ЛУКОЙЛ' already exists in the Knowledge Base.\n",
      "  kb.add_alias(alias=pair[\"text\"], entities=[pair[\"qid\"]], probabilities=[1])\n",
      " 63%|█████████████████████████████████████████████████████████▌                                 | 50/79 [00:02<00:01, 21.46it/s]/tmp/ipykernel_9982/29372325.py:46: UserWarning: [W018] Entity 'Q2380266' already exists in the Knowledge Base - ignoring the duplicate entry.\n",
      "  kb.add_entity(entity=pair[\"qid\"], entity_vector=vector, freq=265)\n",
      "/tmp/ipykernel_9982/29372325.py:48: UserWarning: [W017] Alias 'POLYMETAL' already exists in the Knowledge Base.\n",
      "  kb.add_alias(alias=pair[\"text\"], entities=[pair[\"qid\"]], probabilities=[1])\n",
      "/tmp/ipykernel_9982/29372325.py:46: UserWarning: [W018] Entity 'Q1477012' already exists in the Knowledge Base - ignoring the duplicate entry.\n",
      "  kb.add_entity(entity=pair[\"qid\"], entity_vector=vector, freq=265)\n",
      "/tmp/ipykernel_9982/29372325.py:48: UserWarning: [W017] Alias 'Ростелекома' already exists in the Knowledge Base.\n",
      "  kb.add_alias(alias=pair[\"text\"], entities=[pair[\"qid\"]], probabilities=[1])\n",
      "/tmp/ipykernel_9982/29372325.py:46: UserWarning: [W018] Entity 'Q4044421' already exists in the Knowledge Base - ignoring the duplicate entry.\n",
      "  kb.add_entity(entity=pair[\"qid\"], entity_vector=vector, freq=265)\n",
      " 68%|██████████████████████████████████████████████████████████████▏                            | 54/79 [00:02<00:01, 21.11it/s]/tmp/ipykernel_9982/29372325.py:46: UserWarning: [W018] Entity 'Q768773' already exists in the Knowledge Base - ignoring the duplicate entry.\n",
      "  kb.add_entity(entity=pair[\"qid\"], entity_vector=vector, freq=265)\n",
      "/tmp/ipykernel_9982/29372325.py:48: UserWarning: [W017] Alias 'MSCI' already exists in the Knowledge Base.\n",
      "  kb.add_alias(alias=pair[\"text\"], entities=[pair[\"qid\"]], probabilities=[1])\n",
      " 76%|█████████████████████████████████████████████████████████████████████                      | 60/79 [00:03<00:00, 20.87it/s]/tmp/ipykernel_9982/29372325.py:46: UserWarning: [W018] Entity 'Q1642605' already exists in the Knowledge Base - ignoring the duplicate entry.\n",
      "  kb.add_entity(entity=pair[\"qid\"], entity_vector=vector, freq=265)\n"
     ]
    },
    {
     "name": "stdout",
     "output_type": "stream",
     "text": [
      "\u001b[38;5;1m✘ REsult:\u001b[0m\n",
      "{'value': {'start': 0, 'end': 4, 'text': 'RUAL', 'labels': ['ORG']}, 'id':\n",
      "'93478108914436', 'from_name': 'ner', 'to_name': 'text', 'type': 'labels'}\n",
      "\u001b[38;5;1m✘ Entity:\u001b[0m\n",
      "\u001b[38;5;1m✘ Doc:\u001b[0m\n",
      "RUAL отчет Чистая прибыль компании «Русал» за январь—сентябрь 2017 года по ​по\n",
      "международным стандартам финансовой отчетности (МСФО) ​составила ​$782 млн,\n",
      "превысив на ​46,4% аналогичный показатель прошлого года. Об этом говорится в\n",
      "отчете о финансовых результатах, опубликованном на сайте компании. При этом\n",
      "выручка компании за третий квартал увеличилась на 19,4% и составила $2,46 млрд,\n",
      "а за девять месяцев текущего года — на 21,3%, до $7,224 млрд. Росту финансовых\n",
      "показателей способствовало увеличение цены алюминия на Лондонской бирже металлов\n",
      "(LME), говорится в отчете.\n",
      "\u001b[38;5;1m✘ ----------\u001b[0m\n",
      "\u001b[38;5;1m✘ QID is missing!\u001b[0m\n",
      "RUAL отчет Чистая прибыль компании «Русал» за январь—сентябрь 2017 года по ​по\n",
      "международным стандартам финансовой отчетности (МСФО) ​составила ​$782 млн,\n",
      "превысив на ​46,4% аналогичный показатель прошлого года. Об этом говорится в\n",
      "отчете о финансовых результатах, опубликованном на сайте компании. При этом\n",
      "выручка компании за третий квартал увеличилась на 19,4% и составила $2,46 млрд,\n",
      "а за девять месяцев текущего года — на 21,3%, до $7,224 млрд. Росту финансовых\n",
      "показателей способствовало увеличение цены алюминия на Лондонской бирже металлов\n",
      "(LME), говорится в отчете.\n"
     ]
    },
    {
     "name": "stderr",
     "output_type": "stream",
     "text": [
      "/tmp/ipykernel_9982/29372325.py:46: UserWarning: [W018] Entity 'Q1720713' already exists in the Knowledge Base - ignoring the duplicate entry.\n",
      "  kb.add_entity(entity=pair[\"qid\"], entity_vector=vector, freq=265)\n",
      "/tmp/ipykernel_9982/29372325.py:48: UserWarning: [W017] Alias 'МегаФона' already exists in the Knowledge Base.\n",
      "  kb.add_alias(alias=pair[\"text\"], entities=[pair[\"qid\"]], probabilities=[1])\n",
      "/tmp/ipykernel_9982/29372325.py:48: UserWarning: [W017] Alias 'Алроса' already exists in the Knowledge Base.\n",
      "  kb.add_alias(alias=pair[\"text\"], entities=[pair[\"qid\"]], probabilities=[1])\n",
      "/tmp/ipykernel_9982/29372325.py:46: UserWarning: [W018] Entity 'Q1781702' already exists in the Knowledge Base - ignoring the duplicate entry.\n",
      "  kb.add_entity(entity=pair[\"qid\"], entity_vector=vector, freq=265)\n",
      "/tmp/ipykernel_9982/29372325.py:48: UserWarning: [W017] Alias 'АФК «Система»' already exists in the Knowledge Base.\n",
      "  kb.add_alias(alias=pair[\"text\"], entities=[pair[\"qid\"]], probabilities=[1])\n",
      " 80%|████████████████████████████████████████████████████████████████████████▌                  | 63/79 [00:03<00:00, 16.33it/s]/tmp/ipykernel_9982/29372325.py:46: UserWarning: [W018] Entity 'Q2632892' already exists in the Knowledge Base - ignoring the duplicate entry.\n",
      "  kb.add_entity(entity=pair[\"qid\"], entity_vector=vector, freq=265)\n",
      "/tmp/ipykernel_9982/29372325.py:48: UserWarning: [W017] Alias 'Интерфаксом' already exists in the Knowledge Base.\n",
      "  kb.add_alias(alias=pair[\"text\"], entities=[pair[\"qid\"]], probabilities=[1])\n",
      " 84%|████████████████████████████████████████████████████████████████████████████               | 66/79 [00:03<00:00, 16.95it/s]/tmp/ipykernel_9982/29372325.py:46: UserWarning: [W018] Entity 'Q58707' already exists in the Knowledge Base - ignoring the duplicate entry.\n",
      "  kb.add_entity(entity=pair[\"qid\"], entity_vector=vector, freq=265)\n",
      "/tmp/ipykernel_9982/29372325.py:48: UserWarning: [W017] Alias 'Интерфаксу' already exists in the Knowledge Base.\n",
      "  kb.add_alias(alias=pair[\"text\"], entities=[pair[\"qid\"]], probabilities=[1])\n",
      "/tmp/ipykernel_9982/29372325.py:46: UserWarning: [W018] Entity 'Q660770' already exists in the Knowledge Base - ignoring the duplicate entry.\n",
      "  kb.add_entity(entity=pair[\"qid\"], entity_vector=vector, freq=265)\n",
      "/tmp/ipykernel_9982/29372325.py:46: UserWarning: [W018] Entity 'Q2005769' already exists in the Knowledge Base - ignoring the duplicate entry.\n",
      "  kb.add_entity(entity=pair[\"qid\"], entity_vector=vector, freq=265)\n",
      " 90%|█████████████████████████████████████████████████████████████████████████████████▊         | 71/79 [00:03<00:00, 17.40it/s]/tmp/ipykernel_9982/29372325.py:46: UserWarning: [W018] Entity 'Q4047736' already exists in the Knowledge Base - ignoring the duplicate entry.\n",
      "  kb.add_entity(entity=pair[\"qid\"], entity_vector=vector, freq=265)\n",
      "/tmp/ipykernel_9982/29372325.py:48: UserWarning: [W017] Alias 'QIWI' already exists in the Knowledge Base.\n",
      "  kb.add_alias(alias=pair[\"text\"], entities=[pair[\"qid\"]], probabilities=[1])\n",
      "/tmp/ipykernel_9982/29372325.py:46: UserWarning: [W018] Entity 'Q3656098' already exists in the Knowledge Base - ignoring the duplicate entry.\n",
      "  kb.add_entity(entity=pair[\"qid\"], entity_vector=vector, freq=265)\n",
      "/tmp/ipykernel_9982/29372325.py:48: UserWarning: [W017] Alias 'Атон' already exists in the Knowledge Base.\n",
      "  kb.add_alias(alias=pair[\"text\"], entities=[pair[\"qid\"]], probabilities=[1])\n",
      "/tmp/ipykernel_9982/29372325.py:48: UserWarning: [W017] Alias 'Газпром' already exists in the Knowledge Base.\n",
      "  kb.add_alias(alias=pair[\"text\"], entities=[pair[\"qid\"]], probabilities=[1])\n",
      " 94%|█████████████████████████████████████████████████████████████████████████████████████▏     | 74/79 [00:04<00:00, 15.45it/s]/tmp/ipykernel_9982/29372325.py:46: UserWarning: [W018] Entity 'Q2035424' already exists in the Knowledge Base - ignoring the duplicate entry.\n",
      "  kb.add_entity(entity=pair[\"qid\"], entity_vector=vector, freq=265)\n",
      "/tmp/ipykernel_9982/29372325.py:48: UserWarning: [W017] Alias 'РусГидро' already exists in the Knowledge Base.\n",
      "  kb.add_alias(alias=pair[\"text\"], entities=[pair[\"qid\"]], probabilities=[1])\n",
      "/tmp/ipykernel_9982/29372325.py:48: UserWarning: [W017] Alias 'ЛУКОЙЛа' already exists in the Knowledge Base.\n",
      "  kb.add_alias(alias=pair[\"text\"], entities=[pair[\"qid\"]], probabilities=[1])\n",
      "/tmp/ipykernel_9982/29372325.py:48: UserWarning: [W017] Alias 'ИНТЕРФАКС' already exists in the Knowledge Base.\n",
      "  kb.add_alias(alias=pair[\"text\"], entities=[pair[\"qid\"]], probabilities=[1])\n",
      "/tmp/ipykernel_9982/29372325.py:48: UserWarning: [W017] Alias 'Интер РАО' already exists in the Knowledge Base.\n",
      "  kb.add_alias(alias=pair[\"text\"], entities=[pair[\"qid\"]], probabilities=[1])\n",
      "100%|███████████████████████████████████████████████████████████████████████████████████████████| 79/79 [00:04<00:00, 16.15it/s]\n"
     ]
    }
   ],
   "source": [
    "nlp_model = \"ru_core_news_sm\"\n",
    "nlp_model_vector_size = 96\n",
    "nlp = spacy.load(nlp_model, exclude=\"parser, tagger\")\n",
    "vocab = nlp.vocab\n",
    "kb = KnowledgeBase(vocab=nlp.vocab, entity_vector_length=nlp_model_vector_size)\n",
    "\n",
    "output = []\n",
    "converter = LabelStudioToSpacyConverter()\n",
    "converter.ls_label_map = {\n",
    "    \"ORG\": \"ORG\"\n",
    "}\n",
    "for labelstudio in tqdm(data):\n",
    "    id_to_qid_name_pair = defaultdict(dict)\n",
    "    doc = converter.create_spacy_doc(labelstudio)\n",
    "    entities = []\n",
    "    # 1. Matching entities\n",
    "    for chunk in labelstudio[\"annotations\"][0][\"result\"]:\n",
    "        if chunk[\"from_name\"] == \"ner\":\n",
    "            id_to_qid_name_pair[chunk[\"id\"]][\"text\"] = chunk[\"value\"][\"text\"]\n",
    "        if chunk[\"from_name\"] == \"entity\":\n",
    "            id_to_qid_name_pair[chunk[\"id\"]][\"qid\"] = chunk[\"value\"][\"text\"][0]\n",
    "    # 2. Assigning kb_id to ents\n",
    "    for chunk in labelstudio[\"annotations\"][0][\"result\"]:\n",
    "        if chunk[\"from_name\"] == \"ner\":\n",
    "            try:\n",
    "                entity = doc.char_span(\n",
    "                    chunk[\"value\"][\"start\"], \n",
    "                    chunk[\"value\"][\"end\"], \n",
    "                    label=chunk[\"value\"][\"labels\"][0],\n",
    "                    kb_id=id_to_qid_name_pair[chunk[\"id\"]][\"qid\"]\n",
    "                )\n",
    "                assert entity != None, \"Entity failed to be created. Probably misaligned markup\"\n",
    "                entities.append(entity)\n",
    "            except:\n",
    "                msg.fail(\"REsult:\", chunk)\n",
    "                msg.fail(\"Entity:\", None)\n",
    "                msg.fail(\"Doc:\", doc)\n",
    "                msg.fail(\"----------\")\n",
    "\n",
    "    # 3. SEEDING KB ENTITES        \n",
    "    for _, pair in id_to_qid_name_pair.items():\n",
    "        if \"qid\" not in pair:\n",
    "            msg.fail(\"QID is missing!\", labelstudio[\"data\"][\"text\"])\n",
    "            continue\n",
    "        vector = nlp(labelstudio[\"data\"][\"text\"]).vector\n",
    "        kb.add_entity(entity=pair[\"qid\"], entity_vector=vector, freq=265)\n",
    "        # 4. SEEDING KB ALIASES \n",
    "        kb.add_alias(alias=pair[\"text\"], entities=[pair[\"qid\"]], probabilities=[1])\n",
    "       \n",
    "    doc.ents = entities\n",
    "    output.append(doc)"
   ]
  },
  {
   "cell_type": "code",
   "execution_count": 9,
   "id": "990d4852",
   "metadata": {},
   "outputs": [],
   "source": []
  },
  {
   "cell_type": "markdown",
   "id": "36cacaeb",
   "metadata": {},
   "source": [
    "### At this point we have populated knowledge base `kb`, list of docs with ner and nel markup `output`"
   ]
  },
  {
   "cell_type": "code",
   "execution_count": 46,
   "id": "ea5681ea",
   "metadata": {
    "scrolled": true
   },
   "outputs": [
    {
     "data": {
      "text/plain": [
       "'Q1023876'"
      ]
     },
     "execution_count": 46,
     "metadata": {},
     "output_type": "execute_result"
    }
   ],
   "source": [
    "kb.get_alias_candidates(\"CME Group\")[0].entity_"
   ]
  },
  {
   "cell_type": "code",
   "execution_count": 45,
   "id": "a351b2f8",
   "metadata": {},
   "outputs": [
    {
     "data": {
      "text/plain": [
       "'Q1840188'"
      ]
     },
     "execution_count": 45,
     "metadata": {},
     "output_type": "execute_result"
    }
   ],
   "source": [
    "output[57].ents[0].kb_id_"
   ]
  },
  {
   "cell_type": "code",
   "execution_count": 14,
   "id": "896b9aa5",
   "metadata": {},
   "outputs": [
    {
     "name": "stdout",
     "output_type": "stream",
     "text": [
      "Entities in the KB: ['Q4218402', 'Q660770', 'Q1141123', 'Q30893504', 'Q193199', 'Q3063197', 'Q4161561', 'Q58707', 'Q2369311', 'Q4044421', 'Q487907', 'Q2632892', 'Q1915579', 'Q1720713', 'Q223799', 'Q841458', 'Q108398998', 'Q2380266', 'Q1477012', 'Q1071853', 'Q251546', 'Q1840188', 'Q1023876', 'Q4047736', 'Q4304175', 'Q108397344', 'Q768773', 'Q171240', 'Q182477', 'Q940518', 'Q2624680', 'Q102673', 'Q173395', 'Q483551', 'Q294508', 'Q329347', 'Q379271', 'Q1368919', 'Q1809133', 'Q1284261', 'Q4258608', 'Q4059809', 'Q1549389', 'Q1461799', 'Q108397243', 'Q1616858', 'Q2304119', 'Q638448', 'Q7907607', 'Q2035424', 'Q2005769', 'Q4038038', 'Q4244736', 'Q1355823', 'Q3656098', 'Q1642605', 'Q108352452', 'Q4513187', 'Q1967957', 'Q4389244', 'Q871308', 'Q1963801', 'Q952937', 'Q130879', 'Q108396966', 'Q108398486', 'Q727452', 'Q2309', 'Q4499024', 'Q4327204', 'Q131723', 'Q1884500', 'Q2116312', 'Q205012', 'Q567050', 'Q1781702', 'Q4102033', 'Q386414', 'Q4400200']\n",
      "Aliases in the KB: ['Газпром нефти', 'UBS', 'РусГидро', 'Роснефтью', 'Русал', 'КТК', 'Черкизово', 'ВТБ 24', 'ОТКРЫТИЕМ', 'ТГК-1', 'Магнит', 'Новатэка', 'АЭРОФЛОТ', 'Ведомости', 'Bank of America', 'ИНТЕРФАКС', 'Алросы', 'Reuters', 'Ростех', 'Северстали', 'POLYMETAL', 'ПАО \"ТГК-14\"', 'Полюса', 'Татнефти', 'Сбербанк', 'Россети', 'ГАЗПРОМ НЕФТИ', 'Московской биржи', 'ООО «Стрим Диджитал»', 'РуссНефти', 'РОССИЯ', 'Газпромом', 'АФК', 'Автоваз', 'ЧЕРКИЗОВО', 'Ростелеком', 'МТС', 'Интерфаксу', 'Cisco Systems', 'СБЕР', 'Сафмар', 'РОССТАТА', 'РОСНЕФТЬ', 'ММК', 'Сбербанка', 'Татнефть', 'En+ Group', 'Аэрофлоте', 'ICE Futures Europe', 'ВТБ капитала', 'Лондонской бирже', 'Дикси', 'МАГНИТ', 'Роснефть', 'Polymetal', 'Акрон', 'СБЕРБАНКА', 'QIWI', 'Сбербанку', 'РЖД', 'LSE', 'Транснефти', 'Норильского никеля', 'Райффайзенбанк', 'Мечела', 'АО «Тандер»', 'MSCI', 'Ростелекома', 'ТАСС', 'ВТБ КАПИТАЛ', 'ИНТЕР РАО', 'ОАО \"Российские железные дороги\"', 'Prosperity Capital Management', 'Лондонской фондовой бирже', 'Мобитела', 'Wal-Mart', 'CME Group', 'Роснефти', 'Газпрома', 'PEMEX', 'АФК «Система»', 'CBOE', 'Московская биржа', 'ООО \"Мобител\"', 'Лондонской бирже металлов (LME)', 'Лента', 'NVidia', 'Sistema Finance S.A.', 'Газпром', 'ФосАгро', 'ВТБ-Капитал', 'МАГНИТА', 'Открытие Капитал', 'FTSE', 'ВТБ', 'ЛУКОЙЛ', 'ПАО \"Россети\"', 'ЛУКОЙЛа', 'Алроса', 'РУСАЛа', 'ВТБ Капитала', 'Мосбиржа', 'ТМК', 'биткоин', 'Интерфаксом', 'Русагро', 'Атон', 'Wintershall', 'МегаФона', 'Акрона', 'ПАО «Магнит»', 'Интер РАО', 'Магнита', 'АФК \"Система\"', 'АЛРОСА', 'РусАл', 'Qiwi', 'Полюсу', 'МКБ', 'Квадра', 'ПАО \"Трубная металлургическая компания\"', 'ФСК ЕЭС', 'Транснефть']\n"
     ]
    }
   ],
   "source": [
    "print(f\"Entities in the KB: {kb.get_entity_strings()}\")\n",
    "print(f\"Aliases in the KB: {kb.get_alias_strings()}\")"
   ]
  },
  {
   "cell_type": "code",
   "execution_count": 15,
   "id": "76292796",
   "metadata": {},
   "outputs": [],
   "source": [
    "kb.to_disk(kb_path)\n",
    "\n",
    "# nlp.to_disk(nlp_dir)"
   ]
  },
  {
   "cell_type": "code",
   "execution_count": 49,
   "id": "bf31431c",
   "metadata": {},
   "outputs": [],
   "source": [
    "train_docs = DocBin()\n",
    "dev_docs = DocBin()\n",
    "test_docs = DocBin()\n"
   ]
  },
  {
   "cell_type": "code",
   "execution_count": 50,
   "id": "0acbbd90",
   "metadata": {},
   "outputs": [],
   "source": [
    "for i, doc in enumerate(output):\n",
    "    if i % 10 in (1,3,5):\n",
    "        dev_docs.add(doc)\n",
    "    if i % 10 in (4,):\n",
    "        test_docs.add(doc)\n",
    "    else:\n",
    "        train_docs.add(doc)"
   ]
  },
  {
   "cell_type": "code",
   "execution_count": 51,
   "id": "7b8839ac",
   "metadata": {},
   "outputs": [],
   "source": [
    "train_docs.to_disk(output_folder / \"train.spacy\")\n",
    "test_docs.to_disk(output_folder / \"test.spacy\")\n",
    "dev_docs.to_disk(output_folder / \"dev.spacy\")"
   ]
  },
  {
   "cell_type": "code",
   "execution_count": null,
   "id": "be37d19d",
   "metadata": {},
   "outputs": [],
   "source": []
  }
 ],
 "metadata": {
  "kernelspec": {
   "display_name": "noisemon",
   "language": "python",
   "name": "python3810_noisemon"
  },
  "language_info": {
   "codemirror_mode": {
    "name": "ipython",
    "version": 3
   },
   "file_extension": ".py",
   "mimetype": "text/x-python",
   "name": "python",
   "nbconvert_exporter": "python",
   "pygments_lexer": "ipython3",
   "version": "3.8.10"
  }
 },
 "nbformat": 4,
 "nbformat_minor": 5
}
