{
 "cells": [
  {
   "cell_type": "markdown",
   "id": "0d42524e",
   "metadata": {},
   "source": [
    "# Create KB"
   ]
  },
  {
   "cell_type": "code",
   "execution_count": 1,
   "id": "cc26d396",
   "metadata": {},
   "outputs": [
    {
     "name": "stdout",
     "output_type": "stream",
     "text": [
      "/home/codeholder/code/python-playground/app_noisemon\n"
     ]
    }
   ],
   "source": [
    "%cd .."
   ]
  },
  {
   "cell_type": "code",
   "execution_count": 29,
   "id": "9cd22ddb",
   "metadata": {},
   "outputs": [],
   "source": [
    "import json\n",
    "import os\n",
    "from pathlib import Path\n",
    "from tqdm import tqdm\n",
    "import spacy\n",
    "from spacy.kb import KnowledgeBase\n",
    "from spacy.tokens import Span, DocBin, Doc\n",
    "from spacy.vocab import Vocab\n",
    "from wasabi import Printer\n",
    "msg = Printer()\n",
    "from scripts.convert_labelstudio_to_spacy import LabelStudioToSpacyConverter"
   ]
  },
  {
   "cell_type": "code",
   "execution_count": 38,
   "id": "13d094bd",
   "metadata": {},
   "outputs": [],
   "source": [
    "input_path = Path(\"./data/05-labeled\")\n",
    "output_folder = Path(\"./corpus/\")\n",
    "kb_path = Path(\"./corpus/noisemon_kb\")"
   ]
  },
  {
   "cell_type": "code",
   "execution_count": 39,
   "id": "c65a7d07",
   "metadata": {},
   "outputs": [],
   "source": [
    "files = list(input_path.glob(\"*.json\"))\n",
    "if files:\n",
    "    input_path = max(files, key=os.path.getctime)\n",
    "else:\n",
    "    msg.fail(f\"Directory {input_path} is empty\")"
   ]
  },
  {
   "cell_type": "code",
   "execution_count": 40,
   "id": "6e0bf10a",
   "metadata": {},
   "outputs": [],
   "source": [
    "data = json.loads(input_path.read_text())"
   ]
  },
  {
   "cell_type": "code",
   "execution_count": 41,
   "id": "e7f04e03",
   "metadata": {},
   "outputs": [
    {
     "data": {
      "text/plain": [
       "{'id': 334657,\n",
       " 'annotations': [{'id': 87,\n",
       "   'completed_by': {'id': 1,\n",
       "    'email': 'maksim_ermakov@protonmail.com',\n",
       "    'first_name': '',\n",
       "    'last_name': ''},\n",
       "   'result': [{'value': {'start': 6,\n",
       "      'end': 22,\n",
       "      'text': 'Открытие Капитал',\n",
       "      'labels': ['ORG']},\n",
       "     'id': '74520158391160',\n",
       "     'from_name': 'ner',\n",
       "     'to_name': 'text',\n",
       "     'type': 'labels'},\n",
       "    {'value': {'start': 6, 'end': 22, 'text': ['Q108398998']},\n",
       "     'id': '74520158391160',\n",
       "     'from_name': 'entity',\n",
       "     'to_name': 'text',\n",
       "     'type': 'textarea'},\n",
       "    {'value': {'start': 101,\n",
       "      'end': 109,\n",
       "      'text': 'Роснефти',\n",
       "      'labels': ['ORG']},\n",
       "     'id': '18591563568703',\n",
       "     'from_name': 'ner',\n",
       "     'to_name': 'text',\n",
       "     'type': 'labels'},\n",
       "    {'value': {'start': 101, 'end': 109, 'text': ['Q1141123']},\n",
       "     'id': '18591563568703',\n",
       "     'from_name': 'entity',\n",
       "     'to_name': 'text',\n",
       "     'type': 'textarea'},\n",
       "    {'value': {'start': 198,\n",
       "      'end': 206,\n",
       "      'text': 'Роснефти',\n",
       "      'labels': ['ORG']},\n",
       "     'id': '27292557371956',\n",
       "     'from_name': 'ner',\n",
       "     'to_name': 'text',\n",
       "     'type': 'labels'},\n",
       "    {'value': {'start': 198, 'end': 206, 'text': ['Q1141123']},\n",
       "     'id': '27292557371956',\n",
       "     'from_name': 'entity',\n",
       "     'to_name': 'text',\n",
       "     'type': 'textarea'}],\n",
       "   'was_cancelled': False,\n",
       "   'ground_truth': False,\n",
       "   'created_at': '2021-09-03T20:36:47.944231Z',\n",
       "   'updated_at': '2021-09-03T20:36:47.944258Z',\n",
       "   'lead_time': 765.923,\n",
       "   'prediction': {'id': 206315,\n",
       "    'model_version': 'undefined',\n",
       "    'created_ago': '3\\xa0hours, 6\\xa0minutes',\n",
       "    'result': [{'value': {'start': 6,\n",
       "       'end': 22,\n",
       "       'text': 'Открытие Капитал',\n",
       "       'labels': ['ORG']},\n",
       "      'id': '74520158391160',\n",
       "      'from_name': 'ner',\n",
       "      'to_name': 'text',\n",
       "      'type': 'labels'},\n",
       "     {'value': {'start': 101,\n",
       "       'end': 109,\n",
       "       'text': 'Роснефти',\n",
       "       'labels': ['ORG']},\n",
       "      'id': '18591563568703',\n",
       "      'from_name': 'ner',\n",
       "      'to_name': 'text',\n",
       "      'type': 'labels'},\n",
       "     {'value': {'start': 101, 'end': 109, 'text': ['Q1141123']},\n",
       "      'id': '18591563568703',\n",
       "      'from_name': 'entity',\n",
       "      'to_name': 'text',\n",
       "      'type': 'textarea'},\n",
       "     {'value': {'start': 145, 'end': 147, 'text': 'ИК', 'labels': ['ORG']},\n",
       "      'id': '30353537965205',\n",
       "      'from_name': 'ner',\n",
       "      'to_name': 'text',\n",
       "      'type': 'labels'},\n",
       "     {'value': {'start': 198,\n",
       "       'end': 206,\n",
       "       'text': 'Роснефти',\n",
       "       'labels': ['ORG']},\n",
       "      'id': '27292557371956',\n",
       "      'from_name': 'ner',\n",
       "      'to_name': 'text',\n",
       "      'type': 'labels'},\n",
       "     {'value': {'start': 198, 'end': 206, 'text': ['Q1141123']},\n",
       "      'id': '27292557371956',\n",
       "      'from_name': 'entity',\n",
       "      'to_name': 'text',\n",
       "      'type': 'textarea'}],\n",
       "    'score': None,\n",
       "    'cluster': None,\n",
       "    'neighbors': None,\n",
       "    'mislabeling': 0.0,\n",
       "    'created_at': '2021-09-03T17:30:17.260625Z',\n",
       "    'updated_at': '2021-09-03T17:30:17.260633Z',\n",
       "    'task': 334657},\n",
       "   'result_count': 0,\n",
       "   'task': 334657}],\n",
       " 'predictions': [{'id': 206315,\n",
       "   'model_version': 'undefined',\n",
       "   'created_ago': '3\\xa0weeks, 3\\xa0days',\n",
       "   'result': [{'value': {'start': 6,\n",
       "      'end': 22,\n",
       "      'text': 'Открытие Капитал',\n",
       "      'labels': ['ORG']},\n",
       "     'id': '74520158391160',\n",
       "     'from_name': 'ner',\n",
       "     'to_name': 'text',\n",
       "     'type': 'labels'},\n",
       "    {'value': {'start': 101,\n",
       "      'end': 109,\n",
       "      'text': 'Роснефти',\n",
       "      'labels': ['ORG']},\n",
       "     'id': '18591563568703',\n",
       "     'from_name': 'ner',\n",
       "     'to_name': 'text',\n",
       "     'type': 'labels'},\n",
       "    {'value': {'start': 101, 'end': 109, 'text': ['Q1141123']},\n",
       "     'id': '18591563568703',\n",
       "     'from_name': 'entity',\n",
       "     'to_name': 'text',\n",
       "     'type': 'textarea'},\n",
       "    {'value': {'start': 145, 'end': 147, 'text': 'ИК', 'labels': ['ORG']},\n",
       "     'id': '30353537965205',\n",
       "     'from_name': 'ner',\n",
       "     'to_name': 'text',\n",
       "     'type': 'labels'},\n",
       "    {'value': {'start': 198,\n",
       "      'end': 206,\n",
       "      'text': 'Роснефти',\n",
       "      'labels': ['ORG']},\n",
       "     'id': '27292557371956',\n",
       "     'from_name': 'ner',\n",
       "     'to_name': 'text',\n",
       "     'type': 'labels'},\n",
       "    {'value': {'start': 198, 'end': 206, 'text': ['Q1141123']},\n",
       "     'id': '27292557371956',\n",
       "     'from_name': 'entity',\n",
       "     'to_name': 'text',\n",
       "     'type': 'textarea'}],\n",
       "   'score': None,\n",
       "   'cluster': None,\n",
       "   'neighbors': None,\n",
       "   'mislabeling': 0.0,\n",
       "   'created_at': '2021-09-03T17:30:17.260625Z',\n",
       "   'updated_at': '2021-09-03T17:30:17.260633Z',\n",
       "   'task': 334657}],\n",
       " 'file_upload': 'data_for_labelstudio_FJgVsou.json',\n",
       " 'data': {'text': 'ROSN\\n\"Открытие Капитал\" пересмотрела прогнозные цены акций и глобальных депозитарных расписок (GDR) \"Роснефти\" (MOEX: ROSN), сообщается в обзоре ИК. По итогам переоценки прогнозная стоимость акций \"Роснефти\" была понижена с 420 рублей до 400 рублей за штуку. В то же время аналитики повысили прогнозную цену GDR компании с $6,3 до $6,5 за штуку.',\n",
       "  'sidenote': 'Московская биржа http://www.wikidata.org/entity/Q2632892\\nРоснефть http://www.wikidata.org/entity/Q1141123'},\n",
       " 'meta': {},\n",
       " 'created_at': '2021-09-03T17:30:12.930203Z',\n",
       " 'updated_at': '2021-09-03T17:30:12.930211Z',\n",
       " 'project': 10}"
      ]
     },
     "execution_count": 41,
     "metadata": {},
     "output_type": "execute_result"
    }
   ],
   "source": [
    "data[0]"
   ]
  },
  {
   "cell_type": "code",
   "execution_count": 42,
   "id": "30694721",
   "metadata": {},
   "outputs": [],
   "source": [
    "nlp_model = \"ru_core_news_sm\"\n",
    "nlp_model_vector_size = 96\n",
    "nlp = spacy.load(nlp_model, exclude=\"parser, tagger\")\n",
    "kb = KnowledgeBase(vocab=nlp.vocab, entity_vector_length=nlp_model_vector_size)"
   ]
  },
  {
   "cell_type": "code",
   "execution_count": 43,
   "id": "f3becd16",
   "metadata": {},
   "outputs": [],
   "source": [
    "vocab = Vocab()\n",
    "\n",
    "# 1. Create NER Spacy Dataset\n",
    "output = []\n",
    "converter = LabelStudioToSpacyConverter()\n",
    "converter.ls_label_map = {\n",
    "    \"ORG\": \"ORG\"\n",
    "}\n",
    "\n",
    "for labelstudio_line in data:\n",
    "    doc = converter.create_spacy_doc(labelstudio_line)\n",
    "    doc = converter.assign_entities(doc, labelstudio_line)\n",
    "    output.append(doc)"
   ]
  },
  {
   "cell_type": "code",
   "execution_count": 44,
   "id": "990d4852",
   "metadata": {},
   "outputs": [],
   "source": [
    "from collections import defaultdict"
   ]
  },
  {
   "cell_type": "code",
   "execution_count": 45,
   "id": "6805570e",
   "metadata": {},
   "outputs": [
    {
     "name": "stderr",
     "output_type": "stream",
     "text": [
      "  0%|                                                                                                                                                | 0/79 [00:00<?, ?it/s]/tmp/ipykernel_11411/2273782613.py:14: UserWarning: [W018] Entity 'Q1141123' already exists in the Knowledge Base - ignoring the duplicate entry.\n",
      "  kb.add_entity(entity=pair[\"qid\"], entity_vector=vector, freq=265)\n",
      "/tmp/ipykernel_11411/2273782613.py:14: UserWarning: [W018] Entity 'Q940518' already exists in the Knowledge Base - ignoring the duplicate entry.\n",
      "  kb.add_entity(entity=pair[\"qid\"], entity_vector=vector, freq=265)\n",
      "/tmp/ipykernel_11411/2273782613.py:14: UserWarning: [W018] Entity 'Q1355823' already exists in the Knowledge Base - ignoring the duplicate entry.\n",
      "  kb.add_entity(entity=pair[\"qid\"], entity_vector=vector, freq=265)\n",
      "  3%|███▍                                                                                                                                    | 2/79 [00:00<00:04, 17.93it/s]/tmp/ipykernel_11411/2273782613.py:14: UserWarning: [W018] Entity 'Q379271' already exists in the Knowledge Base - ignoring the duplicate entry.\n",
      "  kb.add_entity(entity=pair[\"qid\"], entity_vector=vector, freq=265)\n",
      "/tmp/ipykernel_11411/2273782613.py:14: UserWarning: [W018] Entity 'Q294508' already exists in the Knowledge Base - ignoring the duplicate entry.\n",
      "  kb.add_entity(entity=pair[\"qid\"], entity_vector=vector, freq=265)\n",
      "/tmp/ipykernel_11411/2273782613.py:14: UserWarning: [W018] Entity 'Q2369311' already exists in the Knowledge Base - ignoring the duplicate entry.\n",
      "  kb.add_entity(entity=pair[\"qid\"], entity_vector=vector, freq=265)\n",
      "/tmp/ipykernel_11411/2273782613.py:14: UserWarning: [W018] Entity 'Q2116312' already exists in the Knowledge Base - ignoring the duplicate entry.\n",
      "  kb.add_entity(entity=pair[\"qid\"], entity_vector=vector, freq=265)\n",
      "/tmp/ipykernel_11411/2273782613.py:14: UserWarning: [W018] Entity 'Q1616858' already exists in the Knowledge Base - ignoring the duplicate entry.\n",
      "  kb.add_entity(entity=pair[\"qid\"], entity_vector=vector, freq=265)\n",
      "/tmp/ipykernel_11411/2273782613.py:14: UserWarning: [W018] Entity 'Q3063197' already exists in the Knowledge Base - ignoring the duplicate entry.\n",
      "  kb.add_entity(entity=pair[\"qid\"], entity_vector=vector, freq=265)\n",
      "  5%|██████▉                                                                                                                                 | 4/79 [00:00<00:15,  4.72it/s]/tmp/ipykernel_11411/2273782613.py:14: UserWarning: [W018] Entity 'Q1549389' already exists in the Knowledge Base - ignoring the duplicate entry.\n",
      "  kb.add_entity(entity=pair[\"qid\"], entity_vector=vector, freq=265)\n",
      "/tmp/ipykernel_11411/2273782613.py:14: UserWarning: [W018] Entity 'Q1809133' already exists in the Knowledge Base - ignoring the duplicate entry.\n",
      "  kb.add_entity(entity=pair[\"qid\"], entity_vector=vector, freq=265)\n",
      "/tmp/ipykernel_11411/2273782613.py:14: UserWarning: [W018] Entity 'Q7907607' already exists in the Knowledge Base - ignoring the duplicate entry.\n",
      "  kb.add_entity(entity=pair[\"qid\"], entity_vector=vector, freq=265)\n",
      " 14%|██████████████████▊                                                                                                                    | 11/79 [00:00<00:04, 14.75it/s]/tmp/ipykernel_11411/2273782613.py:14: UserWarning: [W018] Entity 'Q102673' already exists in the Knowledge Base - ignoring the duplicate entry.\n",
      "  kb.add_entity(entity=pair[\"qid\"], entity_vector=vector, freq=265)\n",
      " 22%|█████████████████████████████                                                                                                          | 17/79 [00:01<00:03, 18.04it/s]/tmp/ipykernel_11411/2273782613.py:14: UserWarning: [W018] Entity 'Q1461799' already exists in the Knowledge Base - ignoring the duplicate entry.\n",
      "  kb.add_entity(entity=pair[\"qid\"], entity_vector=vector, freq=265)\n",
      "/tmp/ipykernel_11411/2273782613.py:14: UserWarning: [W018] Entity 'Q205012' already exists in the Knowledge Base - ignoring the duplicate entry.\n",
      "  kb.add_entity(entity=pair[\"qid\"], entity_vector=vector, freq=265)\n",
      " 30%|█████████████████████████████████████████                                                                                              | 24/79 [00:01<00:02, 26.29it/s]/tmp/ipykernel_11411/2273782613.py:14: UserWarning: [W018] Entity 'Q4513187' already exists in the Knowledge Base - ignoring the duplicate entry.\n",
      "  kb.add_entity(entity=pair[\"qid\"], entity_vector=vector, freq=265)\n",
      " 47%|███████████████████████████████████████████████████████████████▏                                                                       | 37/79 [00:01<00:01, 37.87it/s]/tmp/ipykernel_11411/2273782613.py:14: UserWarning: [W018] Entity 'Q108352452' already exists in the Knowledge Base - ignoring the duplicate entry.\n",
      "  kb.add_entity(entity=pair[\"qid\"], entity_vector=vector, freq=265)\n",
      "/tmp/ipykernel_11411/2273782613.py:14: UserWarning: [W018] Entity 'Q1963801' already exists in the Knowledge Base - ignoring the duplicate entry.\n",
      "  kb.add_entity(entity=pair[\"qid\"], entity_vector=vector, freq=265)\n",
      "/tmp/ipykernel_11411/2273782613.py:14: UserWarning: [W018] Entity 'Q223799' already exists in the Knowledge Base - ignoring the duplicate entry.\n",
      "  kb.add_entity(entity=pair[\"qid\"], entity_vector=vector, freq=265)\n",
      " 53%|███████████████████████████████████████████████████████████████████████▊                                                               | 42/79 [00:01<00:01, 36.58it/s]/tmp/ipykernel_11411/2273782613.py:14: UserWarning: [W018] Entity 'Q1884500' already exists in the Knowledge Base - ignoring the duplicate entry.\n",
      "  kb.add_entity(entity=pair[\"qid\"], entity_vector=vector, freq=265)\n",
      "/tmp/ipykernel_11411/2273782613.py:14: UserWarning: [W018] Entity 'Q171240' already exists in the Knowledge Base - ignoring the duplicate entry.\n",
      "  kb.add_entity(entity=pair[\"qid\"], entity_vector=vector, freq=265)\n",
      "/tmp/ipykernel_11411/2273782613.py:14: UserWarning: [W018] Entity 'Q1368919' already exists in the Knowledge Base - ignoring the duplicate entry.\n",
      "  kb.add_entity(entity=pair[\"qid\"], entity_vector=vector, freq=265)\n",
      "/tmp/ipykernel_11411/2273782613.py:14: UserWarning: [W018] Entity 'Q4499024' already exists in the Knowledge Base - ignoring the duplicate entry.\n",
      "  kb.add_entity(entity=pair[\"qid\"], entity_vector=vector, freq=265)\n",
      "/tmp/ipykernel_11411/2273782613.py:14: UserWarning: [W018] Entity 'Q4059809' already exists in the Knowledge Base - ignoring the duplicate entry.\n",
      "  kb.add_entity(entity=pair[\"qid\"], entity_vector=vector, freq=265)\n",
      " 59%|████████████████████████████████████████████████████████████████████████████████▎                                                      | 47/79 [00:02<00:01, 24.15it/s]/tmp/ipykernel_11411/2273782613.py:14: UserWarning: [W018] Entity 'Q638448' already exists in the Knowledge Base - ignoring the duplicate entry.\n",
      "  kb.add_entity(entity=pair[\"qid\"], entity_vector=vector, freq=265)\n",
      "/tmp/ipykernel_11411/2273782613.py:14: UserWarning: [W018] Entity 'Q193199' already exists in the Knowledge Base - ignoring the duplicate entry.\n",
      "  kb.add_entity(entity=pair[\"qid\"], entity_vector=vector, freq=265)\n",
      "/tmp/ipykernel_11411/2273782613.py:14: UserWarning: [W018] Entity 'Q329347' already exists in the Knowledge Base - ignoring the duplicate entry.\n",
      "  kb.add_entity(entity=pair[\"qid\"], entity_vector=vector, freq=265)\n",
      "/tmp/ipykernel_11411/2273782613.py:14: UserWarning: [W018] Entity 'Q2380266' already exists in the Knowledge Base - ignoring the duplicate entry.\n",
      "  kb.add_entity(entity=pair[\"qid\"], entity_vector=vector, freq=265)\n",
      "/tmp/ipykernel_11411/2273782613.py:14: UserWarning: [W018] Entity 'Q1477012' already exists in the Knowledge Base - ignoring the duplicate entry.\n",
      "  kb.add_entity(entity=pair[\"qid\"], entity_vector=vector, freq=265)\n",
      "/tmp/ipykernel_11411/2273782613.py:14: UserWarning: [W018] Entity 'Q4044421' already exists in the Knowledge Base - ignoring the duplicate entry.\n",
      "  kb.add_entity(entity=pair[\"qid\"], entity_vector=vector, freq=265)\n",
      " 66%|████████████████████████████████████████████████████████████████████████████████████████▊                                              | 52/79 [00:02<00:01, 25.41it/s]/tmp/ipykernel_11411/2273782613.py:14: UserWarning: [W018] Entity 'Q768773' already exists in the Knowledge Base - ignoring the duplicate entry.\n",
      "  kb.add_entity(entity=pair[\"qid\"], entity_vector=vector, freq=265)\n",
      " 72%|█████████████████████████████████████████████████████████████████████████████████████████████████▍                                     | 57/79 [00:02<00:00, 26.51it/s]"
     ]
    },
    {
     "name": "stdout",
     "output_type": "stream",
     "text": [
      "\u001b[38;5;1m✘ QID is missing!\u001b[0m\n",
      "RUAL отчет Чистая прибыль компании «Русал» за январь—сентябрь 2017 года по ​по\n",
      "международным стандартам финансовой отчетности (МСФО) ​составила ​$782 млн,\n",
      "превысив на ​46,4% аналогичный показатель прошлого года. Об этом говорится в\n",
      "отчете о финансовых результатах, опубликованном на сайте компании. При этом\n",
      "выручка компании за третий квартал увеличилась на 19,4% и составила $2,46 млрд,\n",
      "а за девять месяцев текущего года — на 21,3%, до $7,224 млрд. Росту финансовых\n",
      "показателей способствовало увеличение цены алюминия на Лондонской бирже металлов\n",
      "(LME), говорится в отчете.\n"
     ]
    },
    {
     "name": "stderr",
     "output_type": "stream",
     "text": [
      "/tmp/ipykernel_11411/2273782613.py:14: UserWarning: [W018] Entity 'Q1642605' already exists in the Knowledge Base - ignoring the duplicate entry.\n",
      "  kb.add_entity(entity=pair[\"qid\"], entity_vector=vector, freq=265)\n",
      "/tmp/ipykernel_11411/2273782613.py:14: UserWarning: [W018] Entity 'Q1720713' already exists in the Knowledge Base - ignoring the duplicate entry.\n",
      "  kb.add_entity(entity=pair[\"qid\"], entity_vector=vector, freq=265)\n",
      " 77%|████████████████████████████████████████████████████████████████████████████████████████████████████████▏                              | 61/79 [00:02<00:00, 22.44it/s]/tmp/ipykernel_11411/2273782613.py:14: UserWarning: [W018] Entity 'Q1781702' already exists in the Knowledge Base - ignoring the duplicate entry.\n",
      "  kb.add_entity(entity=pair[\"qid\"], entity_vector=vector, freq=265)\n",
      " 81%|█████████████████████████████████████████████████████████████████████████████████████████████████████████████▎                         | 64/79 [00:02<00:00, 22.21it/s]/tmp/ipykernel_11411/2273782613.py:14: UserWarning: [W018] Entity 'Q2632892' already exists in the Knowledge Base - ignoring the duplicate entry.\n",
      "  kb.add_entity(entity=pair[\"qid\"], entity_vector=vector, freq=265)\n",
      "/tmp/ipykernel_11411/2273782613.py:14: UserWarning: [W018] Entity 'Q58707' already exists in the Knowledge Base - ignoring the duplicate entry.\n",
      "  kb.add_entity(entity=pair[\"qid\"], entity_vector=vector, freq=265)\n",
      "/tmp/ipykernel_11411/2273782613.py:14: UserWarning: [W018] Entity 'Q660770' already exists in the Knowledge Base - ignoring the duplicate entry.\n",
      "  kb.add_entity(entity=pair[\"qid\"], entity_vector=vector, freq=265)\n",
      " 87%|█████████████████████████████████████████████████████████████████████████████████████████████████████████████████████▉                 | 69/79 [00:02<00:00, 25.91it/s]/tmp/ipykernel_11411/2273782613.py:14: UserWarning: [W018] Entity 'Q2005769' already exists in the Knowledge Base - ignoring the duplicate entry.\n",
      "  kb.add_entity(entity=pair[\"qid\"], entity_vector=vector, freq=265)\n",
      "/tmp/ipykernel_11411/2273782613.py:14: UserWarning: [W018] Entity 'Q4047736' already exists in the Knowledge Base - ignoring the duplicate entry.\n",
      "  kb.add_entity(entity=pair[\"qid\"], entity_vector=vector, freq=265)\n",
      " 91%|███████████████████████████████████████████████████████████████████████████████████████████████████████████████████████████            | 72/79 [00:03<00:00, 23.04it/s]/tmp/ipykernel_11411/2273782613.py:14: UserWarning: [W018] Entity 'Q3656098' already exists in the Knowledge Base - ignoring the duplicate entry.\n",
      "  kb.add_entity(entity=pair[\"qid\"], entity_vector=vector, freq=265)\n",
      " 95%|████████████████████████████████████████████████████████████████████████████████████████████████████████████████████████████████▏      | 75/79 [00:03<00:00, 20.59it/s]/tmp/ipykernel_11411/2273782613.py:14: UserWarning: [W018] Entity 'Q2035424' already exists in the Knowledge Base - ignoring the duplicate entry.\n",
      "  kb.add_entity(entity=pair[\"qid\"], entity_vector=vector, freq=265)\n",
      "100%|███████████████████████████████████████████████████████████████████████████████████████████████████████████████████████████████████████| 79/79 [00:03<00:00, 19.93it/s]\n"
     ]
    }
   ],
   "source": [
    "# 1. SEEDING KB ENTITES\n",
    "for i in tqdm(range(len(data))):\n",
    "    id_to_qid_name_pair = defaultdict(dict)\n",
    "    for chunk in data[i][\"annotations\"][0][\"result\"]:\n",
    "        if chunk[\"from_name\"] == \"ner\":\n",
    "            id_to_qid_name_pair[chunk[\"id\"]][\"text\"] = chunk[\"value\"][\"text\"]\n",
    "        if chunk[\"from_name\"] == \"entity\":\n",
    "            id_to_qid_name_pair[chunk[\"id\"]][\"qid\"] = chunk[\"value\"][\"text\"][0]\n",
    "    for _, pair in id_to_qid_name_pair.items():\n",
    "        if \"qid\" not in pair:\n",
    "            msg.fail(\"QID is missing!\", data[i][\"data\"][\"text\"])\n",
    "            continue\n",
    "        vector = nlp(data[i][\"data\"][\"text\"]).vector\n",
    "        kb.add_entity(entity=pair[\"qid\"], entity_vector=vector, freq=265)"
   ]
  },
  {
   "cell_type": "code",
   "execution_count": 46,
   "id": "2beae79d",
   "metadata": {},
   "outputs": [
    {
     "name": "stderr",
     "output_type": "stream",
     "text": [
      "  0%|                                                                                                                                                | 0/79 [00:00<?, ?it/s]/tmp/ipykernel_11411/2171502097.py:14: UserWarning: [W017] Alias 'Роснефти' already exists in the Knowledge Base.\n",
      "  kb.add_alias(alias=pair[\"text\"], entities=[pair[\"qid\"]], probabilities=[1])\n",
      "/tmp/ipykernel_11411/2171502097.py:14: UserWarning: [W017] Alias 'Магнита' already exists in the Knowledge Base.\n",
      "  kb.add_alias(alias=pair[\"text\"], entities=[pair[\"qid\"]], probabilities=[1])\n",
      "/tmp/ipykernel_11411/2171502097.py:14: UserWarning: [W017] Alias 'FTSE' already exists in the Knowledge Base.\n",
      "  kb.add_alias(alias=pair[\"text\"], entities=[pair[\"qid\"]], probabilities=[1])\n",
      "  3%|███▍                                                                                                                                    | 2/79 [00:00<00:04, 17.68it/s]/tmp/ipykernel_11411/2171502097.py:14: UserWarning: [W017] Alias 'РуссНефти' already exists in the Knowledge Base.\n",
      "  kb.add_alias(alias=pair[\"text\"], entities=[pair[\"qid\"]], probabilities=[1])\n",
      "/tmp/ipykernel_11411/2171502097.py:14: UserWarning: [W017] Alias 'Татнефти' already exists in the Knowledge Base.\n",
      "  kb.add_alias(alias=pair[\"text\"], entities=[pair[\"qid\"]], probabilities=[1])\n",
      "/tmp/ipykernel_11411/2171502097.py:14: UserWarning: [W017] Alias 'ФСК ЕЭС' already exists in the Knowledge Base.\n",
      "  kb.add_alias(alias=pair[\"text\"], entities=[pair[\"qid\"]], probabilities=[1])\n",
      "  5%|██████▉                                                                                                                                 | 4/79 [00:00<00:15,  4.70it/s]/tmp/ipykernel_11411/2171502097.py:14: UserWarning: [W017] Alias 'ВТБ' already exists in the Knowledge Base.\n",
      "  kb.add_alias(alias=pair[\"text\"], entities=[pair[\"qid\"]], probabilities=[1])\n",
      "/tmp/ipykernel_11411/2171502097.py:14: UserWarning: [W017] Alias 'АЛРОСА' already exists in the Knowledge Base.\n",
      "  kb.add_alias(alias=pair[\"text\"], entities=[pair[\"qid\"]], probabilities=[1])\n",
      "/tmp/ipykernel_11411/2171502097.py:14: UserWarning: [W017] Alias 'ВТБ Капитала' already exists in the Knowledge Base.\n",
      "  kb.add_alias(alias=pair[\"text\"], entities=[pair[\"qid\"]], probabilities=[1])\n",
      " 14%|██████████████████▊                                                                                                                    | 11/79 [00:00<00:04, 14.75it/s]/tmp/ipykernel_11411/2171502097.py:14: UserWarning: [W017] Alias 'Газпрома' already exists in the Knowledge Base.\n",
      "  kb.add_alias(alias=pair[\"text\"], entities=[pair[\"qid\"]], probabilities=[1])\n",
      "/tmp/ipykernel_11411/2171502097.py:14: UserWarning: [W017] Alias 'ТМК' already exists in the Knowledge Base.\n",
      "  kb.add_alias(alias=pair[\"text\"], entities=[pair[\"qid\"]], probabilities=[1])\n",
      "/tmp/ipykernel_11411/2171502097.py:14: UserWarning: [W017] Alias 'Магнит' already exists in the Knowledge Base.\n",
      "  kb.add_alias(alias=pair[\"text\"], entities=[pair[\"qid\"]], probabilities=[1])\n",
      " 22%|█████████████████████████████                                                                                                          | 17/79 [00:01<00:03, 18.08it/s]/tmp/ipykernel_11411/2171502097.py:14: UserWarning: [W017] Alias 'ГАЗПРОМ НЕФТИ' already exists in the Knowledge Base.\n",
      "  kb.add_alias(alias=pair[\"text\"], entities=[pair[\"qid\"]], probabilities=[1])\n",
      "/tmp/ipykernel_11411/2171502097.py:14: UserWarning: [W017] Alias 'МАГНИТА' already exists in the Knowledge Base.\n",
      "  kb.add_alias(alias=pair[\"text\"], entities=[pair[\"qid\"]], probabilities=[1])\n",
      "/tmp/ipykernel_11411/2171502097.py:14: UserWarning: [W017] Alias 'Сбербанка' already exists in the Knowledge Base.\n",
      "  kb.add_alias(alias=pair[\"text\"], entities=[pair[\"qid\"]], probabilities=[1])\n",
      " 41%|██████████████████████████████████████████████████████▋                                                                                | 32/79 [00:01<00:01, 36.50it/s]/tmp/ipykernel_11411/2171502097.py:14: UserWarning: [W017] Alias 'СБЕРБАНКА' already exists in the Knowledge Base.\n",
      "  kb.add_alias(alias=pair[\"text\"], entities=[pair[\"qid\"]], probabilities=[1])\n",
      "/tmp/ipykernel_11411/2171502097.py:14: UserWarning: [W017] Alias 'АО «Тандер»' already exists in the Knowledge Base.\n",
      "  kb.add_alias(alias=pair[\"text\"], entities=[pair[\"qid\"]], probabilities=[1])\n",
      " 48%|████████████████████████████████████████████████████████████████▉                                                                      | 38/79 [00:01<00:01, 35.21it/s]/tmp/ipykernel_11411/2171502097.py:14: UserWarning: [W017] Alias 'ИНТЕР РАО' already exists in the Knowledge Base.\n",
      "  kb.add_alias(alias=pair[\"text\"], entities=[pair[\"qid\"]], probabilities=[1])\n",
      "/tmp/ipykernel_11411/2171502097.py:14: UserWarning: [W017] Alias 'ТАСС' already exists in the Knowledge Base.\n",
      "  kb.add_alias(alias=pair[\"text\"], entities=[pair[\"qid\"]], probabilities=[1])\n",
      "/tmp/ipykernel_11411/2171502097.py:14: UserWarning: [W017] Alias 'ММК' already exists in the Knowledge Base.\n",
      "  kb.add_alias(alias=pair[\"text\"], entities=[pair[\"qid\"]], probabilities=[1])\n",
      "/tmp/ipykernel_11411/2171502097.py:14: UserWarning: [W017] Alias 'Черкизово' already exists in the Knowledge Base.\n",
      "  kb.add_alias(alias=pair[\"text\"], entities=[pair[\"qid\"]], probabilities=[1])\n",
      "/tmp/ipykernel_11411/2171502097.py:14: UserWarning: [W017] Alias 'МТС' already exists in the Knowledge Base.\n",
      "  kb.add_alias(alias=pair[\"text\"], entities=[pair[\"qid\"]], probabilities=[1])\n",
      " 54%|█████████████████████████████████████████████████████████████████████████▍                                                             | 43/79 [00:01<00:01, 23.12it/s]/tmp/ipykernel_11411/2171502097.py:14: UserWarning: [W017] Alias 'Северстали' already exists in the Knowledge Base.\n",
      "  kb.add_alias(alias=pair[\"text\"], entities=[pair[\"qid\"]], probabilities=[1])\n",
      "/tmp/ipykernel_11411/2171502097.py:14: UserWarning: [W017] Alias 'UBS' already exists in the Knowledge Base.\n",
      "  kb.add_alias(alias=pair[\"text\"], entities=[pair[\"qid\"]], probabilities=[1])\n",
      "/tmp/ipykernel_11411/2171502097.py:14: UserWarning: [W017] Alias 'ЛУКОЙЛ' already exists in the Knowledge Base.\n",
      "  kb.add_alias(alias=pair[\"text\"], entities=[pair[\"qid\"]], probabilities=[1])\n",
      "/tmp/ipykernel_11411/2171502097.py:14: UserWarning: [W017] Alias 'POLYMETAL' already exists in the Knowledge Base.\n",
      "  kb.add_alias(alias=pair[\"text\"], entities=[pair[\"qid\"]], probabilities=[1])\n",
      " 65%|███████████████████████████████████████████████████████████████████████████████████████▏                                               | 51/79 [00:02<00:00, 29.99it/s]/tmp/ipykernel_11411/2171502097.py:14: UserWarning: [W017] Alias 'Ростелекома' already exists in the Knowledge Base.\n",
      "  kb.add_alias(alias=pair[\"text\"], entities=[pair[\"qid\"]], probabilities=[1])\n",
      " 71%|███████████████████████████████████████████████████████████████████████████████████████████████▋                                       | 56/79 [00:02<00:00, 31.83it/s]/tmp/ipykernel_11411/2171502097.py:14: UserWarning: [W017] Alias 'MSCI' already exists in the Knowledge Base.\n",
      "  kb.add_alias(alias=pair[\"text\"], entities=[pair[\"qid\"]], probabilities=[1])\n"
     ]
    },
    {
     "name": "stdout",
     "output_type": "stream",
     "text": [
      "\u001b[38;5;1m✘ QID is missing!\u001b[0m\n",
      "RUAL отчет Чистая прибыль компании «Русал» за январь—сентябрь 2017 года по ​по\n",
      "международным стандартам финансовой отчетности (МСФО) ​составила ​$782 млн,\n",
      "превысив на ​46,4% аналогичный показатель прошлого года. Об этом говорится в\n",
      "отчете о финансовых результатах, опубликованном на сайте компании. При этом\n",
      "выручка компании за третий квартал увеличилась на 19,4% и составила $2,46 млрд,\n",
      "а за девять месяцев текущего года — на 21,3%, до $7,224 млрд. Росту финансовых\n",
      "показателей способствовало увеличение цены алюминия на Лондонской бирже металлов\n",
      "(LME), говорится в отчете.\n"
     ]
    },
    {
     "name": "stderr",
     "output_type": "stream",
     "text": [
      "/tmp/ipykernel_11411/2171502097.py:14: UserWarning: [W017] Alias 'МегаФона' already exists in the Knowledge Base.\n",
      "  kb.add_alias(alias=pair[\"text\"], entities=[pair[\"qid\"]], probabilities=[1])\n",
      " 77%|████████████████████████████████████████████████████████████████████████████████████████████████████████▏                              | 61/79 [00:02<00:00, 23.26it/s]/tmp/ipykernel_11411/2171502097.py:14: UserWarning: [W017] Alias 'Алроса' already exists in the Knowledge Base.\n",
      "  kb.add_alias(alias=pair[\"text\"], entities=[pair[\"qid\"]], probabilities=[1])\n",
      "/tmp/ipykernel_11411/2171502097.py:14: UserWarning: [W017] Alias 'АФК «Система»' already exists in the Knowledge Base.\n",
      "  kb.add_alias(alias=pair[\"text\"], entities=[pair[\"qid\"]], probabilities=[1])\n",
      " 82%|███████████████████████████████████████████████████████████████████████████████████████████████████████████████                        | 65/79 [00:02<00:00, 23.10it/s]/tmp/ipykernel_11411/2171502097.py:14: UserWarning: [W017] Alias 'Интерфаксом' already exists in the Knowledge Base.\n",
      "  kb.add_alias(alias=pair[\"text\"], entities=[pair[\"qid\"]], probabilities=[1])\n",
      "/tmp/ipykernel_11411/2171502097.py:14: UserWarning: [W017] Alias 'Интерфаксу' already exists in the Knowledge Base.\n",
      "  kb.add_alias(alias=pair[\"text\"], entities=[pair[\"qid\"]], probabilities=[1])\n",
      " 90%|█████████████████████████████████████████████████████████████████████████████████████████████████████████████████████████▎             | 71/79 [00:03<00:00, 23.38it/s]/tmp/ipykernel_11411/2171502097.py:14: UserWarning: [W017] Alias 'QIWI' already exists in the Knowledge Base.\n",
      "  kb.add_alias(alias=pair[\"text\"], entities=[pair[\"qid\"]], probabilities=[1])\n",
      "/tmp/ipykernel_11411/2171502097.py:14: UserWarning: [W017] Alias 'Атон' already exists in the Knowledge Base.\n",
      "  kb.add_alias(alias=pair[\"text\"], entities=[pair[\"qid\"]], probabilities=[1])\n",
      "/tmp/ipykernel_11411/2171502097.py:14: UserWarning: [W017] Alias 'Газпром' already exists in the Knowledge Base.\n",
      "  kb.add_alias(alias=pair[\"text\"], entities=[pair[\"qid\"]], probabilities=[1])\n",
      " 94%|██████████████████████████████████████████████████████████████████████████████████████████████████████████████████████████████▍        | 74/79 [00:03<00:00, 20.88it/s]/tmp/ipykernel_11411/2171502097.py:14: UserWarning: [W017] Alias 'РусГидро' already exists in the Knowledge Base.\n",
      "  kb.add_alias(alias=pair[\"text\"], entities=[pair[\"qid\"]], probabilities=[1])\n",
      "/tmp/ipykernel_11411/2171502097.py:14: UserWarning: [W017] Alias 'ЛУКОЙЛа' already exists in the Knowledge Base.\n",
      "  kb.add_alias(alias=pair[\"text\"], entities=[pair[\"qid\"]], probabilities=[1])\n",
      "/tmp/ipykernel_11411/2171502097.py:14: UserWarning: [W017] Alias 'ИНТЕРФАКС' already exists in the Knowledge Base.\n",
      "  kb.add_alias(alias=pair[\"text\"], entities=[pair[\"qid\"]], probabilities=[1])\n",
      "/tmp/ipykernel_11411/2171502097.py:14: UserWarning: [W017] Alias 'Интер РАО' already exists in the Knowledge Base.\n",
      "  kb.add_alias(alias=pair[\"text\"], entities=[pair[\"qid\"]], probabilities=[1])\n",
      "100%|███████████████████████████████████████████████████████████████████████████████████████████████████████████████████████████████████████| 79/79 [00:03<00:00, 20.08it/s]\n"
     ]
    }
   ],
   "source": [
    "# 2. SEEDING KB ALIASES\n",
    "for i in tqdm(range(len(data))):\n",
    "    id_to_qid_name_pair = defaultdict(dict)\n",
    "    for chunk in data[i][\"annotations\"][0][\"result\"]:\n",
    "        if chunk[\"from_name\"] == \"ner\":\n",
    "            id_to_qid_name_pair[chunk[\"id\"]][\"text\"] = chunk[\"value\"][\"text\"]\n",
    "        if chunk[\"from_name\"] == \"entity\":\n",
    "            id_to_qid_name_pair[chunk[\"id\"]][\"qid\"] = chunk[\"value\"][\"text\"][0]\n",
    "    for _, pair in id_to_qid_name_pair.items():\n",
    "        if \"qid\" not in pair:\n",
    "            msg.fail(\"QID is missing!\", data[i][\"data\"][\"text\"])\n",
    "            continue\n",
    "        vector = nlp(data[i][\"data\"][\"text\"]).vector\n",
    "        kb.add_alias(alias=pair[\"text\"], entities=[pair[\"qid\"]], probabilities=[1])"
   ]
  },
  {
   "cell_type": "code",
   "execution_count": 47,
   "id": "43d540cb",
   "metadata": {},
   "outputs": [
    {
     "data": {
      "text/plain": [
       "defaultdict(dict,\n",
       "            {'48983422152598': {'qid': 'Q1023876', 'text': 'CME Group'},\n",
       "             'AtuzZC1kQa': {'text': 'биткоин', 'qid': 'Q131723'}})"
      ]
     },
     "execution_count": 47,
     "metadata": {},
     "output_type": "execute_result"
    }
   ],
   "source": [
    "id_to_qid_name_pair"
   ]
  },
  {
   "cell_type": "code",
   "execution_count": 48,
   "id": "896b9aa5",
   "metadata": {},
   "outputs": [
    {
     "data": {
      "text/plain": [
       "<spacy.kb.KnowledgeBase at 0x7f86efc88400>"
      ]
     },
     "execution_count": 48,
     "metadata": {},
     "output_type": "execute_result"
    }
   ],
   "source": [
    "kb"
   ]
  },
  {
   "cell_type": "code",
   "execution_count": 49,
   "id": "76292796",
   "metadata": {},
   "outputs": [],
   "source": [
    "kb.to_disk(kb_path)\n",
    "\n",
    "# nlp.to_disk(nlp_dir)"
   ]
  },
  {
   "cell_type": "code",
   "execution_count": null,
   "id": "ea5681ea",
   "metadata": {},
   "outputs": [],
   "source": []
  }
 ],
 "metadata": {
  "kernelspec": {
   "display_name": "noisemon",
   "language": "python",
   "name": "python3810_noisemon"
  },
  "language_info": {
   "codemirror_mode": {
    "name": "ipython",
    "version": 3
   },
   "file_extension": ".py",
   "mimetype": "text/x-python",
   "name": "python",
   "nbconvert_exporter": "python",
   "pygments_lexer": "ipython3",
   "version": "3.8.10"
  }
 },
 "nbformat": 4,
 "nbformat_minor": 5
}
