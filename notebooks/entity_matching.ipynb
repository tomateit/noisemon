{
 "metadata": {
  "language_info": {
   "codemirror_mode": {
    "name": "ipython",
    "version": 3
   },
   "file_extension": ".py",
   "mimetype": "text/x-python",
   "name": "python",
   "nbconvert_exporter": "python",
   "pygments_lexer": "ipython3",
   "version": "3.8.10-final"
  },
  "orig_nbformat": 2,
  "kernelspec": {
   "name": "python381064bitvenv9c7bc6c482914d9d94ffa6b70c71c208",
   "display_name": "Python 3.8.10 64-bit ('.venv')"
  }
 },
 "nbformat": 4,
 "nbformat_minor": 2,
 "cells": [
  {
   "source": [
    "# Entity matching"
   ],
   "cell_type": "markdown",
   "metadata": {}
  },
  {
   "source": [
    "My baseline will be comparing embeddings of ORG chunks and company names.\n",
    "\n",
    "The large spacy model already provides embedding functionality, as well as comparison."
   ],
   "cell_type": "markdown",
   "metadata": {}
  },
  {
   "cell_type": "code",
   "execution_count": null,
   "metadata": {},
   "outputs": [],
   "source": []
  },
  {
   "source": [
    "import spacy\n",
    "\n",
    "nlp = spacy.load(\"ru_core_news_lg\")\n",
    "text = \"Didi рассматривает возможность перехода в частную собственность, чтобы успокоить Пекин\"\n",
    "doc = nlp(text)"
   ],
   "cell_type": "code",
   "metadata": {},
   "execution_count": 3,
   "outputs": []
  },
  {
   "cell_type": "code",
   "execution_count": 4,
   "metadata": {},
   "outputs": [
    {
     "output_type": "stream",
     "name": "stdout",
     "text": [
      "Didi 0 4 ORG\nПекин 81 86 LOC\n"
     ]
    }
   ],
   "source": [
    "for ent in doc.ents:\n",
    "    print(ent.text, ent.start_char, ent.end_char, ent.label_)"
   ]
  },
  {
   "cell_type": "code",
   "execution_count": null,
   "metadata": {},
   "outputs": [],
   "source": []
  }
 ]
}