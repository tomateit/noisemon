{
 "cells": [
  {
   "cell_type": "markdown",
   "metadata": {},
   "source": [
    "# Entity recognition and embedding base building"
   ]
  },
  {
   "cell_type": "code",
   "execution_count": 1,
   "metadata": {},
   "outputs": [
    {
     "name": "stdout",
     "output_type": "stream",
     "text": [
      "/home/codeholder/code/python-playground/app_noisemon\n"
     ]
    }
   ],
   "source": [
    "%cd .."
   ]
  },
  {
   "cell_type": "markdown",
   "metadata": {},
   "source": [
    "My baseline will be comparing embeddings of ORG chunks and company names.\n",
    "\n",
    "The large spacy model already provides embedding functionality, but those are static.\n",
    "I'm gonna need a transformer.\n",
    "For the embeddings matching I will use faiss"
   ]
  },
  {
   "cell_type": "markdown",
   "metadata": {},
   "source": [
    "#### Pipeline\n",
    "1. Load labelstudio'ed texts\n",
    "2. For each labeled document\n",
    "    - transform document to embedding matrix\n",
    "    - get entity vectors\n",
    "    - store it into index"
   ]
  },
  {
   "cell_type": "markdown",
   "metadata": {},
   "source": [
    "## 1. Import data"
   ]
  },
  {
   "cell_type": "code",
   "execution_count": 10,
   "metadata": {},
   "outputs": [],
   "source": [
    "import json\n",
    "import os\n",
    "from pathlib import Path\n",
    "from tqdm import tqdm\n",
    "from collections import defaultdict\n",
    "import numpy as np\n",
    "from functools import partial as p\n",
    "# from lenses import lens\n",
    "\n",
    "\n",
    "\n",
    "from wasabi import Printer\n",
    "msg = Printer()"
   ]
  },
  {
   "cell_type": "code",
   "execution_count": 6,
   "metadata": {},
   "outputs": [],
   "source": [
    "data_path = Path(\"./data/05-labeled/project-10-at-2021-10-02-22-43-62e3404c.json\")"
   ]
  },
  {
   "cell_type": "code",
   "execution_count": 7,
   "metadata": {},
   "outputs": [],
   "source": [
    "data = json.loads(data_path.read_text())"
   ]
  },
  {
   "cell_type": "code",
   "execution_count": 8,
   "metadata": {},
   "outputs": [
    {
     "data": {
      "text/plain": [
       "79"
      ]
     },
     "execution_count": 8,
     "metadata": {},
     "output_type": "execute_result"
    }
   ],
   "source": [
    "len(data)"
   ]
  },
  {
   "cell_type": "markdown",
   "metadata": {},
   "source": [
    "## 2. Prepare embedding functions"
   ]
  },
  {
   "cell_type": "code",
   "execution_count": 18,
   "metadata": {},
   "outputs": [],
   "source": [
    "import spacy_alignments as tokenizations"
   ]
  },
  {
   "cell_type": "code",
   "execution_count": 11,
   "metadata": {},
   "outputs": [],
   "source": [
    "from typing import List"
   ]
  },
  {
   "cell_type": "code",
   "execution_count": 17,
   "metadata": {},
   "outputs": [
    {
     "name": "stderr",
     "output_type": "stream",
     "text": [
      "Some weights of the model checkpoint at cointegrated/LaBSE-en-ru were not used when initializing BertModel: ['cls.seq_relationship.bias', 'cls.predictions.bias', 'cls.predictions.decoder.weight', 'cls.predictions.transform.LayerNorm.bias', 'cls.seq_relationship.weight', 'cls.predictions.transform.LayerNorm.weight', 'cls.predictions.transform.dense.bias', 'cls.predictions.transform.dense.weight', 'cls.predictions.decoder.bias']\n",
      "- This IS expected if you are initializing BertModel from the checkpoint of a model trained on another task or with another architecture (e.g. initializing a BertForSequenceClassification model from a BertForPreTraining model).\n",
      "- This IS NOT expected if you are initializing BertModel from the checkpoint of a model that you expect to be exactly identical (initializing a BertForSequenceClassification model from a BertForSequenceClassification model).\n"
     ]
    }
   ],
   "source": [
    "import torch\n",
    "from transformers import AutoTokenizer, AutoModel\n",
    "tokenizer_ = AutoTokenizer.from_pretrained(\"cointegrated/LaBSE-en-ru\")\n",
    "model = AutoModel.from_pretrained(\"cointegrated/LaBSE-en-ru\")\n",
    "\n",
    "sentences = [\"Hello World\", \"Привет Мир\"]\n",
    "tokenizer = p(tokenizer_, padding=True, truncation=False, return_tensors=\"pt\")\n",
    "\n",
    "def embed_documents(encoded_input):\n",
    "    \n",
    "    with torch.no_grad():\n",
    "        model_output = model(**encoded_input)\n",
    "    embeddings = model_output.last_hidden_state\n",
    "    embeddings = torch.nn.functional.normalize(embeddings)\n",
    "    return embeddings"
   ]
  },
  {
   "cell_type": "code",
   "execution_count": 15,
   "metadata": {},
   "outputs": [
    {
     "data": {
      "text/plain": [
       "torch.Size([2, 4, 768])"
      ]
     },
     "execution_count": 15,
     "metadata": {},
     "output_type": "execute_result"
    }
   ],
   "source": [
    "model_output.last_hidden_state.shape"
   ]
  },
  {
   "cell_type": "code",
   "execution_count": 57,
   "metadata": {},
   "outputs": [],
   "source": [
    "# {'value': {'start': 0,\n",
    "#   'end': 17,\n",
    "#   'text': 'ООО «Венера-плюс»',\n",
    "#   'labels': ['Organization']},\n",
    "#  'id': 'BDbfvhbqc9',\n",
    "#  'from_name': 'label',\n",
    "#  'to_name': 'text',\n",
    "#  'type': 'labels'},\n",
    "# {'value': {'start': 350,\n",
    "#   'end': 360,\n",
    "#   'text': '\"Заказчик\"',\n",
    "#   'labels': ['Role']},\n",
    "#  'id': 'ytWWFWYrvX',\n",
    "#  'from_name': 'label',\n",
    "#  'to_name': 'text',\n",
    "#  'type': 'labels'},\n",
    "# {'from_id': 'BDbfvhbqc9',\n",
    "#  'to_id': '8WJgOdX7zR',\n",
    "#  'type': 'relation',\n",
    "#  'direction': 'right',\n",
    "#  'labels': []},\n",
    "qid_to_vector_list = defaultdict(list)\n",
    "qid_to_alias = defaultdict(set)\n",
    "def ann_to_ent(labelstudio):\n",
    "    id_to_qid_name_pair = defaultdict(dict)\n",
    "    text = labelstudio[\"data\"][\"text\"]\n",
    "    encoded_input = tokenizer([text])\n",
    "    wordpieces = tokenizer_.batch_decode(encoded_input.input_ids[0])\n",
    "    embedding_alignment, _ = tokenizations.get_alignments(text, wordpieces)\n",
    "    emb = embed_documents(encoded_input)\n",
    "    emb = emb / np.linalg.norm(emb)\n",
    "    emb = emb.squeeze()\n",
    "\n",
    "\n",
    "    # 1. Matching named entities with QIDs\n",
    "    for chunk in labelstudio[\"annotations\"][0][\"result\"]:\n",
    "        if chunk[\"from_name\"] == \"ner\":\n",
    "            id_to_qid_name_pair[chunk[\"id\"]][\"text\"] = chunk[\"value\"][\"text\"]\n",
    "        if chunk[\"from_name\"] == \"entity\":\n",
    "            id_to_qid_name_pair[chunk[\"id\"]][\"qid\"] = chunk[\"value\"][\"text\"][0]\n",
    "\n",
    "    # 2. Create ents and assign kb_id to ents\n",
    "\n",
    "    for chunk in labelstudio[\"annotations\"][0][\"result\"]:\n",
    "        if chunk[\"from_name\"] == \"ner\":\n",
    "            # 1. Check if entity is labeled\n",
    "            QID = id_to_qid_name_pair[chunk[\"id\"]].get(\"qid\", None)\n",
    "            if not QID:\n",
    "                print(f\"{id_to_qid_name_pair[chunk['id']]['text']} has no matching QID\")\n",
    "                continue\n",
    "            try:\n",
    "                # 2. Get entity vector\n",
    "                entity_start, entity_end = chunk[\"value\"][\"start\"], chunk[\"value\"][\"end\"]\n",
    "                entity = text[entity_start:entity_end]\n",
    "                ent_idxs = [idx for list_of_indices in embedding_alignment[entity_start: entity_end] for idx in list_of_indices]\n",
    "                ent_idxs = sorted(set(ent_idxs))\n",
    "#                 print(ent_idxs, embedding_alignment)\n",
    "                entity_embeddings = emb[ent_idxs]\n",
    "                entity_vector = torch.mean(entity_embeddings, dim=0)\n",
    "                qid_to_vector_list[QID].append(entity_vector)\n",
    "                qid_to_alias[QID].add(entity)\n",
    "            except:\n",
    "                msg.fail(\"Result:\", chunk)\n",
    "                msg.fail(\"Doc:\", doc)\n",
    "                msg.fail(\"----------\")\n",
    "                continue\n"
   ]
  },
  {
   "cell_type": "code",
   "execution_count": 58,
   "metadata": {},
   "outputs": [],
   "source": [
    "for labelstudio in data:\n",
    "    ann_to_ent(labelstudio)"
   ]
  },
  {
   "cell_type": "code",
   "execution_count": 60,
   "metadata": {},
   "outputs": [
    {
     "data": {
      "text/plain": [
       "222"
      ]
     },
     "execution_count": 60,
     "metadata": {},
     "output_type": "execute_result"
    }
   ],
   "source": [
    "sum([len(v) for v in qid_to_vector_list.values()])"
   ]
  },
  {
   "cell_type": "code",
   "execution_count": null,
   "metadata": {},
   "outputs": [],
   "source": []
  },
  {
   "cell_type": "code",
   "execution_count": 65,
   "metadata": {},
   "outputs": [
    {
     "name": "stdout",
     "output_type": "stream",
     "text": [
      "Q1642605        {'Русал', 'РусАл', 'РУСАЛа'}\n",
      "Q952937         {'Лондонской бирже металлов (LME)'}\n",
      "Q108398998      {'Открытие Капитал'}\n",
      "Q1141123        {'Роснефти', 'Роснефтью', 'Роснефть', 'РОСНЕФТЬ'}\n",
      "Q940518         {'Магнита', 'Магнит', 'МАГНИТ', 'МАГНИТА', 'ПАО «Магнит»'}\n",
      "Q379271         {'Интерфаксом', 'ИНТЕРФАКС', 'Интерфаксу'}\n",
      "Q7907607        {'ВТБ-Капитал', 'ВТБ КАПИТАЛ', 'ВТБ Капитала', 'ВТБ капитала'}\n",
      "Q1355823        {'FTSE'}\n",
      "Q294508         {'Алросы', 'АЛРОСА', 'Алроса'}\n",
      "Q4400200        {'Русагро'}\n",
      "Q2369311        {'РуссНефти'}\n",
      "Q1616858        {'Татнефть', 'Татнефти'}\n",
      "Q3063197        {'ФСК ЕЭС'}\n",
      "Q2116312        {'Транснефти', 'Транснефть'}\n",
      "Q1884500        {'ММК', 'ММК\\n'}\n",
      "Q4304175        {'МКБ\\n'}\n",
      "Q4327204        {'ОТКРЫТИЕМ'}\n",
      "Q1549389        {'ВТБ\\n', 'ВТБ'}\n",
      "Q102673         {'Газпромом', 'Газпром', 'Газпрома'}\n",
      "Q182477         {'NVidia'}\n",
      "Q173395         {'Cisco Systems'}\n",
      "Q483551         {'Wal-Mart'}\n",
      "Q3656098        {'Атон'}\n",
      "Q1809133        {'ТМК', 'ПАО \"Трубная металлургическая компания\"'}\n",
      "Q768773         {'MSCI'}\n",
      "Q4047736        {'QIWI', 'Qiwi'}\n",
      "Q2632892        {'Московской биржи', 'Мосбиржа', 'Московская биржа'}\n",
      "Q30893504       {'Сафмар'}\n",
      "Q108398486      {'Prosperity Capital Management'}\n",
      "Q4258608        {'Лента'}\n",
      "Q4161561        {'Дикси'}\n",
      "Q130879         {'Reuters'}\n",
      "Q1461799        {'Газпром нефти', 'ГАЗПРОМ НЕФТИ'}\n",
      "Q205012         {'СБЕР', 'Сбербанк', 'СБЕРБАНКА', 'Сбербанка', 'Сбербанку'}\n",
      "Q4513187        {'ЧЕРКИЗОВО', 'Черкизово'}\n",
      "Q171240         {'LSE', 'Лондонской фондовой бирже', 'Лондонской бирже'}\n",
      "Q251546         {'Новатэка'}\n",
      "Q4218402        {'Квадра'}\n",
      "Q329347         {'ЛУКОЙЛа', 'ЛУКОЙЛ'}\n",
      "Q1368919        {'МТС'}\n",
      "Q223799         {'ТАСС'}\n",
      "Q567050         {'Wintershall'}\n",
      "Q108352452      {'АО «Тандер»'}\n",
      "Q1963801        {'Интер РАО', 'ИНТЕР РАО'}\n",
      "Q638448         {'Северстали'}\n",
      "Q4499024        {'ПАО \"Россети\"', 'Россети'}\n",
      "Q1720713        {'МегаФона'}\n",
      "Q1915579        {'Мечела'}\n",
      "Q4038038        {'En+ Group'}\n",
      "Q2624680        {'РОССТАТА'}\n",
      "Q4059809        {'Акрона', 'Акрон'}\n",
      "Q193199         {'UBS'}\n",
      "Q841458         {'ICE Futures Europe'}\n",
      "Q871308         {'PEMEX'}\n",
      "Q2380266        {'POLYMETAL', 'Polymetal'}\n",
      "Q4044421        {'Мобитела', 'ООО \"Мобител\"'}\n",
      "Q1477012        {'Ростелекома', 'Ростелеком'}\n",
      "Q2035424        {'РусГидро'}\n",
      "Q2309           {'Автоваз'}\n",
      "Q1781702        {'АФК «Система»', 'АФК', 'АФК \"Система\"'}\n",
      "Q58707          {'Аэрофлоте', 'АЭРОФЛОТ'}\n",
      "Q1840188        {'Ростех'}\n",
      "Q1967957        {'ТГК-1'}\n",
      "Q4244736        {'КТК'}\n",
      "Q2005769        {'Полюса', 'Полюсу'}\n",
      "Q108397344      {'ООО «Стрим Диджитал»'}\n",
      "Q108397243      {'Sistema Finance S.A.'}\n",
      "Q4389244        {'Райффайзенбанк'}\n",
      "Q727452         {'РОССИЯ'}\n",
      "Q4102033        {'ВТБ 24'}\n",
      "Q660770         {'ОАО \"Российские железные дороги\"', 'РЖД'}\n",
      "Q108396966      {'ПАО \"ТГК-14\"'}\n",
      "Q2304119        {'Ведомости'}\n",
      "Q487907         {'Bank of America'}\n",
      "Q1071853        {'CBOE'}\n",
      "Q1284261        {'Норильского никеля'}\n",
      "Q386414         {'ФосАгро'}\n",
      "Q1023876        {'CME Group'}\n",
      "Q131723         {'биткоин'}\n"
     ]
    }
   ],
   "source": [
    "for qid, aliases in qid_to_alias.items():\n",
    "    print(f\"{qid:<15}\", aliases)"
   ]
  },
  {
   "cell_type": "code",
   "execution_count": null,
   "metadata": {},
   "outputs": [],
   "source": []
  },
  {
   "cell_type": "markdown",
   "metadata": {},
   "source": [
    "## FAISS"
   ]
  },
  {
   "cell_type": "code",
   "execution_count": 70,
   "metadata": {},
   "outputs": [],
   "source": [
    "idx, (index_pair, a) = next(enumerate(qid_to_vector_list.items()))"
   ]
  },
  {
   "cell_type": "code",
   "execution_count": 71,
   "metadata": {},
   "outputs": [
    {
     "data": {
      "text/plain": [
       "'Q1642605'"
      ]
     },
     "execution_count": 71,
     "metadata": {},
     "output_type": "execute_result"
    }
   ],
   "source": [
    "index_pair"
   ]
  },
  {
   "cell_type": "code",
   "execution_count": 101,
   "metadata": {},
   "outputs": [
    {
     "data": {
      "text/plain": [
       "torch.Size([222, 768])"
      ]
     },
     "execution_count": 101,
     "metadata": {},
     "output_type": "execute_result"
    }
   ],
   "source": [
    "vector_index_to_qid = {}\n",
    "vectors_tensor = []\n",
    "\n",
    "index = 0\n",
    "for qid, vectors in qid_to_vector_list.items():\n",
    "    for vector in vectors:\n",
    "        vector_index_to_qid[index] = qid\n",
    "        index += 1\n",
    "        vectors_tensor.append(vector)\n",
    "        \n",
    "vectors_tensor = torch.vstack(vectors_tensor)\n",
    "vectors_tensor.shape"
   ]
  },
  {
   "cell_type": "code",
   "execution_count": 105,
   "metadata": {},
   "outputs": [
    {
     "name": "stdout",
     "output_type": "stream",
     "text": [
      "torch.Size([4, 768])\n"
     ]
    },
    {
     "data": {
      "text/plain": [
       "torch.Size([1, 768])"
      ]
     },
     "execution_count": 105,
     "metadata": {},
     "output_type": "execute_result"
    }
   ],
   "source": [
    "# making a query vector\n",
    "encoded_input = tokenizer([\"Cisco Systems\"])\n",
    "emb = embed_documents(encoded_input)\n",
    "emb = emb.squeeze()\n",
    "print(emb.shape)\n",
    "emb = emb[[1,2]]\n",
    "emb = torch.mean(emb, dim=0)\n",
    "emb = emb.view((1, -1))\n",
    "emb.shape"
   ]
  },
  {
   "cell_type": "code",
   "execution_count": null,
   "metadata": {},
   "outputs": [],
   "source": []
  },
  {
   "cell_type": "code",
   "execution_count": 114,
   "metadata": {},
   "outputs": [
    {
     "data": {
      "text/plain": [
       "['AdditiveQuantizer',\n",
       " 'AlignedTableFloat32',\n",
       " 'AlignedTableFloat32_round_capacity',\n",
       " 'AlignedTableUint16',\n",
       " 'AlignedTableUint16_round_capacity',\n",
       " 'AlignedTableUint8',\n",
       " 'AlignedTableUint8_round_capacity',\n",
       " 'AlignedTable_to_array',\n",
       " 'ArrayInvertedLists',\n",
       " 'AutoTuneCriterion',\n",
       " 'BitstringReader',\n",
       " 'BitstringWriter',\n",
       " 'BlockInvertedLists',\n",
       " 'BufferList',\n",
       " 'BufferedIOReader',\n",
       " 'BufferedIOWriter',\n",
       " 'ByteVector',\n",
       " 'ByteVectorVector',\n",
       " 'CMax_float_partition_fuzzy',\n",
       " 'CMax_uint16_partition_fuzzy',\n",
       " 'CMin_float_partition_fuzzy',\n",
       " 'CMin_uint16_partition_fuzzy',\n",
       " 'CenteringTransform',\n",
       " 'CharVector',\n",
       " 'Cloner',\n",
       " 'Clustering',\n",
       " 'ClusteringIterationStats',\n",
       " 'ClusteringIterationStatsVector',\n",
       " 'ClusteringParameters',\n",
       " 'ConcatenatedInvertedLists',\n",
       " 'DirectMap',\n",
       " 'DirectMapAdd',\n",
       " 'DistanceComputer',\n",
       " 'DoubleVector',\n",
       " 'EnumeratedVectors',\n",
       " 'FAISS_VERSION_MAJOR',\n",
       " 'FAISS_VERSION_MINOR',\n",
       " 'FAISS_VERSION_PATCH',\n",
       " 'FastScanStats',\n",
       " 'FileIOReader',\n",
       " 'FileIOWriter',\n",
       " 'Float32Vector',\n",
       " 'Float32VectorVector',\n",
       " 'Float64Vector',\n",
       " 'FloatVector',\n",
       " 'FloatVectorVector',\n",
       " 'HNSW',\n",
       " 'HNSWStats',\n",
       " 'HNSW_shrink_neighbor_list',\n",
       " 'HStackInvertedLists',\n",
       " 'IDSelector',\n",
       " 'IDSelectorArray',\n",
       " 'IDSelectorBatch',\n",
       " 'IDSelectorRange',\n",
       " 'IOReader',\n",
       " 'IOWriter',\n",
       " 'IO_FLAG_MMAP',\n",
       " 'IO_FLAG_ONDISK_SAME_DIR',\n",
       " 'IO_FLAG_READ_ONLY',\n",
       " 'IO_FLAG_SKIP_IVF_DATA',\n",
       " 'ITQMatrix',\n",
       " 'ITQTransform',\n",
       " 'IVFFastScanStats',\n",
       " 'IVFPQSearchParameters',\n",
       " 'IVFSearchParameters',\n",
       " 'Index',\n",
       " 'Index2Layer',\n",
       " 'IndexBinary',\n",
       " 'IndexBinaryFlat',\n",
       " 'IndexBinaryFromFloat',\n",
       " 'IndexBinaryHNSW',\n",
       " 'IndexBinaryHash',\n",
       " 'IndexBinaryHashStats',\n",
       " 'IndexBinaryIDMap',\n",
       " 'IndexBinaryIDMap2',\n",
       " 'IndexBinaryIVF',\n",
       " 'IndexBinaryMultiHash',\n",
       " 'IndexBinaryReplicas',\n",
       " 'IndexBinaryShards',\n",
       " 'IndexFlat',\n",
       " 'IndexFlat1D',\n",
       " 'IndexFlatIP',\n",
       " 'IndexFlatL2',\n",
       " 'IndexHNSW',\n",
       " 'IndexHNSW2Level',\n",
       " 'IndexHNSWFlat',\n",
       " 'IndexHNSWPQ',\n",
       " 'IndexHNSWSQ',\n",
       " 'IndexIDMap',\n",
       " 'IndexIDMap2',\n",
       " 'IndexIVF',\n",
       " 'IndexIVFFlat',\n",
       " 'IndexIVFFlatDedup',\n",
       " 'IndexIVFPQ',\n",
       " 'IndexIVFPQFastScan',\n",
       " 'IndexIVFPQR',\n",
       " 'IndexIVFPQStats',\n",
       " 'IndexIVFScalarQuantizer',\n",
       " 'IndexIVFSpectralHash',\n",
       " 'IndexIVFStats',\n",
       " 'IndexLSH',\n",
       " 'IndexLattice',\n",
       " 'IndexNNDescent',\n",
       " 'IndexNNDescentFlat',\n",
       " 'IndexNSG',\n",
       " 'IndexNSGFlat',\n",
       " 'IndexPQ',\n",
       " 'IndexPQFastScan',\n",
       " 'IndexPQStats',\n",
       " 'IndexPreTransform',\n",
       " 'IndexProxy',\n",
       " 'IndexRefine',\n",
       " 'IndexRefineFlat',\n",
       " 'IndexReplicas',\n",
       " 'IndexResidual',\n",
       " 'IndexScalarQuantizer',\n",
       " 'IndexShards',\n",
       " 'IndexSplitVectors',\n",
       " 'Int16Vector',\n",
       " 'Int32Vector',\n",
       " 'Int32VectorVector',\n",
       " 'Int64Vector',\n",
       " 'Int64VectorVector',\n",
       " 'Int8Vector',\n",
       " 'IntVector',\n",
       " 'InterruptCallback',\n",
       " 'InterruptCallback_check',\n",
       " 'InterruptCallback_clear_instance',\n",
       " 'InterruptCallback_get_period_hint',\n",
       " 'InterruptCallback_is_interrupted',\n",
       " 'IntersectionCriterion',\n",
       " 'InvertedLists',\n",
       " 'InvertedListsIOHook',\n",
       " 'InvertedListsIOHook_add_callback',\n",
       " 'InvertedListsIOHook_lookup',\n",
       " 'InvertedListsIOHook_lookup_classname',\n",
       " 'InvertedListsIOHook_print_callbacks',\n",
       " 'InvertedListsPtrVector',\n",
       " 'Kmeans',\n",
       " 'LSQTimer',\n",
       " 'Level1Quantizer',\n",
       " 'LinearTransform',\n",
       " 'LocalSearchQuantizer',\n",
       " 'LongLongVector',\n",
       " 'LongVector',\n",
       " 'LongVectorVector',\n",
       " 'LooseVersion',\n",
       " 'METRIC_BrayCurtis',\n",
       " 'METRIC_Canberra',\n",
       " 'METRIC_INNER_PRODUCT',\n",
       " 'METRIC_JensenShannon',\n",
       " 'METRIC_L1',\n",
       " 'METRIC_L2',\n",
       " 'METRIC_Linf',\n",
       " 'METRIC_Lp',\n",
       " 'MapLong2Long',\n",
       " 'MaskedInvertedLists',\n",
       " 'MatrixStats',\n",
       " 'MultiIndexQuantizer',\n",
       " 'MultiIndexQuantizer2',\n",
       " 'NNDescent',\n",
       " 'NSG',\n",
       " 'Neighbor',\n",
       " 'Nhood',\n",
       " 'NormalizationTransform',\n",
       " 'OPQMatrix',\n",
       " 'OnDiskInvertedLists',\n",
       " 'OnDiskOneList',\n",
       " 'OnDiskOneListVector',\n",
       " 'OneRecallAtRCriterion',\n",
       " 'OperatingPoint',\n",
       " 'OperatingPointVector',\n",
       " 'OperatingPoints',\n",
       " 'PCAMatrix',\n",
       " 'PQDecoder16',\n",
       " 'PQDecoder8',\n",
       " 'PQDecoderGeneric',\n",
       " 'PQEncoder16',\n",
       " 'PQEncoder8',\n",
       " 'PQEncoderGeneric',\n",
       " 'ParameterRange',\n",
       " 'ParameterSpace',\n",
       " 'PartitionStats',\n",
       " 'PermutationObjective',\n",
       " 'PolysemousTraining',\n",
       " 'ProductQuantizer',\n",
       " 'ProgressiveDimClustering',\n",
       " 'ProgressiveDimClusteringParameters',\n",
       " 'ProgressiveDimIndexFactory',\n",
       " 'PyCallbackIOReader',\n",
       " 'PyCallbackIOWriter',\n",
       " 'RandomGenerator',\n",
       " 'RandomRotationMatrix',\n",
       " 'RangeQueryResult',\n",
       " 'RangeSearchPartialResult',\n",
       " 'RangeSearchPartialResult_merge',\n",
       " 'RangeSearchResult',\n",
       " 'ReadOnlyInvertedLists',\n",
       " 'ReconstructFromNeighbors',\n",
       " 'RemapDimensionsTransform',\n",
       " 'Repeat',\n",
       " 'RepeatVector',\n",
       " 'Repeats',\n",
       " 'ReproduceDistancesObjective',\n",
       " 'ReproduceDistancesObjective_compute_mean_stdev',\n",
       " 'ReproduceDistancesObjective_sqr',\n",
       " 'ResidualCoarseQuantizer',\n",
       " 'ResidualQuantizer',\n",
       " 'ResultHeap',\n",
       " 'SHARED_PTR_DISOWN',\n",
       " 'ScalarQuantizer',\n",
       " 'SimulatedAnnealingOptimizer',\n",
       " 'SimulatedAnnealingParameters',\n",
       " 'SliceInvertedLists',\n",
       " 'SlidingIndexWindow',\n",
       " 'StopWordsInvertedLists',\n",
       " 'SwigPyIterator',\n",
       " 'ThreadedIndexBase',\n",
       " 'ThreadedIndexBaseBinary',\n",
       " 'UInt16Vector',\n",
       " 'UInt32Vector',\n",
       " 'UInt64Vector',\n",
       " 'UInt8Vector',\n",
       " 'UInt8VectorVector',\n",
       " 'Uint64Vector',\n",
       " 'VStackInvertedLists',\n",
       " 'VectorIOReader',\n",
       " 'VectorIOWriter',\n",
       " 'VectorTransform',\n",
       " 'VectorTransformVector',\n",
       " 'VisitedTable',\n",
       " 'ZnSphereCodec',\n",
       " 'ZnSphereCodecAlt',\n",
       " 'ZnSphereCodecRec',\n",
       " 'ZnSphereSearch',\n",
       " '__builtins__',\n",
       " '__cached__',\n",
       " '__doc__',\n",
       " '__file__',\n",
       " '__loader__',\n",
       " '__name__',\n",
       " '__package__',\n",
       " '__path__',\n",
       " '__spec__',\n",
       " '__version__',\n",
       " '_make_deprecated_swig_class',\n",
       " '_swigfaiss',\n",
       " 'add_ref_in_constructor',\n",
       " 'add_ref_in_function',\n",
       " 'add_ref_in_method',\n",
       " 'array',\n",
       " 'array_to_AlignedTable',\n",
       " 'base_prefix',\n",
       " 'beam_search_encode_step',\n",
       " 'binary_to_real',\n",
       " 'bincode_hist',\n",
       " 'bitvec_print',\n",
       " 'bitvec_shuffle',\n",
       " 'bitvecs2fvecs',\n",
       " 'byte_rand',\n",
       " 'cast_integer_to_float_ptr',\n",
       " 'cast_integer_to_idx_t_ptr',\n",
       " 'cast_integer_to_int_ptr',\n",
       " 'cast_integer_to_uint8_ptr',\n",
       " 'cast_integer_to_void_ptr',\n",
       " 'check_compatible_for_merge',\n",
       " 'check_openmp',\n",
       " 'clone_index',\n",
       " 'compute_PQ_dis_tables_dsub2',\n",
       " 'copy_array_to_AlignedTable',\n",
       " 'copy_array_to_vector',\n",
       " 'crosshamming_count_thres',\n",
       " 'cvar',\n",
       " 'depr_prefix',\n",
       " 'deprecated_name_map',\n",
       " 'deserialize_index',\n",
       " 'deserialize_index_binary',\n",
       " 'downcast_IndexBinary',\n",
       " 'downcast_InvertedLists',\n",
       " 'downcast_VectorTransform',\n",
       " 'downcast_index',\n",
       " 'eval_intersection',\n",
       " 'extract_index_ivf',\n",
       " 'float_maxheap_array_t',\n",
       " 'float_minheap_array_t',\n",
       " 'float_rand',\n",
       " 'float_randn',\n",
       " 'fourcc',\n",
       " 'fourcc_inv',\n",
       " 'fourcc_inv_printable',\n",
       " 'fvec2bitvec',\n",
       " 'fvec_L1',\n",
       " 'fvec_L2sqr',\n",
       " 'fvec_L2sqr_by_idx',\n",
       " 'fvec_L2sqr_ny',\n",
       " 'fvec_Linf',\n",
       " 'fvec_argsort',\n",
       " 'fvec_argsort_parallel',\n",
       " 'fvec_inner_product',\n",
       " 'fvec_inner_products_by_idx',\n",
       " 'fvec_inner_products_ny',\n",
       " 'fvec_madd',\n",
       " 'fvec_madd_and_argmin',\n",
       " 'fvec_norm_L2sqr',\n",
       " 'fvec_norms_L2',\n",
       " 'fvec_norms_L2sqr',\n",
       " 'fvec_renorm_L2',\n",
       " 'fvecs2bitvecs',\n",
       " 'fvecs_maybe_subsample',\n",
       " 'get_compile_options',\n",
       " 'get_cycles',\n",
       " 'get_extra_distance_computer',\n",
       " 'get_invlist_range',\n",
       " 'get_mem_usage_kb',\n",
       " 'get_num_gpus',\n",
       " 'getmillisecs',\n",
       " 'gpu_profiler_start',\n",
       " 'gpu_profiler_stop',\n",
       " 'gpu_sync_all_devices',\n",
       " 'hamming_count_thres',\n",
       " 'hamming_range_search',\n",
       " 'hammings',\n",
       " 'hammings_knn',\n",
       " 'hammings_knn_hc',\n",
       " 'hammings_knn_mc',\n",
       " 'handle_AutoTuneCriterion',\n",
       " 'handle_Clustering',\n",
       " 'handle_IOReader',\n",
       " 'handle_IOWriter',\n",
       " 'handle_Index',\n",
       " 'handle_IndexBinary',\n",
       " 'handle_MatrixStats',\n",
       " 'handle_NSG',\n",
       " 'handle_ParameterSpace',\n",
       " 'handle_Quantizer',\n",
       " 'handle_VectorTransform',\n",
       " 'has_AVX2',\n",
       " 'hash_bytes',\n",
       " 'imbalance_factor',\n",
       " 'index_binary_factory',\n",
       " 'index_cpu_to_all_gpus',\n",
       " 'index_cpu_to_gpu_multiple_py',\n",
       " 'index_cpu_to_gpus_list',\n",
       " 'index_factory',\n",
       " 'initialize_IVFPQ_precomputed_table',\n",
       " 'inner_product_to_L2sqr',\n",
       " 'inspect',\n",
       " 'int64_rand',\n",
       " 'int64_rand_max',\n",
       " 'int_maxheap_array_t',\n",
       " 'int_minheap_array_t',\n",
       " 'ivec_checksum',\n",
       " 'ivec_hist',\n",
       " 'kmax',\n",
       " 'kmeans_clustering',\n",
       " 'kmin',\n",
       " 'knn',\n",
       " 'knn_L2sqr',\n",
       " 'knn_L2sqr_by_idx',\n",
       " 'knn_extra_metrics',\n",
       " 'knn_gpu',\n",
       " 'knn_inner_product',\n",
       " 'knn_inner_products_by_idx',\n",
       " 'lo_build',\n",
       " 'lo_listno',\n",
       " 'lo_offset',\n",
       " 'loader',\n",
       " 'logger',\n",
       " 'logging',\n",
       " 'lrand',\n",
       " 'match_hamming_thres',\n",
       " 'matrix_qr',\n",
       " 'memcpy',\n",
       " 'merge_into',\n",
       " 'merge_result_table_with',\n",
       " 'normalize_L2',\n",
       " 'np',\n",
       " 'obj',\n",
       " 'omp_get_max_threads',\n",
       " 'omp_set_num_threads',\n",
       " 'os',\n",
       " 'pairwise_L2sqr',\n",
       " 'pairwise_distance_gpu',\n",
       " 'pairwise_distances',\n",
       " 'pairwise_extra_distances',\n",
       " 'pairwise_indexed_L2sqr',\n",
       " 'pairwise_indexed_inner_product',\n",
       " 'platform',\n",
       " 'popcount64',\n",
       " 'quantize_LUT_and_bias',\n",
       " 'rand',\n",
       " 'rand_perm',\n",
       " 'randint',\n",
       " 'randn',\n",
       " 'range_search_L2sqr',\n",
       " 'range_search_inner_product',\n",
       " 'range_search_with_parameters',\n",
       " 'range_search_with_parameters_c',\n",
       " 'ranklist_handle_ties',\n",
       " 'ranklist_intersection_size',\n",
       " 'read_InvertedLists',\n",
       " 'read_ProductQuantizer',\n",
       " 'read_VectorTransform',\n",
       " 'read_index',\n",
       " 'read_index_binary',\n",
       " 'real_to_binary',\n",
       " 'reflection',\n",
       " 'replace_method',\n",
       " 'replacement_map_add',\n",
       " 'replacement_map_search_multiple',\n",
       " 'rev_swig_ptr',\n",
       " 'round_uint8_per_column',\n",
       " 'round_uint8_per_column_multi',\n",
       " 'search_and_return_centroids',\n",
       " 'search_centroid',\n",
       " 'search_with_parameters',\n",
       " 'search_with_parameters_c',\n",
       " 'serialize_index',\n",
       " 'serialize_index_binary',\n",
       " 'set_invlist_range',\n",
       " 'simd_histogram_16',\n",
       " 'simd_histogram_8',\n",
       " 'sizeof_long',\n",
       " 'storage_distance_computer',\n",
       " 'subprocess',\n",
       " 'supported_instruction_sets',\n",
       " 'swig_ptr',\n",
       " 'swigfaiss',\n",
       " 'symbol',\n",
       " 'sys',\n",
       " 'the_class',\n",
       " 'this_module',\n",
       " 'try_extract_index_ivf',\n",
       " 'vector_float_to_array',\n",
       " 'vector_name_map',\n",
       " 'vector_to_array',\n",
       " 'wait',\n",
       " 'warnings',\n",
       " 'write_InvertedLists',\n",
       " 'write_ProductQuantizer',\n",
       " 'write_VectorTransform',\n",
       " 'write_index',\n",
       " 'write_index_binary']"
      ]
     },
     "execution_count": 114,
     "metadata": {},
     "output_type": "execute_result"
    }
   ],
   "source": [
    "dir(faiss)"
   ]
  },
  {
   "cell_type": "code",
   "execution_count": 115,
   "metadata": {},
   "outputs": [
    {
     "name": "stdout",
     "output_type": "stream",
     "text": [
      "True\n",
      "222\n"
     ]
    }
   ],
   "source": [
    "import numpy as np\n",
    "import faiss \n",
    "\n",
    "d = 768                           # dimension\n",
    "               \n",
    "faiss_index = faiss.IndexFlatIP(d)   # build the index\n",
    "print(faiss_index.is_trained)\n",
    "faiss_index.add(vectors_tensor.numpy())                  # add vectors to the index\n",
    "print(faiss_index.ntotal)"
   ]
  },
  {
   "cell_type": "code",
   "execution_count": 116,
   "metadata": {},
   "outputs": [],
   "source": [
    "k = 4                        # we want to see 4 nearest neighbors\n",
    "\n",
    "D, I = faiss_index.search(emb.numpy(), k)     # actual search"
   ]
  },
  {
   "cell_type": "code",
   "execution_count": 117,
   "metadata": {},
   "outputs": [
    {
     "name": "stdout",
     "output_type": "stream",
     "text": [
      "[[ 98 216 221  99]]\n"
     ]
    }
   ],
   "source": [
    "print(I)                   # neighbors "
   ]
  },
  {
   "cell_type": "code",
   "execution_count": 118,
   "metadata": {},
   "outputs": [],
   "source": [
    "from collections import Counter\n",
    "def get_majority(indices):\n",
    "    qids = [vector_index_to_qid[index] for index in indices]\n",
    "    counts = Counter(qids)\n",
    "    return counts\n",
    "    "
   ]
  },
  {
   "cell_type": "code",
   "execution_count": 119,
   "metadata": {},
   "outputs": [
    {
     "data": {
      "text/plain": [
       "Counter({'Q173395': 1, 'Q487907': 1, 'Q131723': 1, 'Q483551': 1})"
      ]
     },
     "execution_count": 119,
     "metadata": {},
     "output_type": "execute_result"
    }
   ],
   "source": [
    "get_majority(I[0])"
   ]
  },
  {
   "cell_type": "code",
   "execution_count": 120,
   "metadata": {},
   "outputs": [
    {
     "data": {
      "text/plain": [
       "array([[1.4481782 , 0.9453915 , 0.92165357, 0.7970917 ]], dtype=float32)"
      ]
     },
     "execution_count": 120,
     "metadata": {},
     "output_type": "execute_result"
    }
   ],
   "source": [
    "D"
   ]
  },
  {
   "cell_type": "code",
   "execution_count": 121,
   "metadata": {},
   "outputs": [
    {
     "name": "stdout",
     "output_type": "stream",
     "text": [
      "{'Cisco Systems'}\n",
      "{'Bank of America'}\n",
      "{'биткоин'}\n",
      "{'Wal-Mart'}\n"
     ]
    }
   ],
   "source": [
    "for qid in get_majority(I[0]).keys():\n",
    "    print(qid_to_alias[qid])"
   ]
  },
  {
   "cell_type": "code",
   "execution_count": 126,
   "metadata": {},
   "outputs": [],
   "source": [
    "faiss.write_index(faiss_index, \"faiss_index.binary\")"
   ]
  },
  {
   "cell_type": "code",
   "execution_count": 127,
   "metadata": {},
   "outputs": [],
   "source": [
    "faiss_index2 = faiss.read_index(\"faiss_index.binary\")"
   ]
  },
  {
   "cell_type": "code",
   "execution_count": 128,
   "metadata": {},
   "outputs": [
    {
     "data": {
      "text/plain": [
       "<faiss.swigfaiss.IndexFlat; proxy of <Swig Object of type 'faiss::IndexFlat *' at 0x7fe0e7330ed0> >"
      ]
     },
     "execution_count": 128,
     "metadata": {},
     "output_type": "execute_result"
    }
   ],
   "source": [
    "faiss_index2"
   ]
  },
  {
   "cell_type": "code",
   "execution_count": 125,
   "metadata": {},
   "outputs": [
    {
     "data": {
      "text/plain": [
       "<faiss.swigfaiss.IndexFlatIP; proxy of <Swig Object of type 'faiss::IndexFlatIP *' at 0x7fe0e6add720> >"
      ]
     },
     "execution_count": 125,
     "metadata": {},
     "output_type": "execute_result"
    }
   ],
   "source": [
    "faiss_index"
   ]
  },
  {
   "cell_type": "code",
   "execution_count": 113,
   "metadata": {},
   "outputs": [
    {
     "data": {
      "text/plain": [
       "['__class__',\n",
       " '__delattr__',\n",
       " '__dict__',\n",
       " '__dir__',\n",
       " '__doc__',\n",
       " '__eq__',\n",
       " '__format__',\n",
       " '__ge__',\n",
       " '__getattribute__',\n",
       " '__getstate__',\n",
       " '__gt__',\n",
       " '__hash__',\n",
       " '__init__',\n",
       " '__init_subclass__',\n",
       " '__le__',\n",
       " '__lt__',\n",
       " '__module__',\n",
       " '__ne__',\n",
       " '__new__',\n",
       " '__reduce__',\n",
       " '__reduce_ex__',\n",
       " '__repr__',\n",
       " '__setattr__',\n",
       " '__setstate__',\n",
       " '__sizeof__',\n",
       " '__str__',\n",
       " '__subclasshook__',\n",
       " '__swig_destroy__',\n",
       " '__weakref__',\n",
       " 'add',\n",
       " 'add_c',\n",
       " 'add_with_ids',\n",
       " 'add_with_ids_c',\n",
       " 'assign',\n",
       " 'assign_c',\n",
       " 'compute_distance_subset',\n",
       " 'compute_residual',\n",
       " 'compute_residual_n',\n",
       " 'd',\n",
       " 'get_distance_computer',\n",
       " 'is_trained',\n",
       " 'metric_arg',\n",
       " 'metric_type',\n",
       " 'ntotal',\n",
       " 'range_search',\n",
       " 'range_search_c',\n",
       " 'reconstruct',\n",
       " 'reconstruct_c',\n",
       " 'reconstruct_n',\n",
       " 'reconstruct_n_c',\n",
       " 'remove_ids',\n",
       " 'remove_ids_c',\n",
       " 'reset',\n",
       " 'sa_code_size',\n",
       " 'sa_decode',\n",
       " 'sa_decode_c',\n",
       " 'sa_encode',\n",
       " 'sa_encode_c',\n",
       " 'search',\n",
       " 'search_and_reconstruct',\n",
       " 'search_and_reconstruct_c',\n",
       " 'search_c',\n",
       " 'this',\n",
       " 'thisown',\n",
       " 'train',\n",
       " 'train_c',\n",
       " 'verbose',\n",
       " 'xb']"
      ]
     },
     "execution_count": 113,
     "metadata": {},
     "output_type": "execute_result"
    }
   ],
   "source": [
    "dir(faiss_index)"
   ]
  },
  {
   "cell_type": "code",
   "execution_count": null,
   "metadata": {},
   "outputs": [],
   "source": []
  }
 ],
 "metadata": {
  "kernelspec": {
   "display_name": "noisemon",
   "language": "python",
   "name": "python3810_noisemon"
  },
  "language_info": {
   "codemirror_mode": {
    "name": "ipython",
    "version": 3
   },
   "file_extension": ".py",
   "mimetype": "text/x-python",
   "name": "python",
   "nbconvert_exporter": "python",
   "pygments_lexer": "ipython3",
   "version": "3.8.10"
  }
 },
 "nbformat": 4,
 "nbformat_minor": 2
}
