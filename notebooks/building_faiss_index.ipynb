{
 "cells": [
  {
   "cell_type": "markdown",
   "metadata": {},
   "source": [
    "# Building faiss index for entity linking purposes"
   ]
  },
  {
   "cell_type": "code",
   "execution_count": 3,
   "metadata": {},
   "outputs": [
    {
     "name": "stdout",
     "output_type": "stream",
     "text": [
      "/home/codeholder/code/python-playground/app_noisemon\n"
     ]
    }
   ],
   "source": [
    "%cd .."
   ]
  },
  {
   "cell_type": "markdown",
   "metadata": {},
   "source": [
    "Given labelstudio NER+NEL results, I will build faiss index to match entity context embedding with QID"
   ]
  },
  {
   "cell_type": "markdown",
   "metadata": {},
   "source": [
    "#### Pipeline\n",
    "1. Load labelstudio'ed texts\n",
    "2. For each labeled document\n",
    "    - get \"QID to alias\" matching\n",
    "    - get \"QID to vector\" matching\n",
    "3. Build index"
   ]
  },
  {
   "cell_type": "markdown",
   "metadata": {},
   "source": [
    "## 1. Import data"
   ]
  },
  {
   "cell_type": "code",
   "execution_count": 4,
   "metadata": {},
   "outputs": [],
   "source": [
    "import json\n",
    "import os\n",
    "from pathlib import Path\n",
    "from tqdm import tqdm\n",
    "from collections import defaultdict\n",
    "import numpy as np\n",
    "import torch"
   ]
  },
  {
   "cell_type": "code",
   "execution_count": 3,
   "metadata": {},
   "outputs": [],
   "source": [
    "data_path = Path(\"./data/05-labeled/project-10-at-2021-10-02-22-43-62e3404c.json\")"
   ]
  },
  {
   "cell_type": "code",
   "execution_count": 4,
   "metadata": {},
   "outputs": [],
   "source": [
    "data = json.loads(data_path.read_text())"
   ]
  },
  {
   "cell_type": "code",
   "execution_count": 5,
   "metadata": {},
   "outputs": [
    {
     "data": {
      "text/plain": [
       "79"
      ]
     },
     "execution_count": 5,
     "metadata": {},
     "output_type": "execute_result"
    }
   ],
   "source": [
    "len(data)"
   ]
  },
  {
   "cell_type": "markdown",
   "metadata": {},
   "source": [
    "## 2. Prepare labelstudio data reformatters"
   ]
  },
  {
   "cell_type": "code",
   "execution_count": 50,
   "metadata": {},
   "outputs": [],
   "source": [
    "from typing import List, Dict, Set, Tuple"
   ]
  },
  {
   "cell_type": "code",
   "execution_count": 51,
   "metadata": {},
   "outputs": [
    {
     "name": "stderr",
     "output_type": "stream",
     "text": [
      "Some weights of the model checkpoint at cointegrated/LaBSE-en-ru were not used when initializing BertModel: ['cls.predictions.transform.dense.bias', 'cls.seq_relationship.weight', 'cls.seq_relationship.bias', 'cls.predictions.transform.dense.weight', 'cls.predictions.transform.LayerNorm.bias', 'cls.predictions.decoder.weight', 'cls.predictions.decoder.bias', 'cls.predictions.transform.LayerNorm.weight', 'cls.predictions.bias']\n",
      "- This IS expected if you are initializing BertModel from the checkpoint of a model trained on another task or with another architecture (e.g. initializing a BertForSequenceClassification model from a BertForPreTraining model).\n",
      "- This IS NOT expected if you are initializing BertModel from the checkpoint of a model that you expect to be exactly identical (initializing a BertForSequenceClassification model from a BertForSequenceClassification model).\n"
     ]
    }
   ],
   "source": [
    "from scripts.char_span_to_vector import ContextualEmbedding\n",
    "embedder = ContextualEmbedding()"
   ]
  },
  {
   "cell_type": "code",
   "execution_count": 52,
   "metadata": {},
   "outputs": [],
   "source": [
    "def ann_to_ent(labelstudio, embedder=embedder) -> Tuple[Dict[str, Set[str]], Dict[str, List[torch.Tensor]]]:\n",
    "    \"\"\"\n",
    "    Given labelstudio data returns two dicts: Dict[QID, {Alias}] and Dict[QID, [Vector]]\n",
    "    \"\"\"\n",
    "    # Temporary structures\n",
    "    id_to_qid_name_pair = defaultdict(dict)\n",
    "    qid_and_span_pairs = [] # [(qid, (span_s,span_e))]\n",
    "    # Result buffers\n",
    "    qid_to_vector_list = defaultdict(list)\n",
    "    qid_to_alias = defaultdict(set)\n",
    "    \n",
    "    text = labelstudio[\"data\"][\"text\"]\n",
    "    embedder.embed_text(text)\n",
    "    \n",
    "    # 1. Matching labeling result chunks by their labelstudio internal IDs\n",
    "    for chunk in labelstudio[\"annotations\"][0][\"result\"]:\n",
    "        if chunk[\"from_name\"] == \"ner\":\n",
    "            id_to_qid_name_pair[chunk[\"id\"]][\"text\"] = chunk[\"value\"][\"text\"]\n",
    "        if chunk[\"from_name\"] == \"entity\":\n",
    "            id_to_qid_name_pair[chunk[\"id\"]][\"qid\"] = chunk[\"value\"][\"text\"][0]\n",
    "\n",
    "    # 2. Match QIDs with respecting spans and text chunks (aliases)\n",
    "    for chunk in labelstudio[\"annotations\"][0][\"result\"]:\n",
    "        if chunk[\"from_name\"] == \"ner\":\n",
    "            QID = id_to_qid_name_pair[chunk[\"id\"]].get(\"qid\", None)\n",
    "            if not QID:\n",
    "                print(f\"{id_to_qid_name_pair[chunk['id']]['text']} has no matching QID\")\n",
    "                continue\n",
    "            # aliases\n",
    "            entity_start, entity_end = chunk[\"value\"][\"start\"], chunk[\"value\"][\"end\"]\n",
    "            entity = text[entity_start: entity_end]\n",
    "            qid_to_alias[QID].add(entity)\n",
    "            # vecs will be calculated later\n",
    "            qid_and_span_pairs.append((QID, (entity_start, entity_end)))\n",
    "            \n",
    "    # Given spans, get context vectors\n",
    "    qids, spans = zip(*qid_and_span_pairs) # [(qid, span), (qid, span)] -> [qid, qid], [span, span]\n",
    "    entity_vectors = embedder.get_char_span_vectors(spans)\n",
    "    for QID, entity_vector in zip(qids, entity_vectors):\n",
    "        qid_to_vector_list[QID].append(entity_vector)\n",
    "    \n",
    "    return qid_to_alias, qid_to_vector_list"
   ]
  },
  {
   "cell_type": "code",
   "execution_count": 54,
   "metadata": {},
   "outputs": [],
   "source": [
    "qid_to_vector_list = defaultdict(list)\n",
    "qid_to_alias = defaultdict(set)\n",
    "\n",
    "for labelstudio in tqdm(data):\n",
    "    # Process data\n",
    "    qid_aliass, qid_vecs = ann_to_ent(labelstudio)\n",
    "    # Merge results\n",
    "    for QID, vecs in qid_vecs.items():\n",
    "        qid_to_vector_list[QID].extend(vecs)\n",
    "    for QID, aliases in qid_aliass.items():\n",
    "        qid_to_alias[QID].update(aliases)"
   ]
  },
  {
   "cell_type": "code",
   "execution_count": 55,
   "metadata": {},
   "outputs": [
    {
     "data": {
      "text/plain": [
       "222"
      ]
     },
     "execution_count": 55,
     "metadata": {},
     "output_type": "execute_result"
    }
   ],
   "source": [
    "# Total num of vectors\n",
    "sum([len(v) for v in qid_to_vector_list.values()])"
   ]
  },
  {
   "cell_type": "code",
   "execution_count": 63,
   "metadata": {},
   "outputs": [
    {
     "name": "stdout",
     "output_type": "stream",
     "text": [
      "Q1642605        {'РУСАЛа', 'Русал', 'РусАл'}\n",
      "Q952937         {'Лондонской бирже металлов (LME)'}\n",
      "Q108398998      {'Открытие Капитал'}\n",
      "Q1141123        {'Роснефти', 'Роснефтью', 'РОСНЕФТЬ', 'Роснефть'}\n",
      "Q940518         {'МАГНИТ', 'ПАО «Магнит»', 'МАГНИТА', 'Магнита', 'Магнит'}\n",
      "Q379271         {'Интерфаксу', 'ИНТЕРФАКС', 'Интерфаксом'}\n",
      "Q7907607        {'ВТБ капитала', 'ВТБ Капитала', 'ВТБ-Капитал', 'ВТБ КАПИТАЛ'}\n",
      "Q1355823        {'FTSE'}\n",
      "Q294508         {'АЛРОСА', 'Алросы', 'Алроса'}\n",
      "Q4400200        {'Русагро'}\n",
      "Q2369311        {'РуссНефти'}\n",
      "Q1616858        {'Татнефть', 'Татнефти'}\n",
      "Q3063197        {'ФСК ЕЭС'}\n",
      "Q2116312        {'Транснефть', 'Транснефти'}\n",
      "Q1884500        {'ММК', 'ММК\\n'}\n",
      "Q4304175        {'МКБ\\n'}\n",
      "Q4327204        {'ОТКРЫТИЕМ'}\n",
      "Q1549389        {'ВТБ', 'ВТБ\\n'}\n",
      "Q102673         {'Газпром', 'Газпромом', 'Газпрома'}\n",
      "Q182477         {'NVidia'}\n",
      "Q173395         {'Cisco Systems'}\n",
      "Q483551         {'Wal-Mart'}\n",
      "Q3656098        {'Атон'}\n",
      "Q1809133        {'ТМК', 'ПАО \"Трубная металлургическая компания\"'}\n",
      "Q768773         {'MSCI'}\n",
      "Q4047736        {'QIWI', 'Qiwi'}\n",
      "Q2632892        {'Московская биржа', 'Московской биржи', 'Мосбиржа'}\n",
      "Q30893504       {'Сафмар'}\n",
      "Q108398486      {'Prosperity Capital Management'}\n",
      "Q4258608        {'Лента'}\n",
      "Q4161561        {'Дикси'}\n",
      "Q130879         {'Reuters'}\n",
      "Q1461799        {'Газпром нефти', 'ГАЗПРОМ НЕФТИ'}\n",
      "Q205012         {'Сбербанку', 'Сбербанка', 'СБЕРБАНКА', 'Сбербанк', 'СБЕР'}\n",
      "Q4513187        {'ЧЕРКИЗОВО', 'Черкизово'}\n",
      "Q171240         {'Лондонской бирже', 'LSE', 'Лондонской фондовой бирже'}\n",
      "Q251546         {'Новатэка'}\n",
      "Q4218402        {'Квадра'}\n",
      "Q329347         {'ЛУКОЙЛ', 'ЛУКОЙЛа'}\n",
      "Q1368919        {'МТС'}\n",
      "Q223799         {'ТАСС'}\n",
      "Q567050         {'Wintershall'}\n",
      "Q108352452      {'АО «Тандер»'}\n",
      "Q1963801        {'ИНТЕР РАО', 'Интер РАО'}\n",
      "Q638448         {'Северстали'}\n",
      "Q4499024        {'Россети', 'ПАО \"Россети\"'}\n",
      "Q1720713        {'МегаФона'}\n",
      "Q1915579        {'Мечела'}\n",
      "Q4038038        {'En+ Group'}\n",
      "Q2624680        {'РОССТАТА'}\n",
      "Q4059809        {'Акрон', 'Акрона'}\n",
      "Q193199         {'UBS'}\n",
      "Q841458         {'ICE Futures Europe'}\n",
      "Q871308         {'PEMEX'}\n",
      "Q2380266        {'POLYMETAL', 'Polymetal'}\n",
      "Q4044421        {'Мобитела', 'ООО \"Мобител\"'}\n",
      "Q1477012        {'Ростелекома', 'Ростелеком'}\n",
      "Q2035424        {'РусГидро'}\n",
      "Q2309           {'Автоваз'}\n",
      "Q1781702        {'АФК «Система»', 'АФК \"Система\"', 'АФК'}\n",
      "Q58707          {'АЭРОФЛОТ', 'Аэрофлоте'}\n",
      "Q1840188        {'Ростех'}\n",
      "Q1967957        {'ТГК-1'}\n",
      "Q4244736        {'КТК'}\n",
      "Q2005769        {'Полюсу', 'Полюса'}\n",
      "Q108397344      {'ООО «Стрим Диджитал»'}\n",
      "Q108397243      {'Sistema Finance S.A.'}\n",
      "Q4389244        {'Райффайзенбанк'}\n",
      "Q727452         {'РОССИЯ'}\n",
      "Q4102033        {'ВТБ 24'}\n",
      "Q660770         {'РЖД', 'ОАО \"Российские железные дороги\"'}\n",
      "Q108396966      {'ПАО \"ТГК-14\"'}\n",
      "Q2304119        {'Ведомости'}\n",
      "Q487907         {'Bank of America'}\n",
      "Q1071853        {'CBOE'}\n",
      "Q1284261        {'Норильского никеля'}\n",
      "Q386414         {'ФосАгро'}\n",
      "Q1023876        {'CME Group'}\n",
      "Q131723         {'биткоин'}\n"
     ]
    }
   ],
   "source": [
    "# Show aliases to check sanity\n",
    "for qid, aliases in qid_to_alias.items():\n",
    "    print(f\"{qid:<15}\", aliases)"
   ]
  },
  {
   "cell_type": "markdown",
   "metadata": {},
   "source": [
    "## 3. FAISS"
   ]
  },
  {
   "cell_type": "code",
   "execution_count": 1,
   "metadata": {},
   "outputs": [],
   "source": [
    "import numpy as np\n",
    "import faiss\n",
    "import torch"
   ]
  },
  {
   "cell_type": "markdown",
   "metadata": {},
   "source": [
    "### 3.1 Merge vector list into tensor"
   ]
  },
  {
   "cell_type": "code",
   "execution_count": 22,
   "metadata": {},
   "outputs": [
    {
     "data": {
      "text/plain": [
       "torch.Size([222, 768])"
      ]
     },
     "execution_count": 22,
     "metadata": {},
     "output_type": "execute_result"
    }
   ],
   "source": [
    "# We will need to preserve this mapping, because FAISS supports only integer indexing\n",
    "vector_index_to_qid = {}\n",
    "vectors_tensor = []\n",
    "\n",
    "index = 0\n",
    "for qid, vectors in qid_to_vector_list.items():\n",
    "    for vector in vectors:\n",
    "        vector_index_to_qid[index] = qid\n",
    "        index += 1\n",
    "        vectors_tensor.append(vector)\n",
    "        \n",
    "vectors_tensor = torch.vstack(vectors_tensor)\n",
    "vectors_tensor.shape"
   ]
  },
  {
   "cell_type": "markdown",
   "metadata": {},
   "source": [
    "### 3.2 Build an actual FAISS index"
   ]
  },
  {
   "cell_type": "markdown",
   "metadata": {},
   "source": [
    "I use inner product index, cuz I did normalize my vectors"
   ]
  },
  {
   "cell_type": "code",
   "execution_count": 31,
   "metadata": {},
   "outputs": [
    {
     "name": "stdout",
     "output_type": "stream",
     "text": [
      "True\n",
      "222\n"
     ]
    }
   ],
   "source": [
    "d = 768  # dimension \n",
    "        \n",
    "faiss_index = faiss.IndexFlatIP(d)   # build the index\n",
    "print(faiss_index.is_trained)\n",
    "faiss_index.add(vectors_tensor.numpy()) # add vectors to the index\n",
    "print(faiss_index.ntotal)"
   ]
  },
  {
   "cell_type": "markdown",
   "metadata": {},
   "source": [
    "### 3.3 Make a test request"
   ]
  },
  {
   "cell_type": "code",
   "execution_count": 59,
   "metadata": {},
   "outputs": [
    {
     "data": {
      "text/plain": [
       "torch.Size([1, 768])"
      ]
     },
     "execution_count": 59,
     "metadata": {},
     "output_type": "execute_result"
    }
   ],
   "source": [
    "# making a query vector\n",
    "company_name = \"Газпром\"\n",
    "embedder.embed_text(company_name)\n",
    "emb = embedder.get_char_span_vectors([(0, len(company_name))])[0]\n",
    "emb = emb.view((1, -1))\n",
    "emb.shape"
   ]
  },
  {
   "cell_type": "code",
   "execution_count": 64,
   "metadata": {},
   "outputs": [
    {
     "data": {
      "text/plain": [
       "(2, 768)"
      ]
     },
     "execution_count": 64,
     "metadata": {},
     "output_type": "execute_result"
    }
   ],
   "source": [
    "emb = torch.vstack([emb, emb]).numpy()\n",
    "emb.shape"
   ]
  },
  {
   "cell_type": "code",
   "execution_count": 60,
   "metadata": {},
   "outputs": [],
   "source": [
    "# Helper function evaluate index search output\n",
    "from collections import Counter\n",
    "def get_majority(indices):\n",
    "    qids = [vector_index_to_qid[index] for index in indices]\n",
    "    counts = Counter(qids)\n",
    "    return counts\n",
    "    "
   ]
  },
  {
   "cell_type": "code",
   "execution_count": 66,
   "metadata": {},
   "outputs": [],
   "source": [
    "k = 4 # we want to see 4 nearest neighbors\n",
    "# I - indices of neighbours\n",
    "# D - distances to them\n",
    "D, I = faiss_index.search(emb, k)     # actual search"
   ]
  },
  {
   "cell_type": "code",
   "execution_count": null,
   "metadata": {},
   "outputs": [],
   "source": []
  },
  {
   "cell_type": "code",
   "execution_count": 67,
   "metadata": {},
   "outputs": [
    {
     "name": "stdout",
     "output_type": "stream",
     "text": [
      "[[86 83 87 84]\n",
      " [86 83 87 84]]\n",
      "[[52.420643 46.50787  36.403435 30.952461]\n",
      " [52.420643 46.50787  36.403435 30.952461]]\n"
     ]
    }
   ],
   "source": [
    "print(I) # neighbors \n",
    "print(D)"
   ]
  },
  {
   "cell_type": "code",
   "execution_count": 69,
   "metadata": {},
   "outputs": [
    {
     "data": {
      "text/plain": [
       "[array([86, 83, 87, 84]), array([86, 83, 87, 84])]"
      ]
     },
     "execution_count": 69,
     "metadata": {},
     "output_type": "execute_result"
    }
   ],
   "source": [
    "list(I)"
   ]
  },
  {
   "cell_type": "code",
   "execution_count": 68,
   "metadata": {},
   "outputs": [
    {
     "data": {
      "text/plain": [
       "numpy.ndarray"
      ]
     },
     "execution_count": 68,
     "metadata": {},
     "output_type": "execute_result"
    }
   ],
   "source": [
    "type(I)"
   ]
  },
  {
   "cell_type": "code",
   "execution_count": 37,
   "metadata": {},
   "outputs": [
    {
     "data": {
      "text/plain": [
       "Counter({'Q102673': 4})"
      ]
     },
     "execution_count": 37,
     "metadata": {},
     "output_type": "execute_result"
    }
   ],
   "source": [
    "get_majority(I[0])"
   ]
  },
  {
   "cell_type": "code",
   "execution_count": 38,
   "metadata": {},
   "outputs": [
    {
     "name": "stdout",
     "output_type": "stream",
     "text": [
      "{'Газпром', 'Газпромом', 'Газпрома'}\n"
     ]
    }
   ],
   "source": [
    "for qid in get_majority(I[0]).keys():\n",
    "    print(qid_to_alias[qid])"
   ]
  },
  {
   "cell_type": "markdown",
   "metadata": {},
   "source": [
    "### 3.4 Save index to disk"
   ]
  },
  {
   "cell_type": "code",
   "execution_count": null,
   "metadata": {},
   "outputs": [],
   "source": [
    "faiss.write_index(faiss_index, \"faiss_index.binary\")"
   ]
  },
  {
   "cell_type": "code",
   "execution_count": 5,
   "metadata": {},
   "outputs": [],
   "source": [
    "faiss_index2 = faiss.read_index(\"faiss_index.binary\")"
   ]
  },
  {
   "cell_type": "code",
   "execution_count": null,
   "metadata": {},
   "outputs": [],
   "source": [
    "faiss_index2"
   ]
  },
  {
   "cell_type": "code",
   "execution_count": null,
   "metadata": {},
   "outputs": [],
   "source": [
    "faiss_index"
   ]
  },
  {
   "cell_type": "code",
   "execution_count": null,
   "metadata": {},
   "outputs": [],
   "source": [
    "dir(faiss_index)"
   ]
  },
  {
   "cell_type": "code",
   "execution_count": 71,
   "metadata": {},
   "outputs": [
    {
     "data": {
      "text/plain": [
       "[('a', 2)]"
      ]
     },
     "execution_count": 71,
     "metadata": {},
     "output_type": "execute_result"
    }
   ],
   "source": [
    "Counter([\"a\", \"a\", \"b\"]).most_common(1)"
   ]
  },
  {
   "cell_type": "markdown",
   "metadata": {},
   "source": [
    "## 4. Adding new vectors"
   ]
  },
  {
   "cell_type": "code",
   "execution_count": 6,
   "metadata": {},
   "outputs": [
    {
     "data": {
      "text/plain": [
       "<faiss.swigfaiss.IndexFlat; proxy of <Swig Object of type 'faiss::IndexFlat *' at 0x7f12c65b60c0> >"
      ]
     },
     "execution_count": 6,
     "metadata": {},
     "output_type": "execute_result"
    }
   ],
   "source": [
    "faiss_index2"
   ]
  },
  {
   "cell_type": "code",
   "execution_count": 22,
   "metadata": {},
   "outputs": [],
   "source": [
    "faiss_index2.add(np.random.random((1, 768)).astype('float32'))"
   ]
  },
  {
   "cell_type": "code",
   "execution_count": 19,
   "metadata": {},
   "outputs": [
    {
     "data": {
      "text/plain": [
       "229"
      ]
     },
     "execution_count": 19,
     "metadata": {},
     "output_type": "execute_result"
    }
   ],
   "source": [
    "faiss_index2.ntotal"
   ]
  },
  {
   "cell_type": "code",
   "execution_count": 20,
   "metadata": {},
   "outputs": [],
   "source": [
    "faiss.write_index(faiss_index2, \"faiss2_index.binary\")\n",
    "faiss_index2 = faiss.read_index(\"faiss2_index.binary\")"
   ]
  },
  {
   "cell_type": "code",
   "execution_count": 21,
   "metadata": {},
   "outputs": [
    {
     "data": {
      "text/plain": [
       "229"
      ]
     },
     "execution_count": 21,
     "metadata": {},
     "output_type": "execute_result"
    }
   ],
   "source": [
    "faiss_index2.ntotal"
   ]
  },
  {
   "cell_type": "code",
   "execution_count": null,
   "metadata": {},
   "outputs": [],
   "source": []
  }
 ],
 "metadata": {
  "kernelspec": {
   "display_name": "noisemon",
   "language": "python",
   "name": "python3810_noisemon"
  },
  "language_info": {
   "codemirror_mode": {
    "name": "ipython",
    "version": 3
   },
   "file_extension": ".py",
   "mimetype": "text/x-python",
   "name": "python",
   "nbconvert_exporter": "python",
   "pygments_lexer": "ipython3",
   "version": "3.8.10"
  }
 },
 "nbformat": 4,
 "nbformat_minor": 2
}
