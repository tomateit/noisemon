{
 "cells": [
  {
   "cell_type": "code",
   "execution_count": 1,
   "id": "6029410e-8e24-4a2b-82ad-ce8b463dd2e7",
   "metadata": {},
   "outputs": [
    {
     "name": "stdout",
     "output_type": "stream",
     "text": [
      "/home/max/process/dist/app_noisemon\n"
     ]
    }
   ],
   "source": [
    "%cd .."
   ]
  },
  {
   "cell_type": "code",
   "execution_count": 2,
   "id": "ef341050-17ce-4d80-b03e-3316e254b75b",
   "metadata": {},
   "outputs": [],
   "source": [
    "from noisemon.schemas import EntityType"
   ]
  },
  {
   "cell_type": "code",
   "execution_count": 3,
   "id": "28330457-c7e1-4e56-9604-9107e0b78eb8",
   "metadata": {},
   "outputs": [],
   "source": [
    "from noisemon.models.entity import EntityData, dataclass_to_model"
   ]
  },
  {
   "cell_type": "code",
   "execution_count": 4,
   "id": "d54cc6c3-3f96-47fa-82f1-a1127d58d41d",
   "metadata": {},
   "outputs": [],
   "source": [
    "from noisemon.database.database import SessionLocal"
   ]
  },
  {
   "cell_type": "code",
   "execution_count": 5,
   "id": "e9e6edef-cad5-4b20-a4e1-b79bcf5f673f",
   "metadata": {},
   "outputs": [],
   "source": [
    "from SPARQLWrapper import SPARQLWrapper, JSON"
   ]
  },
  {
   "cell_type": "code",
   "execution_count": 6,
   "id": "b2247960-acb0-4cf7-8e06-0ed4046a52af",
   "metadata": {},
   "outputs": [],
   "source": [
    "sparql = SPARQLWrapper(\"http://query.wikidata.org/sparql\")\n",
    "sparql.setReturnFormat(JSON)"
   ]
  },
  {
   "cell_type": "markdown",
   "id": "eb80bd9b-536d-4917-b12d-d42620295657",
   "metadata": {},
   "source": [
    "## Querying company names"
   ]
  },
  {
   "cell_type": "code",
   "execution_count": 20,
   "id": "efe1ee19-4d61-4356-98a2-1d9124e0cdf8",
   "metadata": {},
   "outputs": [],
   "source": [
    "query = \"\"\"\n",
    "SELECT DISTINCT ?id ?idLabel WHERE {\n",
    "    SERVICE wikibase:label { bd:serviceParam wikibase:language \"en\". }\n",
    "    VALUES ?orgLike { \n",
    "        wd:Q93429702 \n",
    "        wd:Q22687 \n",
    "        wd:Q16691582 \n",
    "        wd:Q4830453 \n",
    "        wd:Q891723 \n",
    "        wd:Q6881511\n",
    "    }\n",
    "    \n",
    "    ?id wdt:P31 ?orgLike .\n",
    "  \n",
    "} LIMIT 200000\n",
    "\"\"\""
   ]
  },
  {
   "cell_type": "code",
   "execution_count": 21,
   "id": "904cebc2-8d63-468d-be1e-94cffabcf8cb",
   "metadata": {},
   "outputs": [],
   "source": [
    "sparql.setQuery(query)\n",
    "\n",
    "results = sparql.query().convert()"
   ]
  },
  {
   "cell_type": "code",
   "execution_count": 22,
   "id": "8c9e1daa-460e-4ee3-9bd9-e36ce5484c4a",
   "metadata": {},
   "outputs": [
    {
     "name": "stdout",
     "output_type": "stream",
     "text": [
      "[Q]             [COMPANY]\n"
     ]
    }
   ],
   "source": [
    "print(\"[Q]             [COMPANY]\")\n",
    "for company in results[\"results\"][\"bindings\"]:\n",
    "    company_entity = company[\"id\"][\"value\"]\n",
    "    company_name = company[\"idLabel\"][\"value\"]\n",
    "    entity = EntityData(qid=company_entity, name=company_name, type=EntityType.ORGANIZATION)\n",
    "    # print(entity)"
   ]
  },
  {
   "cell_type": "code",
   "execution_count": 23,
   "id": "4ec4d484-66f9-45e6-948b-45ba4cc43945",
   "metadata": {},
   "outputs": [],
   "source": [
    "db = SessionLocal()\n",
    "with db.begin():\n",
    "    for company in results[\"results\"][\"bindings\"]:\n",
    "        company_entity = company[\"id\"][\"value\"]\n",
    "        company_name = company[\"idLabel\"][\"value\"]\n",
    "        entity = EntityData(qid=company_entity, name=company_name, type=EntityType.ORGANIZATION)\n",
    "        # print(entity)\n",
    "        model = dataclass_to_model(entity)\n",
    "        db.merge(model)"
   ]
  },
  {
   "cell_type": "code",
   "execution_count": 24,
   "id": "387d1ad8-8c11-4f82-9c6e-9a4653d39d82",
   "metadata": {},
   "outputs": [],
   "source": [
    "db.commit()"
   ]
  },
  {
   "cell_type": "code",
   "execution_count": 25,
   "id": "dadf15b6-1d90-487c-b048-4cd63e93449f",
   "metadata": {},
   "outputs": [],
   "source": [
    "db.close()"
   ]
  },
  {
   "cell_type": "code",
   "execution_count": null,
   "id": "eb0c0dc7-ed4a-46c4-9dc8-72cc28cfe901",
   "metadata": {},
   "outputs": [],
   "source": []
  }
 ],
 "metadata": {
  "kernelspec": {
   "display_name": "Python 3 (ipykernel)",
   "language": "python",
   "name": "python3"
  },
  "language_info": {
   "codemirror_mode": {
    "name": "ipython",
    "version": 3
   },
   "file_extension": ".py",
   "mimetype": "text/x-python",
   "name": "python",
   "nbconvert_exporter": "python",
   "pygments_lexer": "ipython3",
   "version": "3.10.6"
  }
 },
 "nbformat": 4,
 "nbformat_minor": 5
}
