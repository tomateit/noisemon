{
 "cells": [
  {
   "cell_type": "markdown",
   "id": "303a0168-ffd6-4bb1-ba90-c7a4bcb46912",
   "metadata": {},
   "source": [
    "# Extract contextual embedding vector of a character span"
   ]
  },
  {
   "cell_type": "code",
   "execution_count": 1,
   "id": "399a68be-9426-47ff-909a-d5619709f95a",
   "metadata": {},
   "outputs": [
    {
     "name": "stderr",
     "output_type": "stream",
     "text": [
      "/home/max/process/dist/app_noisemon/.venv/lib/python3.10/site-packages/tqdm/auto.py:21: TqdmWarning: IProgress not found. Please update jupyter and ipywidgets. See https://ipywidgets.readthedocs.io/en/stable/user_install.html\n",
      "  from .autonotebook import tqdm as notebook_tqdm\n"
     ]
    }
   ],
   "source": [
    "import spacy_alignments as tokenizations\n",
    "import torch\n",
    "from transformers import AutoTokenizer, AutoModel\n",
    "\n",
    "from noisemon.domain.models.entity_span import EntitySpan\n",
    "from noisemon.domain.services.language_representation.contextual_embedder import ContextualEmbedder"
   ]
  },
  {
   "cell_type": "code",
   "execution_count": 25,
   "id": "1e7280d5-ca16-46de-ad69-ffd908492c0a",
   "metadata": {},
   "outputs": [],
   "source": [
    "class ContextualEmbedderLocalImpl(ContextualEmbedder):\n",
    "    model_name = \"intfloat/multilingual-e5-large\"\n",
    "    def __init__(\n",
    "            self,\n",
    "            model_name=None,\n",
    "            model=None,\n",
    "            tokenizer=None,\n",
    "            device=torch.device(\"cpu\")\n",
    "    ):\n",
    "        if model_name is not None:\n",
    "            self.model_name = model_name\n",
    "\n",
    "        if model is None:\n",
    "            tokenizer = AutoTokenizer.from_pretrained(self.model_name)\n",
    "            model = AutoModel.from_pretrained(self.model_name)\n",
    "\n",
    "        self.model = model\n",
    "        self.tokenizer = tokenizer\n",
    "        self.model.to(device)\n",
    "\n",
    "\n",
    "\n",
    "    def get_char_span_vectors(self, text: str, char_spans: list[EntitySpan]) -> list[torch.Tensor]:\n",
    "        encoded_text = self.tokenizer([text], truncation=True, max_length=512, return_tensors=\"pt\")\n",
    "        wordpieces = self.tokenizer.batch_decode(encoded_text.input_ids[0])\n",
    "\n",
    "        embedding_alignment, _ = tokenizations.get_alignments(list(text), wordpieces)\n",
    "\n",
    "        with torch.no_grad():\n",
    "            model_output = self.model(**{k: v.to(self.model.device) for k, v in encoded_text.items()})\n",
    "\n",
    "        embeddings = model_output.last_hidden_state.cpu()\n",
    "        embedding = torch.nn.functional.normalize(embeddings).squeeze()\n",
    "\n",
    "        span_vectors = []\n",
    "        for span in char_spans:\n",
    "            span_idxs = [idx\n",
    "                         for list_of_indices in embedding_alignment[span.span_start: span.span_end]\n",
    "                         for idx in list_of_indices]\n",
    "            span_idxs = sorted(set(span_idxs))\n",
    "            span_emb = embedding[span_idxs]\n",
    "            span_vector = torch.mean(span_emb, dim=0)\n",
    "            span_vectors.append(span_vector)\n",
    "\n",
    "        return span_vectors"
   ]
  },
  {
   "cell_type": "code",
   "execution_count": 41,
   "id": "23041a0e-945c-4754-b79b-88da7a23b5bc",
   "metadata": {},
   "outputs": [],
   "source": [
    "import html\n",
    "import urllib.parse"
   ]
  },
  {
   "cell_type": "code",
   "execution_count": 44,
   "id": "6f98f888-650c-4699-adc3-54bca3d58e19",
   "metadata": {},
   "outputs": [],
   "source": [
    "import bleach"
   ]
  },
  {
   "cell_type": "code",
   "execution_count": 48,
   "id": "09d3903e-a1af-4fe9-b481-8305163b8192",
   "metadata": {},
   "outputs": [],
   "source": [
    "cleaner = bleach.Cleaner(tags=set(), strip=True)"
   ]
  },
  {
   "cell_type": "code",
   "execution_count": 49,
   "id": "5806b141-ad40-4ddc-a7d0-8a46e5d41a1e",
   "metadata": {},
   "outputs": [
    {
     "name": "stdout",
     "output_type": "stream",
     "text": [
      "The studio has produced many critically acclaimed films such as \"Titanic\", \"Footloose\", \"Breakfast at Tiffany's\", \"Braveheart\", \"Ghost\", \"The Truman Show\", \"Mean Girls\", \"Psycho\", \"Rocketman\", \"Ferris Bueller's Day Off\", \"The Curious Case of Benjamin Button\", \"Days of Thunder\", \"Rosemary's Baby\", \"Nebraska\", \"Sunset Boulevard\", \"Forrest Gump\", \"Super 8\", \"Coming to America\", \"World War Z\", \"Babel\", \"The Conversation\", \"The Fighter\", \"Interstellar\", \"\", \"Terms of Endearment\", \"The Wolf of Wall Street\" and \"A Quiet Place\"; as well as commercially successful franchises and/or properties such as: the \"Godfather\" films, \"Star Trek\", \"\", \"SpongeBob SquarePants\", the \"Grease\" films, \"Sonic the Hedgehog\", the \"Top Gun\" films, \"The Italian Job\", the \"Transformers\" films, the \"Teenage Mutant Ninja Turtles\" films, the \"Tomb Raider\" films, the \"Friday the 13th\" films, the \"Cloverfield\" films, the \"G.I. Joe\" films, the \"Beverly Hills Cop\" films, the \"Terminator\" films, the \"Pet Sematary\" films, the \"Without a Paddle\" films, \"Jackass\", the \"Odd Couple\" films, \"South Park\", the \"Crocodile Dundee\" films, the \"Charolette's Web\" films, the \"Wayne's World\" films, \"Beavis & Butthead\", \"Jimmy Neutron\", the \"War of the Worlds\" films, the \"Naked Gun\" films, the \"Anchorman\" films, \"Dora the Explorer\", the \"Addams Family\" films, \"Rugrats\", the \"Zoolander\" films, \"Æon Flux\", the \"Ring\" films, the \"Bad News Bears\" films, \"The Wild Thornberrys\", and the \"Paranormal Activity\" films; as well as the first four films of the Marvel Cinematic Universe, the \"Indiana Jones\" films, and various DreamWorks Animation properties (such as \"Shrek\", the \"Madagascar\" sequels, the first two \"Kung Fu Panda\" films, and the first \"How to Train Your Dragon\") before both studios were respectively acquired by Disney (via Marvel Studios and Lucasfilm) and Universal Studios.\n"
     ]
    }
   ],
   "source": [
    "print(html.unescape(cleaner.clean(urllib.parse.unquote(text))))"
   ]
  },
  {
   "cell_type": "code",
   "execution_count": 50,
   "id": "6f206276-3340-41ea-8705-18add62131b6",
   "metadata": {},
   "outputs": [
    {
     "data": {
      "text/plain": [
       "512"
      ]
     },
     "execution_count": 50,
     "metadata": {},
     "output_type": "execute_result"
    }
   ],
   "source": [
    "len(wordpieces)"
   ]
  },
  {
   "cell_type": "code",
   "execution_count": 33,
   "id": "2749e541-412a-41b8-aa15-27e28945bc10",
   "metadata": {},
   "outputs": [
    {
     "data": {
      "text/plain": [
       "512"
      ]
     },
     "execution_count": 33,
     "metadata": {},
     "output_type": "execute_result"
    }
   ],
   "source": [
    "len(wordpieces)"
   ]
  },
  {
   "cell_type": "code",
   "execution_count": 26,
   "id": "7fbce106-ff30-42f2-9b82-a9f0b9e587ce",
   "metadata": {},
   "outputs": [],
   "source": [
    "text = \"\"\"The studio has produced many critically acclaimed films such as \"Titanic\", \"Footloose\", \"Breakfast at Tiffany's\", \"Braveheart\", \"Ghost\", \"The Truman Show\", \"Mean Girls\", \"Psycho\", \"Rocketman\", \"Ferris Bueller's Day Off\", \"The Curious Case of Benjamin Button\", \"Days of Thunder\", \"Rosemary's Baby\", \"Nebraska\", \"Sunset Boulevard\", \"Forrest Gump\", \"Super 8\", \"Coming to America\", \"World War Z\", \"Babel\", \"The Conversation\", \"The Fighter\", \"Interstellar\", \"\", \"Terms of Endearment\", \"The Wolf of Wall Street\" and \"A Quiet Place\"; as well as commercially successful franchises and/or properties such as: the \"Godfather\" films, \"Star Trek\", \"\", \"SpongeBob SquarePants\", the \"Grease\" films, \"Sonic the Hedgehog\", the \"Top Gun\" films, \"The Italian Job\", the \"Transformers\" films, the \"Teenage Mutant Ninja Turtles\" films, the \"Tomb Raider\" films, the \"Friday the 13th\" films, the \"Cloverfield\" films, the \"G.I. Joe\" films, the \"Beverly Hills Cop\" films, the \"Terminator\" films, the \"Pet Sematary\" films, the \"Without a Paddle\" films, \"Jackass\", the \"Odd Couple\" films, \"South Park\", the \"Crocodile Dundee\" films, the \"Charolette's Web\" films, the \"Wayne's World\" films, \"<a href=\"Beavis%20%26amp%3B%20Butthead\">Beavis & Butthead</a>\", \"Jimmy Neutron\", the \"War of the Worlds\" films, the \"Naked Gun\" films, the \"Anchorman\" films, \"Dora the Explorer\", the \"Addams Family\" films, \"Rugrats\", the \"Zoolander\" films, \"Æon Flux\", the \"Ring\" films, the \"Bad News Bears\" films, \"The Wild Thornberrys\", and the \"Paranormal Activity\" films; as well as the first four films of the Marvel Cinematic Universe, the \"Indiana Jones\" films, and various DreamWorks Animation properties (such as \"Shrek\", the \"Madagascar\" sequels, the first two \"Kung Fu Panda\" films, and the first \"How to Train Your Dragon\") before both studios were respectively acquired by Disney (via Marvel Studios and Lucasfilm) and Universal Studios.\"\"\""
   ]
  },
  {
   "cell_type": "code",
   "execution_count": 27,
   "id": "c9c48b4a-d283-49fb-9875-22928e30bc5c",
   "metadata": {},
   "outputs": [
    {
     "data": {
      "text/plain": [
       "'Disney'"
      ]
     },
     "execution_count": 27,
     "metadata": {},
     "output_type": "execute_result"
    }
   ],
   "source": [
    "text[1833:1839]"
   ]
  },
  {
   "cell_type": "code",
   "execution_count": 82,
   "id": "74ee33ef-5f2a-4e86-a5bb-620cb996c3a1",
   "metadata": {},
   "outputs": [],
   "source": [
    "span = EntitySpan(span= 'Disney', span_start= 1833, span_end=1839 )"
   ]
  },
  {
   "cell_type": "code",
   "execution_count": 83,
   "id": "402ea3e8-a03d-44ec-b96f-cd71621bf53b",
   "metadata": {},
   "outputs": [],
   "source": [
    "embedder = ContextualEmbedderLocalImpl()"
   ]
  },
  {
   "cell_type": "code",
   "execution_count": 84,
   "id": "ee4d8112-9a19-4c1a-b2b8-a7cbfd0d414b",
   "metadata": {},
   "outputs": [],
   "source": [
    "vecs = embedder.get_char_span_vectors(text, [span])"
   ]
  },
  {
   "cell_type": "code",
   "execution_count": 85,
   "id": "e745d459-6667-4948-a24d-bece1f83ab19",
   "metadata": {},
   "outputs": [
    {
     "data": {
      "text/plain": [
       "[tensor([ 0.0156,  0.0126,  0.0038,  ..., -0.0428, -0.0342, -0.0352])]"
      ]
     },
     "execution_count": 85,
     "metadata": {},
     "output_type": "execute_result"
    }
   ],
   "source": [
    "vecs"
   ]
  },
  {
   "cell_type": "code",
   "execution_count": 86,
   "id": "fd91d951-5596-408b-a05b-db4442046526",
   "metadata": {},
   "outputs": [
    {
     "data": {
      "text/plain": [
       "False"
      ]
     },
     "execution_count": 86,
     "metadata": {},
     "output_type": "execute_result"
    }
   ],
   "source": [
    "bool(torch.isnan(vecs[0]).any())"
   ]
  },
  {
   "cell_type": "code",
   "execution_count": null,
   "id": "be67c1f0-41b0-4838-85a3-c4660f45ebb1",
   "metadata": {},
   "outputs": [],
   "source": []
  },
  {
   "cell_type": "code",
   "execution_count": 9,
   "id": "6502fa6d-f182-43be-8e71-339d1184456c",
   "metadata": {},
   "outputs": [],
   "source": [
    "self = embedder"
   ]
  },
  {
   "cell_type": "code",
   "execution_count": 10,
   "id": "a57308da-7f4d-4725-9c18-3146b78694fe",
   "metadata": {},
   "outputs": [],
   "source": [
    "encoded_text = self.tokenizer([text], truncation=True, max_length=512, return_tensors=\"pt\")\n",
    "wordpieces = self.tokenizer.batch_decode(encoded_text.input_ids[0])"
   ]
  },
  {
   "cell_type": "code",
   "execution_count": 11,
   "id": "36e80da0-b4f6-47be-849a-e917cca06507",
   "metadata": {},
   "outputs": [],
   "source": [
    "embedding_alignment, _ = tokenizations.get_alignments(list(text), wordpieces)"
   ]
  },
  {
   "cell_type": "code",
   "execution_count": 14,
   "id": "9accbc99-0edc-4b45-b621-bee6fef7e7bc",
   "metadata": {},
   "outputs": [],
   "source": [
    "with torch.no_grad():\n",
    "    model_output = self.model(**{k: v.to(self.model.device) for k, v in encoded_text.items()})"
   ]
  },
  {
   "cell_type": "code",
   "execution_count": 87,
   "id": "72e3612c-3acf-4603-9e4d-e7f4e3efe85f",
   "metadata": {},
   "outputs": [],
   "source": [
    "embeddings = model_output.last_hidden_state.cpu()\n",
    "embedding = (embeddings).squeeze()"
   ]
  },
  {
   "cell_type": "code",
   "execution_count": 88,
   "id": "01dae9c1-a14d-4168-aed9-91c2313489ac",
   "metadata": {},
   "outputs": [
    {
     "data": {
      "text/plain": [
       "tensor([[[ 0.0953,  0.3670,  0.1145,  ..., -0.4083, -0.3172,  0.1805],\n",
       "         [-0.0887, -0.1598,  0.1276,  ..., -0.7622, -0.5241, -0.3246],\n",
       "         [-0.0344,  0.0289,  0.2937,  ..., -0.5823, -0.6273, -0.3763],\n",
       "         ...,\n",
       "         [-0.3504,  0.1292,  0.2704,  ..., -0.0404, -0.4498, -0.2149],\n",
       "         [-0.3526,  0.1246,  0.2574,  ..., -0.0237, -0.4510, -0.2308],\n",
       "         [ 0.0424,  0.1841,  0.1519,  ..., -0.7243, -0.5346, -0.1693]]])"
      ]
     },
     "execution_count": 88,
     "metadata": {},
     "output_type": "execute_result"
    }
   ],
   "source": [
    "embeddings"
   ]
  },
  {
   "cell_type": "code",
   "execution_count": 57,
   "id": "b562479a-def5-4a7f-ae4c-1c96175bfba9",
   "metadata": {},
   "outputs": [],
   "source": [
    "from scipy.linalg import norm"
   ]
  },
  {
   "cell_type": "code",
   "execution_count": 90,
   "id": "489e0ca5-3a7a-440f-a1aa-b08294cfdaf5",
   "metadata": {},
   "outputs": [],
   "source": [
    "emb_slice = embedding[[1,2,3]]"
   ]
  },
  {
   "cell_type": "code",
   "execution_count": 95,
   "id": "e89e92bb-9f67-4425-8746-59a8e8c49024",
   "metadata": {},
   "outputs": [],
   "source": [
    "emb_vec = torch.mean(emb_slice, dim=0)"
   ]
  },
  {
   "cell_type": "code",
   "execution_count": 100,
   "id": "e01013ce-5d6c-40aa-a4d0-53791380f504",
   "metadata": {},
   "outputs": [
    {
     "data": {
      "text/plain": [
       "16.222457885742188"
      ]
     },
     "execution_count": 100,
     "metadata": {},
     "output_type": "execute_result"
    }
   ],
   "source": [
    "norm(emb_vec)"
   ]
  },
  {
   "cell_type": "code",
   "execution_count": 101,
   "id": "913069ef-e050-4eb2-b086-04cecd0bb665",
   "metadata": {},
   "outputs": [],
   "source": [
    "emb_vec = torch.nn.functional.normalize(emb_vec, dim=0)"
   ]
  },
  {
   "cell_type": "code",
   "execution_count": 102,
   "id": "bd514bea-d3db-4112-ad4b-65ed174d5557",
   "metadata": {},
   "outputs": [
    {
     "data": {
      "text/plain": [
       "0.9999999403953552"
      ]
     },
     "execution_count": 102,
     "metadata": {},
     "output_type": "execute_result"
    }
   ],
   "source": [
    "norm(emb_vec)"
   ]
  },
  {
   "cell_type": "code",
   "execution_count": null,
   "id": "95df6fea-0827-4992-8228-5141ff2f9abd",
   "metadata": {},
   "outputs": [],
   "source": []
  },
  {
   "cell_type": "code",
   "execution_count": 59,
   "id": "830cf4a4-413d-4cb5-9136-91a7f82e25fd",
   "metadata": {},
   "outputs": [
    {
     "data": {
      "text/plain": [
       "1.1946344375610352"
      ]
     },
     "execution_count": 59,
     "metadata": {},
     "output_type": "execute_result"
    }
   ],
   "source": [
    "norm(embeddings[0, :].numpy())"
   ]
  },
  {
   "cell_type": "code",
   "execution_count": 64,
   "id": "e6c1a6e8-1435-4bc1-bca3-ce0d0dbdb7e9",
   "metadata": {},
   "outputs": [
    {
     "data": {
      "text/plain": [
       "15.546648979187012"
      ]
     },
     "execution_count": 64,
     "metadata": {},
     "output_type": "execute_result"
    }
   ],
   "source": [
    "norm(embeddings[0, 0])"
   ]
  },
  {
   "cell_type": "code",
   "execution_count": 69,
   "id": "ceb1eb98-6f17-43bd-8b3c-79cec394c641",
   "metadata": {},
   "outputs": [
    {
     "data": {
      "text/plain": [
       "torch.Size([512, 1024])"
      ]
     },
     "execution_count": 69,
     "metadata": {},
     "output_type": "execute_result"
    }
   ],
   "source": [
    "embeddings.squeeze().shape"
   ]
  },
  {
   "cell_type": "code",
   "execution_count": 67,
   "id": "b22946aa-d4fc-4cd5-b866-64be5f0c66ef",
   "metadata": {},
   "outputs": [
    {
     "data": {
      "text/plain": [
       "1.0"
      ]
     },
     "execution_count": 67,
     "metadata": {},
     "output_type": "execute_result"
    }
   ],
   "source": [
    "norm(torch.nn.functional.normalize(embeddings.squeeze(), dim=1)[0])"
   ]
  },
  {
   "cell_type": "code",
   "execution_count": 20,
   "id": "02aa1c98-d474-4a21-9c3b-8178058309d3",
   "metadata": {},
   "outputs": [
    {
     "data": {
      "text/plain": [
       "1897"
      ]
     },
     "execution_count": 20,
     "metadata": {},
     "output_type": "execute_result"
    }
   ],
   "source": [
    "len(text)"
   ]
  },
  {
   "cell_type": "code",
   "execution_count": 19,
   "id": "aaae04e6-d8cf-4991-b50a-b6579af56fdb",
   "metadata": {},
   "outputs": [
    {
     "data": {
      "text/plain": [
       "1897"
      ]
     },
     "execution_count": 19,
     "metadata": {},
     "output_type": "execute_result"
    }
   ],
   "source": [
    "len(embedding_alignment)"
   ]
  },
  {
   "cell_type": "code",
   "execution_count": 18,
   "id": "06233655-8fc0-4292-aeec-19b34b6014c0",
   "metadata": {},
   "outputs": [
    {
     "data": {
      "text/plain": [
       "[[], [], [], [], [], []]"
      ]
     },
     "execution_count": 18,
     "metadata": {},
     "output_type": "execute_result"
    }
   ],
   "source": [
    "embedding_alignment[span.span_start: span.span_end]"
   ]
  },
  {
   "cell_type": "code",
   "execution_count": 16,
   "id": "c59f1a37-8c8b-4cf2-a04f-1db7a77cdc66",
   "metadata": {},
   "outputs": [],
   "source": [
    "span_idxs = [idx\n",
    "             for list_of_indices in embedding_alignment[span.span_start: span.span_end]\n",
    "             for idx in list_of_indices]"
   ]
  },
  {
   "cell_type": "code",
   "execution_count": 17,
   "id": "a782e275-2f52-48c5-9fce-1401edafce51",
   "metadata": {},
   "outputs": [
    {
     "data": {
      "text/plain": [
       "[]"
      ]
     },
     "execution_count": 17,
     "metadata": {},
     "output_type": "execute_result"
    }
   ],
   "source": [
    "span_idxs"
   ]
  },
  {
   "cell_type": "code",
   "execution_count": 23,
   "id": "cd05efa4-7ddc-48fc-8bc3-6d690682d864",
   "metadata": {},
   "outputs": [],
   "source": [
    "_enc_text = self.tokenizer([\"something Disney something\"], truncation=True, max_length=512, return_tensors=\"pt\")\n",
    "_wordpieces = self.tokenizer.batch_decode(_enc_text.input_ids[0])"
   ]
  },
  {
   "cell_type": "code",
   "execution_count": 24,
   "id": "e537899a-43d6-4bd5-b856-20d75eb0cc38",
   "metadata": {},
   "outputs": [
    {
     "data": {
      "text/plain": [
       "['[CLS]', 'something', 'disney', 'something', '[SEP]']"
      ]
     },
     "execution_count": 24,
     "metadata": {},
     "output_type": "execute_result"
    }
   ],
   "source": [
    "_wordpieces"
   ]
  },
  {
   "cell_type": "code",
   "execution_count": null,
   "id": "9125b87b-56fd-4853-b445-cbb9bccf8784",
   "metadata": {},
   "outputs": [],
   "source": [
    "    span_idxs = sorted(set(span_idxs))\n",
    "    span_emb = embedding[span_idxs]\n",
    "    span_vector = torch.mean(span_emb, dim=0)\n",
    "    span_vectors.append(span_vector)"
   ]
  }
 ],
 "metadata": {
  "kernelspec": {
   "display_name": "Python 3 (ipykernel)",
   "language": "python",
   "name": "python3"
  },
  "language_info": {
   "codemirror_mode": {
    "name": "ipython",
    "version": 3
   },
   "file_extension": ".py",
   "mimetype": "text/x-python",
   "name": "python",
   "nbconvert_exporter": "python",
   "pygments_lexer": "ipython3",
   "version": "3.10.12"
  }
 },
 "nbformat": 4,
 "nbformat_minor": 5
}
