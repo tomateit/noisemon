{
 "cells": [
  {
   "cell_type": "markdown",
   "id": "46aad60e",
   "metadata": {},
   "source": [
    "# Dataset"
   ]
  },
  {
   "cell_type": "markdown",
   "id": "99475d85",
   "metadata": {},
   "source": [
    "Let's try to generate our own dataset in a form of knowledge base."
   ]
  },
  {
   "cell_type": "markdown",
   "id": "e04b0815",
   "metadata": {},
   "source": [
    "1. Retrieve a bunch of texts\n",
    "2. Get tickers\n",
    "3. Lookup tickers in Wikidata\n",
    "4. Map 'em with NERS"
   ]
  },
  {
   "cell_type": "code",
   "execution_count": 1,
   "id": "35d3fd5c",
   "metadata": {},
   "outputs": [
    {
     "data": {
      "text/plain": [
       "list"
      ]
     },
     "execution_count": 1,
     "metadata": {},
     "output_type": "execute_result"
    }
   ],
   "source": [
    "import sys\n",
    "type(sys.path)"
   ]
  },
  {
   "cell_type": "code",
   "execution_count": 4,
   "id": "ad4798d7",
   "metadata": {},
   "outputs": [],
   "source": [
    "sys.path.append(\"/mnt/codeholder/code/python-playground/app_noisemon/noisemon\")"
   ]
  },
  {
   "cell_type": "markdown",
   "id": "8ee70b35",
   "metadata": {},
   "source": [
    "## 1. Data import"
   ]
  },
  {
   "cell_type": "code",
   "execution_count": 11,
   "id": "c84ef361",
   "metadata": {},
   "outputs": [],
   "source": [
    "import json\n",
    "from pathlib import Path"
   ]
  },
  {
   "cell_type": "code",
   "execution_count": 12,
   "id": "f96ff8ee",
   "metadata": {},
   "outputs": [],
   "source": [
    "input_path = Path(\"../data/01-filtered/market_twits_with_tickers.json\")\n",
    "data = json.loads(input_path.read_text())"
   ]
  },
  {
   "cell_type": "code",
   "execution_count": 13,
   "id": "8c59e1c3",
   "metadata": {},
   "outputs": [
    {
     "data": {
      "text/plain": [
       "88357"
      ]
     },
     "execution_count": 13,
     "metadata": {},
     "output_type": "execute_result"
    }
   ],
   "source": [
    "len(data)"
   ]
  },
  {
   "cell_type": "code",
   "execution_count": 14,
   "id": "a4d15119",
   "metadata": {},
   "outputs": [
    {
     "data": {
      "text/plain": [
       "'AFLT\\nРостех» планирует продать свою долю в «Аэрофлоте» (3,5%) целиком, а не частями.\\nПакет будет выставлен на продажу, когда цена акций вырастет хотя бы до 182 руб. за бумагу, передает ТАСС.'"
      ]
     },
     "execution_count": 14,
     "metadata": {},
     "output_type": "execute_result"
    }
   ],
   "source": [
    "data[38]"
   ]
  },
  {
   "cell_type": "markdown",
   "id": "e9696bf3",
   "metadata": {},
   "source": [
    "## 2. Extract tickers"
   ]
  },
  {
   "cell_type": "code",
   "execution_count": 16,
   "id": "7ddab86f",
   "metadata": {},
   "outputs": [],
   "source": [
    "import reticker\n",
    "extractor = reticker.TickerExtractor()"
   ]
  },
  {
   "cell_type": "code",
   "execution_count": 17,
   "id": "70910e1c",
   "metadata": {},
   "outputs": [],
   "source": [
    "dataset = []\n",
    "for text in data:\n",
    "    dataset.append({\n",
    "        \"text\": text, \n",
    "        \"tickers\": extractor.extract(text)\n",
    "    })"
   ]
  },
  {
   "cell_type": "code",
   "execution_count": null,
   "id": "2da1be6d",
   "metadata": {},
   "outputs": [],
   "source": []
  },
  {
   "cell_type": "markdown",
   "id": "de50607c",
   "metadata": {},
   "source": [
    "## 3. Lookup tickers in wikidata"
   ]
  },
  {
   "cell_type": "code",
   "execution_count": 18,
   "id": "eeb2e688",
   "metadata": {},
   "outputs": [
    {
     "data": {
      "text/plain": [
       "{'text': 'ETH\\nМартин Свенде, разработчик службы безопасности Эфириума - \"Чтобы разморозить счета Parity, понадобится новый хардфорк Эфириума\"',\n",
       " 'tickers': ['ETH']}"
      ]
     },
     "execution_count": 18,
     "metadata": {},
     "output_type": "execute_result"
    }
   ],
   "source": [
    "dataset[56]"
   ]
  },
  {
   "cell_type": "code",
   "execution_count": 184,
   "id": "941d6bd8",
   "metadata": {},
   "outputs": [],
   "source": [
    "from importlib import reload"
   ]
  },
  {
   "cell_type": "code",
   "execution_count": 185,
   "id": "9ffde501",
   "metadata": {},
   "outputs": [
    {
     "data": {
      "text/plain": [
       "<module 'data_processing.wikidata' from '/mnt/codeholder/code/python-playground/app_noisemon/noisemon/data_processing/wikidata.py'>"
      ]
     },
     "execution_count": 185,
     "metadata": {},
     "output_type": "execute_result"
    }
   ],
   "source": [
    "import data_processing.wikidata as ddd\n",
    "reload(ddd)"
   ]
  },
  {
   "cell_type": "code",
   "execution_count": 186,
   "id": "f45f7643",
   "metadata": {},
   "outputs": [],
   "source": [
    "from data_processing.wikidata import Wikidata\n",
    "from functools import lru_cache\n",
    "from tqdm import tqdm\n",
    "import time"
   ]
  },
  {
   "cell_type": "code",
   "execution_count": 187,
   "id": "7387b1f4",
   "metadata": {},
   "outputs": [],
   "source": [
    "wd = Wikidata()"
   ]
  },
  {
   "cell_type": "code",
   "execution_count": 188,
   "id": "44a24feb",
   "metadata": {},
   "outputs": [],
   "source": [
    "def throttle(func):\n",
    "    __last_call_start = time.time()\n",
    "    __timeout = 2\n",
    "    def inner(*args):\n",
    "        # record time since last launch\n",
    "        nonlocal __last_call_start\n",
    "        timeout = __last_call_start + __timeout - time.time()\n",
    "        # update last launch\n",
    "        \n",
    "        __last_call_start = time.time()\n",
    "#         print(\"Timeout: \", timeout)\n",
    "        if timeout > 0:\n",
    "            time.sleep(timeout)\n",
    "            \n",
    "        return func(*args)\n",
    "    \n",
    "    return inner "
   ]
  },
  {
   "cell_type": "code",
   "execution_count": 189,
   "id": "5c90bbee",
   "metadata": {},
   "outputs": [],
   "source": [
    "@throttle\n",
    "def r():\n",
    "    return \"ddd\""
   ]
  },
  {
   "cell_type": "code",
   "execution_count": 190,
   "id": "b082af72",
   "metadata": {},
   "outputs": [
    {
     "data": {
      "text/plain": [
       "'ddd'"
      ]
     },
     "execution_count": 190,
     "metadata": {},
     "output_type": "execute_result"
    }
   ],
   "source": [
    "r()"
   ]
  },
  {
   "cell_type": "code",
   "execution_count": 191,
   "id": "691894ca",
   "metadata": {},
   "outputs": [],
   "source": [
    "@lru_cache(maxsize=None)\n",
    "@throttle\n",
    "def get_company(ticker: str):\n",
    "    return wd.lookup_companies_by_ticker(ticker)"
   ]
  },
  {
   "cell_type": "code",
   "execution_count": null,
   "id": "7bdeab77",
   "metadata": {},
   "outputs": [
    {
     "name": "stderr",
     "output_type": "stream",
     "text": [
      "  1%|█▊                                                                                                                              | 1226/88357 [20:54<9:26:41,  2.56it/s]"
     ]
    }
   ],
   "source": [
    "ticker_not_found = []\n",
    "dataset_with_companies = []\n",
    "for chunk in tqdm(dataset):\n",
    "    companies = []\n",
    "    for ticker in set(chunk[\"tickers\"]):\n",
    "        company_candidates = get_company(ticker)\n",
    "        if company_candidates:\n",
    "            companies += company_candidates\n",
    "            \n",
    "    if companies:\n",
    "        dataset_with_companies.append(companies)\n",
    "    else:\n",
    "        ticker_not_found.append(companies)\n",
    "        \n",
    "print(f\"{len(dataset_with_companies)} texts with companies, {len(ticker_not_found)} without\")"
   ]
  },
  {
   "cell_type": "code",
   "execution_count": 141,
   "id": "c5c922b6",
   "metadata": {},
   "outputs": [],
   "source": []
  },
  {
   "cell_type": "code",
   "execution_count": null,
   "id": "045234ef",
   "metadata": {},
   "outputs": [],
   "source": []
  },
  {
   "cell_type": "code",
   "execution_count": null,
   "id": "787811c0",
   "metadata": {},
   "outputs": [],
   "source": []
  },
  {
   "cell_type": "markdown",
   "id": "f1ec616d",
   "metadata": {},
   "source": [
    "## 4. Extract NERS"
   ]
  },
  {
   "cell_type": "code",
   "execution_count": null,
   "id": "80617eb3",
   "metadata": {},
   "outputs": [],
   "source": [
    "import spacy\n",
    "nlp = spacy.load(\"ru_core_news_lg\")"
   ]
  },
  {
   "cell_type": "code",
   "execution_count": null,
   "id": "43bcfea0",
   "metadata": {},
   "outputs": [],
   "source": []
  },
  {
   "cell_type": "markdown",
   "id": "c31a9347",
   "metadata": {},
   "source": [
    "## 5. Map NERS and Organizations"
   ]
  },
  {
   "cell_type": "code",
   "execution_count": null,
   "id": "e92a71eb",
   "metadata": {},
   "outputs": [],
   "source": []
  },
  {
   "cell_type": "code",
   "execution_count": null,
   "id": "f0c36168",
   "metadata": {},
   "outputs": [],
   "source": []
  },
  {
   "cell_type": "markdown",
   "id": "5ef046e9",
   "metadata": {},
   "source": [
    "## 5. Form a KnowledgeBase"
   ]
  },
  {
   "cell_type": "code",
   "execution_count": null,
   "id": "57c3fb62",
   "metadata": {},
   "outputs": [],
   "source": [
    "from knowledge_base.storage import MyKnowledgeBase\n",
    "kb = MyKnowledgeBase()"
   ]
  }
 ],
 "metadata": {
  "kernelspec": {
   "display_name": "noisemon",
   "language": "python",
   "name": "python3810_noisemon"
  },
  "language_info": {
   "codemirror_mode": {
    "name": "ipython",
    "version": 3
   },
   "file_extension": ".py",
   "mimetype": "text/x-python",
   "name": "python",
   "nbconvert_exporter": "python",
   "pygments_lexer": "ipython3",
   "version": "3.8.10"
  }
 },
 "nbformat": 4,
 "nbformat_minor": 5
}
