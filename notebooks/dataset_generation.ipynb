{
 "cells": [
  {
   "cell_type": "markdown",
   "id": "73f959ae",
   "metadata": {},
   "source": [
    "# Dataset"
   ]
  },
  {
   "cell_type": "markdown",
   "id": "9c20adf0",
   "metadata": {},
   "source": [
    "Let's try to generate our own dataset in a form of knowledge base."
   ]
  },
  {
   "cell_type": "markdown",
   "id": "72e84a94",
   "metadata": {},
   "source": [
    "1. Retrieve a bunch of texts\n",
    "2. Get tickers\n",
    "3. Lookup tickers in Wikidata\n",
    "4. Map 'em with NERS"
   ]
  },
  {
   "cell_type": "code",
   "execution_count": 1,
   "id": "6592be00",
   "metadata": {},
   "outputs": [
    {
     "data": {
      "text/plain": [
       "list"
      ]
     },
     "execution_count": 1,
     "metadata": {},
     "output_type": "execute_result"
    }
   ],
   "source": [
    "import sys\n",
    "type(sys.path)"
   ]
  },
  {
   "cell_type": "code",
   "execution_count": 4,
   "id": "cae81ad4",
   "metadata": {},
   "outputs": [],
   "source": [
    "sys.path.append(\"/mnt/codeholder/code/python-playground/app_noisemon/noisemon\")"
   ]
  },
  {
   "cell_type": "markdown",
   "id": "a042993c",
   "metadata": {},
   "source": [
    "## 1. Data import"
   ]
  },
  {
   "cell_type": "code",
   "execution_count": 11,
   "id": "cbe8721a",
   "metadata": {},
   "outputs": [],
   "source": [
    "import json\n",
    "from pathlib import Path"
   ]
  },
  {
   "cell_type": "code",
   "execution_count": 12,
   "id": "6d8b14b0",
   "metadata": {},
   "outputs": [],
   "source": [
    "input_path = Path(\"../data/01-filtered/market_twits_with_tickers.json\")\n",
    "data = json.loads(input_path.read_text())"
   ]
  },
  {
   "cell_type": "code",
   "execution_count": 13,
   "id": "4e5bb0be",
   "metadata": {},
   "outputs": [
    {
     "data": {
      "text/plain": [
       "88357"
      ]
     },
     "execution_count": 13,
     "metadata": {},
     "output_type": "execute_result"
    }
   ],
   "source": [
    "len(data)"
   ]
  },
  {
   "cell_type": "code",
   "execution_count": 14,
   "id": "cb41614a",
   "metadata": {},
   "outputs": [
    {
     "data": {
      "text/plain": [
       "'AFLT\\nРостех» планирует продать свою долю в «Аэрофлоте» (3,5%) целиком, а не частями.\\nПакет будет выставлен на продажу, когда цена акций вырастет хотя бы до 182 руб. за бумагу, передает ТАСС.'"
      ]
     },
     "execution_count": 14,
     "metadata": {},
     "output_type": "execute_result"
    }
   ],
   "source": [
    "data[38]"
   ]
  },
  {
   "cell_type": "markdown",
   "id": "5d524b35",
   "metadata": {},
   "source": [
    "## 2. Extract tickers"
   ]
  },
  {
   "cell_type": "code",
   "execution_count": 16,
   "id": "9c4e94bf",
   "metadata": {},
   "outputs": [],
   "source": [
    "import reticker\n",
    "extractor = reticker.TickerExtractor()"
   ]
  },
  {
   "cell_type": "code",
   "execution_count": 17,
   "id": "38ee9fbd",
   "metadata": {},
   "outputs": [],
   "source": [
    "dataset = []\n",
    "for text in data:\n",
    "    dataset.append({\n",
    "        \"text\": text, \n",
    "        \"tickers\": extractor.extract(text)\n",
    "    })"
   ]
  },
  {
   "cell_type": "code",
   "execution_count": null,
   "id": "67f5c0ac",
   "metadata": {},
   "outputs": [],
   "source": []
  },
  {
   "cell_type": "markdown",
   "id": "bee06863",
   "metadata": {},
   "source": [
    "## 3. Lookup tickers in wikidata"
   ]
  },
  {
   "cell_type": "code",
   "execution_count": 18,
   "id": "91b80848",
   "metadata": {},
   "outputs": [
    {
     "data": {
      "text/plain": [
       "{'text': 'ETH\\nМартин Свенде, разработчик службы безопасности Эфириума - \"Чтобы разморозить счета Parity, понадобится новый хардфорк Эфириума\"',\n",
       " 'tickers': ['ETH']}"
      ]
     },
     "execution_count": 18,
     "metadata": {},
     "output_type": "execute_result"
    }
   ],
   "source": [
    "dataset[56]"
   ]
  },
  {
   "cell_type": "code",
   "execution_count": 184,
   "id": "4776dcc9",
   "metadata": {},
   "outputs": [],
   "source": [
    "from importlib import reload"
   ]
  },
  {
   "cell_type": "code",
   "execution_count": 185,
   "id": "eebc6285",
   "metadata": {},
   "outputs": [
    {
     "data": {
      "text/plain": [
       "<module 'data_processing.wikidata' from '/mnt/codeholder/code/python-playground/app_noisemon/noisemon/data_processing/wikidata.py'>"
      ]
     },
     "execution_count": 185,
     "metadata": {},
     "output_type": "execute_result"
    }
   ],
   "source": [
    "import data_processing.wikidata as ddd\n",
    "reload(ddd)"
   ]
  },
  {
   "cell_type": "code",
   "execution_count": 186,
   "id": "cab86d34",
   "metadata": {},
   "outputs": [],
   "source": [
    "from data_processing.wikidata import Wikidata\n",
    "from functools import lru_cache\n",
    "from tqdm import tqdm\n",
    "import time"
   ]
  },
  {
   "cell_type": "code",
   "execution_count": 187,
   "id": "cd2e68e1",
   "metadata": {},
   "outputs": [],
   "source": [
    "wd = Wikidata()"
   ]
  },
  {
   "cell_type": "code",
   "execution_count": 188,
   "id": "73e89698",
   "metadata": {},
   "outputs": [],
   "source": [
    "def throttle(func):\n",
    "    __last_call_start = time.time()\n",
    "    __timeout = 2\n",
    "    def inner(*args):\n",
    "        # record time since last launch\n",
    "        nonlocal __last_call_start\n",
    "        timeout = __last_call_start + __timeout - time.time()\n",
    "        # update last launch\n",
    "        \n",
    "        __last_call_start = time.time()\n",
    "#         print(\"Timeout: \", timeout)\n",
    "        if timeout > 0:\n",
    "            time.sleep(timeout)\n",
    "            \n",
    "        return func(*args)\n",
    "    \n",
    "    return inner "
   ]
  },
  {
   "cell_type": "code",
   "execution_count": 189,
   "id": "f59c598b",
   "metadata": {},
   "outputs": [],
   "source": [
    "@throttle\n",
    "def r():\n",
    "    return \"ddd\""
   ]
  },
  {
   "cell_type": "code",
   "execution_count": 190,
   "id": "1e40a098",
   "metadata": {},
   "outputs": [
    {
     "data": {
      "text/plain": [
       "'ddd'"
      ]
     },
     "execution_count": 190,
     "metadata": {},
     "output_type": "execute_result"
    }
   ],
   "source": [
    "r()"
   ]
  },
  {
   "cell_type": "code",
   "execution_count": 191,
   "id": "ad90e947",
   "metadata": {},
   "outputs": [],
   "source": [
    "@lru_cache(maxsize=None)\n",
    "@throttle\n",
    "def get_company(ticker: str):\n",
    "    return wd.lookup_companies_by_ticker(ticker)"
   ]
  },
  {
   "cell_type": "code",
   "execution_count": 199,
   "id": "a5624e82",
   "metadata": {},
   "outputs": [
    {
     "name": "stderr",
     "output_type": "stream",
     "text": [
      "100%|█████████████████████████████████████████████████████████████████████████████████████████████████████████████████████████████| 88357/88357 [00:00<00:00, 302476.33it/s]"
     ]
    },
    {
     "name": "stdout",
     "output_type": "stream",
     "text": [
      "55758 texts with companies, 32599 without\n"
     ]
    },
    {
     "name": "stderr",
     "output_type": "stream",
     "text": [
      "\n"
     ]
    }
   ],
   "source": [
    "ticker_not_found = []\n",
    "dataset_with_companies = []\n",
    "for chunk in tqdm(dataset):\n",
    "    companies = []\n",
    "    for ticker in set(chunk[\"tickers\"]):\n",
    "        company_candidates = get_company(ticker)\n",
    "        if company_candidates:\n",
    "            companies += company_candidates\n",
    "    result = {**chunk, \"companies\" : companies}\n",
    "    if companies:\n",
    "        dataset_with_companies.append(result)\n",
    "    else:\n",
    "        ticker_not_found.append(result)\n",
    "        \n",
    "print(f\"{len(dataset_with_companies)} texts with companies, {len(ticker_not_found)} without\")"
   ]
  },
  {
   "cell_type": "code",
   "execution_count": 203,
   "id": "e3494749",
   "metadata": {},
   "outputs": [
    {
     "data": {
      "text/plain": [
       "{'text': 'НЕФТЬ - DUMB MONEY - лонги в фонде USO - 94% всех фондов торгующими USO в лонгах!!! Рекорд с 2007. Критическая зона. Статистика против лонгов.',\n",
       " 'tickers': ['DUMB', 'USO'],\n",
       " 'companies': []}"
      ]
     },
     "execution_count": 203,
     "metadata": {},
     "output_type": "execute_result"
    }
   ],
   "source": [
    "ticker_not_found[900]"
   ]
  },
  {
   "cell_type": "code",
   "execution_count": 201,
   "id": "7bcd4c06",
   "metadata": {},
   "outputs": [
    {
     "data": {
      "text/plain": [
       "{'text': 'BTC vs GOLD',\n",
       " 'tickers': ['BTC', 'GOLD'],\n",
       " 'companies': [{'id': {'type': 'uri',\n",
       "    'value': 'http://www.wikidata.org/entity/Q131723'},\n",
       "   'idLabel': {'xml:lang': 'ru', 'type': 'literal', 'value': 'биткойн'}},\n",
       "  {'id': {'type': 'uri', 'value': 'http://www.wikidata.org/entity/Q1961738'},\n",
       "   'idLabel': {'xml:lang': 'ru',\n",
       "    'type': 'literal',\n",
       "    'value': 'Amex Gold BUGS Index'}},\n",
       "  {'id': {'type': 'uri', 'value': 'http://www.wikidata.org/entity/Q1145004'},\n",
       "   'idLabel': {'xml:lang': 'en',\n",
       "    'type': 'literal',\n",
       "    'value': 'Randgold Resources'}},\n",
       "  {'id': {'type': 'uri', 'value': 'http://www.wikidata.org/entity/Q96100267'},\n",
       "   'idLabel': {'xml:lang': 'en',\n",
       "    'type': 'literal',\n",
       "    'value': 'Visi Telekomunikasi Infrastruktur'}}]}"
      ]
     },
     "execution_count": 201,
     "metadata": {},
     "output_type": "execute_result"
    }
   ],
   "source": [
    "dataset_with_companies[1005]"
   ]
  },
  {
   "cell_type": "code",
   "execution_count": 206,
   "id": "5b7ef7d7",
   "metadata": {},
   "outputs": [],
   "source": [
    "output_path = Path(\"../data/03-populated\")"
   ]
  },
  {
   "cell_type": "code",
   "execution_count": 207,
   "id": "d964230a",
   "metadata": {},
   "outputs": [],
   "source": [
    "with open(output_path / \"market_twits_with_companies_by_ticker.json\", \"w\") as fout:\n",
    "    json.dump(dataset_with_companies, fout)"
   ]
  },
  {
   "cell_type": "code",
   "execution_count": 208,
   "id": "e35d5617",
   "metadata": {},
   "outputs": [],
   "source": [
    "with open(output_path / \"market_twits_with_unknown_tickers.json\", \"w\") as fout:\n",
    "    json.dump(ticker_not_found, fout)"
   ]
  },
  {
   "cell_type": "markdown",
   "id": "29cfec5e",
   "metadata": {},
   "source": [
    "## 4. Extract NERS"
   ]
  },
  {
   "cell_type": "code",
   "execution_count": null,
   "id": "7f2d8286",
   "metadata": {},
   "outputs": [],
   "source": [
    "import spacy\n",
    "nlp = spacy.load(\"ru_core_news_lg\")"
   ]
  },
  {
   "cell_type": "code",
   "execution_count": null,
   "id": "52899f09",
   "metadata": {},
   "outputs": [],
   "source": []
  },
  {
   "cell_type": "markdown",
   "id": "37694d2e",
   "metadata": {},
   "source": [
    "## 5. Map NERS and Organizations"
   ]
  },
  {
   "cell_type": "code",
   "execution_count": null,
   "id": "39409acd",
   "metadata": {},
   "outputs": [],
   "source": []
  },
  {
   "cell_type": "code",
   "execution_count": null,
   "id": "1d75e246",
   "metadata": {},
   "outputs": [],
   "source": []
  },
  {
   "cell_type": "markdown",
   "id": "2d06e07f",
   "metadata": {},
   "source": [
    "## 5. Form a KnowledgeBase"
   ]
  },
  {
   "cell_type": "code",
   "execution_count": null,
   "id": "db84919b",
   "metadata": {},
   "outputs": [],
   "source": [
    "from knowledge_base.storage import MyKnowledgeBase\n",
    "kb = MyKnowledgeBase()"
   ]
  }
 ],
 "metadata": {
  "kernelspec": {
   "display_name": "noisemon",
   "language": "python",
   "name": "python3810_noisemon"
  },
  "language_info": {
   "codemirror_mode": {
    "name": "ipython",
    "version": 3
   },
   "file_extension": ".py",
   "mimetype": "text/x-python",
   "name": "python",
   "nbconvert_exporter": "python",
   "pygments_lexer": "ipython3",
   "version": "3.8.10"
  }
 },
 "nbformat": 4,
 "nbformat_minor": 5
}
