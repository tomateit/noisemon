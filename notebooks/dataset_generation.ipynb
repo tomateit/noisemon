{
 "cells": [
  {
   "cell_type": "markdown",
   "id": "cb2d5961",
   "metadata": {},
   "source": [
    "# Dataset"
   ]
  },
  {
   "cell_type": "markdown",
   "id": "8d8210c1",
   "metadata": {},
   "source": [
    "Let's try to generate our own dataset in a form of knowledge base."
   ]
  },
  {
   "cell_type": "markdown",
   "id": "acf6bcdc",
   "metadata": {},
   "source": [
    "1. Retrieve a bunch of texts\n",
    "2. Get tickers\n",
    "3. Lookup tickers in Wikidata\n",
    "4. Map 'em with NERS"
   ]
  },
  {
   "cell_type": "code",
   "execution_count": 2,
   "id": "4672caf7",
   "metadata": {},
   "outputs": [
    {
     "data": {
      "text/plain": [
       "list"
      ]
     },
     "execution_count": 2,
     "metadata": {},
     "output_type": "execute_result"
    }
   ],
   "source": [
    "import sys\n",
    "type(sys.path)"
   ]
  },
  {
   "cell_type": "code",
   "execution_count": 3,
   "id": "907c91a1",
   "metadata": {},
   "outputs": [],
   "source": [
    "sys.path.append(\"/mnt/codeholder/code/python-playground/app_noisemon/noisemon\")"
   ]
  },
  {
   "cell_type": "markdown",
   "id": "2677e33e",
   "metadata": {},
   "source": [
    "## 1. Data import"
   ]
  },
  {
   "cell_type": "code",
   "execution_count": 4,
   "id": "5aa1d386",
   "metadata": {},
   "outputs": [],
   "source": [
    "import json\n",
    "from pathlib import Path"
   ]
  },
  {
   "cell_type": "code",
   "execution_count": 12,
   "id": "de6eba24",
   "metadata": {},
   "outputs": [],
   "source": [
    "input_path = Path(\"../data/01-filtered/market_twits_with_tickers.json\")\n",
    "data = json.loads(input_path.read_text())"
   ]
  },
  {
   "cell_type": "code",
   "execution_count": 4,
   "id": "4b8fb7f6",
   "metadata": {},
   "outputs": [
    {
     "ename": "NameError",
     "evalue": "name 'data' is not defined",
     "output_type": "error",
     "traceback": [
      "\u001b[0;31m---------------------------------------------------------------------------\u001b[0m",
      "\u001b[0;31mNameError\u001b[0m                                 Traceback (most recent call last)",
      "\u001b[0;32m/tmp/ipykernel_6667/3264069240.py\u001b[0m in \u001b[0;36m<module>\u001b[0;34m\u001b[0m\n\u001b[0;32m----> 1\u001b[0;31m \u001b[0mlen\u001b[0m\u001b[0;34m(\u001b[0m\u001b[0mdata\u001b[0m\u001b[0;34m)\u001b[0m\u001b[0;34m\u001b[0m\u001b[0;34m\u001b[0m\u001b[0m\n\u001b[0m",
      "\u001b[0;31mNameError\u001b[0m: name 'data' is not defined"
     ]
    }
   ],
   "source": [
    "len(data)"
   ]
  },
  {
   "cell_type": "code",
   "execution_count": 14,
   "id": "a21ca777",
   "metadata": {},
   "outputs": [
    {
     "data": {
      "text/plain": [
       "'AFLT\\nРостех» планирует продать свою долю в «Аэрофлоте» (3,5%) целиком, а не частями.\\nПакет будет выставлен на продажу, когда цена акций вырастет хотя бы до 182 руб. за бумагу, передает ТАСС.'"
      ]
     },
     "execution_count": 14,
     "metadata": {},
     "output_type": "execute_result"
    }
   ],
   "source": [
    "data[38]"
   ]
  },
  {
   "cell_type": "markdown",
   "id": "9c2889ed",
   "metadata": {},
   "source": [
    "## 2. Extract tickers"
   ]
  },
  {
   "cell_type": "code",
   "execution_count": 16,
   "id": "12feba2d",
   "metadata": {},
   "outputs": [],
   "source": [
    "import reticker\n",
    "extractor = reticker.TickerExtractor()"
   ]
  },
  {
   "cell_type": "code",
   "execution_count": 17,
   "id": "d1eb5b07",
   "metadata": {},
   "outputs": [],
   "source": [
    "dataset = []\n",
    "for text in data:\n",
    "    dataset.append({\n",
    "        \"text\": text, \n",
    "        \"tickers\": extractor.extract(text)\n",
    "    })"
   ]
  },
  {
   "cell_type": "code",
   "execution_count": null,
   "id": "2a65ec2c",
   "metadata": {},
   "outputs": [],
   "source": []
  },
  {
   "cell_type": "markdown",
   "id": "4f03b14a",
   "metadata": {},
   "source": [
    "## 3. Lookup tickers in wikidata"
   ]
  },
  {
   "cell_type": "code",
   "execution_count": 18,
   "id": "969e282b",
   "metadata": {},
   "outputs": [
    {
     "data": {
      "text/plain": [
       "{'text': 'ETH\\nМартин Свенде, разработчик службы безопасности Эфириума - \"Чтобы разморозить счета Parity, понадобится новый хардфорк Эфириума\"',\n",
       " 'tickers': ['ETH']}"
      ]
     },
     "execution_count": 18,
     "metadata": {},
     "output_type": "execute_result"
    }
   ],
   "source": [
    "dataset[56]"
   ]
  },
  {
   "cell_type": "code",
   "execution_count": 184,
   "id": "e57d4db6",
   "metadata": {},
   "outputs": [],
   "source": [
    "from importlib import reload"
   ]
  },
  {
   "cell_type": "code",
   "execution_count": 185,
   "id": "dfffced6",
   "metadata": {},
   "outputs": [
    {
     "data": {
      "text/plain": [
       "<module 'data_processing.wikidata' from '/mnt/codeholder/code/python-playground/app_noisemon/noisemon/data_processing/wikidata.py'>"
      ]
     },
     "execution_count": 185,
     "metadata": {},
     "output_type": "execute_result"
    }
   ],
   "source": [
    "import data_processing.wikidata as ddd\n",
    "reload(ddd)"
   ]
  },
  {
   "cell_type": "code",
   "execution_count": 186,
   "id": "fdbd5735",
   "metadata": {},
   "outputs": [],
   "source": [
    "from data_processing.wikidata import Wikidata\n",
    "from functools import lru_cache\n",
    "from tqdm import tqdm\n",
    "import time"
   ]
  },
  {
   "cell_type": "code",
   "execution_count": 187,
   "id": "15e011bb",
   "metadata": {},
   "outputs": [],
   "source": [
    "wd = Wikidata()"
   ]
  },
  {
   "cell_type": "code",
   "execution_count": 188,
   "id": "66dd0ce7",
   "metadata": {},
   "outputs": [],
   "source": [
    "def throttle(func):\n",
    "    __last_call_start = time.time()\n",
    "    __timeout = 2\n",
    "    def inner(*args):\n",
    "        # record time since last launch\n",
    "        nonlocal __last_call_start\n",
    "        timeout = __last_call_start + __timeout - time.time()\n",
    "        # update last launch\n",
    "        \n",
    "        __last_call_start = time.time()\n",
    "#         print(\"Timeout: \", timeout)\n",
    "        if timeout > 0:\n",
    "            time.sleep(timeout)\n",
    "            \n",
    "        return func(*args)\n",
    "    \n",
    "    return inner "
   ]
  },
  {
   "cell_type": "code",
   "execution_count": 189,
   "id": "e87ed932",
   "metadata": {},
   "outputs": [],
   "source": [
    "@throttle\n",
    "def r():\n",
    "    return \"ddd\""
   ]
  },
  {
   "cell_type": "code",
   "execution_count": 190,
   "id": "57eb4523",
   "metadata": {},
   "outputs": [
    {
     "data": {
      "text/plain": [
       "'ddd'"
      ]
     },
     "execution_count": 190,
     "metadata": {},
     "output_type": "execute_result"
    }
   ],
   "source": [
    "r()"
   ]
  },
  {
   "cell_type": "code",
   "execution_count": 191,
   "id": "ef6d96e2",
   "metadata": {},
   "outputs": [],
   "source": [
    "@lru_cache(maxsize=None)\n",
    "@throttle\n",
    "def get_company(ticker: str):\n",
    "    return wd.lookup_companies_by_ticker(ticker)"
   ]
  },
  {
   "cell_type": "code",
   "execution_count": 199,
   "id": "edea1763",
   "metadata": {},
   "outputs": [
    {
     "name": "stderr",
     "output_type": "stream",
     "text": [
      "100%|█████████████████████████████████████████████████████████████████████████████████████████████████████████████████████████████| 88357/88357 [00:00<00:00, 302476.33it/s]"
     ]
    },
    {
     "name": "stdout",
     "output_type": "stream",
     "text": [
      "55758 texts with companies, 32599 without\n"
     ]
    },
    {
     "name": "stderr",
     "output_type": "stream",
     "text": [
      "\n"
     ]
    }
   ],
   "source": [
    "ticker_not_found = []\n",
    "dataset_with_companies = []\n",
    "for chunk in tqdm(dataset):\n",
    "    companies = []\n",
    "    for ticker in set(chunk[\"tickers\"]):\n",
    "        company_candidates = get_company(ticker)\n",
    "        if company_candidates:\n",
    "            companies += company_candidates\n",
    "    result = {**chunk, \"companies\" : companies}\n",
    "    if companies:\n",
    "        dataset_with_companies.append(result)\n",
    "    else:\n",
    "        ticker_not_found.append(result)\n",
    "        \n",
    "print(f\"{len(dataset_with_companies)} texts with companies, {len(ticker_not_found)} without\")"
   ]
  },
  {
   "cell_type": "code",
   "execution_count": 203,
   "id": "40ba3ae0",
   "metadata": {},
   "outputs": [
    {
     "data": {
      "text/plain": [
       "{'text': 'НЕФТЬ - DUMB MONEY - лонги в фонде USO - 94% всех фондов торгующими USO в лонгах!!! Рекорд с 2007. Критическая зона. Статистика против лонгов.',\n",
       " 'tickers': ['DUMB', 'USO'],\n",
       " 'companies': []}"
      ]
     },
     "execution_count": 203,
     "metadata": {},
     "output_type": "execute_result"
    }
   ],
   "source": [
    "ticker_not_found[900]"
   ]
  },
  {
   "cell_type": "code",
   "execution_count": 201,
   "id": "1ceb0f34",
   "metadata": {},
   "outputs": [
    {
     "data": {
      "text/plain": [
       "{'text': 'BTC vs GOLD',\n",
       " 'tickers': ['BTC', 'GOLD'],\n",
       " 'companies': [{'id': {'type': 'uri',\n",
       "    'value': 'http://www.wikidata.org/entity/Q131723'},\n",
       "   'idLabel': {'xml:lang': 'ru', 'type': 'literal', 'value': 'биткойн'}},\n",
       "  {'id': {'type': 'uri', 'value': 'http://www.wikidata.org/entity/Q1961738'},\n",
       "   'idLabel': {'xml:lang': 'ru',\n",
       "    'type': 'literal',\n",
       "    'value': 'Amex Gold BUGS Index'}},\n",
       "  {'id': {'type': 'uri', 'value': 'http://www.wikidata.org/entity/Q1145004'},\n",
       "   'idLabel': {'xml:lang': 'en',\n",
       "    'type': 'literal',\n",
       "    'value': 'Randgold Resources'}},\n",
       "  {'id': {'type': 'uri', 'value': 'http://www.wikidata.org/entity/Q96100267'},\n",
       "   'idLabel': {'xml:lang': 'en',\n",
       "    'type': 'literal',\n",
       "    'value': 'Visi Telekomunikasi Infrastruktur'}}]}"
      ]
     },
     "execution_count": 201,
     "metadata": {},
     "output_type": "execute_result"
    }
   ],
   "source": [
    "dataset_with_companies[1005]"
   ]
  },
  {
   "cell_type": "code",
   "execution_count": 5,
   "id": "e45f4fe3",
   "metadata": {},
   "outputs": [],
   "source": [
    "output_path = Path(\"../data/03-populated\")"
   ]
  },
  {
   "cell_type": "code",
   "execution_count": 210,
   "id": "b7aa58c6",
   "metadata": {},
   "outputs": [],
   "source": [
    "with open(output_path / \"market_twits_with_companies_by_ticker.json\", \"w\") as fout:\n",
    "    json.dump(dataset_with_companies, fout, ensure_ascii=False)"
   ]
  },
  {
   "cell_type": "code",
   "execution_count": 211,
   "id": "5580ec6a",
   "metadata": {},
   "outputs": [],
   "source": [
    "with open(output_path / \"market_twits_with_unknown_tickers.json\", \"w\") as fout:\n",
    "    json.dump(ticker_not_found, fout, ensure_ascii=False)"
   ]
  },
  {
   "cell_type": "code",
   "execution_count": 209,
   "id": "cb395a39",
   "metadata": {},
   "outputs": [
    {
     "name": "stderr",
     "output_type": "stream",
     "text": [
      "100%|████████████████████████████████████████████████████████████████████████████████████████████████████████████████████████████| 88357/88357 [00:00<00:00, 1193135.11it/s]"
     ]
    },
    {
     "name": "stdout",
     "output_type": "stream",
     "text": [
      "11347 tickers in total\n"
     ]
    },
    {
     "name": "stderr",
     "output_type": "stream",
     "text": [
      "\n"
     ]
    }
   ],
   "source": [
    "# As long as the function was cached, no extra requests needed\n",
    "ticker_map = {}\n",
    "for chunk in tqdm(dataset):\n",
    "    for ticker in set(chunk[\"tickers\"]):\n",
    "        ticker_map[ticker] = get_company(ticker)\n",
    "        \n",
    "print(f\"{len(ticker_map)} tickers in total\")"
   ]
  },
  {
   "cell_type": "code",
   "execution_count": 212,
   "id": "4d1c5fba",
   "metadata": {},
   "outputs": [],
   "source": [
    "with open(output_path / \"ticker_to_response_map.json\", \"w\") as fout:\n",
    "    json.dump(ticker_map, fout, ensure_ascii=False)"
   ]
  },
  {
   "cell_type": "markdown",
   "id": "7e8756aa",
   "metadata": {},
   "source": [
    "## 4. Extract NERS"
   ]
  },
  {
   "cell_type": "markdown",
   "id": "45c48cdb",
   "metadata": {},
   "source": [
    "1. Load populated data\n",
    "2. Extract ORGanization for each text\n",
    "3. Match 'em w/found companys (field :value)"
   ]
  },
  {
   "cell_type": "code",
   "execution_count": 13,
   "id": "0b5cf17a",
   "metadata": {},
   "outputs": [],
   "source": [
    "from tqdm import tqdm\n",
    "import spacy\n",
    "import regex\n",
    "nlp_ru = spacy.load(\"ru_core_news_lg\")\n",
    "nlp_en = spacy.load(\"en_core_web_lg\")"
   ]
  },
  {
   "cell_type": "code",
   "execution_count": 25,
   "id": "039fe402",
   "metadata": {},
   "outputs": [],
   "source": [
    "regex.search(\"[А-яЁё]\",\"ffff\")"
   ]
  },
  {
   "cell_type": "code",
   "execution_count": 79,
   "id": "3a19229b",
   "metadata": {},
   "outputs": [],
   "source": [
    "with open(output_path / \"market_twits_with_companies_by_ticker.json\", \"r\") as fin:\n",
    "    dataset_with_companies = json.load(fin)"
   ]
  },
  {
   "cell_type": "code",
   "execution_count": 80,
   "id": "ce596a03",
   "metadata": {
    "scrolled": true
   },
   "outputs": [
    {
     "data": {
      "text/plain": [
       "{'text': '💥🇺🇸 #INFY  Infosys price target  raised  to $18 from $13 at BMO Capital',\n",
       " 'tickers': ['INFY', 'BMO'],\n",
       " 'companies': [{'id': {'type': 'uri',\n",
       "    'value': 'http://www.wikidata.org/entity/Q806693'},\n",
       "   'idLabel': {'xml:lang': 'ru',\n",
       "    'type': 'literal',\n",
       "    'value': 'Bank of Montreal'}},\n",
       "  {'id': {'type': 'uri', 'value': 'http://www.wikidata.org/entity/Q1662481'},\n",
       "   'idLabel': {'xml:lang': 'en', 'type': 'literal', 'value': 'IHS Markit'}},\n",
       "  {'id': {'type': 'uri', 'value': 'http://www.wikidata.org/entity/Q26989'},\n",
       "   'idLabel': {'xml:lang': 'ru', 'type': 'literal', 'value': 'Infosys'}}]}"
      ]
     },
     "execution_count": 80,
     "metadata": {},
     "output_type": "execute_result"
    }
   ],
   "source": [
    "dataset_with_companies[34982]"
   ]
  },
  {
   "cell_type": "code",
   "execution_count": 81,
   "id": "e0792a4e",
   "metadata": {},
   "outputs": [
    {
     "name": "stderr",
     "output_type": "stream",
     "text": [
      "100%|█████████████████████████████████████████████████████████████████████████████████████████████████████████████████████████████████| 55758/55758 [11:36<00:00, 80.11it/s]\n"
     ]
    }
   ],
   "source": [
    "for chunk in tqdm(dataset_with_companies):\n",
    "    text = chunk[\"text\"]\n",
    "    if regex.search(\"[А-яЁё]\", text):\n",
    "        doc = nlp_ru(text)\n",
    "    else:\n",
    "        doc = nlp_en(text)\n",
    "    entities = []\n",
    "    for entity in doc.ents:\n",
    "        if entity.label_ == \"ORG\":\n",
    "            entities.append(entity)\n",
    "    chunk[\"entities\"] = entities"
   ]
  },
  {
   "cell_type": "markdown",
   "id": "fd3e4896",
   "metadata": {},
   "source": [
    "## 5. Map NERS and Organizations"
   ]
  },
  {
   "cell_type": "code",
   "execution_count": 82,
   "id": "040db2a8",
   "metadata": {},
   "outputs": [],
   "source": [
    "from difflib import SequenceMatcher\n",
    "def get_distance(A, B) -> float:\n",
    "    return SequenceMatcher(None, A, B).ratio()"
   ]
  },
  {
   "cell_type": "code",
   "execution_count": 83,
   "id": "c65c7ba6",
   "metadata": {},
   "outputs": [],
   "source": [
    "def match(A, B) -> bool:\n",
    "    A, B = A.lower(), B.lower()\n",
    "    if (A in B) or (B in A):\n",
    "        return True\n",
    "    elif get_distance(A, B) > 0.83:\n",
    "        return True\n",
    "    \n",
    "    return False"
   ]
  },
  {
   "cell_type": "code",
   "execution_count": 88,
   "id": "3969d097",
   "metadata": {},
   "outputs": [
    {
     "name": "stderr",
     "output_type": "stream",
     "text": [
      "100%|███████████████████████████████████████████████████████████████████████████████████████████████████████████████████████████████| 55758/55758 [00:06<00:00, 8982.18it/s]\n"
     ]
    }
   ],
   "source": [
    "for chunk in tqdm(dataset_with_companies):\n",
    "    target = []\n",
    "    for entity in chunk[\"entities\"]:\n",
    "        entity_text = entity.lemma_\n",
    "        matched_company = None\n",
    "        for company in chunk[\"companies\"]:\n",
    "            company_name = company[\"idLabel\"][\"value\"]\n",
    "            if match(entity_text, company_name):\n",
    "                matched_company = company\n",
    "        target.append((entity.start_char, entity.end_char, matched_company))\n",
    "    chunk[\"target\"] = target"
   ]
  },
  {
   "cell_type": "code",
   "execution_count": 94,
   "id": "99e0fa06",
   "metadata": {},
   "outputs": [
    {
     "data": {
      "text/plain": [
       "{'text': 'TRCN\\nГруппа UCL Владимира Лисина просит министерство экономического развития РФ \"жестко ограничить инвестиционную активность\" ПАО \"Трансконтейнер\" на период продажи его контрольного пакета акций, принадлежащего ОАО \"Российские железные дороги\".',\n",
       " 'tickers': ['TRCN', 'UCL'],\n",
       " 'companies': [{'id': {'type': 'uri',\n",
       "    'value': 'http://www.wikidata.org/entity/Q157062'},\n",
       "   'idLabel': {'xml:lang': 'ru', 'type': 'literal', 'value': 'Unilever'}}],\n",
       " 'entities': [TRCN,\n",
       "  UCL,\n",
       "  ПАО \"Трансконтейнер\",\n",
       "  ОАО \"Российские железные дороги\"],\n",
       " 'target': [(0, 5, None), (12, 15, None), (126, 146, None), (211, 243, None)]}"
      ]
     },
     "execution_count": 94,
     "metadata": {},
     "output_type": "execute_result"
    }
   ],
   "source": [
    "dataset_with_companies[955]"
   ]
  },
  {
   "cell_type": "code",
   "execution_count": 76,
   "id": "0bd7baac",
   "metadata": {},
   "outputs": [
    {
     "data": {
      "text/plain": [
       "'mgnt'"
      ]
     },
     "execution_count": 76,
     "metadata": {},
     "output_type": "execute_result"
    }
   ],
   "source": [
    "dataset_with_companies[56][\"entities\"][0].lemma_"
   ]
  },
  {
   "cell_type": "code",
   "execution_count": 47,
   "id": "d9ef9381",
   "metadata": {},
   "outputs": [
    {
     "data": {
      "text/plain": [
       "'Nvidia'"
      ]
     },
     "execution_count": 47,
     "metadata": {},
     "output_type": "execute_result"
    }
   ],
   "source": [
    "entity.text"
   ]
  },
  {
   "cell_type": "code",
   "execution_count": 46,
   "id": "0095152e",
   "metadata": {},
   "outputs": [
    {
     "data": {
      "text/plain": [
       "469"
      ]
     },
     "execution_count": 46,
     "metadata": {},
     "output_type": "execute_result"
    }
   ],
   "source": [
    "entity.end_char"
   ]
  },
  {
   "cell_type": "code",
   "execution_count": 53,
   "id": "b96f8168",
   "metadata": {},
   "outputs": [
    {
     "data": {
      "text/plain": [
       "{'id': {'type': 'uri', 'value': 'http://www.wikidata.org/entity/Q1023876'},\n",
       " 'idLabel': {'xml:lang': 'ru', 'type': 'literal', 'value': 'CME Group'}}"
      ]
     },
     "execution_count": 53,
     "metadata": {},
     "output_type": "execute_result"
    }
   ],
   "source": [
    "company"
   ]
  },
  {
   "cell_type": "code",
   "execution_count": 62,
   "id": "3d22f589",
   "metadata": {},
   "outputs": [
    {
     "data": {
      "text/plain": [
       "{'text': 'HYDR\\nКомитет Госдумы по бюджету на заседании в понедельник поддержал правительственные поправки в проект федерального бюджета на 2018-2020 годы ко второму чтению об увеличении уставного капитала \"РусГидро\" (MOEX: HYDR) в 2018 году на 1 млрд рублей, в 2019 году - на 3 млрд рублей, в 2020 году - на 6 млрд рублей. \\nКак говорится в поправках, средства будут направлены на модернизацию и новое строительство электросетевых объектов.',\n",
       " 'tickers': ['HYDR', 'MOEX'],\n",
       " 'companies': [{'id': {'type': 'uri',\n",
       "    'value': 'http://www.wikidata.org/entity/Q2035424'},\n",
       "   'idLabel': {'xml:lang': 'ru', 'type': 'literal', 'value': 'РусГидро'}},\n",
       "  {'id': {'type': 'uri', 'value': 'http://www.wikidata.org/entity/Q2632892'},\n",
       "   'idLabel': {'xml:lang': 'ru',\n",
       "    'type': 'literal',\n",
       "    'value': 'Московская биржа'}}],\n",
       " 'entities': [заседании в,\n",
       "  году - на 3,\n",
       "  году - на,\n",
       "  на модернизацию,\n",
       "  новое строительство],\n",
       " 'target': [(26, 30, None),\n",
       "  (49, 55, None),\n",
       "  (96, 102, None),\n",
       "  (105, 112, None),\n",
       "  (128, 153, None),\n",
       "  (356, 362, None),\n",
       "  (463, 469, None)]}"
      ]
     },
     "execution_count": 62,
     "metadata": {},
     "output_type": "execute_result"
    }
   ],
   "source": [
    "dataset_with_companies[36]"
   ]
  },
  {
   "cell_type": "code",
   "execution_count": 97,
   "id": "9ba655ae",
   "metadata": {},
   "outputs": [],
   "source": [
    "with open(output_path / \"market_twits_with_companies_and_entities_matched.json\", \"w\") as fout:\n",
    "    for chunk in dataset_with_companies:\n",
    "        del chunk[\"entities\"]\n",
    "    json.dump(dataset_with_companies, fout, ensure_ascii=False)"
   ]
  },
  {
   "cell_type": "markdown",
   "id": "b86137b4",
   "metadata": {},
   "source": [
    "## 5. Format for LabelStudio"
   ]
  },
  {
   "cell_type": "code",
   "execution_count": 11,
   "id": "eae8ad96",
   "metadata": {},
   "outputs": [
    {
     "data": {
      "text/plain": [
       "True"
      ]
     },
     "execution_count": 11,
     "metadata": {},
     "output_type": "execute_result"
    }
   ],
   "source": [
    "input_path = output_path\n",
    "output_path = Path(\"../data/04-vendor_formats\")\n",
    "output_path.exists()"
   ]
  },
  {
   "cell_type": "code",
   "execution_count": 6,
   "id": "e076f74e",
   "metadata": {},
   "outputs": [],
   "source": [
    "with open(input_path / \"market_twits_with_companies_and_entities_matched.json\", \"rb\") as fin:\n",
    "    dataset_with_companies_populated = json.load(fin)"
   ]
  },
  {
   "cell_type": "code",
   "execution_count": 7,
   "id": "0c71bd0b",
   "metadata": {},
   "outputs": [
    {
     "data": {
      "text/plain": [
       "{'text': 'CME Group представила полную спецификацию фьючерсов на биткоин',\n",
       " 'tickers': ['CME'],\n",
       " 'companies': [{'id': {'type': 'uri',\n",
       "    'value': 'http://www.wikidata.org/entity/Q1023876'},\n",
       "   'idLabel': {'xml:lang': 'ru', 'type': 'literal', 'value': 'CME Group'}}],\n",
       " 'target': [[0,\n",
       "   9,\n",
       "   {'id': {'type': 'uri', 'value': 'http://www.wikidata.org/entity/Q1023876'},\n",
       "    'idLabel': {'xml:lang': 'ru', 'type': 'literal', 'value': 'CME Group'}}]]}"
      ]
     },
     "execution_count": 7,
     "metadata": {},
     "output_type": "execute_result"
    }
   ],
   "source": [
    "dataset_with_companies_populated[0]"
   ]
  },
  {
   "cell_type": "code",
   "execution_count": 9,
   "id": "f703cc23",
   "metadata": {},
   "outputs": [],
   "source": [
    "for chunk in dataset_with_companies_populated:\n",
    "    chunk[\"sidenote\"] = \"\\n\".join(list(map(lambda x: f\"{x['idLabel']['value']} {x['id']['value']}\", chunk[\"companies\"])))"
   ]
  },
  {
   "cell_type": "code",
   "execution_count": 10,
   "id": "56db9001",
   "metadata": {},
   "outputs": [
    {
     "data": {
      "text/plain": [
       "{'text': 'CME Group представила полную спецификацию фьючерсов на биткоин',\n",
       " 'tickers': ['CME'],\n",
       " 'companies': [{'id': {'type': 'uri',\n",
       "    'value': 'http://www.wikidata.org/entity/Q1023876'},\n",
       "   'idLabel': {'xml:lang': 'ru', 'type': 'literal', 'value': 'CME Group'}}],\n",
       " 'target': [[0,\n",
       "   9,\n",
       "   {'id': {'type': 'uri', 'value': 'http://www.wikidata.org/entity/Q1023876'},\n",
       "    'idLabel': {'xml:lang': 'ru', 'type': 'literal', 'value': 'CME Group'}}]],\n",
       " 'sidenote': 'CME Group http://www.wikidata.org/entity/Q1023876'}"
      ]
     },
     "execution_count": 10,
     "metadata": {},
     "output_type": "execute_result"
    }
   ],
   "source": [
    "dataset_with_companies_populated[0]"
   ]
  },
  {
   "cell_type": "code",
   "execution_count": 12,
   "id": "05ad1f3a",
   "metadata": {},
   "outputs": [],
   "source": [
    "with open(output_path / \"data_for_labelstudio.json\", \"w\") as fout:\n",
    "    json.dump(dataset_with_companies_populated, fout, ensure_ascii=False)"
   ]
  },
  {
   "cell_type": "markdown",
   "id": "5cda7114",
   "metadata": {},
   "source": [
    "## 5. Form a KnowledgeBase"
   ]
  },
  {
   "cell_type": "code",
   "execution_count": null,
   "id": "b44e06b8",
   "metadata": {},
   "outputs": [],
   "source": [
    "from knowledge_base.storage import MyKnowledgeBase\n",
    "kb = MyKnowledgeBase()"
   ]
  }
 ],
 "metadata": {
  "kernelspec": {
   "display_name": "noisemon",
   "language": "python",
   "name": "python3810_noisemon"
  },
  "language_info": {
   "codemirror_mode": {
    "name": "ipython",
    "version": 3
   },
   "file_extension": ".py",
   "mimetype": "text/x-python",
   "name": "python",
   "nbconvert_exporter": "python",
   "pygments_lexer": "ipython3",
   "version": "3.8.10"
  }
 },
 "nbformat": 4,
 "nbformat_minor": 5
}
